{
 "cells": [
  {
   "cell_type": "markdown",
   "metadata": {},
   "source": [
    "# Twitter US Airline Sentiment\n",
    "\n",
    "***\n",
    "\n",
    "# Overview\n",
    "\n",
    "### Dataset description\n",
    "\n",
    "The Twitter US Airline Sentiment dataset ([Kaggle version](https://www.kaggle.com/crowdflower/twitter-airline-sentiment)) consists of 14640 tweets, collected during February 2015, regarding six major US airlines.  \n",
    "Tweets are classified as carrying negative, neutral or positive sentiment; in the case of negative tweets, the reason for the sentiment is also specified.  \n",
    "\n",
    "### Exercise requirements\n",
    "\n",
    "The [exercise](https://fellowship.ai/challenge) requires us to perform **sentiment analysis** on the Twitter US Airline Sentiment dataset using a [ULMFiT model](https://arxiv.org/pdf/1801.06146.pdf).  \n",
    "No particular requirements on accuracy or other metrics were specified: this is as expected since the dataset does not contain a validation set. \n",
    "\n",
    "### Approach\n",
    "\n",
    "We will create and train an ULMFiT model using the [fastai](https://www.fast.ai/) library based on [PyTorch](https://pytorch.org/). As we will see more in detail later, the idea behind ULMFiT is to first create an [AWD-LSTM](https://arxiv.org/abs/1708.02182) **Language Model** (LM) for tweets, i.e. a recurrent neural network that can predict the next word of a tweet given all previous words, using **transfer learning** from a Language Model trained on the [Wikitext-103 dataset](https://arxiv.org/abs/1609.07843); we then construct a tweet sentiment **classifier** using the word embedding of our language model. Performance of the model will be evaluated on a validation set that we create by taking into account the imbalanced nature of the dataset.\n",
    "\n",
    "\n",
    "### Previous results\n",
    "\n",
    "We are not aware of state of the art results for this particular dataset: this is most likely due to the fact that, as we mentioned earlier, there is no validation set. \n",
    "ULMFiT sentiment analyses for this problem that can be found in the literature or the web generally use a random subset of the training instances as validation set and as such are difficult to compare with. It is important to stress that such analyses are also often incomplete, since although they may reach a high accuracy (85% or more) it is not clear if this is due to the imbalanced nature of the dataset (e.g. often there is no discussion about the confusion matrix).\n",
    "\n",
    "### Technical specifications\n",
    "\n",
    "This notebook has been created as a Kaggle kernel on the Kaggle platform, which provides free GPU access.  \n",
    "The Twitter US Airline Sentiment dataset can be downloaded from [https://www.kaggle.com/crowdflower/twitter-airline-sentiment](https://www.kaggle.com/crowdflower/twitter-airline-sentiment).\n",
    "\n",
    "***\n",
    "\n",
    "# Data analysis\n",
    "\n",
    "### Files exploration \n",
    "\n",
    "Let us start by importing common useful libraries:"
   ]
  },
  {
   "cell_type": "code",
   "execution_count": 1,
   "metadata": {
    "_cell_guid": "b1076dfc-b9ad-4769-8c92-a6c4dae69d19",
    "_uuid": "8f2839f25d086af736a60e9eeb907d3b93b6e0e5"
   },
   "outputs": [],
   "source": [
    "import numpy as np\n",
    "import pandas as pd \n",
    "import matplotlib as mpl\n",
    "import matplotlib.pyplot as plt\n",
    "import seaborn as sns\n",
    "from time import time\n",
    "import os\n",
    "from fastai import *\n",
    "from fastai.text import *\n",
    "\n",
    "%reload_ext autoreload\n",
    "%autoreload 2\n",
    "%matplotlib inline"
   ]
  },
  {
   "cell_type": "markdown",
   "metadata": {},
   "source": [
    "Data are given in csv and database.sqlite format:"
   ]
  },
  {
   "cell_type": "code",
   "execution_count": 2,
   "metadata": {
    "_cell_guid": "79c7e3d0-c299-4dcb-8224-4455121ee9b0",
    "_uuid": "d629ff2d2480ee46fbb7e2d37f6b5fab8052498a"
   },
   "outputs": [
    {
     "data": {
      "text/plain": [
       "[PosixPath('../input/Tweets.csv'), PosixPath('../input/database.sqlite')]"
      ]
     },
     "execution_count": 2,
     "metadata": {},
     "output_type": "execute_result"
    }
   ],
   "source": [
    "path = Path(\"../input\")\n",
    "path.ls()"
   ]
  },
  {
   "cell_type": "markdown",
   "metadata": {},
   "source": [
    "From the csv file we can easily construct a Pandas Dataframe containing the data:"
   ]
  },
  {
   "cell_type": "code",
   "execution_count": 3,
   "metadata": {},
   "outputs": [
    {
     "data": {
      "text/html": [
       "<div>\n",
       "<style scoped>\n",
       "    .dataframe tbody tr th:only-of-type {\n",
       "        vertical-align: middle;\n",
       "    }\n",
       "\n",
       "    .dataframe tbody tr th {\n",
       "        vertical-align: top;\n",
       "    }\n",
       "\n",
       "    .dataframe thead th {\n",
       "        text-align: right;\n",
       "    }\n",
       "</style>\n",
       "<table border=\"1\" class=\"dataframe\">\n",
       "  <thead>\n",
       "    <tr style=\"text-align: right;\">\n",
       "      <th></th>\n",
       "      <th>tweet_id</th>\n",
       "      <th>airline_sentiment</th>\n",
       "      <th>airline_sentiment_confidence</th>\n",
       "      <th>negativereason</th>\n",
       "      <th>negativereason_confidence</th>\n",
       "      <th>airline</th>\n",
       "      <th>airline_sentiment_gold</th>\n",
       "      <th>name</th>\n",
       "      <th>negativereason_gold</th>\n",
       "      <th>retweet_count</th>\n",
       "      <th>text</th>\n",
       "      <th>tweet_coord</th>\n",
       "      <th>tweet_created</th>\n",
       "      <th>tweet_location</th>\n",
       "      <th>user_timezone</th>\n",
       "    </tr>\n",
       "  </thead>\n",
       "  <tbody>\n",
       "    <tr>\n",
       "      <th>0</th>\n",
       "      <td>570306133677760513</td>\n",
       "      <td>neutral</td>\n",
       "      <td>1.0000</td>\n",
       "      <td>NaN</td>\n",
       "      <td>NaN</td>\n",
       "      <td>Virgin America</td>\n",
       "      <td>NaN</td>\n",
       "      <td>cairdin</td>\n",
       "      <td>NaN</td>\n",
       "      <td>0</td>\n",
       "      <td>@VirginAmerica What @dhepburn said.</td>\n",
       "      <td>NaN</td>\n",
       "      <td>2015-02-24 11:35:52 -0800</td>\n",
       "      <td>NaN</td>\n",
       "      <td>Eastern Time (US &amp; Canada)</td>\n",
       "    </tr>\n",
       "    <tr>\n",
       "      <th>1</th>\n",
       "      <td>570301130888122368</td>\n",
       "      <td>positive</td>\n",
       "      <td>0.3486</td>\n",
       "      <td>NaN</td>\n",
       "      <td>0.0000</td>\n",
       "      <td>Virgin America</td>\n",
       "      <td>NaN</td>\n",
       "      <td>jnardino</td>\n",
       "      <td>NaN</td>\n",
       "      <td>0</td>\n",
       "      <td>@VirginAmerica plus you've added commercials t...</td>\n",
       "      <td>NaN</td>\n",
       "      <td>2015-02-24 11:15:59 -0800</td>\n",
       "      <td>NaN</td>\n",
       "      <td>Pacific Time (US &amp; Canada)</td>\n",
       "    </tr>\n",
       "    <tr>\n",
       "      <th>2</th>\n",
       "      <td>570301083672813571</td>\n",
       "      <td>neutral</td>\n",
       "      <td>0.6837</td>\n",
       "      <td>NaN</td>\n",
       "      <td>NaN</td>\n",
       "      <td>Virgin America</td>\n",
       "      <td>NaN</td>\n",
       "      <td>yvonnalynn</td>\n",
       "      <td>NaN</td>\n",
       "      <td>0</td>\n",
       "      <td>@VirginAmerica I didn't today... Must mean I n...</td>\n",
       "      <td>NaN</td>\n",
       "      <td>2015-02-24 11:15:48 -0800</td>\n",
       "      <td>Lets Play</td>\n",
       "      <td>Central Time (US &amp; Canada)</td>\n",
       "    </tr>\n",
       "    <tr>\n",
       "      <th>3</th>\n",
       "      <td>570301031407624196</td>\n",
       "      <td>negative</td>\n",
       "      <td>1.0000</td>\n",
       "      <td>Bad Flight</td>\n",
       "      <td>0.7033</td>\n",
       "      <td>Virgin America</td>\n",
       "      <td>NaN</td>\n",
       "      <td>jnardino</td>\n",
       "      <td>NaN</td>\n",
       "      <td>0</td>\n",
       "      <td>@VirginAmerica it's really aggressive to blast...</td>\n",
       "      <td>NaN</td>\n",
       "      <td>2015-02-24 11:15:36 -0800</td>\n",
       "      <td>NaN</td>\n",
       "      <td>Pacific Time (US &amp; Canada)</td>\n",
       "    </tr>\n",
       "    <tr>\n",
       "      <th>4</th>\n",
       "      <td>570300817074462722</td>\n",
       "      <td>negative</td>\n",
       "      <td>1.0000</td>\n",
       "      <td>Can't Tell</td>\n",
       "      <td>1.0000</td>\n",
       "      <td>Virgin America</td>\n",
       "      <td>NaN</td>\n",
       "      <td>jnardino</td>\n",
       "      <td>NaN</td>\n",
       "      <td>0</td>\n",
       "      <td>@VirginAmerica and it's a really big bad thing...</td>\n",
       "      <td>NaN</td>\n",
       "      <td>2015-02-24 11:14:45 -0800</td>\n",
       "      <td>NaN</td>\n",
       "      <td>Pacific Time (US &amp; Canada)</td>\n",
       "    </tr>\n",
       "  </tbody>\n",
       "</table>\n",
       "</div>"
      ],
      "text/plain": [
       "             tweet_id             ...                           user_timezone\n",
       "0  570306133677760513             ...              Eastern Time (US & Canada)\n",
       "1  570301130888122368             ...              Pacific Time (US & Canada)\n",
       "2  570301083672813571             ...              Central Time (US & Canada)\n",
       "3  570301031407624196             ...              Pacific Time (US & Canada)\n",
       "4  570300817074462722             ...              Pacific Time (US & Canada)\n",
       "\n",
       "[5 rows x 15 columns]"
      ]
     },
     "execution_count": 3,
     "metadata": {},
     "output_type": "execute_result"
    }
   ],
   "source": [
    "pd.read_csv(path/'Tweets.csv').head()"
   ]
  },
  {
   "cell_type": "markdown",
   "metadata": {},
   "source": [
    "We have various columns in our data, but not all of them are meaningful for our task. This is because a sentiment analysis model should predict a text sentiment (in this case negative, neutral or positive) only based on the content of the text (in this case a tweet): we should therefore only focus on the `text` and `airline_sentiment` columns. \n",
    "\n",
    "Nevertheless, it is also true that we don't have a pre-determined validation set and we need to create one. To this purpose it may be useful to also consider the `airline` and `negativereason` columns, since different airlines may have different strong and weak points and it could be helpful to keep those differences in both training and validation sets. \n",
    "<!--- The reason is simply that if for example we decide to split train and validation sets randomly, we may end up excluding all bad flight instances in the training set: it will therefore be harder for the model to classify tweets about bad flights as negative, since it never saw these before. --->\n",
    "\n",
    "Let us therefore create a dataframe with all the relevant columns:"
   ]
  },
  {
   "cell_type": "code",
   "execution_count": 4,
   "metadata": {},
   "outputs": [
    {
     "name": "stdout",
     "output_type": "stream",
     "text": [
      "<class 'pandas.core.frame.DataFrame'>\n",
      "RangeIndex: 14640 entries, 0 to 14639\n",
      "Data columns (total 4 columns):\n",
      "text                 14640 non-null object\n",
      "airline_sentiment    14640 non-null object\n",
      "airline              14640 non-null object\n",
      "negativereason       9178 non-null object\n",
      "dtypes: object(4)\n",
      "memory usage: 457.6+ KB\n",
      "None\n"
     ]
    },
    {
     "data": {
      "text/html": [
       "<div>\n",
       "<style scoped>\n",
       "    .dataframe tbody tr th:only-of-type {\n",
       "        vertical-align: middle;\n",
       "    }\n",
       "\n",
       "    .dataframe tbody tr th {\n",
       "        vertical-align: top;\n",
       "    }\n",
       "\n",
       "    .dataframe thead th {\n",
       "        text-align: right;\n",
       "    }\n",
       "</style>\n",
       "<table border=\"1\" class=\"dataframe\">\n",
       "  <thead>\n",
       "    <tr style=\"text-align: right;\">\n",
       "      <th></th>\n",
       "      <th>text</th>\n",
       "      <th>airline_sentiment</th>\n",
       "      <th>airline</th>\n",
       "      <th>negativereason</th>\n",
       "    </tr>\n",
       "  </thead>\n",
       "  <tbody>\n",
       "    <tr>\n",
       "      <th>0</th>\n",
       "      <td>@VirginAmerica What @dhepburn said.</td>\n",
       "      <td>neutral</td>\n",
       "      <td>Virgin America</td>\n",
       "      <td>NaN</td>\n",
       "    </tr>\n",
       "    <tr>\n",
       "      <th>1</th>\n",
       "      <td>@VirginAmerica plus you've added commercials t...</td>\n",
       "      <td>positive</td>\n",
       "      <td>Virgin America</td>\n",
       "      <td>NaN</td>\n",
       "    </tr>\n",
       "    <tr>\n",
       "      <th>2</th>\n",
       "      <td>@VirginAmerica I didn't today... Must mean I n...</td>\n",
       "      <td>neutral</td>\n",
       "      <td>Virgin America</td>\n",
       "      <td>NaN</td>\n",
       "    </tr>\n",
       "    <tr>\n",
       "      <th>3</th>\n",
       "      <td>@VirginAmerica it's really aggressive to blast...</td>\n",
       "      <td>negative</td>\n",
       "      <td>Virgin America</td>\n",
       "      <td>Bad Flight</td>\n",
       "    </tr>\n",
       "    <tr>\n",
       "      <th>4</th>\n",
       "      <td>@VirginAmerica and it's a really big bad thing...</td>\n",
       "      <td>negative</td>\n",
       "      <td>Virgin America</td>\n",
       "      <td>Can't Tell</td>\n",
       "    </tr>\n",
       "  </tbody>\n",
       "</table>\n",
       "</div>"
      ],
      "text/plain": [
       "                                                text      ...       negativereason\n",
       "0                @VirginAmerica What @dhepburn said.      ...                  NaN\n",
       "1  @VirginAmerica plus you've added commercials t...      ...                  NaN\n",
       "2  @VirginAmerica I didn't today... Must mean I n...      ...                  NaN\n",
       "3  @VirginAmerica it's really aggressive to blast...      ...           Bad Flight\n",
       "4  @VirginAmerica and it's a really big bad thing...      ...           Can't Tell\n",
       "\n",
       "[5 rows x 4 columns]"
      ]
     },
     "execution_count": 4,
     "metadata": {},
     "output_type": "execute_result"
    }
   ],
   "source": [
    "df = pd.read_csv(path/'Tweets.csv', usecols = ['text', 'airline_sentiment', 'airline', 'negativereason'])[['text', 'airline_sentiment', 'airline', 'negativereason']]\n",
    "print(df.info())\n",
    "df.head()"
   ]
  },
  {
   "cell_type": "markdown",
   "metadata": {},
   "source": [
    "As we can see, we have in total 14640 tweets and for 9178 of them (the negative ones) the negative reason is also specified.\n",
    "\n",
    "### Features analysis\n",
    "\n",
    "Let us visualize the distribution of tweets according to the airline sentiment:"
   ]
  },
  {
   "cell_type": "code",
   "execution_count": 5,
   "metadata": {},
   "outputs": [
    {
     "data": {
      "text/plain": [
       "negative    9178\n",
       "neutral     3099\n",
       "positive    2363\n",
       "Name: airline_sentiment, dtype: int64"
      ]
     },
     "execution_count": 5,
     "metadata": {},
     "output_type": "execute_result"
    },
    {
     "data": {
      "image/png": "[encoded data removed]",
      "text/plain": [
       "<Figure size 864x432 with 2 Axes>"
      ]
     },
     "metadata": {},
     "output_type": "display_data"
    }
   ],
   "source": [
    "plt.figure(figsize = (12,6))\n",
    "\n",
    "plt.subplot(121)\n",
    "df['airline_sentiment'].value_counts().sort_index().plot(kind = 'bar', colormap = 'Pastel2')\n",
    "plt.title('Airline Sentiment', size = 14)\n",
    "\n",
    "plt.subplot(122)\n",
    "df['airline_sentiment'].value_counts(normalize = True).sort_index().plot(kind = 'pie', autopct = '%.2f', colormap = 'Pastel1')\n",
    "plt.title('Airline Sentiment', size = 14)\n",
    "plt.ylabel(None)\n",
    "\n",
    "plt.tight_layout()\n",
    "\n",
    "df['airline_sentiment'].value_counts().sort_index()"
   ]
  },
  {
   "cell_type": "markdown",
   "metadata": {},
   "source": [
    "We notice that our dataset is imbalanced, since we have about three times more negative tweets than neutral or positive ones (as expected, since people are more likely to tweet to complain if something is  wrong).\n",
    "\n",
    "Let us also visualize the distribution of tweets according to the airline:"
   ]
  },
  {
   "cell_type": "code",
   "execution_count": 6,
   "metadata": {},
   "outputs": [
    {
     "data": {
      "text/plain": [
       "American          2759\n",
       "Delta             2222\n",
       "Southwest         2420\n",
       "US Airways        2913\n",
       "United            3822\n",
       "Virgin America     504\n",
       "Name: airline, dtype: int64"
      ]
     },
     "execution_count": 6,
     "metadata": {},
     "output_type": "execute_result"
    },
    {
     "data": {
      "image/png": "[encoded data removed]",
      "text/plain": [
       "<Figure size 864x432 with 2 Axes>"
      ]
     },
     "metadata": {},
     "output_type": "display_data"
    }
   ],
   "source": [
    "plt.figure(figsize = (12,6))\n",
    "\n",
    "plt.subplot(121)\n",
    "df['airline'].value_counts().sort_index().plot(kind = 'bar', colormap = 'Pastel2')\n",
    "plt.title('Airline', size = 14)\n",
    "\n",
    "plt.subplot(122)\n",
    "df['airline'].value_counts(normalize = True).sort_index().plot(kind = 'pie', autopct = '%.2f', colormap = 'Pastel1')\n",
    "plt.ylabel(None)\n",
    "plt.title('Airline', size = 14)\n",
    "\n",
    "plt.tight_layout()\n",
    "\n",
    "df['airline'].value_counts().sort_index()"
   ]
  },
  {
   "cell_type": "markdown",
   "metadata": {},
   "source": [
    "The number of tweets for airline company is roughly the same (although it is dominated by United), with the exception of Virgin America which only received about 3.5% of the total tweets: this is however expected since Virgin America is quite small compared to the other airline companies considered.\n",
    "\n",
    "It may be interesting to visualize the sentiment distribution per airline: "
   ]
  },
  {
   "cell_type": "code",
   "execution_count": 7,
   "metadata": {},
   "outputs": [
    {
     "data": {
      "image/png": "[encoded data removed]",
      "text/plain": [
       "<Figure size 864x432 with 1 Axes>"
      ]
     },
     "metadata": {},
     "output_type": "display_data"
    }
   ],
   "source": [
    "df.groupby(['airline', 'airline_sentiment']).size().unstack().plot(kind = 'bar', stacked = False, colormap = 'Pastel2', figsize = (12,6))\n",
    "plt.title('Airline Sentiment by Airline', size = 14)\n",
    "plt.xlabel(None)\n",
    "plt.show()"
   ]
  },
  {
   "cell_type": "markdown",
   "metadata": {},
   "source": [
    "We see that while for all companies the number of neutral and positive tweets is roughly the same, the number of negative tweets varies a lot across companies: indeed American, US Airways and United received about four/five times more negative than neutral or positive tweets, while the negative/non-negative ratio is way smaller for the remaining companies and almost one for Virgin America. In particular, among the big companies it seems that Delta provides the best service.\n",
    "\n",
    "This may be an indicator of the airline company overall quality, but we should take into account that negative tweets may also be due to reasons out of the airline's control (such as delayed flights due to bad weather conditions). It is therefore important to visualize the distribution of reason for negative sentiment:"
   ]
  },
  {
   "cell_type": "code",
   "execution_count": 8,
   "metadata": {},
   "outputs": [
    {
     "data": {
      "text/plain": [
       "Bad Flight                      580\n",
       "Can't Tell                     1190\n",
       "Cancelled Flight                847\n",
       "Customer Service Issue         2910\n",
       "Damaged Luggage                  74\n",
       "Flight Attendant Complaints     481\n",
       "Flight Booking Problems         529\n",
       "Late Flight                    1665\n",
       "Lost Luggage                    724\n",
       "longlines                       178\n",
       "Name: negativereason, dtype: int64"
      ]
     },
     "execution_count": 8,
     "metadata": {},
     "output_type": "execute_result"
    },
    {
     "data": {
      "image/png": "[encoded data removed]",
      "text/plain": [
       "<Figure size 1152x576 with 2 Axes>"
      ]
     },
     "metadata": {},
     "output_type": "display_data"
    }
   ],
   "source": [
    "plt.figure(figsize = (16,8))\n",
    "\n",
    "plt.subplot(121)\n",
    "df[df['airline_sentiment'] == 'negative']['negativereason'].value_counts().sort_index().plot(kind = 'bar', colormap = 'Pastel2')\n",
    "plt.title('Negative Reason', size = 14)\n",
    "\n",
    "plt.subplot(122)\n",
    "df[df['airline_sentiment'] == 'negative']['negativereason'].value_counts(normalize = True).sort_index().plot(kind = 'pie', autopct = '%.2f', colors = sns.color_palette(\"pastel\", 10))\n",
    "plt.ylabel(None) \n",
    "plt.title('Negative Reason', size = 14)\n",
    "\n",
    "plt.tight_layout()\n",
    "\n",
    "df[df['airline_sentiment'] == 'negative']['negativereason'].value_counts().sort_index()"
   ]
  },
  {
   "cell_type": "markdown",
   "metadata": {},
   "source": [
    "From the plot it is clear that the most frequent complaint reason is related to issues with customer service, which is due to the airline companies themselves. Other frequent complaints (apart from the unspecified ones, collectively collected as \"can't tell\") regard late/cancelled flights and lost luggage, which however may not always be attributed to the airline companies but may be due to external factors such as bad weather or bad airport organization.  \n",
    "Less frequent complaint reasons are instead most likely problems related to the airline companies (flight attendants, flight booking, long lines, bad flights).\n",
    "\n",
    "To get an estimation of the airlines quality we should therefore compare the non-external negative sentiment reasons for the various companies:"
   ]
  },
  {
   "cell_type": "code",
   "execution_count": 9,
   "metadata": {},
   "outputs": [
    {
     "data": {
      "image/png": "[encoded data removed]",
      "text/plain": [
       "<Figure size 1296x864 with 6 Axes>"
      ]
     },
     "metadata": {},
     "output_type": "display_data"
    }
   ],
   "source": [
    "plt.figure(figsize = (18,12))\n",
    "\n",
    "airlines = df['airline'].value_counts().sort_index().index.tolist()\n",
    "\n",
    "for i in range(len(airlines)):\n",
    "    plt.subplot(2,3,i+1)\n",
    "    df[(df['airline_sentiment'] == 'negative') & (df['airline'] == airlines[i])]['negativereason'].value_counts().sort_index().plot(kind = 'bar', colormap = 'Pastel2')\n",
    "    plt.title(airlines[i], size = 14)\n",
    "    \n",
    "plt.tight_layout()    \n",
    "plt.show()"
   ]
  },
  {
   "cell_type": "markdown",
   "metadata": {},
   "source": [
    "For all companies the dominant dissatisfaction reason is related to customer service (apart from Delta whose biggest problem is due to late flights, but this may not be entirely due to Delta). We confirm once more that among the big companies Delta seems to provide a better overall service, given that its number of customer service issues is much lower compared to the one of the other big companies.\n",
    "\n",
    "### Text analysis\n",
    "\n",
    "In a sentiment analysis problem the text (here tweets) is the most important feature, since the model should predict a sentiment based solely on it.  \n",
    "We should therefore give a look on a few tweet examples to understand the general properties of our text and possible sources of issues during training:"
   ]
  },
  {
   "cell_type": "code",
   "execution_count": 10,
   "metadata": {},
   "outputs": [
    {
     "name": "stdout",
     "output_type": "stream",
     "text": [
      "@VirginAmerica What @dhepburn said.\n",
      "\n",
      "@VirginAmerica trying to add my boy Prince to my ressie. SF this Thursday @VirginAmerica from LAX http://t.co/GsB2J3c4gM\n",
      "\n",
      "@VirginAmerica - amazing customer  service, again! 💕💕 RaeAnn in SF - she's the best! #customerservice #virginamerica #flying\n",
      "\n",
      "@VirginAmerica - too many apologies! You r the worse airlines! Don't even respond to your cudtomers\n",
      "\n",
      "@united:  thanks for the miserable trip GNV&lt;&lt;&lt;FSD on 2.19-2.21.\n",
      "\n",
      "@united ANOTHER F*CKING DELAY IN THE PAST 32 HOURS!?\n",
      "\n",
      "@united I have been denied. Not sure how you charge $150 one way then $25 on way hime\n",
      "\n",
      "@united UA5029 from RIC, UA507 from ORD, &amp; UA423 from DEN -ALL DELAYED for non-weather issues. Way to go, youre batting 1.000! But no hotels\n",
      "\n"
     ]
    }
   ],
   "source": [
    "# Examples\n",
    "\n",
    "for i in [0, 100, 105, 177, 1552, 3365, 3386, 3555]:\n",
    "    print(df['text'][i])\n",
    "    print()"
   ]
  },
  {
   "cell_type": "markdown",
   "metadata": {},
   "source": [
    "From these example we notice a series of points:\n",
    "\n",
    "* Most, if not all, tweets begin with referring to a particular airline company. This may cause problems during classification: for example ~ 70% of the tweets concerning United are negative and it is then possible that the model may assign a negative feeling to the word \"@united\". We should therefore check that this is not the case after training the model, or remove such references to the airline companies altogether;\n",
    "\n",
    "\n",
    "* Sometimes the tweet is extremely short (like in the first example) and it may be hard for the model to classify tweets with such little information;\n",
    "\n",
    "\n",
    "* Differently from most of the standard written text, tweets make large use of words shortenings, mentions to other tweets, emojis, hashtags. Emojis are very likely to contain some sort of sentiment and for this reason we prefer to keep them. Hashtags may also contain some sentiment information, but it can be hard to extract it since most of the times they are created by joining words (such as \"#customerservice\");\n",
    "\n",
    "\n",
    "* Sometimes tweets contain web links: we don't expect the name of the link to contain any relevant sentiment information, so we may decide to get rid of them; \n",
    "\n",
    "\n",
    "* Characters such as \"&\" have been rendered as `&amp;` in the process of storing the data as a csv file, so we may want to restore them to their original form (or eliminate them since they will likely not contain any sentiment information);\n",
    "\n",
    "\n",
    "* There are sometimes mispelled words (such as \"cudtomers\" and \"hime\");\n",
    "\n",
    "\n",
    "* There is a large presence of flight-specific terms, such as abbreviations for airports and cities (SF, LAX, DEN) and references to flights (UA5029, UA507);\n",
    "\n",
    "\n",
    "* Numbers are often used, mostly either to indicate a date/time or to indicate prices. Numbers should not contain any relevant sentiment information, although a high sum of money may indicate something overpriced and may therefore be related to a negative tweet; \n",
    "\n",
    "\n",
    "* Capitalization of whole words of sentences often indicates anger and may therefore be an indication of a negative sentiment, but it may be hard for the model to distinguish them from abbreviations of cities (SF, LAX, DEN) which are also fully capitalized.\n",
    "\n",
    "Many of these factors may affect the final quality of our classifier: we will however first train a classifier using the standard ULMFiT preprocessing of text, and later investigate if additional or different preprocessing steps may improve the performance of the model.\n",
    "\n",
    "To conclude, we also notice that sometimes classification of tweets is ambiguous. For example the following four tweets only differ by the web link they refer to, but their sentiment is classified differently:"
   ]
  },
  {
   "cell_type": "code",
   "execution_count": 11,
   "metadata": {},
   "outputs": [
    {
     "name": "stdout",
     "output_type": "stream",
     "text": [
      "@VirginAmerica has getaway deals through May, from $59 one-way. Lots of cool cities http://t.co/tZZJhuIbCH #CheapFlights #FareCompare, positive\n",
      "\n",
      "@VirginAmerica has getaway deals through May, from $59 one-way. Lots of cool cities http://t.co/RPdBpX3wNd #CheapFlights #FareCompare, neutral\n",
      "\n",
      "@VirginAmerica has getaway deals through May, from $59 one-way. Lots of cool cities http://t.co/B2Xi4YG5T8 #CheapFlights #FareCompare, positive\n",
      "\n",
      "@VirginAmerica has getaway deals through May, from $59 one-way. Lots of cool cities http://t.co/QDlJHslOI5 #CheapFlights #FareCompare, neutral\n",
      "\n"
     ]
    }
   ],
   "source": [
    "for i in range(109, 113):\n",
    "    print(\"{}, {}\".format(df['text'][i], df['airline_sentiment'][i]))\n",
    "    print()"
   ]
  },
  {
   "cell_type": "markdown",
   "metadata": {},
   "source": [
    "This and similar examples will create additional confusion and will most likely affect the ability of the model to distinguish neutral from positive/negative tweets, but there is no way to fix this problem apart from revisiting by hand the classification of all tweets.\n",
    "\n",
    "***\n",
    "\n",
    "# Model - ULMFiT \n",
    "\n",
    "The exercise requires us to perform sentiment analysis on the Twitter US Airlines Sentiment dataset by training a ULMFiT (Universal Language Model Fine-Tuning) model, introduced in the [Universal Language Model Fine-Tuning for Text Classification](https://arxiv.org/pdf/1801.06146.pdf) paper. Training a ULMFiT model is a three-steps process:\n",
    "\n",
    "1. In the first step we train a **Language Model** (LM), e.g. a model which is able to predict the next word in a sentence given all previous words. This is a complicated and computationally expensive problem since we basically need to teach the model both the grammar and the vocabulary of a language (English in our case): as such, we expect a large number of text documents will be needed for training.   \n",
    "Luckily, this first step was already done for us by the authors of the ULMFiT paper: they trained a recurrent neural network (more precisely an [AWD-LSTM](https://arxiv.org/abs/1708.02182) model) on the [Wikitext-103 dataset](https://arxiv.org/abs/1609.07843), which consists of 28,595 preprocessed Wikipedia articles, over 103 million tokens and a vocabulary size of 267,735, and made availabe for download the weights of their trained model. We then just need to construct an AWD-LSTM architecture and load the pre-trained weights, much like when in computer vision we use ResNet or similar models pre-trained on the ImageNet dataset.\n",
    "\n",
    "\n",
    "2. In the second step we use **transfer learning** and fine-tune the pre-trained language model to our dataset. This step is necessary because often the English used in the text we need to consider is different from Wikipedia's English, especially in our case where we are dealing with tweets which also involve emojis and hashtags. This is essentially the same step we perform in computer vision, where we use transfer learning from a ResNet or similar model pre-trained on ImageNet and fine-tune it on our new image dataset. Notice however that we are not yet using the sentiment labels of our texts, since in a language model the target is the next word of the sentence: this step can then be considered as a self-supervised problem.\n",
    "\n",
    "\n",
    "3. In the third step we build a sentiment **classifier** model by adding to the language model two linear layers with ReLU and softmax activations functions. It is only during this last part that we make use of the tweets sentiment labels. \n",
    "\n",
    "Compared to training a classifier model from scratch, ULMFiT allows to get good results with much fewer labeled training data: it will therefore be faster to train and less computational expensive (the only hard step being the first one, which however we don't need to perform).\n",
    "\n",
    "Let us now go more in details into the various steps.\n",
    "\n",
    "### Step 1: download the pre-trained Language Model\n",
    "\n",
    "In order to build a language model, we need to somehow convert text to numbers: this is because computers can perform computations on numbers, but not on text. This conversion is usually done by **tokenization** and **numericalization** of the full text corpus.\n",
    "\n",
    "**Tokenization** is the process of creating a separate unit (*token*) for each separate part of a word. Most of the times a token consists of a single word, but cases like \"it's\" are usually divided into the two tokens \"it\" and \"'s\"; moreover punctuation and other symbols (like emojis) get their own token, and additional special tokens (for example \"xxmaj\" for capital letters or \"xxunk\" for unknown words) may be used. Fastai has a Tokenizer class that uses a [spacy tokenizer](https://spacy.io/usage/spacy-101#annotations-token) to perform tokenization:"
   ]
  },
  {
   "cell_type": "code",
   "execution_count": 12,
   "metadata": {},
   "outputs": [
    {
     "name": "stdout",
     "output_type": "stream",
     "text": [
      "Original text:    @VirginAmerica now it's just t-minus 32 minutes until my Elevate a Silver upgrade window opens . #FreeNeverSucks 😃👍\n",
      "\n",
      "Tokenized text:   @virginamerica now it 's just t - minus 32 minutes until my xxmaj elevate a xxmaj silver upgrade window opens . # freeneversucks 😃 👍\n",
      "\n",
      "Tokens: ['@virginamerica', 'now', 'it', \"'s\", 'just', 't', '-', 'minus', '32', 'minutes', 'until', 'my', 'xxmaj', 'elevate', 'a', 'xxmaj', 'silver', 'upgrade', 'window', 'opens', '.', '#', 'freeneversucks', '😃', '👍']\n"
     ]
    }
   ],
   "source": [
    "# Original text example\n",
    "\n",
    "print('Original text:   ', df['text'][455])\n",
    "print()\n",
    "\n",
    "# Tokenization\n",
    "\n",
    "tokenizer = Tokenizer()\n",
    "text_tokens = tokenizer.process_text(df['text'][455], tok = SpacyTokenizer('en'))    # 'en' for English language\n",
    "\n",
    "# Tokenized text\n",
    "\n",
    "print('Tokenized text:  ', ' '.join(text_tokens))\n",
    "print()\n",
    "\n",
    "# Tokens\n",
    "\n",
    "print('Tokens:', text_tokens)"
   ]
  },
  {
   "cell_type": "markdown",
   "metadata": {},
   "source": [
    "As we can see, the fastai built-in tokenizer considers each emoji as a single token; in addition, it separates hashtags into \"#\" and whatever word comes after it. It also trades the appeareance of capital letters in a word for the special token \"xxmaj\", apart from the case where capital letters appear in the first word (since later it will add another special token \"xxbos\" which indicates the beginning of sentence).\n",
    "\n",
    "**Numericalization** instead is the process of constructing a vocabulary and assign a number to each token. The fastai Vocab class will create a vocabulary out of a list of tokens we pass to it, considering only the `max_vocab` most frequent tokens which appear in the token list at least `min_freq` times (in addition to nine special tokens). It will then assign a unique number to each token in the vocabulary. The dictionary between vocabulary tokens and integers can be read from the Vocab `stoi` method:"
   ]
  },
  {
   "cell_type": "code",
   "execution_count": 13,
   "metadata": {},
   "outputs": [
    {
     "data": {
      "text/plain": [
       "defaultdict(int,\n",
       "            {'xxunk': 0,\n",
       "             'xxpad': 1,\n",
       "             'xxbos': 2,\n",
       "             'xxeos': 3,\n",
       "             'xxfld': 4,\n",
       "             'xxmaj': 5,\n",
       "             'xxup': 6,\n",
       "             'xxrep': 7,\n",
       "             'xxwrep': 8,\n",
       "             '@virginamerica': 9,\n",
       "             'now': 10,\n",
       "             'it': 11,\n",
       "             \"'s\": 12,\n",
       "             'just': 13,\n",
       "             't': 14,\n",
       "             '-': 15,\n",
       "             'minus': 16,\n",
       "             '32': 17,\n",
       "             'minutes': 18,\n",
       "             'until': 19,\n",
       "             'my': 20,\n",
       "             'elevate': 21,\n",
       "             'a': 22,\n",
       "             'silver': 23,\n",
       "             'upgrade': 24,\n",
       "             'window': 25,\n",
       "             'opens': 26,\n",
       "             '.': 27,\n",
       "             '#': 28,\n",
       "             'freeneversucks': 29,\n",
       "             '😃': 30,\n",
       "             '👍': 31})"
      ]
     },
     "execution_count": 13,
     "metadata": {},
     "output_type": "execute_result"
    }
   ],
   "source": [
    "vocab = Vocab.create([text_tokens], max_vocab = 1000, min_freq = 1)\n",
    "vocab.stoi"
   ]
  },
  {
   "cell_type": "markdown",
   "metadata": {},
   "source": [
    "We can numericalize a tokenized text with the Vocab `numericalize` method:"
   ]
  },
  {
   "cell_type": "code",
   "execution_count": 14,
   "metadata": {
    "scrolled": true
   },
   "outputs": [
    {
     "name": "stdout",
     "output_type": "stream",
     "text": [
      "Tokens: ['@virginamerica', 'now', 'it', \"'s\", 'just', 't', '-', 'minus', '32', 'minutes', 'until', 'my', 'xxmaj', 'elevate', 'a', 'xxmaj', 'silver', 'upgrade', 'window', 'opens', '.', '#', 'freeneversucks', '😃', '👍']\n",
      "\n",
      "Tokens to numbers: [9, 10, 11, 12, 13, 14, 15, 16, 17, 18, 19, 20, 5, 21, 22, 5, 23, 24, 25, 26, 27, 28, 29, 30, 31]\n"
     ]
    }
   ],
   "source": [
    "print('Tokens:', text_tokens)\n",
    "print()\n",
    "print(\"Tokens to numbers:\", vocab.numericalize(text_tokens))"
   ]
  },
  {
   "cell_type": "markdown",
   "metadata": {},
   "source": [
    "If we now try to numericalize a tokenized text which contains tokens not present in the vocabulary, these will be replaced by the special `xxukn` token (numericalized as 0):"
   ]
  },
  {
   "cell_type": "code",
   "execution_count": 15,
   "metadata": {},
   "outputs": [
    {
     "name": "stdout",
     "output_type": "stream",
     "text": [
      "[9, 5, 11, 12, 13, 0, 0]\n"
     ]
    }
   ],
   "source": [
    "tokenized_sample_text = tokenizer.process_text(\"@virginamerica It's just me!\", tok = SpacyTokenizer('en'))\n",
    "print(vocab.numericalize(tokenized_sample_text))"
   ]
  },
  {
   "cell_type": "markdown",
   "metadata": {},
   "source": [
    "Tokenization and numericalization are automatically performed by fastai when creating the data to be fed into the language model with `TextDataBunch`.   \n",
    "All we need to specify is where the data is stored (in our case the csv file), how to split data into training and validation (here we just take a random 10% of the data as validation), which column contains the text and which column contains the labels (to be used later for classification), the maximum number of tokens in the vocabulary (60000 by default as more would lead to a model more prone to errors) and the minimum number of times a token should appear for being considered as part of the vocabulary:"
   ]
  },
  {
   "cell_type": "code",
   "execution_count": 16,
   "metadata": {},
   "outputs": [],
   "source": [
    "data_lm = TextLMDataBunch.from_csv(path, 'Tweets.csv', valid_pct = 0.1, \n",
    "                                   text_cols = 'text', label_cols = 'airline_sentiment', max_vocab = 60000, min_freq = 2)"
   ]
  },
  {
   "cell_type": "markdown",
   "metadata": {},
   "source": [
    "`TextDataBunch` also splits the text corpus into mini-batches of 64 elements, where each element in a mini-batch is a text of 70 tokens: "
   ]
  },
  {
   "cell_type": "code",
   "execution_count": 17,
   "metadata": {},
   "outputs": [
    {
     "data": {
      "text/html": [
       "<table border=\"1\" class=\"dataframe\">\n",
       "  <thead>\n",
       "    <tr style=\"text-align: right;\">\n",
       "      <th>idx</th>\n",
       "      <th>text</th>\n",
       "    </tr>\n",
       "  </thead>\n",
       "  <tbody>\n",
       "    <tr>\n",
       "      <td>0</td>\n",
       "      <td>at xxmaj lax was fantastic tonight helping to find a lost item for us at the airport . xxmaj much thanks ! xxbos @jetblue of my tray table is broken what do i do ? xxbos @americanair ... xxmaj do i have to even say anything ? xxmaj over 6 hours on hold ... xxmaj no one has ever sucked as much as you . http : / / t.co</td>\n",
       "    </tr>\n",
       "    <tr>\n",
       "      <td>1</td>\n",
       "      <td>, &amp; &amp; gate crews at c19 xxmaj bos &amp; &amp; 6 jfk . xxmaj long day of delays made better by them ! xxbos @southwestair xxmaj make the world a better place : xxmaj visit an elderly relative . xxbos @united well . xxmaj as of yet , our checked bag has already xxunk and we have n't left the airport yet . xxbos @united xxmaj apologize to the</td>\n",
       "    </tr>\n",
       "    <tr>\n",
       "      <td>2</td>\n",
       "      <td>to the earlier flight but i 'm at the gate with a seat assignment . xxmaj super nice agent at gate xxup c4 xxup ord xxbos @usairways xxmaj official time of call 3 hours 10 minutes but must add for 7 minutes your reservation agent was extremely professional and helpful xxbos @usairways sorry , we are in xxmaj philly . xxmaj should 've told you that . xxbos @americanair really</td>\n",
       "    </tr>\n",
       "  </tbody>\n",
       "</table>"
      ],
      "text/plain": [
       "<IPython.core.display.HTML object>"
      ]
     },
     "metadata": {},
     "output_type": "display_data"
    }
   ],
   "source": [
    "data_lm.show_batch(3)"
   ]
  },
  {
   "cell_type": "markdown",
   "metadata": {},
   "source": [
    "The language model training data x of a mini-batch is therefore a (numericalized) 64 x 70 tensor; the target data y is also a 64 x 70 tensor and contains at each step the next word for the text in x:"
   ]
  },
  {
   "cell_type": "code",
   "execution_count": 18,
   "metadata": {},
   "outputs": [
    {
     "name": "stdout",
     "output_type": "stream",
     "text": [
      "torch.Size([64, 70])\n",
      "torch.Size([64, 70])\n"
     ]
    }
   ],
   "source": [
    "x,y = next(iter(data_lm.train_dl))\n",
    "print(x.shape)\n",
    "print(y.shape)"
   ]
  },
  {
   "cell_type": "code",
   "execution_count": 19,
   "metadata": {},
   "outputs": [
    {
     "data": {
      "text/plain": [
       "tensor([[  16,    0,    2,  ...,  197,  136,  411],\n",
       "        [   5, 3597,    9,  ...,  111,  183,    9],\n",
       "        [  15,    5,   41,  ...,   44,  333,  120],\n",
       "        ...,\n",
       "        [  19,  157,  275,  ...,   11,   38,   68],\n",
       "        [  62,  104,   43,  ...,  262,   81,  114],\n",
       "        [  14, 6271,    0,  ..., 2994,   29,    6]], device='cuda:0')"
      ]
     },
     "execution_count": 19,
     "metadata": {},
     "output_type": "execute_result"
    }
   ],
   "source": [
    "x"
   ]
  },
  {
   "cell_type": "code",
   "execution_count": 20,
   "metadata": {},
   "outputs": [
    {
     "data": {
      "text/plain": [
       "tensor([[   0,    2,   32,  ...,  136,  411,   35],\n",
       "        [3597,    9,    5,  ...,  183,    9,    5],\n",
       "        [   5,   41,  159,  ...,  333,  120,  113],\n",
       "        ...,\n",
       "        [ 157,  275,   55,  ...,   38,   68,  143],\n",
       "        [ 104,   43,    2,  ...,   81,  114,   25],\n",
       "        [6271,    0,    9,  ...,   29,    6,  110]], device='cuda:0')"
      ]
     },
     "execution_count": 20,
     "metadata": {},
     "output_type": "execute_result"
    }
   ],
   "source": [
    "y"
   ]
  },
  {
   "cell_type": "markdown",
   "metadata": {},
   "source": [
    "For example, given the first six tokens \"/ xxunk xxbos @jetblue the you\" in x, the target word in y is the sixth token \"above\":"
   ]
  },
  {
   "cell_type": "code",
   "execution_count": 21,
   "metadata": {},
   "outputs": [
    {
     "name": "stdout",
     "output_type": "stream",
     "text": [
      "/ xxunk xxbos @jetblue the you above all commercials ? xxmaj like the legroom one xxbos @americanair i am going to keep these tweets coming till xxup aa does something ... which i know is nothing .. hoping i go way ... not likely . xxbos @usairways there is nothing tonight and i am on the flight now with xxup gogo internet is there a way that someone could send\n",
      "\n",
      "xxunk xxbos @jetblue the you above all commercials ? xxmaj like the legroom one xxbos @americanair i am going to keep these tweets coming till xxup aa does something ... which i know is nothing .. hoping i go way ... not likely . xxbos @usairways there is nothing tonight and i am on the flight now with xxup gogo internet is there a way that someone could send me\n"
     ]
    }
   ],
   "source": [
    "print(data_lm.vocab.textify(x[0,:]))\n",
    "print()\n",
    "print(data_lm.vocab.textify(y[0,:]))"
   ]
  },
  {
   "cell_type": "markdown",
   "metadata": {},
   "source": [
    "Once the language model data has been specified, we can construct an AWD-LSTM model pre-trained on Wikitext-103 by calling the fastai `language_model_learner()` function (`drop_mult` is an overall factor multiplying the dropout rates of all layers):"
   ]
  },
  {
   "cell_type": "code",
   "execution_count": 22,
   "metadata": {},
   "outputs": [],
   "source": [
    "learn_lm = language_model_learner(data_lm, AWD_LSTM, drop_mult = 1.0, model_dir = '/tmp/models')"
   ]
  },
  {
   "cell_type": "markdown",
   "metadata": {},
   "source": [
    "Let us look at the architecture of the AWD-LSTM model:\n",
    "\n",
    "<!--- We can explicitly see that the architecture is the AWD-LSTM one, with an embedding layer transforming the 6298 vocabulary items into 400 features, three LSTM recurrent layers and a final output layer: --->"
   ]
  },
  {
   "cell_type": "code",
   "execution_count": 23,
   "metadata": {
    "scrolled": false
   },
   "outputs": [
    {
     "data": {
      "text/plain": [
       "SequentialRNN(\n",
       "  (0): AWD_LSTM(\n",
       "    (encoder): Embedding(6298, 400, padding_idx=1)\n",
       "    (encoder_dp): EmbeddingDropout(\n",
       "      (emb): Embedding(6298, 400, padding_idx=1)\n",
       "    )\n",
       "    (rnns): ModuleList(\n",
       "      (0): WeightDropout(\n",
       "        (module): LSTM(400, 1150, batch_first=True)\n",
       "      )\n",
       "      (1): WeightDropout(\n",
       "        (module): LSTM(1150, 1150, batch_first=True)\n",
       "      )\n",
       "      (2): WeightDropout(\n",
       "        (module): LSTM(1150, 400, batch_first=True)\n",
       "      )\n",
       "    )\n",
       "    (input_dp): RNNDropout()\n",
       "    (hidden_dps): ModuleList(\n",
       "      (0): RNNDropout()\n",
       "      (1): RNNDropout()\n",
       "      (2): RNNDropout()\n",
       "    )\n",
       "  )\n",
       "  (1): LinearDecoder(\n",
       "    (decoder): Linear(in_features=400, out_features=6298, bias=True)\n",
       "    (output_dp): RNNDropout()\n",
       "  )\n",
       ")"
      ]
     },
     "execution_count": 23,
     "metadata": {},
     "output_type": "execute_result"
    }
   ],
   "source": [
    "learn_lm.model"
   ]
  },
  {
   "cell_type": "code",
   "execution_count": 24,
   "metadata": {
    "scrolled": false
   },
   "outputs": [
    {
     "name": "stdout",
     "output_type": "stream",
     "text": [
      "Number of words in the vocabulary: 6298\n"
     ]
    }
   ],
   "source": [
    "print(\"Number of words in the vocabulary:\", len(data_lm.train_ds.vocab.itos))"
   ]
  },
  {
   "cell_type": "markdown",
   "metadata": {},
   "source": [
    "The first layer is an embedding layer which represents each word in the vocabulary (6298 in this case) as a 400-dimensional vector. This is followed by three LSTM layers of size 400 x 1150, 1150 x 1150, 1150 x 400 respectively. Finally we have a decoding layer which outputs one of the words in the vocabulary given a 400-dimensional vector. Dropout is applied whenever possible, but in a careful way to retain long term dependencies in a sentence.\n",
    "\n",
    "Since our model is already pre-trained, we can try to see how good it is in predicting new words. For example, we can try to predict the next two words for the simple sentence \"I would like\":"
   ]
  },
  {
   "cell_type": "code",
   "execution_count": 25,
   "metadata": {},
   "outputs": [
    {
     "name": "stdout",
     "output_type": "stream",
     "text": [
      "I would like to use \n"
     ]
    }
   ],
   "source": [
    "text = \"I would like\"\n",
    "for i in range(2):\n",
    "    text = learn_lm.predict(text)\n",
    "print(text)"
   ]
  },
  {
   "cell_type": "markdown",
   "metadata": {},
   "source": [
    "The prediction is quite reasonable in this simple case: the pre-trained language model seems to already work well at least for easy sentences.\n",
    "\n",
    "### Step 2: fine-tune the Language Model \n",
    "\n",
    "Now that we have our language model pre-trained on Wikitext-103, we can use **transfer learning** and fine-tune it to the dataset of interest in order to make it able to understand the peculiarities of the text we need to analyse (in our case tweets). As for transfer learning in computer vision, the idea is to first replace and train only the last layer (decoder) of the neural network on the new dataset, and later unfreeze the whole architecture and train a little longer. \n",
    "\n",
    "As for any problem involving transfer learning, there are a couple of techniques that usually help in producing better models:\n",
    "\n",
    "* **One-cycle policy**, i.e. for each training epoch first gradually increase the learning rate till a maximum value and later gradually decrease it (and do the opposite for momentum). This can be useful since increasing the learning rate at the beginning of the epoch may prevent us from being stuck in an unwanted local minimum or saddle point of the loss function. One-cycle learning is already implemented in fastai via the `fit_one_cycle` method.\n",
    "\n",
    "\n",
    "* **Discriminative fine-tuning**, i.e. using different learning rates for different hidden layers (more precisely, smaller learning rate for the first layers and bigger learning rate for the last layers). This is helpful because, as in computer vision, different layers contain different types of information: typically the first layers contain the most general information about our data (in our case basic structures of English language: subject + verb + object, ...), which is most likely already well taken into account by the pre-training on the huge Wikitext-103 dataset and therefore will only need a small fine-tuning; on the other hand the last layers contain the least general information, such as peculiarities of tweets, and will need more training. Discriminative fine-tuning is already implemented in fastai: we just need to pass `max_lr` in `fit_one_cycle` as a `slice()` of two numbers, which will be the maximum learning rate (according to the one-cycle policy) for the first and last layer; the maximum learning rate across all layers will then be gradually increasing between these two values (setting `max_lr` to a single number will instead assign the same maximum learning rate of the one-cycle policy to all layers). A similar procedure works for momentum, if we specify `mom` as a tuple of two numbers.\n",
    "\n",
    "Let us now perform fine-tuning of the language model on our Twitter US Airline Sentiment dataset. We first randomly split the data into a training (90%) and a validation (10%) dataframe, and create a TextDataBunch and a pre-trained language model with such data (by default all layers apart from the last one are frozen):"
   ]
  },
  {
   "cell_type": "code",
   "execution_count": 26,
   "metadata": {},
   "outputs": [],
   "source": [
    "from sklearn.model_selection import ShuffleSplit\n",
    "\n",
    "split = ShuffleSplit(n_splits = 1, test_size = 0.1)\n",
    "\n",
    "for train_idx, valid_idx in split.split(df['text'], df['airline_sentiment'].values):\n",
    "    df_train = df.iloc[train_idx]\n",
    "    df_valid = df.iloc[valid_idx]"
   ]
  },
  {
   "cell_type": "code",
   "execution_count": 27,
   "metadata": {},
   "outputs": [],
   "source": [
    "data_lm = TextLMDataBunch.from_df(path = path, train_df = df_train, valid_df = df_valid, \n",
    "                                  text_cols = 'text', label_cols = 'airline_sentiment', max_vocab = 60000, min_freq = 2)"
   ]
  },
  {
   "cell_type": "code",
   "execution_count": 28,
   "metadata": {},
   "outputs": [],
   "source": [
    "learn_lm = language_model_learner(data_lm, AWD_LSTM, drop_mult = 1.0, model_dir = '/tmp/models')"
   ]
  },
  {
   "cell_type": "markdown",
   "metadata": {},
   "source": [
    "The learning rate can be determined with the `lr_find()` method, which runs the model for a subset of data at a learning rate increasing at each batch; plotting the loss as a function of the learning rate and looking for where it decreases fastest tells us which learning rate would be best:"
   ]
  },
  {
   "cell_type": "code",
   "execution_count": 29,
   "metadata": {},
   "outputs": [
    {
     "data": {
      "text/html": [],
      "text/plain": [
       "<IPython.core.display.HTML object>"
      ]
     },
     "metadata": {},
     "output_type": "display_data"
    },
    {
     "name": "stdout",
     "output_type": "stream",
     "text": [
      "LR Finder is complete, type {learner_name}.recorder.plot() to see the graph.\n",
      "Min numerical gradient: 6.92E-02\n"
     ]
    },
    {
     "data": {
      "image/png": "[encoded data removed]",
      "text/plain": [
       "<Figure size 432x288 with 1 Axes>"
      ]
     },
     "metadata": {},
     "output_type": "display_data"
    }
   ],
   "source": [
    "learn_lm.lr_find()\n",
    "learn_lm.recorder.plot(suggestion = True)"
   ]
  },
  {
   "cell_type": "markdown",
   "metadata": {},
   "source": [
    "Once the learning rate is determined, we can train the last layer for one epoch (momentum is chosen as suggested in the ULMFiT paper):"
   ]
  },
  {
   "cell_type": "code",
   "execution_count": 30,
   "metadata": {},
   "outputs": [
    {
     "data": {
      "text/html": [
       "<table border=\"1\" class=\"dataframe\">\n",
       "  <thead>\n",
       "    <tr style=\"text-align: left;\">\n",
       "      <th>epoch</th>\n",
       "      <th>train_loss</th>\n",
       "      <th>valid_loss</th>\n",
       "      <th>accuracy</th>\n",
       "      <th>time</th>\n",
       "    </tr>\n",
       "  </thead>\n",
       "  <tbody>\n",
       "    <tr>\n",
       "      <td>0</td>\n",
       "      <td>5.011518</td>\n",
       "      <td>4.096539</td>\n",
       "      <td>0.243279</td>\n",
       "      <td>00:07</td>\n",
       "    </tr>\n",
       "  </tbody>\n",
       "</table>"
      ],
      "text/plain": [
       "<IPython.core.display.HTML object>"
      ]
     },
     "metadata": {},
     "output_type": "display_data"
    }
   ],
   "source": [
    "learn_lm.fit_one_cycle(1, slice(3e-2), wd = 1e-5, moms = (0.8, 0.7))  "
   ]
  },
  {
   "cell_type": "markdown",
   "metadata": {},
   "source": [
    "Now we can unfreeze the whole architecture and train a little longer:"
   ]
  },
  {
   "cell_type": "code",
   "execution_count": 31,
   "metadata": {},
   "outputs": [],
   "source": [
    "learn_lm.unfreeze()"
   ]
  },
  {
   "cell_type": "code",
   "execution_count": 32,
   "metadata": {},
   "outputs": [
    {
     "data": {
      "text/html": [],
      "text/plain": [
       "<IPython.core.display.HTML object>"
      ]
     },
     "metadata": {},
     "output_type": "display_data"
    },
    {
     "name": "stdout",
     "output_type": "stream",
     "text": [
      "LR Finder is complete, type {learner_name}.recorder.plot() to see the graph.\n",
      "Min numerical gradient: 1.58E-06\n"
     ]
    },
    {
     "data": {
      "image/png": "[encoded data removed]",
      "text/plain": [
       "<Figure size 432x288 with 1 Axes>"
      ]
     },
     "metadata": {},
     "output_type": "display_data"
    }
   ],
   "source": [
    "learn_lm.lr_find()\n",
    "learn_lm.recorder.plot(suggestion = True)"
   ]
  },
  {
   "cell_type": "markdown",
   "metadata": {},
   "source": [
    "The ratio 2.6 between learning rates of the four different layers is chosen as suggested by the ULMFiT paper:"
   ]
  },
  {
   "cell_type": "code",
   "execution_count": 33,
   "metadata": {},
   "outputs": [
    {
     "data": {
      "text/html": [
       "<table border=\"1\" class=\"dataframe\">\n",
       "  <thead>\n",
       "    <tr style=\"text-align: left;\">\n",
       "      <th>epoch</th>\n",
       "      <th>train_loss</th>\n",
       "      <th>valid_loss</th>\n",
       "      <th>accuracy</th>\n",
       "      <th>time</th>\n",
       "    </tr>\n",
       "  </thead>\n",
       "  <tbody>\n",
       "    <tr>\n",
       "      <td>0</td>\n",
       "      <td>4.409779</td>\n",
       "      <td>3.970571</td>\n",
       "      <td>0.258805</td>\n",
       "      <td>00:09</td>\n",
       "    </tr>\n",
       "    <tr>\n",
       "      <td>1</td>\n",
       "      <td>4.233493</td>\n",
       "      <td>3.839709</td>\n",
       "      <td>0.271007</td>\n",
       "      <td>00:09</td>\n",
       "    </tr>\n",
       "    <tr>\n",
       "      <td>2</td>\n",
       "      <td>4.059652</td>\n",
       "      <td>3.745497</td>\n",
       "      <td>0.280332</td>\n",
       "      <td>00:09</td>\n",
       "    </tr>\n",
       "    <tr>\n",
       "      <td>3</td>\n",
       "      <td>3.884140</td>\n",
       "      <td>3.682714</td>\n",
       "      <td>0.286334</td>\n",
       "      <td>00:09</td>\n",
       "    </tr>\n",
       "    <tr>\n",
       "      <td>4</td>\n",
       "      <td>3.736500</td>\n",
       "      <td>3.647983</td>\n",
       "      <td>0.293824</td>\n",
       "      <td>00:09</td>\n",
       "    </tr>\n",
       "    <tr>\n",
       "      <td>5</td>\n",
       "      <td>3.614657</td>\n",
       "      <td>3.626409</td>\n",
       "      <td>0.295883</td>\n",
       "      <td>00:09</td>\n",
       "    </tr>\n",
       "    <tr>\n",
       "      <td>6</td>\n",
       "      <td>3.499692</td>\n",
       "      <td>3.615539</td>\n",
       "      <td>0.299082</td>\n",
       "      <td>00:09</td>\n",
       "    </tr>\n",
       "    <tr>\n",
       "      <td>7</td>\n",
       "      <td>3.402600</td>\n",
       "      <td>3.617137</td>\n",
       "      <td>0.298562</td>\n",
       "      <td>00:09</td>\n",
       "    </tr>\n",
       "    <tr>\n",
       "      <td>8</td>\n",
       "      <td>3.337576</td>\n",
       "      <td>3.618863</td>\n",
       "      <td>0.299802</td>\n",
       "      <td>00:09</td>\n",
       "    </tr>\n",
       "    <tr>\n",
       "      <td>9</td>\n",
       "      <td>3.304339</td>\n",
       "      <td>3.618863</td>\n",
       "      <td>0.299107</td>\n",
       "      <td>00:09</td>\n",
       "    </tr>\n",
       "  </tbody>\n",
       "</table>"
      ],
      "text/plain": [
       "<IPython.core.display.HTML object>"
      ]
     },
     "metadata": {},
     "output_type": "display_data"
    }
   ],
   "source": [
    "learn_lm.fit_one_cycle(10, slice(1e-2/(2.6**4), 1e-2), wd = 1e-5, moms = (0.8,0.7)) "
   ]
  },
  {
   "cell_type": "markdown",
   "metadata": {},
   "source": [
    "We see that we can easily reach 30% accuracy on the task of predicting the next word (or token) in a tweet. Although 30% may not seem like a big number, it is actually a very good result for a task as complex as predicting the next word, which is very hard even for humans.\n",
    "\n",
    "It is however still possible that our 30% accuracy may be due to a particularly lucky random choice of validation set. To show that this is not the case, let us train the same model using a ten-fold cross validation:"
   ]
  },
  {
   "cell_type": "code",
   "execution_count": 34,
   "metadata": {},
   "outputs": [
    {
     "data": {
      "text/html": [
       "<table border=\"1\" class=\"dataframe\">\n",
       "  <thead>\n",
       "    <tr style=\"text-align: left;\">\n",
       "      <th>epoch</th>\n",
       "      <th>train_loss</th>\n",
       "      <th>valid_loss</th>\n",
       "      <th>accuracy</th>\n",
       "      <th>time</th>\n",
       "    </tr>\n",
       "  </thead>\n",
       "  <tbody>\n",
       "    <tr>\n",
       "      <td>0</td>\n",
       "      <td>5.020207</td>\n",
       "      <td>4.158767</td>\n",
       "      <td>0.240551</td>\n",
       "      <td>00:07</td>\n",
       "    </tr>\n",
       "  </tbody>\n",
       "</table>"
      ],
      "text/plain": [
       "<IPython.core.display.HTML object>"
      ]
     },
     "metadata": {},
     "output_type": "display_data"
    },
    {
     "data": {
      "text/html": [
       "\n",
       "    <div>\n",
       "        <style>\n",
       "            /* Turns off some styling */\n",
       "            progress {\n",
       "                /* gets rid of default border in Firefox and Opera. */\n",
       "                border: none;\n",
       "                /* Needs to be in here for Safari polyfill so background images work as expected. */\n",
       "                background-size: auto;\n",
       "            }\n",
       "            .progress-bar-interrupted, .progress-bar-interrupted::-webkit-progress-bar {\n",
       "                background: #F44336;\n",
       "            }\n",
       "        </style>\n",
       "      <progress value='9' class='' max='10', style='width:300px; height:20px; vertical-align: middle;'></progress>\n",
       "      90.00% [9/10 01:25<00:09]\n",
       "    </div>\n",
       "    \n",
       "<table border=\"1\" class=\"dataframe\">\n",
       "  <thead>\n",
       "    <tr style=\"text-align: left;\">\n",
       "      <th>epoch</th>\n",
       "      <th>train_loss</th>\n",
       "      <th>valid_loss</th>\n",
       "      <th>accuracy</th>\n",
       "      <th>time</th>\n",
       "    </tr>\n",
       "  </thead>\n",
       "  <tbody>\n",
       "    <tr>\n",
       "      <td>0</td>\n",
       "      <td>4.409891</td>\n",
       "      <td>4.032531</td>\n",
       "      <td>0.254191</td>\n",
       "      <td>00:09</td>\n",
       "    </tr>\n",
       "    <tr>\n",
       "      <td>1</td>\n",
       "      <td>4.228420</td>\n",
       "      <td>3.883692</td>\n",
       "      <td>0.270858</td>\n",
       "      <td>00:09</td>\n",
       "    </tr>\n",
       "    <tr>\n",
       "      <td>2</td>\n",
       "      <td>4.044726</td>\n",
       "      <td>3.784932</td>\n",
       "      <td>0.277976</td>\n",
       "      <td>00:09</td>\n",
       "    </tr>\n",
       "    <tr>\n",
       "      <td>3</td>\n",
       "      <td>3.876483</td>\n",
       "      <td>3.719932</td>\n",
       "      <td>0.285317</td>\n",
       "      <td>00:09</td>\n",
       "    </tr>\n",
       "    <tr>\n",
       "      <td>4</td>\n",
       "      <td>3.737428</td>\n",
       "      <td>3.689532</td>\n",
       "      <td>0.287054</td>\n",
       "      <td>00:09</td>\n",
       "    </tr>\n",
       "    <tr>\n",
       "      <td>5</td>\n",
       "      <td>3.600636</td>\n",
       "      <td>3.667767</td>\n",
       "      <td>0.291642</td>\n",
       "      <td>00:09</td>\n",
       "    </tr>\n",
       "    <tr>\n",
       "      <td>6</td>\n",
       "      <td>3.491460</td>\n",
       "      <td>3.658186</td>\n",
       "      <td>0.293725</td>\n",
       "      <td>00:09</td>\n",
       "    </tr>\n",
       "    <tr>\n",
       "      <td>7</td>\n",
       "      <td>3.399613</td>\n",
       "      <td>3.655804</td>\n",
       "      <td>0.296007</td>\n",
       "      <td>00:09</td>\n",
       "    </tr>\n",
       "    <tr>\n",
       "      <td>8</td>\n",
       "      <td>3.336157</td>\n",
       "      <td>3.657502</td>\n",
       "      <td>0.296528</td>\n",
       "      <td>00:09</td>\n",
       "    </tr>\n",
       "  </tbody>\n",
       "</table><p>\n",
       "\n",
       "    <div>\n",
       "        <style>\n",
       "            /* Turns off some styling */\n",
       "            progress {\n",
       "                /* gets rid of default border in Firefox and Opera. */\n",
       "                border: none;\n",
       "                /* Needs to be in here for Safari polyfill so background images work as expected. */\n",
       "                background-size: auto;\n",
       "            }\n",
       "            .progress-bar-interrupted, .progress-bar-interrupted::-webkit-progress-bar {\n",
       "                background: #F44336;\n",
       "            }\n",
       "        </style>\n",
       "      <progress value='1' class='' max='72', style='width:300px; height:20px; vertical-align: middle;'></progress>\n",
       "      1.39% [1/72 00:00<00:09 3.3366]\n",
       "    </div>\n",
       "    "
      ],
      "text/plain": [
       "<IPython.core.display.HTML object>"
      ]
     },
     "metadata": {},
     "output_type": "display_data"
    }
   ],
   "source": [
    "from sklearn.model_selection import KFold\n",
    "\n",
    "split = KFold(n_splits = 10, shuffle = True)\n",
    "\n",
    "val_losses = []\n",
    "accuracies = []\n",
    "\n",
    "for train_idx, valid_idx in split.split(df['text'], df['airline_sentiment'].values):\n",
    "    df_train = df.iloc[train_idx]\n",
    "    df_valid = df.iloc[valid_idx]\n",
    "    \n",
    "    data_lm = TextLMDataBunch.from_df(path = path, train_df = df_train, valid_df = df_valid, \n",
    "                                   text_cols = 'text', label_cols = 'airline_sentiment', max_vocab = 60000, min_freq = 2)\n",
    "    \n",
    "    learn_lm = language_model_learner(data_lm, AWD_LSTM, drop_mult = 1.0, model_dir = '/tmp/models')\n",
    "    \n",
    "    learn_lm.fit_one_cycle(1, slice(3e-2), wd = 1e-5, moms = (0.8, 0.7))  \n",
    "    \n",
    "    learn_lm.unfreeze()\n",
    "    \n",
    "    learn_lm.fit_one_cycle(10, slice(1e-2/(2.6**4), 1e-2), wd = 1e-5, moms=(0.8,0.7))    # it was 6 earlier\n",
    "    \n",
    "    val_losses.append(round(learn_lm.recorder.val_losses[-1] ,6))\n",
    "    accuracies.append(round(learn_lm.recorder.metrics[-1][0].item() ,6))"
   ]
  },
  {
   "cell_type": "markdown",
   "metadata": {},
   "source": [
    "The mean accuracy is very near 30% with a small standard deviation and also the validation loss is stable across the validation folds. We can therefore conclude that our language model can get an accuracy of around 30% in a quite robust way."
   ]
  },
  {
   "cell_type": "code",
   "execution_count": 35,
   "metadata": {},
   "outputs": [
    {
     "name": "stdout",
     "output_type": "stream",
     "text": [
      "Accuracies: [0.297712, 0.299219, 0.30119, 0.298735, 0.296181, 0.30067, 0.295396, 0.301959, 0.293862, 0.301395]\n",
      "Accuracies mean: 0.298632\n",
      "Accuracies standard deviation: 0.002643\n",
      "\n",
      "Validation losses: [3.65917, 3.625146, 3.624174, 3.648218, 3.658716, 3.622477, 3.670131, 3.617164, 3.68, 3.616764]\n",
      "Validation losses mean: 3.642196\n",
      "Validation losses standard deviation: 0.022549\n"
     ]
    }
   ],
   "source": [
    "print('Accuracies:', accuracies)\n",
    "print('Accuracies mean:', np.array(accuracies).mean().round(6))\n",
    "print('Accuracies standard deviation:', np.array(accuracies).std().round(6))\n",
    "print()\n",
    "print('Validation losses:', val_losses)\n",
    "print('Validation losses mean:', np.array(val_losses).mean().round(6))\n",
    "print('Validation losses standard deviation:', np.array(val_losses).std().round(6))"
   ]
  },
  {
   "cell_type": "markdown",
   "metadata": {},
   "source": [
    "From the practical point of view however we would like to train the language model with as much data as possible. Let us therefore train our final language model on all but a few tweets:"
   ]
  },
  {
   "cell_type": "code",
   "execution_count": 36,
   "metadata": {},
   "outputs": [],
   "source": [
    "data_lm = TextLMDataBunch.from_csv(path, 'Tweets.csv', valid_pct = 2/14640, \n",
    "                                   text_cols = 'text', label_cols = 'airline_sentiment', max_vocab = 60000, min_freq = 2)"
   ]
  },
  {
   "cell_type": "markdown",
   "metadata": {},
   "source": [
    "The validation accuracy in this case is quite smaller, but this is most likely due to having particularly hard tweets in our small validation set:"
   ]
  },
  {
   "cell_type": "code",
   "execution_count": 37,
   "metadata": {},
   "outputs": [
    {
     "data": {
      "text/html": [
       "<table border=\"1\" class=\"dataframe\">\n",
       "  <thead>\n",
       "    <tr style=\"text-align: left;\">\n",
       "      <th>epoch</th>\n",
       "      <th>train_loss</th>\n",
       "      <th>valid_loss</th>\n",
       "      <th>accuracy</th>\n",
       "      <th>time</th>\n",
       "    </tr>\n",
       "  </thead>\n",
       "  <tbody>\n",
       "    <tr>\n",
       "      <td>0</td>\n",
       "      <td>4.973508</td>\n",
       "      <td>4.154365</td>\n",
       "      <td>0.236830</td>\n",
       "      <td>00:08</td>\n",
       "    </tr>\n",
       "  </tbody>\n",
       "</table>"
      ],
      "text/plain": [
       "<IPython.core.display.HTML object>"
      ]
     },
     "metadata": {},
     "output_type": "display_data"
    },
    {
     "data": {
      "text/html": [
       "<table border=\"1\" class=\"dataframe\">\n",
       "  <thead>\n",
       "    <tr style=\"text-align: left;\">\n",
       "      <th>epoch</th>\n",
       "      <th>train_loss</th>\n",
       "      <th>valid_loss</th>\n",
       "      <th>accuracy</th>\n",
       "      <th>time</th>\n",
       "    </tr>\n",
       "  </thead>\n",
       "  <tbody>\n",
       "    <tr>\n",
       "      <td>0</td>\n",
       "      <td>4.386275</td>\n",
       "      <td>4.015710</td>\n",
       "      <td>0.245536</td>\n",
       "      <td>00:10</td>\n",
       "    </tr>\n",
       "    <tr>\n",
       "      <td>1</td>\n",
       "      <td>4.218118</td>\n",
       "      <td>3.917020</td>\n",
       "      <td>0.272545</td>\n",
       "      <td>00:10</td>\n",
       "    </tr>\n",
       "    <tr>\n",
       "      <td>2</td>\n",
       "      <td>4.035898</td>\n",
       "      <td>3.789391</td>\n",
       "      <td>0.291518</td>\n",
       "      <td>00:10</td>\n",
       "    </tr>\n",
       "    <tr>\n",
       "      <td>3</td>\n",
       "      <td>3.870740</td>\n",
       "      <td>3.753504</td>\n",
       "      <td>0.302679</td>\n",
       "      <td>00:10</td>\n",
       "    </tr>\n",
       "    <tr>\n",
       "      <td>4</td>\n",
       "      <td>3.720837</td>\n",
       "      <td>3.776610</td>\n",
       "      <td>0.260714</td>\n",
       "      <td>00:10</td>\n",
       "    </tr>\n",
       "    <tr>\n",
       "      <td>5</td>\n",
       "      <td>3.585208</td>\n",
       "      <td>3.751255</td>\n",
       "      <td>0.257812</td>\n",
       "      <td>00:10</td>\n",
       "    </tr>\n",
       "    <tr>\n",
       "      <td>6</td>\n",
       "      <td>3.482366</td>\n",
       "      <td>3.756847</td>\n",
       "      <td>0.270089</td>\n",
       "      <td>00:10</td>\n",
       "    </tr>\n",
       "    <tr>\n",
       "      <td>7</td>\n",
       "      <td>3.394685</td>\n",
       "      <td>3.753621</td>\n",
       "      <td>0.261830</td>\n",
       "      <td>00:10</td>\n",
       "    </tr>\n",
       "    <tr>\n",
       "      <td>8</td>\n",
       "      <td>3.323092</td>\n",
       "      <td>3.734677</td>\n",
       "      <td>0.251339</td>\n",
       "      <td>00:10</td>\n",
       "    </tr>\n",
       "    <tr>\n",
       "      <td>9</td>\n",
       "      <td>3.284602</td>\n",
       "      <td>3.741892</td>\n",
       "      <td>0.250893</td>\n",
       "      <td>00:10</td>\n",
       "    </tr>\n",
       "  </tbody>\n",
       "</table>"
      ],
      "text/plain": [
       "<IPython.core.display.HTML object>"
      ]
     },
     "metadata": {},
     "output_type": "display_data"
    }
   ],
   "source": [
    "learn_lm = language_model_learner(data_lm, AWD_LSTM, drop_mult = 1.0, model_dir = '/tmp/models')\n",
    "\n",
    "learn_lm.fit_one_cycle(1, slice(3e-2), wd = 1e-5, moms = (0.8, 0.7))\n",
    "learn_lm.unfreeze()\n",
    "learn_lm.fit_one_cycle(10, slice(1e-2/(2.6**4), 1e-2), wd = 1e-5, moms = (0.8,0.7)) "
   ]
  },
  {
   "cell_type": "markdown",
   "metadata": {},
   "source": [
    "Indeed many words in our three validation tweets are unknown and we also have the presence of a website:"
   ]
  },
  {
   "cell_type": "code",
   "execution_count": 38,
   "metadata": {},
   "outputs": [
    {
     "name": "stdout",
     "output_type": "stream",
     "text": [
      "xxbos @americanair your a xxup xxunk , no precipitation all day , 47 degrees , do n't xxunk , you look like a xxunk xxrep 7 . that s the problem , admit you suck\n",
      "\n",
      "xxbos @united boarding time shows 35 min and your gate agent started at 45 . showed up at xxunk and they had to check bag . http : / / t.co / xxunk\n",
      "\n",
      "xxbos @americanair xxmaj thanks ! xxmaj xxunk , disconnected ! xxmaj let 's try this again ! !\n",
      "\n"
     ]
    }
   ],
   "source": [
    "for i in range(len(data_lm.valid_ds)):\n",
    "    print(data_lm.valid_ds.x[i])\n",
    "    print()"
   ]
  },
  {
   "cell_type": "markdown",
   "metadata": {},
   "source": [
    "This however will not affect the quality of our language model fine-tuned on the tweets dataset. Indeed we can use this model to predict the next three words of a tweet starting as \"@united how do\":"
   ]
  },
  {
   "cell_type": "code",
   "execution_count": 39,
   "metadata": {},
   "outputs": [
    {
     "name": "stdout",
     "output_type": "stream",
     "text": [
      "@united how do i try your\n"
     ]
    }
   ],
   "source": [
    "text = \"@united how do\"\n",
    "for i in range(3):\n",
    "    text = learn_lm.predict(text)\n",
    "print(text)"
   ]
  },
  {
   "cell_type": "markdown",
   "metadata": {},
   "source": [
    "The predictions may not be our first guess, but they are quite reasonable: for example we get a standard subject + verb + object structure.\n",
    "\n",
    "We can now save both the language model and its encoder, which will be used for constructing the classifier model:"
   ]
  },
  {
   "cell_type": "code",
   "execution_count": 40,
   "metadata": {},
   "outputs": [],
   "source": [
    "learn_lm.save('/kaggle/working/fine_tuned_lm')\n",
    "learn_lm.save_encoder('/kaggle/working/fine_tuned_enc')"
   ]
  },
  {
   "cell_type": "markdown",
   "metadata": {},
   "source": [
    "### Step 3: create a Classifier Model \n",
    "\n",
    "Now that we have a good language model fine-tuned on our Twitter US Airlines Sentiment dataset, we should construct a classifier model which can predict the sentiment of a tweet based solely on its text content.\n",
    "\n",
    "Before starting to construct the model we should first address the problem of reasonably splitting our data into a training and validation set, since there is no given validation set. We already saw that the sentiment distribution is imbalanced, since there are three times more negative than neutral/positive tweets: we should therefore at least ensure all three sentiments are represented both in the training and the validation sets (otherwise we may have only negative tweets in the training set if we were to use a naive random split, which would make almost impossible to have good performance on other sentiments).   \n",
    "We believe keeping the same number of negative, neutral and positive tweets in the training set will be the best course of action, since in this way the model will be more likely to be exposed to around the same number of words that are inherently negative, positive or without any particular sentiment. We therefore choose a train set of 2100 x 3 = 6300 tweets equally distributed among the three sentiments (2100 leaves 263 positive tweets, i.e. ~ 10% of all positive tweets, for validation).  \n",
    "We also choose to stratify the 2100 training negative tweets according to the negative reason feature, in such a way to let the model be exposed to as many different words related to negative sentiments as possible. We cannot do the same for neutral and positive tweets since we do not have an analogue information, so we decide instead to stratify them according to the airline companies: this is because different companies may be better in some specific sector, but it also possible that stratifying in this way may not be that important.\n",
    "\n",
    "For what the validation set is concerned, we decided to construct two of them. The first one, which we will refer to as test set, simply consists of all the remaining 14640 - 6300 = 8340 tweets which are not in the training set and will be used to evaluate the final performance of the classifier. The second one, which we call validation set, instead consists of 263 x 3 (i.e. 263 per sentiment) = 789 tweets not in the training set, but still stratified as we did for the training instances. This will be used as validation set to be fed to the `TextClasDataBunch` object and to evaluate the classifier model during training.  \n",
    "We do so because accuracy (which is used as evaluation metric during training) would be completely meaningless if we were to use the whole 8340 remaining tweets, since around 85% of them will be negative and simply predicting all tweets to be negative would give a high accuracy: on the other hand, keeping the same number of negative, neutral and positive tweets in the validation set used during training will give more meaning to the accuracy.\n",
    "\n",
    "Let us therefore construct training, validation and test dataframes as just described:"
   ]
  },
  {
   "cell_type": "code",
   "execution_count": 41,
   "metadata": {},
   "outputs": [
    {
     "name": "stdout",
     "output_type": "stream",
     "text": [
      "Number of training instances:   6300\n",
      "Number of validation instances:  789\n",
      "Number of test instances:  8340\n"
     ]
    }
   ],
   "source": [
    "# Separate indices of negative, neutral, positive tweets\n",
    "\n",
    "idx_neg = df[df['airline_sentiment'].values == 'negative'].index\n",
    "idx_neu = df[df['airline_sentiment'].values == 'neutral'].index\n",
    "idx_pos = df[df['airline_sentiment'].values == 'positive'].index\n",
    "\n",
    "# Stratify train and validation set according to 'negativereason' or 'airline' (for neutral and positive tweets)\n",
    "\n",
    "from sklearn.model_selection import StratifiedShuffleSplit\n",
    "\n",
    "split_neg = StratifiedShuffleSplit(n_splits = 1, train_size = 2100, test_size = 263)\n",
    "split_neu = StratifiedShuffleSplit(n_splits = 1, train_size = 2100, test_size = 263)\n",
    "split_pos = StratifiedShuffleSplit(n_splits = 1, train_size = 2100, test_size = 263)\n",
    "\n",
    "for train_idx, valid_idx in split_neg.split(df['negativereason'].loc[idx_neg], df['negativereason'].loc[idx_neg]):\n",
    "    train_idx_neg = (np.array(idx_neg)[train_idx]).tolist()\n",
    "    valid_idx_neg = (np.array(idx_neg)[valid_idx]).tolist()\n",
    "    test_idx_neg = [idx for idx in idx_neg if idx not in train_idx_neg]    # test set: all tweets not in training set\n",
    "    \n",
    "for train_idx, valid_idx in split_neu.split(df['airline'].loc[idx_neu], df['airline'].loc[idx_neu]):\n",
    "    train_idx_neu = (np.array(idx_neu)[train_idx]).tolist()\n",
    "    valid_idx_neu = (np.array(idx_neu)[valid_idx]).tolist()\n",
    "    test_idx_neu = [idx for idx in idx_neu if idx not in train_idx_neu]\n",
    "    \n",
    "for train_idx, valid_idx in split_pos.split(df['airline'].loc[idx_pos], df['airline'].loc[idx_pos]):\n",
    "    train_idx_pos = (np.array(idx_pos)[train_idx]).tolist()\n",
    "    valid_idx_pos = (np.array(idx_pos)[valid_idx]).tolist()\n",
    "    test_idx_pos = [idx for idx in idx_pos if idx not in train_idx_pos]\n",
    "    \n",
    "df_train = df.loc[train_idx_neg + train_idx_neu + train_idx_pos].sample(frac = 1)\n",
    "df_valid = df.loc[valid_idx_neg + valid_idx_neu + valid_idx_pos].sample(frac = 1)\n",
    "df_test = df.loc[test_idx_neg + test_idx_neu + test_idx_pos].sample(frac = 1)\n",
    "\n",
    "print(\"Number of training instances:  \", len(df_train))\n",
    "print(\"Number of validation instances: \", len(df_valid))\n",
    "print(\"Number of test instances: \", len(df_test))"
   ]
  },
  {
   "cell_type": "markdown",
   "metadata": {},
   "source": [
    "The tweets are now divided as follows:"
   ]
  },
  {
   "cell_type": "code",
   "execution_count": 42,
   "metadata": {},
   "outputs": [
    {
     "name": "stdout",
     "output_type": "stream",
     "text": [
      "Full dataset:\n",
      "\n",
      "negative    9178\n",
      "neutral     3099\n",
      "positive    2363\n",
      "Name: airline_sentiment, dtype: int64\n",
      "\n",
      "Training dataset:\n",
      "\n",
      "positive    2100\n",
      "negative    2100\n",
      "neutral     2100\n",
      "Name: airline_sentiment, dtype: int64\n",
      "\n",
      "Validation dataset:\n",
      "\n",
      "negative    263\n",
      "neutral     263\n",
      "positive    263\n",
      "Name: airline_sentiment, dtype: int64\n",
      "\n",
      "Test dataset:\n",
      "\n",
      "negative    7078\n",
      "neutral      999\n",
      "positive     263\n",
      "Name: airline_sentiment, dtype: int64\n"
     ]
    }
   ],
   "source": [
    "print('Full dataset:')\n",
    "print()\n",
    "print(df['airline_sentiment'].value_counts())\n",
    "print()\n",
    "\n",
    "print('Training dataset:')\n",
    "print()\n",
    "print(df_train['airline_sentiment'].value_counts())\n",
    "print()\n",
    "\n",
    "print('Validation dataset:')\n",
    "print()\n",
    "print(df_valid['airline_sentiment'].value_counts())\n",
    "print()\n",
    "\n",
    "print('Test dataset:')\n",
    "print()\n",
    "print(df_test['airline_sentiment'].value_counts())"
   ]
  },
  {
   "cell_type": "markdown",
   "metadata": {},
   "source": [
    "Positive and neutral tweets have been stratified based on airline companies as we requested:"
   ]
  },
  {
   "cell_type": "code",
   "execution_count": 43,
   "metadata": {},
   "outputs": [
    {
     "name": "stdout",
     "output_type": "stream",
     "text": [
      "Full dataset:\n",
      "\n",
      "Southwest         0.241219\n",
      "Delta             0.230216\n",
      "United            0.208210\n",
      "American          0.142192\n",
      "US Airways        0.113838\n",
      "Virgin America    0.064325\n",
      "Name: airline, dtype: float64\n",
      "\n",
      "Training dataset:\n",
      "\n",
      "Southwest         0.241429\n",
      "Delta             0.230000\n",
      "United            0.208095\n",
      "American          0.142381\n",
      "US Airways        0.113810\n",
      "Virgin America    0.064286\n",
      "Name: airline, dtype: float64\n",
      "\n",
      "Validation dataset:\n",
      "\n",
      "Southwest         0.239544\n",
      "Delta             0.231939\n",
      "United            0.209125\n",
      "American          0.140684\n",
      "US Airways        0.114068\n",
      "Virgin America    0.064639\n",
      "Name: airline, dtype: float64\n",
      "\n",
      "Test dataset:\n",
      "\n",
      "Southwest         0.239544\n",
      "Delta             0.231939\n",
      "United            0.209125\n",
      "American          0.140684\n",
      "US Airways        0.114068\n",
      "Virgin America    0.064639\n",
      "Name: airline, dtype: float64\n"
     ]
    }
   ],
   "source": [
    "# Positive tweets\n",
    "\n",
    "print('Full dataset:')\n",
    "print()\n",
    "print(df[df['airline_sentiment'] == 'positive']['airline'].value_counts(normalize = True))\n",
    "print()\n",
    "\n",
    "print('Training dataset:')\n",
    "print()\n",
    "print(df_train[df_train['airline_sentiment'] == 'positive']['airline'].value_counts(normalize = True))\n",
    "print()\n",
    "\n",
    "print('Validation dataset:')\n",
    "print()\n",
    "print(df_valid[df_valid['airline_sentiment'] == 'positive']['airline'].value_counts(normalize = True))\n",
    "print()\n",
    "\n",
    "print('Test dataset:')\n",
    "print()\n",
    "print(df_test[df_test['airline_sentiment'] == 'positive']['airline'].value_counts(normalize = True))"
   ]
  },
  {
   "cell_type": "code",
   "execution_count": 44,
   "metadata": {},
   "outputs": [
    {
     "name": "stdout",
     "output_type": "stream",
     "text": [
      "Full dataset:\n",
      "\n",
      "Delta             0.233301\n",
      "United            0.224911\n",
      "Southwest         0.214263\n",
      "American          0.149403\n",
      "US Airways        0.122943\n",
      "Virgin America    0.055179\n",
      "Name: airline, dtype: float64\n",
      "\n",
      "Training dataset:\n",
      "\n",
      "Delta             0.233333\n",
      "United            0.224762\n",
      "Southwest         0.214286\n",
      "American          0.149524\n",
      "US Airways        0.122857\n",
      "Virgin America    0.055238\n",
      "Name: airline, dtype: float64\n",
      "\n",
      "Validation dataset:\n",
      "\n",
      "Delta             0.231939\n",
      "United            0.224335\n",
      "Southwest         0.212928\n",
      "American          0.148289\n",
      "US Airways        0.125475\n",
      "Virgin America    0.057034\n",
      "Name: airline, dtype: float64\n",
      "\n",
      "Test dataset:\n",
      "\n",
      "Delta             0.233233\n",
      "United            0.225225\n",
      "Southwest         0.214214\n",
      "American          0.149149\n",
      "US Airways        0.123123\n",
      "Virgin America    0.055055\n",
      "Name: airline, dtype: float64\n"
     ]
    }
   ],
   "source": [
    "# Neutral tweets\n",
    "\n",
    "print('Full dataset:')\n",
    "print()\n",
    "print(df[df['airline_sentiment'] == 'neutral']['airline'].value_counts(normalize = True))\n",
    "print()\n",
    "\n",
    "print('Training dataset:')\n",
    "print()\n",
    "print(df_train[df_train['airline_sentiment'] == 'neutral']['airline'].value_counts(normalize = True))\n",
    "print()\n",
    "\n",
    "print('Validation dataset:')\n",
    "print()\n",
    "print(df_valid[df_valid['airline_sentiment'] == 'neutral']['airline'].value_counts(normalize = True))\n",
    "print()\n",
    "\n",
    "print('Test dataset:')\n",
    "print()\n",
    "print(df_test[df_test['airline_sentiment'] == 'neutral']['airline'].value_counts(normalize = True))"
   ]
  },
  {
   "cell_type": "markdown",
   "metadata": {},
   "source": [
    "Negative tweets have also been stratified according to the negative reason as we requested:"
   ]
  },
  {
   "cell_type": "code",
   "execution_count": 45,
   "metadata": {},
   "outputs": [
    {
     "name": "stdout",
     "output_type": "stream",
     "text": [
      "Full dataset:\n",
      "\n",
      "Customer Service Issue         0.317063\n",
      "Late Flight                    0.181412\n",
      "Can't Tell                     0.129658\n",
      "Cancelled Flight               0.092286\n",
      "Lost Luggage                   0.078884\n",
      "Bad Flight                     0.063195\n",
      "Flight Booking Problems        0.057638\n",
      "Flight Attendant Complaints    0.052408\n",
      "longlines                      0.019394\n",
      "Damaged Luggage                0.008063\n",
      "Name: negativereason, dtype: float64\n",
      "\n",
      "Training dataset:\n",
      "\n",
      "Customer Service Issue         0.317143\n",
      "Late Flight                    0.181429\n",
      "Can't Tell                     0.129524\n",
      "Cancelled Flight               0.092381\n",
      "Lost Luggage                   0.078571\n",
      "Bad Flight                     0.063333\n",
      "Flight Booking Problems        0.057619\n",
      "Flight Attendant Complaints    0.052381\n",
      "longlines                      0.019524\n",
      "Damaged Luggage                0.008095\n",
      "Name: negativereason, dtype: float64\n",
      "\n",
      "Validation dataset:\n",
      "\n",
      "Customer Service Issue         0.315589\n",
      "Late Flight                    0.182510\n",
      "Can't Tell                     0.129278\n",
      "Cancelled Flight               0.091255\n",
      "Lost Luggage                   0.079848\n",
      "Bad Flight                     0.064639\n",
      "Flight Booking Problems        0.057034\n",
      "Flight Attendant Complaints    0.053232\n",
      "longlines                      0.019011\n",
      "Damaged Luggage                0.007605\n",
      "Name: negativereason, dtype: float64\n",
      "\n",
      "Test dataset:\n",
      "\n",
      "Customer Service Issue         0.317039\n",
      "Late Flight                    0.181407\n",
      "Can't Tell                     0.129698\n",
      "Cancelled Flight               0.092258\n",
      "Lost Luggage                   0.078977\n",
      "Bad Flight                     0.063153\n",
      "Flight Booking Problems        0.057643\n",
      "Flight Attendant Complaints    0.052416\n",
      "longlines                      0.019356\n",
      "Damaged Luggage                0.008053\n",
      "Name: negativereason, dtype: float64\n"
     ]
    }
   ],
   "source": [
    "# Negative tweets\n",
    "\n",
    "print('Full dataset:')\n",
    "print()\n",
    "print(df[df['airline_sentiment'] == 'negative']['negativereason'].value_counts(normalize = True))\n",
    "print()\n",
    "\n",
    "print('Training dataset:')\n",
    "print()\n",
    "print(df_train[df_train['airline_sentiment'] == 'negative']['negativereason'].value_counts(normalize = True))\n",
    "print()\n",
    "\n",
    "print('Validation dataset:')\n",
    "print()\n",
    "print(df_valid[df_valid['airline_sentiment'] == 'negative']['negativereason'].value_counts(normalize = True))\n",
    "print()\n",
    "\n",
    "print('Test dataset:')\n",
    "print()\n",
    "print(df_test[df_test['airline_sentiment'] == 'negative']['negativereason'].value_counts(normalize = True))"
   ]
  },
  {
   "cell_type": "markdown",
   "metadata": {},
   "source": [
    "At this point we can define the TextDataBunch object for the classifier, with our stratified training and validation dataframes. We should also remember to import the vocabulary from the previously trained language model, which can be done by specifying the `vocab` option:"
   ]
  },
  {
   "cell_type": "code",
   "execution_count": 46,
   "metadata": {},
   "outputs": [],
   "source": [
    "data_clas = TextClasDataBunch.from_df(path = path, train_df = df_train, valid_df = df_valid, \n",
    "            text_cols = 'text', label_cols = 'airline_sentiment', vocab = data_lm.train_ds.vocab, bs = 256)"
   ]
  },
  {
   "cell_type": "markdown",
   "metadata": {},
   "source": [
    "Here are a few examples of preprocessed (tokenized) labeled tweets:"
   ]
  },
  {
   "cell_type": "code",
   "execution_count": 47,
   "metadata": {},
   "outputs": [
    {
     "data": {
      "text/html": [
       "<table border=\"1\" class=\"dataframe\">\n",
       "  <thead>\n",
       "    <tr style=\"text-align: right;\">\n",
       "      <th>text</th>\n",
       "      <th>target</th>\n",
       "    </tr>\n",
       "  </thead>\n",
       "  <tbody>\n",
       "    <tr>\n",
       "      <td>xxbos @united xxmaj hi have a question re future xxmaj flight xxmaj booking xxmaj problems . xxup dub - xxup jac 29 / 9 xxup jac - xxup lax 8 / 10 xxup lax - xxup dub 13 / 10 . i 'm * xxup g. xxmaj what is checked bag allowance for xxup jac - xxup lax ?</td>\n",
       "      <td>neutral</td>\n",
       "    </tr>\n",
       "    <tr>\n",
       "      <td>xxbos @united i xxup just xxup asked xxup my xxup boyfriend xxup to xxup prom xxup over xxup the xxup xxunk xxup on xxup flight 494 xxup he xxup said xxup yes xxrep 4 ! xxup best xxup day xxup ever ! ! ! xxup thank u xxup so xxup much xxrep 6 !</td>\n",
       "      <td>positive</td>\n",
       "    </tr>\n",
       "    <tr>\n",
       "      <td>xxbos @usairways xxup plans xxup changed ! xxup is xxup that xxup what u xxup call xxup not xxup bein xxup able 2 xxup park xxup on xxup time xxup planes w a 2 xxup hr xxup layover n b xxup able 2 xxup make xxup ur xxup connection ! # seriously</td>\n",
       "      <td>negative</td>\n",
       "    </tr>\n",
       "    <tr>\n",
       "      <td>xxbos @southwestair xxmaj the xxmaj fact xxmaj that u xxmaj see xxmaj black xxmaj history xxmaj month 12 xxmaj months a xxmaj year xxmaj is xxmaj xxunk ! xxmaj we xxup will xxup be xxmaj an xxmaj xxunk xxmaj base xxmaj for xxmaj corp. xxmaj like u xxmaj in xxmaj future !</td>\n",
       "      <td>positive</td>\n",
       "    </tr>\n",
       "    <tr>\n",
       "      <td>xxbos @usairways xxup fuk u xxup us xxup airways xxup with xxup yo xxup shitty xxup chicken xxup xxunk xxup sandwich xxup that xxup so xxup overpriced xxup and u xxup xxunk xxup make xxup me xxup wait xxup in a 6 xxup hr xxup layover xxup fuk u xxup and</td>\n",
       "      <td>negative</td>\n",
       "    </tr>\n",
       "    <tr>\n",
       "      <td>xxbos @americanair xxmaj hi . i have xxup koa - xxup lax - xxup phl - xxup ord booked as a 1-way xxunk xxunk . xxmaj if i called to chnge it to xxup koa - xxup lax - xxup phx - xxup ord would i have to pay any fees</td>\n",
       "      <td>neutral</td>\n",
       "    </tr>\n",
       "    <tr>\n",
       "      <td>xxbos @united xxmaj hi , i m flying xxup sfo - xxup lax - xxup xxunk - xxup xxunk . xxmaj my connecting time in xxup lax is xxunk m . xxmaj is it enough time ? xxmaj do i have to collect my bag and recheck on xxup xxunk ?</td>\n",
       "      <td>neutral</td>\n",
       "    </tr>\n",
       "    <tr>\n",
       "      <td>xxbos @usairways e xxrep 4 y ! xxmaj cancelled xxmaj flightlations , xxmaj flight xxmaj booking xxmaj problemss , reflight xxmaj booking xxmaj problemss , but y' all got me on the same flight out tonight ( not tomorrow ) &amp; &amp; the xxup fc upgrade . xxmaj thx !</td>\n",
       "      <td>positive</td>\n",
       "    </tr>\n",
       "    <tr>\n",
       "      <td>xxbos @virginamerica xxmaj many xxmaj thanks for the xxmaj follow . \\n  # ourprincess # freyasfund # xxup usa # xxmaj xxunk \\n  xxmaj looking for xxmaj any xxmaj help 😍 \\n  💗 🇬 🇧 💗 🇺 🇸 💗 \\n  🎀 🌏 🎀 http : / / t.co / xxunk</td>\n",
       "      <td>neutral</td>\n",
       "    </tr>\n",
       "    <tr>\n",
       "      <td>xxbos @usairways 4 segments , 4 / 4 delayed . xxmaj gnv &gt; xxup ctl . xxup ctl &gt; xxup jan . xxup jan &gt; xxup ctl . xxup ctl &gt; xxup gnv . xxmaj my year off from flying with you guys was the way to go .</td>\n",
       "      <td>negative</td>\n",
       "    </tr>\n",
       "  </tbody>\n",
       "</table>"
      ],
      "text/plain": [
       "<IPython.core.display.HTML object>"
      ]
     },
     "metadata": {},
     "output_type": "display_data"
    }
   ],
   "source": [
    "data_clas.show_batch(10)"
   ]
  },
  {
   "cell_type": "markdown",
   "metadata": {},
   "source": [
    "The ULMFiT classifier model is simply a slightly modified AWD-LSTM, with the same encoder we used for the fine-tuned language model but different output layers. The `text_classifier_learner` function can be used to create such classifier, to which we should feed the language model encoder weights computed earlier:"
   ]
  },
  {
   "cell_type": "code",
   "execution_count": 48,
   "metadata": {},
   "outputs": [],
   "source": [
    "learn_clas = text_classifier_learner(data_clas, AWD_LSTM, drop_mult = 0.5, model_dir = '/tmp/models')\n",
    "\n",
    "learn_clas.load_encoder('/kaggle/working/fine_tuned_enc')"
   ]
  },
  {
   "cell_type": "markdown",
   "metadata": {},
   "source": [
    "Looking at its structure, we can indeed see that the only difference from the previous AWD-LSTM for language model is in the last layers. Instead of the decoder mapping a 400-dimensional vector to a word in our vocabulary, we now concatenate the LSTM output at the last time step with both the max-pooled and the mean-pooled representation of the hidden states at previous time steps, thus producing a 1200-dimensional vector representation of our tweet; we then have two dense layers with 50 and 3 units respectively, which will give the three possible outputs negative, neutral, positive:"
   ]
  },
  {
   "cell_type": "code",
   "execution_count": 49,
   "metadata": {},
   "outputs": [
    {
     "data": {
      "text/plain": [
       "SequentialRNN(\n",
       "  (0): MultiBatchEncoder(\n",
       "    (module): AWD_LSTM(\n",
       "      (encoder): Embedding(6699, 400, padding_idx=1)\n",
       "      (encoder_dp): EmbeddingDropout(\n",
       "        (emb): Embedding(6699, 400, padding_idx=1)\n",
       "      )\n",
       "      (rnns): ModuleList(\n",
       "        (0): WeightDropout(\n",
       "          (module): LSTM(400, 1150, batch_first=True)\n",
       "        )\n",
       "        (1): WeightDropout(\n",
       "          (module): LSTM(1150, 1150, batch_first=True)\n",
       "        )\n",
       "        (2): WeightDropout(\n",
       "          (module): LSTM(1150, 400, batch_first=True)\n",
       "        )\n",
       "      )\n",
       "      (input_dp): RNNDropout()\n",
       "      (hidden_dps): ModuleList(\n",
       "        (0): RNNDropout()\n",
       "        (1): RNNDropout()\n",
       "        (2): RNNDropout()\n",
       "      )\n",
       "    )\n",
       "  )\n",
       "  (1): PoolingLinearClassifier(\n",
       "    (layers): Sequential(\n",
       "      (0): BatchNorm1d(1200, eps=1e-05, momentum=0.1, affine=True, track_running_stats=True)\n",
       "      (1): Dropout(p=0.2)\n",
       "      (2): Linear(in_features=1200, out_features=50, bias=True)\n",
       "      (3): ReLU(inplace)\n",
       "      (4): BatchNorm1d(50, eps=1e-05, momentum=0.1, affine=True, track_running_stats=True)\n",
       "      (5): Dropout(p=0.1)\n",
       "      (6): Linear(in_features=50, out_features=3, bias=True)\n",
       "    )\n",
       "  )\n",
       ")"
      ]
     },
     "execution_count": 49,
     "metadata": {},
     "output_type": "execute_result"
    }
   ],
   "source": [
    "learn_clas.model"
   ]
  },
  {
   "cell_type": "markdown",
   "metadata": {},
   "source": [
    "Random initialization of the last layers weights results in random predictions for the untrained model, as we can see from the confusion matrix:"
   ]
  },
  {
   "cell_type": "code",
   "execution_count": 50,
   "metadata": {},
   "outputs": [
    {
     "data": {
      "text/plain": [
       "array([[0.828897, 0.      , 0.171103],\n",
       "       [0.904943, 0.      , 0.095057],\n",
       "       [0.840304, 0.      , 0.159696]])"
      ]
     },
     "execution_count": 50,
     "metadata": {},
     "output_type": "execute_result"
    },
    {
     "data": {
      "image/png": "[encoded data removed]",
      "text/plain": [
       "<Figure size 432x288 with 1 Axes>"
      ]
     },
     "metadata": {},
     "output_type": "display_data"
    }
   ],
   "source": [
    "# Confusion matrix\n",
    "\n",
    "learn_clas.interpret().plot_confusion_matrix()\n",
    "\n",
    "# Normalized confusion matrix\n",
    "\n",
    "(learn_clas.interpret().confusion_matrix())/(np.sum(learn_clas.interpret().confusion_matrix(), axis = 1).reshape(-1,1))"
   ]
  },
  {
   "cell_type": "markdown",
   "metadata": {},
   "source": [
    "We should therefore train the classifier on our data. To this purpose, in addition to one-cycle policy and discriminative learning rates, the authors of the ULMFiT paper also recommend using **gradual unfreezing**: \n",
    "rather than unfreeze and train all layers at once, unfreezing and training layers one by one (starting from the output one) seems to help preventing the model forget information captured by the language model, thus resulting in a better classifier.   \n",
    "Keeping all but the last n layers frozen can be done in fastai via the `freexe_to(-n)` method.\n",
    "\n",
    "Let us start by unfreezing and training only the last layer:"
   ]
  },
  {
   "cell_type": "code",
   "execution_count": 51,
   "metadata": {},
   "outputs": [],
   "source": [
    "learn_clas.freeze_to(-1)"
   ]
  },
  {
   "cell_type": "code",
   "execution_count": 52,
   "metadata": {},
   "outputs": [
    {
     "data": {
      "text/html": [],
      "text/plain": [
       "<IPython.core.display.HTML object>"
      ]
     },
     "metadata": {},
     "output_type": "display_data"
    },
    {
     "name": "stdout",
     "output_type": "stream",
     "text": [
      "LR Finder is complete, type {learner_name}.recorder.plot() to see the graph.\n",
      "Min numerical gradient: 4.37E-03\n"
     ]
    },
    {
     "data": {
      "image/png": "[encoded data removed]",
      "text/plain": [
       "<Figure size 432x288 with 1 Axes>"
      ]
     },
     "metadata": {},
     "output_type": "display_data"
    }
   ],
   "source": [
    "learn_clas.lr_find()\n",
    "learn_clas.recorder.plot(suggestion = True)"
   ]
  },
  {
   "cell_type": "code",
   "execution_count": 53,
   "metadata": {},
   "outputs": [
    {
     "data": {
      "text/html": [
       "<table border=\"1\" class=\"dataframe\">\n",
       "  <thead>\n",
       "    <tr style=\"text-align: left;\">\n",
       "      <th>epoch</th>\n",
       "      <th>train_loss</th>\n",
       "      <th>valid_loss</th>\n",
       "      <th>accuracy</th>\n",
       "      <th>time</th>\n",
       "    </tr>\n",
       "  </thead>\n",
       "  <tbody>\n",
       "    <tr>\n",
       "      <td>0</td>\n",
       "      <td>0.730959</td>\n",
       "      <td>0.721738</td>\n",
       "      <td>0.747782</td>\n",
       "      <td>00:02</td>\n",
       "    </tr>\n",
       "  </tbody>\n",
       "</table>"
      ],
      "text/plain": [
       "<IPython.core.display.HTML object>"
      ]
     },
     "metadata": {},
     "output_type": "display_data"
    }
   ],
   "source": [
    "learn_clas.fit_one_cycle(1, 3e-2, wd = 1e-5, moms = (0.8,0.7))"
   ]
  },
  {
   "cell_type": "markdown",
   "metadata": {},
   "source": [
    "The confusion matrix gets a lot better even after just a single epoch:"
   ]
  },
  {
   "cell_type": "code",
   "execution_count": 54,
   "metadata": {},
   "outputs": [
    {
     "data": {
      "text/plain": [
       "array([[0.882129, 0.04943 , 0.068441],\n",
       "       [0.247148, 0.574144, 0.178707],\n",
       "       [0.144487, 0.068441, 0.787072]])"
      ]
     },
     "execution_count": 54,
     "metadata": {},
     "output_type": "execute_result"
    },
    {
     "data": {
      "image/png": "[encoded data removed]",
      "text/plain": [
       "<Figure size 432x288 with 1 Axes>"
      ]
     },
     "metadata": {},
     "output_type": "display_data"
    }
   ],
   "source": [
    "learn_clas.interpret().plot_confusion_matrix()\n",
    "(learn_clas.interpret().confusion_matrix())/(np.sum(learn_clas.interpret().confusion_matrix(), axis = 1).reshape(-1,1))"
   ]
  },
  {
   "cell_type": "markdown",
   "metadata": {},
   "source": [
    "Next we unfreeze and train the last two layers for one epoch, using discriminative learning rates:"
   ]
  },
  {
   "cell_type": "code",
   "execution_count": 55,
   "metadata": {},
   "outputs": [],
   "source": [
    "learn_clas.freeze_to(-2)"
   ]
  },
  {
   "cell_type": "code",
   "execution_count": 56,
   "metadata": {},
   "outputs": [
    {
     "data": {
      "text/html": [],
      "text/plain": [
       "<IPython.core.display.HTML object>"
      ]
     },
     "metadata": {},
     "output_type": "display_data"
    },
    {
     "name": "stdout",
     "output_type": "stream",
     "text": [
      "LR Finder is complete, type {learner_name}.recorder.plot() to see the graph.\n",
      "Min numerical gradient: 3.31E-06\n"
     ]
    },
    {
     "data": {
      "image/png": "[encoded data removed]",
      "text/plain": [
       "<Figure size 432x288 with 1 Axes>"
      ]
     },
     "metadata": {},
     "output_type": "display_data"
    }
   ],
   "source": [
    "learn_clas.lr_find()\n",
    "learn_clas.recorder.plot(suggestion = True)"
   ]
  },
  {
   "cell_type": "code",
   "execution_count": 57,
   "metadata": {},
   "outputs": [
    {
     "data": {
      "text/html": [
       "<table border=\"1\" class=\"dataframe\">\n",
       "  <thead>\n",
       "    <tr style=\"text-align: left;\">\n",
       "      <th>epoch</th>\n",
       "      <th>train_loss</th>\n",
       "      <th>valid_loss</th>\n",
       "      <th>accuracy</th>\n",
       "      <th>time</th>\n",
       "    </tr>\n",
       "  </thead>\n",
       "  <tbody>\n",
       "    <tr>\n",
       "      <td>0</td>\n",
       "      <td>0.642455</td>\n",
       "      <td>0.605003</td>\n",
       "      <td>0.774398</td>\n",
       "      <td>00:02</td>\n",
       "    </tr>\n",
       "  </tbody>\n",
       "</table>"
      ],
      "text/plain": [
       "<IPython.core.display.HTML object>"
      ]
     },
     "metadata": {},
     "output_type": "display_data"
    }
   ],
   "source": [
    "learn_clas.fit_one_cycle(1, slice(1e-4, 1e-3), wd = 1e-5, moms = (0.8,0.7))"
   ]
  },
  {
   "cell_type": "code",
   "execution_count": 58,
   "metadata": {},
   "outputs": [
    {
     "data": {
      "text/plain": [
       "array([[0.844106, 0.079848, 0.076046],\n",
       "       [0.193916, 0.657795, 0.148289],\n",
       "       [0.079848, 0.098859, 0.821293]])"
      ]
     },
     "execution_count": 58,
     "metadata": {},
     "output_type": "execute_result"
    },
    {
     "data": {
      "image/png": "[encoded data removed]",
      "text/plain": [
       "<Figure size 432x288 with 1 Axes>"
      ]
     },
     "metadata": {},
     "output_type": "display_data"
    }
   ],
   "source": [
    "learn_clas.interpret().plot_confusion_matrix()\n",
    "(learn_clas.interpret().confusion_matrix())/(np.sum(learn_clas.interpret().confusion_matrix(), axis = 1).reshape(-1,1))"
   ]
  },
  {
   "cell_type": "markdown",
   "metadata": {},
   "source": [
    "After this we unfreeze and train for one epoch the last three layers:"
   ]
  },
  {
   "cell_type": "code",
   "execution_count": 59,
   "metadata": {},
   "outputs": [],
   "source": [
    "learn_clas.freeze_to(-3)"
   ]
  },
  {
   "cell_type": "code",
   "execution_count": 60,
   "metadata": {},
   "outputs": [
    {
     "data": {
      "text/html": [],
      "text/plain": [
       "<IPython.core.display.HTML object>"
      ]
     },
     "metadata": {},
     "output_type": "display_data"
    },
    {
     "name": "stdout",
     "output_type": "stream",
     "text": [
      "LR Finder is complete, type {learner_name}.recorder.plot() to see the graph.\n",
      "Min numerical gradient: 1.91E-06\n"
     ]
    },
    {
     "data": {
      "image/png": "[encoded data removed]",
      "text/plain": [
       "<Figure size 432x288 with 1 Axes>"
      ]
     },
     "metadata": {},
     "output_type": "display_data"
    }
   ],
   "source": [
    "learn_clas.lr_find()\n",
    "learn_clas.recorder.plot(suggestion = True)"
   ]
  },
  {
   "cell_type": "code",
   "execution_count": 61,
   "metadata": {},
   "outputs": [
    {
     "data": {
      "text/html": [
       "<table border=\"1\" class=\"dataframe\">\n",
       "  <thead>\n",
       "    <tr style=\"text-align: left;\">\n",
       "      <th>epoch</th>\n",
       "      <th>train_loss</th>\n",
       "      <th>valid_loss</th>\n",
       "      <th>accuracy</th>\n",
       "      <th>time</th>\n",
       "    </tr>\n",
       "  </thead>\n",
       "  <tbody>\n",
       "    <tr>\n",
       "      <td>0</td>\n",
       "      <td>0.632679</td>\n",
       "      <td>0.577680</td>\n",
       "      <td>0.774398</td>\n",
       "      <td>00:03</td>\n",
       "    </tr>\n",
       "  </tbody>\n",
       "</table>"
      ],
      "text/plain": [
       "<IPython.core.display.HTML object>"
      ]
     },
     "metadata": {},
     "output_type": "display_data"
    }
   ],
   "source": [
    "learn_clas.fit_one_cycle(1, slice(1e-4, 1e-3), wd = 1e-5, moms=(0.8,0.7))"
   ]
  },
  {
   "cell_type": "code",
   "execution_count": 62,
   "metadata": {},
   "outputs": [
    {
     "data": {
      "text/plain": [
       "array([[0.8327  , 0.087452, 0.079848],\n",
       "       [0.171103, 0.653992, 0.174905],\n",
       "       [0.08365 , 0.079848, 0.836502]])"
      ]
     },
     "execution_count": 62,
     "metadata": {},
     "output_type": "execute_result"
    },
    {
     "data": {
      "image/png": "[encoded data removed]",
      "text/plain": [
       "<Figure size 432x288 with 1 Axes>"
      ]
     },
     "metadata": {},
     "output_type": "display_data"
    }
   ],
   "source": [
    "learn_clas.interpret().plot_confusion_matrix()\n",
    "(learn_clas.interpret().confusion_matrix())/(np.sum(learn_clas.interpret().confusion_matrix(), axis = 1).reshape(-1,1))"
   ]
  },
  {
   "cell_type": "markdown",
   "metadata": {},
   "source": [
    "Finally we unfreeze all layers and train the model until convergence:"
   ]
  },
  {
   "cell_type": "code",
   "execution_count": 63,
   "metadata": {},
   "outputs": [],
   "source": [
    "learn_clas.unfreeze()"
   ]
  },
  {
   "cell_type": "code",
   "execution_count": 64,
   "metadata": {},
   "outputs": [
    {
     "data": {
      "text/html": [],
      "text/plain": [
       "<IPython.core.display.HTML object>"
      ]
     },
     "metadata": {},
     "output_type": "display_data"
    },
    {
     "name": "stdout",
     "output_type": "stream",
     "text": [
      "LR Finder is complete, type {learner_name}.recorder.plot() to see the graph.\n",
      "Min numerical gradient: 6.31E-07\n"
     ]
    },
    {
     "data": {
      "image/png": "[encoded data removed]",
      "text/plain": [
       "<Figure size 432x288 with 1 Axes>"
      ]
     },
     "metadata": {},
     "output_type": "display_data"
    }
   ],
   "source": [
    "learn_clas.lr_find()\n",
    "learn_clas.recorder.plot(suggestion = True)"
   ]
  },
  {
   "cell_type": "code",
   "execution_count": 65,
   "metadata": {},
   "outputs": [
    {
     "data": {
      "text/html": [
       "<table border=\"1\" class=\"dataframe\">\n",
       "  <thead>\n",
       "    <tr style=\"text-align: left;\">\n",
       "      <th>epoch</th>\n",
       "      <th>train_loss</th>\n",
       "      <th>valid_loss</th>\n",
       "      <th>accuracy</th>\n",
       "      <th>time</th>\n",
       "    </tr>\n",
       "  </thead>\n",
       "  <tbody>\n",
       "    <tr>\n",
       "      <td>0</td>\n",
       "      <td>0.609534</td>\n",
       "      <td>0.570328</td>\n",
       "      <td>0.779468</td>\n",
       "      <td>00:04</td>\n",
       "    </tr>\n",
       "    <tr>\n",
       "      <td>1</td>\n",
       "      <td>0.602831</td>\n",
       "      <td>0.562245</td>\n",
       "      <td>0.774398</td>\n",
       "      <td>00:04</td>\n",
       "    </tr>\n",
       "    <tr>\n",
       "      <td>2</td>\n",
       "      <td>0.588010</td>\n",
       "      <td>0.552519</td>\n",
       "      <td>0.785805</td>\n",
       "      <td>00:04</td>\n",
       "    </tr>\n",
       "    <tr>\n",
       "      <td>3</td>\n",
       "      <td>0.568145</td>\n",
       "      <td>0.546004</td>\n",
       "      <td>0.785805</td>\n",
       "      <td>00:04</td>\n",
       "    </tr>\n",
       "    <tr>\n",
       "      <td>4</td>\n",
       "      <td>0.547255</td>\n",
       "      <td>0.546010</td>\n",
       "      <td>0.788340</td>\n",
       "      <td>00:04</td>\n",
       "    </tr>\n",
       "    <tr>\n",
       "      <td>5</td>\n",
       "      <td>0.525228</td>\n",
       "      <td>0.546945</td>\n",
       "      <td>0.782003</td>\n",
       "      <td>00:04</td>\n",
       "    </tr>\n",
       "    <tr>\n",
       "      <td>6</td>\n",
       "      <td>0.502590</td>\n",
       "      <td>0.548775</td>\n",
       "      <td>0.778200</td>\n",
       "      <td>00:04</td>\n",
       "    </tr>\n",
       "    <tr>\n",
       "      <td>7</td>\n",
       "      <td>0.490706</td>\n",
       "      <td>0.546030</td>\n",
       "      <td>0.785805</td>\n",
       "      <td>00:04</td>\n",
       "    </tr>\n",
       "  </tbody>\n",
       "</table>"
      ],
      "text/plain": [
       "<IPython.core.display.HTML object>"
      ]
     },
     "metadata": {},
     "output_type": "display_data"
    }
   ],
   "source": [
    "learn_clas.fit_one_cycle(8, slice(1e-4, 1e-3), wd = 1e-5, moms=(0.8,0.7))"
   ]
  },
  {
   "cell_type": "code",
   "execution_count": 66,
   "metadata": {},
   "outputs": [
    {
     "data": {
      "text/plain": [
       "array([[0.81749 , 0.102662, 0.079848],\n",
       "       [0.159696, 0.695817, 0.144487],\n",
       "       [0.072243, 0.08365 , 0.844106]])"
      ]
     },
     "execution_count": 66,
     "metadata": {},
     "output_type": "execute_result"
    },
    {
     "data": {
      "image/png": "[encoded data removed]",
      "text/plain": [
       "<Figure size 432x288 with 1 Axes>"
      ]
     },
     "metadata": {},
     "output_type": "display_data"
    }
   ],
   "source": [
    "learn_clas.interpret().plot_confusion_matrix()\n",
    "(learn_clas.interpret().confusion_matrix())/(np.sum(learn_clas.interpret().confusion_matrix(), axis = 1).reshape(-1,1))"
   ]
  },
  {
   "cell_type": "markdown",
   "metadata": {},
   "source": [
    "We obtain an accuracy of around 78.5% on our validation set (i.e. the one with 263 instances for each sentiment). This is already much better than a random classifier or a naive classifier which always predicts the same sentiment; nevertheless the confusion matrix tells us that the model does not perform equally well on all classes, but seems to have some problem in distinguishing neutral from negative/positive tweets.\n",
    "\n",
    "The same property persists when we evaluate the final model on our test set (i.e. the one with the 8340 tweets not used for training):"
   ]
  },
  {
   "cell_type": "code",
   "execution_count": 67,
   "metadata": {},
   "outputs": [],
   "source": [
    "learn_clas.save('/kaggle/working/fine_tuned_clas')"
   ]
  },
  {
   "cell_type": "code",
   "execution_count": 68,
   "metadata": {},
   "outputs": [
    {
     "data": {
      "text/plain": [
       "array([[0.801356, 0.139729, 0.058915],\n",
       "       [0.159159, 0.710711, 0.13013 ],\n",
       "       [0.072243, 0.079848, 0.847909]])"
      ]
     },
     "execution_count": 68,
     "metadata": {},
     "output_type": "execute_result"
    },
    {
     "data": {
      "image/png": "[encoded data removed]",
      "text/plain": [
       "<Figure size 432x288 with 1 Axes>"
      ]
     },
     "metadata": {},
     "output_type": "display_data"
    }
   ],
   "source": [
    "data_clas_test = TextClasDataBunch.from_df(path = path, train_df = df_train, valid_df = df_test, \n",
    "                text_cols = 'text', label_cols = 'airline_sentiment', vocab = data_lm.train_ds.vocab, bs = 256)\n",
    "\n",
    "learn_clas_test = text_classifier_learner(data_clas_test, AWD_LSTM, drop_mult = 0.5, model_dir = '/tmp/models')\n",
    "\n",
    "learn_clas_test.load('/kaggle/working/fine_tuned_clas')\n",
    "\n",
    "interp_test = learn_clas_test.interpret()\n",
    "\n",
    "interp_test.plot_confusion_matrix()\n",
    "(interp_test.confusion_matrix())/(np.sum(interp_test.confusion_matrix(), axis = 1).reshape(-1,1))"
   ]
  },
  {
   "cell_type": "markdown",
   "metadata": {},
   "source": [
    "Considering the whole test set, we see that the model correctly classifies negative tweets 80% of the times, neutral tweets 71% of the times and positive tweets 85% of the times: it seems therefore that the model finds it a bit easier to identify positive tweets rather than negative, but has a harder time distinguishing neutral tweets from the rest (especially from negative tweets). This may have been expected, since also for humans it may be harder to tell if a text has neutral sentiment rather than positive or negative, not to mention that we saw examples in the data of very short tweets or tweets classified inconsistently.\n",
    "\n",
    "The overall accuracy for the full test set is a bit higher than on the smaller validation set, but this is most likely due to the larger amount of negative tweets. Notice also that a naive classifier which predicts all tweets to be negative would reach an accuracy of ~84.87%, therefore accuracy is not really a reliable evaluation metric and we should rely on the confusion matrix:"
   ]
  },
  {
   "cell_type": "code",
   "execution_count": 69,
   "metadata": {},
   "outputs": [
    {
     "name": "stdout",
     "output_type": "stream",
     "text": [
      "Accuracy: 0.791966%\n",
      "\n",
      "Accuracy (predict all negative): 0.848681%\n"
     ]
    }
   ],
   "source": [
    "print(\"Accuracy: {}%\".format(round(np.trace(interp_test.confusion_matrix())/np.sum(interp_test.confusion_matrix()), 6)))\n",
    "print()\n",
    "print(\"Accuracy (predict all negative): {}%\".format(round(len(test_idx_neg)/len(test_idx_neg + test_idx_neu + test_idx_pos), 6)))"
   ]
  },
  {
   "cell_type": "markdown",
   "metadata": {},
   "source": [
    "*** \n",
    "\n",
    "# Interpretation\n",
    "\n",
    "To understand if our model can be improved, we should look at a few examples of misclassified tweets to see which words matter most in making the prediction. We can use fastai's `show_intrinsic_attention` method for this, which highlights the most important words in the decision process:"
   ]
  },
  {
   "cell_type": "markdown",
   "metadata": {},
   "source": [
    "**True sentiment neutral, predicted sentiment negative**\n",
    "\n",
    "Some of these misclassified cases are easy to understand, since the model learned that words like \"rebook\", \"cancelled\", \"lost\", \"confused\", \"not\" in general carry a negative sentiment. In some other cases instead it is unclear why the sentiment is negative, nor it is clear why words like \"computer\" or \"4322\" are so important for the model. We also notice that the names of the airline companies are often relevant for determining the sentiment, even if they shouldn't: it may therefore be more appropriate to remove them during preprocessing."
   ]
  },
  {
   "cell_type": "code",
   "execution_count": 70,
   "metadata": {},
   "outputs": [
    {
     "name": "stdout",
     "output_type": "stream",
     "text": [
      "('@USAirways, if I rebook on another airline after my flight was Cancelled Flightled, do you reimburse? I need to get home today, not Tuesday.', 'neutral', 'negative')\n"
     ]
    },
    {
     "data": {
      "text/html": [
       "<span style=\"font-family: monospace;\"><span title=\"0.323\" style=\"background-color: rgba(200, 201, 226, 0.5);\">xxbos</span> <span title=\"0.645\" style=\"background-color: rgba(124, 117, 181, 0.5);\">@usairways</span> <span title=\"0.212\" style=\"background-color: rgba(224, 223, 238, 0.5);\">,</span> <span title=\"0.361\" style=\"background-color: rgba(191, 192, 221, 0.5);\">if</span> <span title=\"0.214\" style=\"background-color: rgba(224, 223, 238, 0.5);\">i</span> <span title=\"1.000\" style=\"background-color: rgba(63, 0, 125, 0.5);\">rebook</span> <span title=\"0.253\" style=\"background-color: rgba(217, 217, 234, 0.5);\">on</span> <span title=\"0.317\" style=\"background-color: rgba(201, 202, 226, 0.5);\">another</span> <span title=\"0.933\" style=\"background-color: rgba(74, 20, 134, 0.5);\">airline</span> <span title=\"0.387\" style=\"background-color: rgba(184, 185, 217, 0.5);\">after</span> <span title=\"0.544\" style=\"background-color: rgba(147, 143, 194, 0.5);\">my</span> <span title=\"0.571\" style=\"background-color: rgba(140, 137, 191, 0.5);\">flight</span> <span title=\"0.346\" style=\"background-color: rgba(195, 195, 223, 0.5);\">was</span> <span title=\"0.379\" style=\"background-color: rgba(186, 187, 219, 0.5);\">xxmaj</span> <span title=\"0.796\" style=\"background-color: rgba(97, 65, 155, 0.5);\">cancelled</span> <span title=\"0.369\" style=\"background-color: rgba(189, 190, 220, 0.5);\">xxmaj</span> <span title=\"0.314\" style=\"background-color: rgba(202, 203, 227, 0.5);\">flightled</span> <span title=\"0.086\" style=\"background-color: rgba(243, 241, 247, 0.5);\">,</span> <span title=\"0.343\" style=\"background-color: rgba(196, 196, 224, 0.5);\">do</span> <span title=\"0.324\" style=\"background-color: rgba(199, 200, 225, 0.5);\">you</span> <span title=\"0.760\" style=\"background-color: rgba(104, 77, 161, 0.5);\">reimburse</span> <span title=\"0.182\" style=\"background-color: rgba(229, 228, 240, 0.5);\">?</span> <span title=\"0.139\" style=\"background-color: rgba(236, 235, 244, 0.5);\">i</span> <span title=\"0.763\" style=\"background-color: rgba(103, 76, 160, 0.5);\">need</span> <span title=\"0.250\" style=\"background-color: rgba(217, 217, 234, 0.5);\">to</span> <span title=\"0.324\" style=\"background-color: rgba(199, 200, 225, 0.5);\">get</span> <span title=\"0.420\" style=\"background-color: rgba(177, 176, 212, 0.5);\">home</span> <span title=\"0.375\" style=\"background-color: rgba(187, 188, 219, 0.5);\">today</span> <span title=\"0.131\" style=\"background-color: rgba(238, 236, 244, 0.5);\">,</span> <span title=\"0.654\" style=\"background-color: rgba(122, 114, 180, 0.5);\">not</span> <span title=\"0.408\" style=\"background-color: rgba(180, 179, 214, 0.5);\">xxmaj</span> <span title=\"0.634\" style=\"background-color: rgba(126, 121, 184, 0.5);\">tuesday</span> <span title=\"0.363\" style=\"background-color: rgba(191, 192, 221, 0.5);\">.</span></span>"
      ],
      "text/plain": [
       "<IPython.core.display.HTML object>"
      ]
     },
     "metadata": {},
     "output_type": "display_data"
    },
    {
     "name": "stdout",
     "output_type": "stream",
     "text": [
      "('@USAirways @AmericanAir explain how come I can get a free upgrade on US as an exe plat but not exit row seating w/out paying. confused', 'neutral', 'negative')\n"
     ]
    },
    {
     "data": {
      "text/html": [
       "<span style=\"font-family: monospace;\"><span title=\"0.071\" style=\"background-color: rgba(244, 243, 248, 0.5);\">xxbos</span> <span title=\"0.130\" style=\"background-color: rgba(238, 236, 244, 0.5);\">@usairways</span> <span title=\"0.180\" style=\"background-color: rgba(229, 228, 240, 0.5);\">@americanair</span> <span title=\"0.395\" style=\"background-color: rgba(182, 183, 216, 0.5);\">explain</span> <span title=\"0.171\" style=\"background-color: rgba(231, 230, 241, 0.5);\">how</span> <span title=\"0.315\" style=\"background-color: rgba(202, 203, 227, 0.5);\">come</span> <span title=\"0.149\" style=\"background-color: rgba(234, 233, 243, 0.5);\">i</span> <span title=\"0.095\" style=\"background-color: rgba(242, 240, 246, 0.5);\">can</span> <span title=\"0.133\" style=\"background-color: rgba(237, 235, 244, 0.5);\">get</span> <span title=\"0.093\" style=\"background-color: rgba(242, 240, 247, 0.5);\">a</span> <span title=\"0.227\" style=\"background-color: rgba(222, 222, 237, 0.5);\">free</span> <span title=\"0.419\" style=\"background-color: rgba(177, 176, 212, 0.5);\">upgrade</span> <span title=\"0.085\" style=\"background-color: rgba(243, 241, 247, 0.5);\">on</span> <span title=\"0.068\" style=\"background-color: rgba(245, 243, 248, 0.5);\">xxup</span> <span title=\"0.163\" style=\"background-color: rgba(232, 231, 242, 0.5);\">us</span> <span title=\"0.058\" style=\"background-color: rgba(246, 244, 249, 0.5);\">as</span> <span title=\"0.110\" style=\"background-color: rgba(240, 238, 245, 0.5);\">an</span> <span title=\"0.087\" style=\"background-color: rgba(243, 241, 247, 0.5);\">xxunk</span> <span title=\"0.302\" style=\"background-color: rgba(205, 205, 228, 0.5);\">plat</span> <span title=\"0.099\" style=\"background-color: rgba(241, 240, 246, 0.5);\">but</span> <span title=\"0.204\" style=\"background-color: rgba(225, 225, 238, 0.5);\">not</span> <span title=\"0.548\" style=\"background-color: rgba(146, 142, 194, 0.5);\">exit</span> <span title=\"0.134\" style=\"background-color: rgba(237, 235, 244, 0.5);\">row</span> <span title=\"0.143\" style=\"background-color: rgba(236, 234, 243, 0.5);\">seating</span> <span title=\"0.095\" style=\"background-color: rgba(242, 240, 246, 0.5);\">w</span> <span title=\"0.060\" style=\"background-color: rgba(245, 244, 249, 0.5);\">/</span> <span title=\"0.081\" style=\"background-color: rgba(243, 242, 247, 0.5);\">out</span> <span title=\"0.256\" style=\"background-color: rgba(216, 216, 234, 0.5);\">paying</span> <span title=\"0.094\" style=\"background-color: rgba(242, 240, 247, 0.5);\">.</span> <span title=\"1.000\" style=\"background-color: rgba(63, 0, 125, 0.5);\">confused</span></span>"
      ],
      "text/plain": [
       "<IPython.core.display.HTML object>"
      ]
     },
     "metadata": {},
     "output_type": "display_data"
    },
    {
     "name": "stdout",
     "output_type": "stream",
     "text": [
      "('@united even with the multiplier the ticket price will still never equal the amount of miles you travel, even for transatlantic flights!', 'neutral', 'negative')\n"
     ]
    },
    {
     "data": {
      "text/html": [
       "<span style=\"font-family: monospace;\"><span title=\"0.161\" style=\"background-color: rgba(232, 231, 242, 0.5);\">xxbos</span> <span title=\"0.357\" style=\"background-color: rgba(192, 193, 222, 0.5);\">@united</span> <span title=\"0.283\" style=\"background-color: rgba(210, 210, 231, 0.5);\">even</span> <span title=\"0.172\" style=\"background-color: rgba(231, 230, 241, 0.5);\">with</span> <span title=\"0.130\" style=\"background-color: rgba(238, 236, 244, 0.5);\">the</span> <span title=\"0.378\" style=\"background-color: rgba(187, 188, 219, 0.5);\">xxunk</span> <span title=\"0.156\" style=\"background-color: rgba(234, 232, 242, 0.5);\">the</span> <span title=\"0.510\" style=\"background-color: rgba(155, 151, 198, 0.5);\">ticket</span> <span title=\"0.477\" style=\"background-color: rgba(163, 160, 203, 0.5);\">price</span> <span title=\"0.284\" style=\"background-color: rgba(210, 210, 231, 0.5);\">will</span> <span title=\"0.388\" style=\"background-color: rgba(184, 185, 217, 0.5);\">still</span> <span title=\"0.390\" style=\"background-color: rgba(184, 185, 217, 0.5);\">never</span> <span title=\"0.470\" style=\"background-color: rgba(165, 162, 204, 0.5);\">equal</span> <span title=\"0.199\" style=\"background-color: rgba(227, 226, 239, 0.5);\">the</span> <span title=\"0.507\" style=\"background-color: rgba(156, 152, 199, 0.5);\">amount</span> <span title=\"0.189\" style=\"background-color: rgba(228, 227, 239, 0.5);\">of</span> <span title=\"0.270\" style=\"background-color: rgba(213, 213, 232, 0.5);\">miles</span> <span title=\"0.224\" style=\"background-color: rgba(222, 222, 237, 0.5);\">you</span> <span title=\"0.273\" style=\"background-color: rgba(213, 213, 232, 0.5);\">travel</span> <span title=\"0.117\" style=\"background-color: rgba(240, 238, 245, 0.5);\">,</span> <span title=\"0.491\" style=\"background-color: rgba(160, 156, 201, 0.5);\">even</span> <span title=\"0.209\" style=\"background-color: rgba(225, 224, 238, 0.5);\">for</span> <span title=\"1.000\" style=\"background-color: rgba(63, 0, 125, 0.5);\">transatlantic</span> <span title=\"0.153\" style=\"background-color: rgba(234, 232, 242, 0.5);\">flights</span> <span title=\"0.203\" style=\"background-color: rgba(226, 225, 239, 0.5);\">!</span></span>"
      ],
      "text/plain": [
       "<IPython.core.display.HTML object>"
      ]
     },
     "metadata": {},
     "output_type": "display_data"
    },
    {
     "name": "stdout",
     "output_type": "stream",
     "text": [
      "('@SouthwestAir how can customers get in touch with you internationally from Mexico for lost baggage', 'neutral', 'negative')\n"
     ]
    },
    {
     "data": {
      "text/html": [
       "<span style=\"font-family: monospace;\"><span title=\"0.271\" style=\"background-color: rgba(213, 213, 232, 0.5);\">xxbos</span> <span title=\"0.414\" style=\"background-color: rgba(178, 177, 213, 0.5);\">@southwestair</span> <span title=\"0.435\" style=\"background-color: rgba(173, 172, 210, 0.5);\">how</span> <span title=\"0.593\" style=\"background-color: rgba(135, 132, 189, 0.5);\">can</span> <span title=\"1.000\" style=\"background-color: rgba(63, 0, 125, 0.5);\">customers</span> <span title=\"0.415\" style=\"background-color: rgba(178, 177, 213, 0.5);\">get</span> <span title=\"0.233\" style=\"background-color: rgba(221, 220, 236, 0.5);\">in</span> <span title=\"0.366\" style=\"background-color: rgba(190, 191, 221, 0.5);\">touch</span> <span title=\"0.153\" style=\"background-color: rgba(234, 232, 242, 0.5);\">with</span> <span title=\"0.285\" style=\"background-color: rgba(210, 210, 231, 0.5);\">you</span> <span title=\"0.835\" style=\"background-color: rgba(90, 52, 149, 0.5);\">internationally</span> <span title=\"0.221\" style=\"background-color: rgba(223, 222, 237, 0.5);\">from</span> <span title=\"0.197\" style=\"background-color: rgba(227, 226, 239, 0.5);\">xxmaj</span> <span title=\"0.389\" style=\"background-color: rgba(184, 185, 217, 0.5);\">mexico</span> <span title=\"0.298\" style=\"background-color: rgba(206, 206, 229, 0.5);\">for</span> <span title=\"0.794\" style=\"background-color: rgba(97, 65, 155, 0.5);\">lost</span> <span title=\"0.742\" style=\"background-color: rgba(107, 84, 164, 0.5);\">baggage</span></span>"
      ],
      "text/plain": [
       "<IPython.core.display.HTML object>"
      ]
     },
     "metadata": {},
     "output_type": "display_data"
    },
    {
     "name": "stdout",
     "output_type": "stream",
     "text": [
      "('@USAirways I am good. I just did not understand the terminology.  but the merger brings new verbiage', 'neutral', 'negative')\n"
     ]
    },
    {
     "data": {
      "text/html": [
       "<span style=\"font-family: monospace;\"><span title=\"0.152\" style=\"background-color: rgba(234, 233, 243, 0.5);\">xxbos</span> <span title=\"0.288\" style=\"background-color: rgba(209, 209, 230, 0.5);\">@usairways</span> <span title=\"0.104\" style=\"background-color: rgba(241, 239, 246, 0.5);\">i</span> <span title=\"0.220\" style=\"background-color: rgba(223, 222, 237, 0.5);\">am</span> <span title=\"0.326\" style=\"background-color: rgba(199, 200, 225, 0.5);\">good</span> <span title=\"0.077\" style=\"background-color: rgba(244, 242, 248, 0.5);\">.</span> <span title=\"0.068\" style=\"background-color: rgba(245, 243, 248, 0.5);\">i</span> <span title=\"0.146\" style=\"background-color: rgba(235, 233, 243, 0.5);\">just</span> <span title=\"0.105\" style=\"background-color: rgba(241, 239, 246, 0.5);\">did</span> <span title=\"0.123\" style=\"background-color: rgba(239, 237, 245, 0.5);\">not</span> <span title=\"0.446\" style=\"background-color: rgba(170, 168, 208, 0.5);\">understand</span> <span title=\"0.105\" style=\"background-color: rgba(241, 239, 246, 0.5);\">the</span> <span title=\"0.124\" style=\"background-color: rgba(239, 237, 245, 0.5);\">xxunk</span> <span title=\"0.077\" style=\"background-color: rgba(244, 242, 248, 0.5);\">.</span> <span title=\"0.208\" style=\"background-color: rgba(225, 224, 238, 0.5);\">but</span> <span title=\"0.129\" style=\"background-color: rgba(238, 236, 244, 0.5);\">the</span> <span title=\"1.000\" style=\"background-color: rgba(63, 0, 125, 0.5);\">merger</span> <span title=\"0.570\" style=\"background-color: rgba(141, 138, 192, 0.5);\">xxunk</span> <span title=\"0.387\" style=\"background-color: rgba(184, 185, 217, 0.5);\">new</span> <span title=\"0.220\" style=\"background-color: rgba(223, 222, 237, 0.5);\">xxunk</span></span>"
      ],
      "text/plain": [
       "<IPython.core.display.HTML object>"
      ]
     },
     "metadata": {},
     "output_type": "display_data"
    },
    {
     "name": "stdout",
     "output_type": "stream",
     "text": [
      "('@SouthwestAir I cannot DM you as you do not follow me.', 'neutral', 'negative')\n"
     ]
    },
    {
     "data": {
      "text/html": [
       "<span style=\"font-family: monospace;\"><span title=\"0.211\" style=\"background-color: rgba(225, 224, 238, 0.5);\">xxbos</span> <span title=\"0.353\" style=\"background-color: rgba(193, 194, 222, 0.5);\">@southwestair</span> <span title=\"0.153\" style=\"background-color: rgba(234, 232, 242, 0.5);\">i</span> <span title=\"0.385\" style=\"background-color: rgba(185, 186, 218, 0.5);\">can</span> <span title=\"0.766\" style=\"background-color: rgba(102, 74, 160, 0.5);\">not</span> <span title=\"0.436\" style=\"background-color: rgba(173, 172, 210, 0.5);\">xxup</span> <span title=\"0.973\" style=\"background-color: rgba(66, 7, 128, 0.5);\">dm</span> <span title=\"0.236\" style=\"background-color: rgba(220, 220, 236, 0.5);\">you</span> <span title=\"0.131\" style=\"background-color: rgba(238, 236, 244, 0.5);\">as</span> <span title=\"0.420\" style=\"background-color: rgba(177, 176, 212, 0.5);\">you</span> <span title=\"0.208\" style=\"background-color: rgba(225, 224, 238, 0.5);\">do</span> <span title=\"0.268\" style=\"background-color: rgba(214, 214, 233, 0.5);\">not</span> <span title=\"1.000\" style=\"background-color: rgba(63, 0, 125, 0.5);\">follow</span> <span title=\"0.286\" style=\"background-color: rgba(209, 209, 230, 0.5);\">me</span> <span title=\"0.138\" style=\"background-color: rgba(236, 235, 244, 0.5);\">.</span></span>"
      ],
      "text/plain": [
       "<IPython.core.display.HTML object>"
      ]
     },
     "metadata": {},
     "output_type": "display_data"
    },
    {
     "name": "stdout",
     "output_type": "stream",
     "text": [
      "(\"@USAirways That's not the question. Question is: how do I get past the computer fastest if we both know that the computer can't help me?\", 'neutral', 'negative')\n"
     ]
    },
    {
     "data": {
      "text/html": [
       "<span style=\"font-family: monospace;\"><span title=\"0.256\" style=\"background-color: rgba(216, 216, 234, 0.5);\">xxbos</span> <span title=\"0.448\" style=\"background-color: rgba(170, 168, 208, 0.5);\">@usairways</span> <span title=\"0.175\" style=\"background-color: rgba(231, 229, 241, 0.5);\">xxmaj</span> <span title=\"0.369\" style=\"background-color: rgba(189, 190, 220, 0.5);\">that</span> <span title=\"0.224\" style=\"background-color: rgba(222, 222, 237, 0.5);\">&#x27;s</span> <span title=\"0.393\" style=\"background-color: rgba(183, 184, 217, 0.5);\">not</span> <span title=\"0.195\" style=\"background-color: rgba(227, 226, 239, 0.5);\">the</span> <span title=\"0.430\" style=\"background-color: rgba(174, 173, 210, 0.5);\">question</span> <span title=\"0.111\" style=\"background-color: rgba(240, 238, 245, 0.5);\">.</span> <span title=\"0.270\" style=\"background-color: rgba(213, 213, 232, 0.5);\">xxmaj</span> <span title=\"0.962\" style=\"background-color: rgba(68, 11, 130, 0.5);\">question</span> <span title=\"0.217\" style=\"background-color: rgba(223, 223, 237, 0.5);\">is</span> <span title=\"0.317\" style=\"background-color: rgba(201, 202, 226, 0.5);\">:</span> <span title=\"0.603\" style=\"background-color: rgba(133, 129, 188, 0.5);\">how</span> <span title=\"0.621\" style=\"background-color: rgba(128, 125, 186, 0.5);\">do</span> <span title=\"0.402\" style=\"background-color: rgba(182, 182, 216, 0.5);\">i</span> <span title=\"0.385\" style=\"background-color: rgba(185, 186, 218, 0.5);\">get</span> <span title=\"0.563\" style=\"background-color: rgba(142, 138, 192, 0.5);\">past</span> <span title=\"0.180\" style=\"background-color: rgba(229, 228, 240, 0.5);\">the</span> <span title=\"0.994\" style=\"background-color: rgba(63, 1, 125, 0.5);\">computer</span> <span title=\"0.664\" style=\"background-color: rgba(121, 111, 179, 0.5);\">fastest</span> <span title=\"0.341\" style=\"background-color: rgba(196, 196, 224, 0.5);\">if</span> <span title=\"0.328\" style=\"background-color: rgba(198, 199, 225, 0.5);\">we</span> <span title=\"0.423\" style=\"background-color: rgba(176, 175, 212, 0.5);\">both</span> <span title=\"0.477\" style=\"background-color: rgba(163, 160, 203, 0.5);\">know</span> <span title=\"0.184\" style=\"background-color: rgba(229, 227, 240, 0.5);\">that</span> <span title=\"0.151\" style=\"background-color: rgba(234, 233, 243, 0.5);\">the</span> <span title=\"1.000\" style=\"background-color: rgba(63, 0, 125, 0.5);\">computer</span> <span title=\"0.604\" style=\"background-color: rgba(133, 129, 188, 0.5);\">ca</span> <span title=\"0.462\" style=\"background-color: rgba(166, 164, 205, 0.5);\">n&#x27;t</span> <span title=\"0.782\" style=\"background-color: rgba(99, 69, 157, 0.5);\">help</span> <span title=\"0.374\" style=\"background-color: rgba(188, 189, 220, 0.5);\">me</span> <span title=\"0.595\" style=\"background-color: rgba(134, 131, 189, 0.5);\">?</span></span>"
      ],
      "text/plain": [
       "<IPython.core.display.HTML object>"
      ]
     },
     "metadata": {},
     "output_type": "display_data"
    },
    {
     "name": "stdout",
     "output_type": "stream",
     "text": [
      "(\"@united Follow me back, please, and I'll happily DM you the link because I'd rather not share my travel plans publicly.\", 'neutral', 'negative')\n"
     ]
    },
    {
     "data": {
      "text/html": [
       "<span style=\"font-family: monospace;\"><span title=\"0.259\" style=\"background-color: rgba(215, 215, 233, 0.5);\">xxbos</span> <span title=\"0.571\" style=\"background-color: rgba(140, 137, 191, 0.5);\">@united</span> <span title=\"0.247\" style=\"background-color: rgba(218, 218, 235, 0.5);\">xxmaj</span> <span title=\"1.000\" style=\"background-color: rgba(63, 0, 125, 0.5);\">follow</span> <span title=\"0.313\" style=\"background-color: rgba(202, 203, 227, 0.5);\">me</span> <span title=\"0.462\" style=\"background-color: rgba(166, 164, 205, 0.5);\">back</span> <span title=\"0.123\" style=\"background-color: rgba(239, 237, 245, 0.5);\">,</span> <span title=\"0.330\" style=\"background-color: rgba(198, 199, 225, 0.5);\">please</span> <span title=\"0.102\" style=\"background-color: rgba(241, 239, 246, 0.5);\">,</span> <span title=\"0.149\" style=\"background-color: rgba(234, 233, 243, 0.5);\">and</span> <span title=\"0.112\" style=\"background-color: rgba(240, 238, 245, 0.5);\">i</span> <span title=\"0.319\" style=\"background-color: rgba(201, 202, 226, 0.5);\">&#x27;ll</span> <span title=\"0.813\" style=\"background-color: rgba(94, 58, 152, 0.5);\">happily</span> <span title=\"0.326\" style=\"background-color: rgba(199, 200, 225, 0.5);\">xxup</span> <span title=\"0.843\" style=\"background-color: rgba(89, 49, 148, 0.5);\">dm</span> <span title=\"0.153\" style=\"background-color: rgba(234, 232, 242, 0.5);\">you</span> <span title=\"0.133\" style=\"background-color: rgba(237, 235, 244, 0.5);\">the</span> <span title=\"0.282\" style=\"background-color: rgba(210, 210, 231, 0.5);\">link</span> <span title=\"0.211\" style=\"background-color: rgba(224, 223, 238, 0.5);\">because</span> <span title=\"0.160\" style=\"background-color: rgba(233, 232, 242, 0.5);\">i</span> <span title=\"0.330\" style=\"background-color: rgba(198, 199, 225, 0.5);\">&#x27;d</span> <span title=\"0.797\" style=\"background-color: rgba(97, 64, 155, 0.5);\">rather</span> <span title=\"0.737\" style=\"background-color: rgba(108, 85, 165, 0.5);\">not</span> <span title=\"0.595\" style=\"background-color: rgba(134, 131, 189, 0.5);\">share</span> <span title=\"0.254\" style=\"background-color: rgba(216, 216, 234, 0.5);\">my</span> <span title=\"0.382\" style=\"background-color: rgba(186, 187, 219, 0.5);\">travel</span> <span title=\"0.242\" style=\"background-color: rgba(219, 219, 235, 0.5);\">plans</span> <span title=\"0.485\" style=\"background-color: rgba(161, 157, 202, 0.5);\">publicly</span> <span title=\"0.171\" style=\"background-color: rgba(231, 230, 241, 0.5);\">.</span></span>"
      ],
      "text/plain": [
       "<IPython.core.display.HTML object>"
      ]
     },
     "metadata": {},
     "output_type": "display_data"
    },
    {
     "name": "stdout",
     "output_type": "stream",
     "text": [
      "('@USAirways yes - tells me the only way to mod plans is to call the 4322 number.', 'neutral', 'negative')\n"
     ]
    },
    {
     "data": {
      "text/html": [
       "<span style=\"font-family: monospace;\"><span title=\"0.157\" style=\"background-color: rgba(233, 232, 242, 0.5);\">xxbos</span> <span title=\"0.341\" style=\"background-color: rgba(196, 196, 224, 0.5);\">@usairways</span> <span title=\"0.494\" style=\"background-color: rgba(159, 155, 200, 0.5);\">yes</span> <span title=\"0.165\" style=\"background-color: rgba(232, 230, 241, 0.5);\">-</span> <span title=\"0.510\" style=\"background-color: rgba(155, 151, 198, 0.5);\">tells</span> <span title=\"0.241\" style=\"background-color: rgba(219, 219, 235, 0.5);\">me</span> <span title=\"0.180\" style=\"background-color: rgba(229, 228, 240, 0.5);\">the</span> <span title=\"0.390\" style=\"background-color: rgba(184, 185, 217, 0.5);\">only</span> <span title=\"0.221\" style=\"background-color: rgba(223, 222, 237, 0.5);\">way</span> <span title=\"0.153\" style=\"background-color: rgba(234, 232, 242, 0.5);\">to</span> <span title=\"0.166\" style=\"background-color: rgba(232, 230, 241, 0.5);\">xxunk</span> <span title=\"0.303\" style=\"background-color: rgba(205, 205, 228, 0.5);\">plans</span> <span title=\"0.151\" style=\"background-color: rgba(234, 233, 243, 0.5);\">is</span> <span title=\"0.131\" style=\"background-color: rgba(238, 236, 244, 0.5);\">to</span> <span title=\"0.521\" style=\"background-color: rgba(152, 148, 197, 0.5);\">call</span> <span title=\"0.151\" style=\"background-color: rgba(234, 233, 243, 0.5);\">the</span> <span title=\"1.000\" style=\"background-color: rgba(63, 0, 125, 0.5);\">4322</span> <span title=\"0.229\" style=\"background-color: rgba(221, 221, 236, 0.5);\">number</span> <span title=\"0.094\" style=\"background-color: rgba(242, 240, 246, 0.5);\">.</span></span>"
      ],
      "text/plain": [
       "<IPython.core.display.HTML object>"
      ]
     },
     "metadata": {},
     "output_type": "display_data"
    },
    {
     "name": "stdout",
     "output_type": "stream",
     "text": [
      "('@united the aircraft closest to gate was for the other flight and the one closest to our gate was going to Chicago.', 'neutral', 'negative')\n"
     ]
    },
    {
     "data": {
      "text/html": [
       "<span style=\"font-family: monospace;\"><span title=\"0.224\" style=\"background-color: rgba(222, 222, 237, 0.5);\">xxbos</span> <span title=\"0.497\" style=\"background-color: rgba(158, 154, 200, 0.5);\">@united</span> <span title=\"0.153\" style=\"background-color: rgba(234, 232, 242, 0.5);\">the</span> <span title=\"1.000\" style=\"background-color: rgba(63, 0, 125, 0.5);\">aircraft</span> <span title=\"0.870\" style=\"background-color: rgba(84, 40, 143, 0.5);\">closest</span> <span title=\"0.216\" style=\"background-color: rgba(223, 223, 237, 0.5);\">to</span> <span title=\"0.488\" style=\"background-color: rgba(161, 157, 202, 0.5);\">gate</span> <span title=\"0.158\" style=\"background-color: rgba(233, 232, 242, 0.5);\">was</span> <span title=\"0.314\" style=\"background-color: rgba(202, 203, 227, 0.5);\">for</span> <span title=\"0.269\" style=\"background-color: rgba(214, 214, 233, 0.5);\">the</span> <span title=\"0.363\" style=\"background-color: rgba(191, 192, 221, 0.5);\">other</span> <span title=\"0.316\" style=\"background-color: rgba(202, 203, 227, 0.5);\">flight</span> <span title=\"0.213\" style=\"background-color: rgba(224, 223, 238, 0.5);\">and</span> <span title=\"0.141\" style=\"background-color: rgba(236, 234, 243, 0.5);\">the</span> <span title=\"0.358\" style=\"background-color: rgba(192, 193, 222, 0.5);\">one</span> <span title=\"0.466\" style=\"background-color: rgba(166, 163, 205, 0.5);\">closest</span> <span title=\"0.117\" style=\"background-color: rgba(239, 237, 245, 0.5);\">to</span> <span title=\"0.144\" style=\"background-color: rgba(236, 234, 243, 0.5);\">our</span> <span title=\"0.177\" style=\"background-color: rgba(230, 229, 240, 0.5);\">gate</span> <span title=\"0.097\" style=\"background-color: rgba(242, 240, 246, 0.5);\">was</span> <span title=\"0.274\" style=\"background-color: rgba(212, 212, 232, 0.5);\">going</span> <span title=\"0.119\" style=\"background-color: rgba(239, 237, 245, 0.5);\">to</span> <span title=\"0.118\" style=\"background-color: rgba(239, 237, 245, 0.5);\">xxmaj</span> <span title=\"0.194\" style=\"background-color: rgba(227, 226, 239, 0.5);\">chicago</span> <span title=\"0.112\" style=\"background-color: rgba(240, 238, 245, 0.5);\">.</span></span>"
      ],
      "text/plain": [
       "<IPython.core.display.HTML object>"
      ]
     },
     "metadata": {},
     "output_type": "display_data"
    }
   ],
   "source": [
    "# Add a 'predicted_sentiment' column to our dataframe\n",
    "\n",
    "dic = {0:'negative', 1:'neutral', 2:'positive'}\n",
    "\n",
    "predictions = torch.argmax(learn_clas_test.get_preds(ordered = True)[0], dim = 1)\n",
    "predictions = [dic[predictions[i].tolist()]  for i in range(len(predictions))]\n",
    "\n",
    "df_res = df_test.copy()\n",
    "df_res['predicted_sentiment'] = predictions\n",
    "\n",
    "# Create a fastai interpretation object\n",
    "\n",
    "text_interp_test = TextClassificationInterpretation.from_learner(learn_clas_test)\n",
    "\n",
    "# True sentiment neutral, predicted sentiment negative \n",
    "\n",
    "for i in df_res.loc[(df_res['airline_sentiment'] == 'neutral') & (df_res['predicted_sentiment'] == 'negative')].index[0:10]:\n",
    "    print((df_res['text'].loc[i], df_res['airline_sentiment'].loc[i], df_res['predicted_sentiment'].loc[i]))\n",
    "    text_interp_test.show_intrinsic_attention(df_res['text'].loc[i], cmap = mpl.cm.Purples)"
   ]
  },
  {
   "cell_type": "markdown",
   "metadata": {},
   "source": [
    "**True sentiment negative, predicted sentiment neutral**\n",
    "\n",
    "In most of these cases it is hard even for humans to interpret the tweets as having a negative rather than neutral sentiment, so we do not think there is much we can do. We however notice an unusual importance given to web links and symbols like \"-\", which we may then want to remove."
   ]
  },
  {
   "cell_type": "code",
   "execution_count": 71,
   "metadata": {
    "scrolled": false
   },
   "outputs": [
    {
     "name": "stdout",
     "output_type": "stream",
     "text": [
      "('@united I did not, my mind was on getting to the next flight.', 'negative', 'neutral')\n"
     ]
    },
    {
     "data": {
      "text/html": [
       "<span style=\"font-family: monospace;\"><span title=\"0.143\" style=\"background-color: rgba(236, 234, 243, 0.5);\">xxbos</span> <span title=\"0.141\" style=\"background-color: rgba(236, 234, 243, 0.5);\">@united</span> <span title=\"0.068\" style=\"background-color: rgba(245, 243, 248, 0.5);\">i</span> <span title=\"0.165\" style=\"background-color: rgba(232, 230, 241, 0.5);\">did</span> <span title=\"0.192\" style=\"background-color: rgba(227, 226, 239, 0.5);\">not</span> <span title=\"0.173\" style=\"background-color: rgba(231, 229, 241, 0.5);\">,</span> <span title=\"0.209\" style=\"background-color: rgba(225, 224, 238, 0.5);\">my</span> <span title=\"1.000\" style=\"background-color: rgba(63, 0, 125, 0.5);\">mind</span> <span title=\"0.167\" style=\"background-color: rgba(232, 230, 241, 0.5);\">was</span> <span title=\"0.209\" style=\"background-color: rgba(225, 224, 238, 0.5);\">on</span> <span title=\"0.313\" style=\"background-color: rgba(202, 203, 227, 0.5);\">getting</span> <span title=\"0.135\" style=\"background-color: rgba(237, 235, 244, 0.5);\">to</span> <span title=\"0.111\" style=\"background-color: rgba(240, 238, 245, 0.5);\">the</span> <span title=\"0.296\" style=\"background-color: rgba(207, 207, 229, 0.5);\">next</span> <span title=\"0.117\" style=\"background-color: rgba(240, 238, 245, 0.5);\">flight</span> <span title=\"0.051\" style=\"background-color: rgba(246, 245, 249, 0.5);\">.</span></span>"
      ],
      "text/plain": [
       "<IPython.core.display.HTML object>"
      ]
     },
     "metadata": {},
     "output_type": "display_data"
    },
    {
     "name": "stdout",
     "output_type": "stream",
     "text": [
      "('@JetBlue I would like to communicate directly with a \"Customer Experience\" executive. Does Joanna Geraghty have an email address?', 'negative', 'neutral')\n"
     ]
    },
    {
     "data": {
      "text/html": [
       "<span style=\"font-family: monospace;\"><span title=\"0.124\" style=\"background-color: rgba(239, 237, 245, 0.5);\">xxbos</span> <span title=\"0.227\" style=\"background-color: rgba(221, 221, 236, 0.5);\">@jetblue</span> <span title=\"0.072\" style=\"background-color: rgba(244, 243, 248, 0.5);\">i</span> <span title=\"0.163\" style=\"background-color: rgba(232, 231, 242, 0.5);\">would</span> <span title=\"0.219\" style=\"background-color: rgba(223, 223, 237, 0.5);\">like</span> <span title=\"0.130\" style=\"background-color: rgba(238, 236, 244, 0.5);\">to</span> <span title=\"0.604\" style=\"background-color: rgba(133, 129, 188, 0.5);\">communicate</span> <span title=\"0.305\" style=\"background-color: rgba(204, 205, 228, 0.5);\">directly</span> <span title=\"0.212\" style=\"background-color: rgba(224, 223, 238, 0.5);\">with</span> <span title=\"0.116\" style=\"background-color: rgba(240, 238, 245, 0.5);\">a</span> <span title=\"0.110\" style=\"background-color: rgba(240, 238, 245, 0.5);\">&quot;</span> <span title=\"0.139\" style=\"background-color: rgba(236, 235, 244, 0.5);\">xxmaj</span> <span title=\"0.330\" style=\"background-color: rgba(198, 199, 225, 0.5);\">customer</span> <span title=\"0.099\" style=\"background-color: rgba(241, 240, 246, 0.5);\">xxmaj</span> <span title=\"0.130\" style=\"background-color: rgba(238, 236, 244, 0.5);\">experience</span> <span title=\"0.115\" style=\"background-color: rgba(240, 238, 245, 0.5);\">&quot;</span> <span title=\"0.355\" style=\"background-color: rgba(193, 194, 222, 0.5);\">executive</span> <span title=\"0.045\" style=\"background-color: rgba(247, 246, 250, 0.5);\">.</span> <span title=\"0.125\" style=\"background-color: rgba(238, 236, 244, 0.5);\">xxmaj</span> <span title=\"0.406\" style=\"background-color: rgba(181, 180, 215, 0.5);\">does</span> <span title=\"0.346\" style=\"background-color: rgba(195, 195, 223, 0.5);\">xxmaj</span> <span title=\"1.000\" style=\"background-color: rgba(63, 0, 125, 0.5);\">joanna</span> <span title=\"0.316\" style=\"background-color: rgba(202, 203, 227, 0.5);\">xxmaj</span> <span title=\"0.088\" style=\"background-color: rgba(243, 241, 247, 0.5);\">xxunk</span> <span title=\"0.105\" style=\"background-color: rgba(241, 239, 246, 0.5);\">have</span> <span title=\"0.121\" style=\"background-color: rgba(239, 237, 245, 0.5);\">an</span> <span title=\"0.386\" style=\"background-color: rgba(185, 186, 218, 0.5);\">email</span> <span title=\"0.153\" style=\"background-color: rgba(234, 232, 242, 0.5);\">address</span> <span title=\"0.240\" style=\"background-color: rgba(219, 219, 235, 0.5);\">?</span></span>"
      ],
      "text/plain": [
       "<IPython.core.display.HTML object>"
      ]
     },
     "metadata": {},
     "output_type": "display_data"
    },
    {
     "name": "stdout",
     "output_type": "stream",
     "text": [
      "('@USAirways seriously buy some WD40 for A319 operating flight 634 from GEG to Phoenix. Every seat squeaks w every shift. Still on ground!', 'negative', 'neutral')\n"
     ]
    },
    {
     "data": {
      "text/html": [
       "<span style=\"font-family: monospace;\"><span title=\"0.111\" style=\"background-color: rgba(240, 238, 245, 0.5);\">xxbos</span> <span title=\"0.213\" style=\"background-color: rgba(224, 223, 238, 0.5);\">@usairways</span> <span title=\"0.497\" style=\"background-color: rgba(158, 154, 200, 0.5);\">seriously</span> <span title=\"0.465\" style=\"background-color: rgba(166, 163, 205, 0.5);\">buy</span> <span title=\"0.272\" style=\"background-color: rgba(213, 213, 232, 0.5);\">some</span> <span title=\"0.139\" style=\"background-color: rgba(236, 235, 244, 0.5);\">xxup</span> <span title=\"1.000\" style=\"background-color: rgba(63, 0, 125, 0.5);\">wd40</span> <span title=\"0.107\" style=\"background-color: rgba(240, 239, 246, 0.5);\">for</span> <span title=\"0.155\" style=\"background-color: rgba(234, 232, 242, 0.5);\">xxup</span> <span title=\"0.629\" style=\"background-color: rgba(126, 122, 184, 0.5);\">a319</span> <span title=\"0.227\" style=\"background-color: rgba(221, 221, 236, 0.5);\">operating</span> <span title=\"0.114\" style=\"background-color: rgba(240, 238, 245, 0.5);\">flight</span> <span title=\"0.235\" style=\"background-color: rgba(220, 220, 236, 0.5);\">634</span> <span title=\"0.050\" style=\"background-color: rgba(247, 245, 249, 0.5);\">from</span> <span title=\"0.060\" style=\"background-color: rgba(245, 244, 249, 0.5);\">xxup</span> <span title=\"0.234\" style=\"background-color: rgba(220, 220, 236, 0.5);\">geg</span> <span title=\"0.027\" style=\"background-color: rgba(249, 248, 251, 0.5);\">to</span> <span title=\"0.032\" style=\"background-color: rgba(248, 247, 250, 0.5);\">xxmaj</span> <span title=\"0.080\" style=\"background-color: rgba(243, 242, 247, 0.5);\">phoenix</span> <span title=\"0.016\" style=\"background-color: rgba(250, 249, 251, 0.5);\">.</span> <span title=\"0.052\" style=\"background-color: rgba(246, 245, 249, 0.5);\">xxmaj</span> <span title=\"0.261\" style=\"background-color: rgba(215, 215, 233, 0.5);\">every</span> <span title=\"0.333\" style=\"background-color: rgba(198, 198, 225, 0.5);\">seat</span> <span title=\"0.116\" style=\"background-color: rgba(240, 238, 245, 0.5);\">xxunk</span> <span title=\"0.095\" style=\"background-color: rgba(242, 240, 246, 0.5);\">w</span> <span title=\"0.090\" style=\"background-color: rgba(242, 240, 247, 0.5);\">every</span> <span title=\"0.161\" style=\"background-color: rgba(232, 231, 242, 0.5);\">shift</span> <span title=\"0.038\" style=\"background-color: rgba(248, 247, 250, 0.5);\">.</span> <span title=\"0.063\" style=\"background-color: rgba(245, 243, 248, 0.5);\">xxmaj</span> <span title=\"0.237\" style=\"background-color: rgba(220, 220, 236, 0.5);\">still</span> <span title=\"0.061\" style=\"background-color: rgba(245, 244, 249, 0.5);\">on</span> <span title=\"0.171\" style=\"background-color: rgba(231, 230, 241, 0.5);\">ground</span> <span title=\"0.103\" style=\"background-color: rgba(241, 239, 246, 0.5);\">!</span></span>"
      ],
      "text/plain": [
       "<IPython.core.display.HTML object>"
      ]
     },
     "metadata": {},
     "output_type": "display_data"
    },
    {
     "name": "stdout",
     "output_type": "stream",
     "text": [
      "(\"@AmericanAir I want the flight I have on hold. I don't want a new flight.\", 'negative', 'neutral')\n"
     ]
    },
    {
     "data": {
      "text/html": [
       "<span style=\"font-family: monospace;\"><span title=\"0.281\" style=\"background-color: rgba(211, 211, 231, 0.5);\">xxbos</span> <span title=\"0.450\" style=\"background-color: rgba(169, 167, 207, 0.5);\">@americanair</span> <span title=\"0.221\" style=\"background-color: rgba(223, 222, 237, 0.5);\">i</span> <span title=\"1.000\" style=\"background-color: rgba(63, 0, 125, 0.5);\">want</span> <span title=\"0.274\" style=\"background-color: rgba(212, 212, 232, 0.5);\">the</span> <span title=\"0.532\" style=\"background-color: rgba(150, 146, 196, 0.5);\">flight</span> <span title=\"0.353\" style=\"background-color: rgba(193, 194, 222, 0.5);\">i</span> <span title=\"0.183\" style=\"background-color: rgba(229, 228, 240, 0.5);\">have</span> <span title=\"0.289\" style=\"background-color: rgba(209, 209, 230, 0.5);\">on</span> <span title=\"0.584\" style=\"background-color: rgba(137, 134, 190, 0.5);\">hold</span> <span title=\"0.084\" style=\"background-color: rgba(243, 241, 247, 0.5);\">.</span> <span title=\"0.148\" style=\"background-color: rgba(235, 233, 243, 0.5);\">i</span> <span title=\"0.331\" style=\"background-color: rgba(198, 199, 225, 0.5);\">do</span> <span title=\"0.255\" style=\"background-color: rgba(216, 216, 234, 0.5);\">n&#x27;t</span> <span title=\"0.715\" style=\"background-color: rgba(112, 93, 169, 0.5);\">want</span> <span title=\"0.337\" style=\"background-color: rgba(197, 197, 224, 0.5);\">a</span> <span title=\"0.464\" style=\"background-color: rgba(166, 164, 205, 0.5);\">new</span> <span title=\"0.366\" style=\"background-color: rgba(190, 191, 221, 0.5);\">flight</span> <span title=\"0.155\" style=\"background-color: rgba(234, 232, 242, 0.5);\">.</span></span>"
      ],
      "text/plain": [
       "<IPython.core.display.HTML object>"
      ]
     },
     "metadata": {},
     "output_type": "display_data"
    },
    {
     "name": "stdout",
     "output_type": "stream",
     "text": [
      "(\"@AmericanAir Is it possible to change the FF number on a passenger on a Flight Booking Problems, it won't let me change it?\", 'negative', 'neutral')\n"
     ]
    },
    {
     "data": {
      "text/html": [
       "<span style=\"font-family: monospace;\"><span title=\"0.141\" style=\"background-color: rgba(236, 234, 243, 0.5);\">xxbos</span> <span title=\"0.258\" style=\"background-color: rgba(216, 216, 234, 0.5);\">@americanair</span> <span title=\"0.188\" style=\"background-color: rgba(228, 227, 239, 0.5);\">xxmaj</span> <span title=\"0.302\" style=\"background-color: rgba(205, 205, 228, 0.5);\">is</span> <span title=\"0.236\" style=\"background-color: rgba(220, 220, 236, 0.5);\">it</span> <span title=\"0.359\" style=\"background-color: rgba(192, 193, 222, 0.5);\">possible</span> <span title=\"0.126\" style=\"background-color: rgba(238, 236, 244, 0.5);\">to</span> <span title=\"0.568\" style=\"background-color: rgba(141, 138, 192, 0.5);\">change</span> <span title=\"0.117\" style=\"background-color: rgba(240, 238, 245, 0.5);\">the</span> <span title=\"0.182\" style=\"background-color: rgba(229, 228, 240, 0.5);\">xxup</span> <span title=\"1.000\" style=\"background-color: rgba(63, 0, 125, 0.5);\">ff</span> <span title=\"0.240\" style=\"background-color: rgba(219, 219, 235, 0.5);\">number</span> <span title=\"0.104\" style=\"background-color: rgba(241, 239, 246, 0.5);\">on</span> <span title=\"0.135\" style=\"background-color: rgba(237, 235, 244, 0.5);\">a</span> <span title=\"0.383\" style=\"background-color: rgba(186, 187, 219, 0.5);\">passenger</span> <span title=\"0.120\" style=\"background-color: rgba(239, 237, 245, 0.5);\">on</span> <span title=\"0.122\" style=\"background-color: rgba(239, 237, 245, 0.5);\">a</span> <span title=\"0.187\" style=\"background-color: rgba(229, 227, 240, 0.5);\">xxmaj</span> <span title=\"0.512\" style=\"background-color: rgba(154, 150, 198, 0.5);\">flight</span> <span title=\"0.310\" style=\"background-color: rgba(203, 204, 227, 0.5);\">xxmaj</span> <span title=\"0.557\" style=\"background-color: rgba(144, 140, 193, 0.5);\">booking</span> <span title=\"0.118\" style=\"background-color: rgba(239, 237, 245, 0.5);\">xxmaj</span> <span title=\"0.102\" style=\"background-color: rgba(241, 239, 246, 0.5);\">problems</span> <span title=\"0.036\" style=\"background-color: rgba(248, 247, 250, 0.5);\">,</span> <span title=\"0.100\" style=\"background-color: rgba(241, 240, 246, 0.5);\">it</span> <span title=\"0.277\" style=\"background-color: rgba(212, 212, 232, 0.5);\">wo</span> <span title=\"0.207\" style=\"background-color: rgba(225, 225, 238, 0.5);\">n&#x27;t</span> <span title=\"0.191\" style=\"background-color: rgba(228, 227, 239, 0.5);\">let</span> <span title=\"0.147\" style=\"background-color: rgba(235, 233, 243, 0.5);\">me</span> <span title=\"0.315\" style=\"background-color: rgba(202, 203, 227, 0.5);\">change</span> <span title=\"0.116\" style=\"background-color: rgba(240, 238, 245, 0.5);\">it</span> <span title=\"0.177\" style=\"background-color: rgba(230, 229, 240, 0.5);\">?</span></span>"
      ],
      "text/plain": [
       "<IPython.core.display.HTML object>"
      ]
     },
     "metadata": {},
     "output_type": "display_data"
    },
    {
     "name": "stdout",
     "output_type": "stream",
     "text": [
      "(\"@AmericanAir any idea what's up with flight AA3181?\", 'negative', 'neutral')\n"
     ]
    },
    {
     "data": {
      "text/html": [
       "<span style=\"font-family: monospace;\"><span title=\"0.250\" style=\"background-color: rgba(217, 217, 234, 0.5);\">xxbos</span> <span title=\"0.495\" style=\"background-color: rgba(159, 155, 200, 0.5);\">@americanair</span> <span title=\"1.000\" style=\"background-color: rgba(63, 0, 125, 0.5);\">any</span> <span title=\"0.634\" style=\"background-color: rgba(126, 121, 184, 0.5);\">idea</span> <span title=\"0.288\" style=\"background-color: rgba(209, 209, 230, 0.5);\">what</span> <span title=\"0.356\" style=\"background-color: rgba(192, 193, 222, 0.5);\">&#x27;s</span> <span title=\"0.354\" style=\"background-color: rgba(193, 194, 222, 0.5);\">up</span> <span title=\"0.371\" style=\"background-color: rgba(188, 189, 220, 0.5);\">with</span> <span title=\"0.576\" style=\"background-color: rgba(139, 136, 191, 0.5);\">flight</span> <span title=\"0.240\" style=\"background-color: rgba(219, 219, 235, 0.5);\">xxup</span> <span title=\"0.163\" style=\"background-color: rgba(232, 231, 242, 0.5);\">xxunk</span> <span title=\"0.233\" style=\"background-color: rgba(221, 220, 236, 0.5);\">?</span></span>"
      ],
      "text/plain": [
       "<IPython.core.display.HTML object>"
      ]
     },
     "metadata": {},
     "output_type": "display_data"
    },
    {
     "name": "stdout",
     "output_type": "stream",
     "text": [
      "(\"@AmericanAir If it's in my backpack, why do I need to see agent?\", 'negative', 'neutral')\n"
     ]
    },
    {
     "data": {
      "text/html": [
       "<span style=\"font-family: monospace;\"><span title=\"0.299\" style=\"background-color: rgba(206, 206, 229, 0.5);\">xxbos</span> <span title=\"0.651\" style=\"background-color: rgba(123, 115, 181, 0.5);\">@americanair</span> <span title=\"0.388\" style=\"background-color: rgba(184, 185, 217, 0.5);\">xxmaj</span> <span title=\"0.527\" style=\"background-color: rgba(151, 148, 197, 0.5);\">if</span> <span title=\"0.428\" style=\"background-color: rgba(175, 174, 211, 0.5);\">it</span> <span title=\"0.301\" style=\"background-color: rgba(205, 205, 228, 0.5);\">&#x27;s</span> <span title=\"0.371\" style=\"background-color: rgba(189, 190, 220, 0.5);\">in</span> <span title=\"0.359\" style=\"background-color: rgba(191, 192, 221, 0.5);\">my</span> <span title=\"1.000\" style=\"background-color: rgba(63, 0, 125, 0.5);\">backpack</span> <span title=\"0.234\" style=\"background-color: rgba(221, 220, 236, 0.5);\">,</span> <span title=\"0.769\" style=\"background-color: rgba(102, 74, 160, 0.5);\">why</span> <span title=\"0.557\" style=\"background-color: rgba(144, 140, 193, 0.5);\">do</span> <span title=\"0.348\" style=\"background-color: rgba(194, 195, 223, 0.5);\">i</span> <span title=\"0.489\" style=\"background-color: rgba(160, 156, 201, 0.5);\">need</span> <span title=\"0.257\" style=\"background-color: rgba(216, 216, 234, 0.5);\">to</span> <span title=\"0.391\" style=\"background-color: rgba(183, 184, 217, 0.5);\">see</span> <span title=\"0.709\" style=\"background-color: rgba(113, 95, 170, 0.5);\">agent</span> <span title=\"0.572\" style=\"background-color: rgba(140, 137, 191, 0.5);\">?</span></span>"
      ],
      "text/plain": [
       "<IPython.core.display.HTML object>"
      ]
     },
     "metadata": {},
     "output_type": "display_data"
    },
    {
     "name": "stdout",
     "output_type": "stream",
     "text": [
      "('@jetblue fly 2301 delayed do to ice at JFK ... Can I switch to a Late Flightr flight for free', 'negative', 'neutral')\n"
     ]
    },
    {
     "data": {
      "text/html": [
       "<span style=\"font-family: monospace;\"><span title=\"0.172\" style=\"background-color: rgba(231, 229, 241, 0.5);\">xxbos</span> <span title=\"0.296\" style=\"background-color: rgba(207, 207, 229, 0.5);\">@jetblue</span> <span title=\"0.585\" style=\"background-color: rgba(137, 134, 190, 0.5);\">fly</span> <span title=\"0.367\" style=\"background-color: rgba(189, 190, 220, 0.5);\">xxunk</span> <span title=\"1.000\" style=\"background-color: rgba(63, 0, 125, 0.5);\">delayed</span> <span title=\"0.319\" style=\"background-color: rgba(201, 202, 226, 0.5);\">do</span> <span title=\"0.247\" style=\"background-color: rgba(218, 218, 235, 0.5);\">to</span> <span title=\"0.657\" style=\"background-color: rgba(122, 113, 179, 0.5);\">ice</span> <span title=\"0.149\" style=\"background-color: rgba(234, 233, 243, 0.5);\">at</span> <span title=\"0.110\" style=\"background-color: rgba(240, 238, 245, 0.5);\">xxup</span> <span title=\"0.284\" style=\"background-color: rgba(210, 210, 231, 0.5);\">jfk</span> <span title=\"0.127\" style=\"background-color: rgba(238, 236, 244, 0.5);\">...</span> <span title=\"0.159\" style=\"background-color: rgba(233, 232, 242, 0.5);\">xxmaj</span> <span title=\"0.367\" style=\"background-color: rgba(190, 191, 221, 0.5);\">can</span> <span title=\"0.198\" style=\"background-color: rgba(227, 226, 239, 0.5);\">i</span> <span title=\"0.622\" style=\"background-color: rgba(128, 125, 186, 0.5);\">switch</span> <span title=\"0.173\" style=\"background-color: rgba(231, 229, 241, 0.5);\">to</span> <span title=\"0.112\" style=\"background-color: rgba(240, 238, 245, 0.5);\">a</span> <span title=\"0.131\" style=\"background-color: rgba(238, 236, 244, 0.5);\">xxmaj</span> <span title=\"0.451\" style=\"background-color: rgba(169, 167, 207, 0.5);\">late</span> <span title=\"0.127\" style=\"background-color: rgba(238, 236, 244, 0.5);\">xxmaj</span> <span title=\"0.193\" style=\"background-color: rgba(227, 226, 239, 0.5);\">flightr</span> <span title=\"0.220\" style=\"background-color: rgba(223, 222, 237, 0.5);\">flight</span> <span title=\"0.279\" style=\"background-color: rgba(211, 211, 231, 0.5);\">for</span> <span title=\"0.925\" style=\"background-color: rgba(75, 23, 135, 0.5);\">free</span></span>"
      ],
      "text/plain": [
       "<IPython.core.display.HTML object>"
      ]
     },
     "metadata": {},
     "output_type": "display_data"
    },
    {
     "name": "stdout",
     "output_type": "stream",
     "text": [
      "('@AmericanAir is that something the crew on the current leg can request of the gate team on the next leg?', 'negative', 'neutral')\n"
     ]
    },
    {
     "data": {
      "text/html": [
       "<span style=\"font-family: monospace;\"><span title=\"0.326\" style=\"background-color: rgba(199, 200, 225, 0.5);\">xxbos</span> <span title=\"0.825\" style=\"background-color: rgba(92, 54, 150, 0.5);\">@americanair</span> <span title=\"0.814\" style=\"background-color: rgba(94, 58, 152, 0.5);\">is</span> <span title=\"0.927\" style=\"background-color: rgba(74, 22, 135, 0.5);\">that</span> <span title=\"0.657\" style=\"background-color: rgba(122, 113, 179, 0.5);\">something</span> <span title=\"0.403\" style=\"background-color: rgba(181, 180, 215, 0.5);\">the</span> <span title=\"1.000\" style=\"background-color: rgba(63, 0, 125, 0.5);\">crew</span> <span title=\"0.222\" style=\"background-color: rgba(223, 222, 237, 0.5);\">on</span> <span title=\"0.178\" style=\"background-color: rgba(230, 229, 240, 0.5);\">the</span> <span title=\"0.624\" style=\"background-color: rgba(128, 125, 186, 0.5);\">current</span> <span title=\"0.644\" style=\"background-color: rgba(124, 118, 182, 0.5);\">leg</span> <span title=\"0.362\" style=\"background-color: rgba(191, 192, 221, 0.5);\">can</span> <span title=\"0.982\" style=\"background-color: rgba(65, 4, 127, 0.5);\">request</span> <span title=\"0.435\" style=\"background-color: rgba(173, 172, 210, 0.5);\">of</span> <span title=\"0.186\" style=\"background-color: rgba(229, 227, 240, 0.5);\">the</span> <span title=\"0.352\" style=\"background-color: rgba(193, 194, 222, 0.5);\">gate</span> <span title=\"0.273\" style=\"background-color: rgba(213, 213, 232, 0.5);\">team</span> <span title=\"0.194\" style=\"background-color: rgba(227, 226, 239, 0.5);\">on</span> <span title=\"0.105\" style=\"background-color: rgba(241, 239, 246, 0.5);\">the</span> <span title=\"0.340\" style=\"background-color: rgba(196, 196, 224, 0.5);\">next</span> <span title=\"0.326\" style=\"background-color: rgba(199, 200, 225, 0.5);\">leg</span> <span title=\"0.399\" style=\"background-color: rgba(182, 182, 216, 0.5);\">?</span></span>"
      ],
      "text/plain": [
       "<IPython.core.display.HTML object>"
      ]
     },
     "metadata": {},
     "output_type": "display_data"
    },
    {
     "name": "stdout",
     "output_type": "stream",
     "text": [
      "(\"@AmericanAir there's a lot of talks and no doing. \\nMIA-SFO on a 20+ year old plane #nonewplanes #old #shame http://t.co/TwETPXUpPN\", 'negative', 'neutral')\n"
     ]
    },
    {
     "data": {
      "text/html": [
       "<span style=\"font-family: monospace;\"><span title=\"0.176\" style=\"background-color: rgba(230, 229, 240, 0.5);\">xxbos</span> <span title=\"0.320\" style=\"background-color: rgba(201, 202, 226, 0.5);\">@americanair</span> <span title=\"0.203\" style=\"background-color: rgba(225, 225, 238, 0.5);\">there</span> <span title=\"0.134\" style=\"background-color: rgba(237, 235, 244, 0.5);\">&#x27;s</span> <span title=\"0.186\" style=\"background-color: rgba(229, 227, 240, 0.5);\">a</span> <span title=\"0.839\" style=\"background-color: rgba(90, 51, 148, 0.5);\">lot</span> <span title=\"0.175\" style=\"background-color: rgba(231, 229, 241, 0.5);\">of</span> <span title=\"1.000\" style=\"background-color: rgba(63, 0, 125, 0.5);\">talks</span> <span title=\"0.131\" style=\"background-color: rgba(238, 236, 244, 0.5);\">and</span> <span title=\"0.190\" style=\"background-color: rgba(228, 227, 239, 0.5);\">no</span> <span title=\"0.257\" style=\"background-color: rgba(216, 216, 234, 0.5);\">doing</span> <span title=\"0.103\" style=\"background-color: rgba(241, 239, 246, 0.5);\">.</span> <span title=\"0.177\" style=\"background-color: rgba(230, 229, 240, 0.5);\">xxup</span> <span title=\"0.194\" style=\"background-color: rgba(227, 226, 239, 0.5);\">mia</span> <span title=\"0.909\" style=\"background-color: rgba(78, 28, 137, 0.5);\">-</span> <span title=\"0.231\" style=\"background-color: rgba(221, 220, 236, 0.5);\">xxup</span> <span title=\"0.104\" style=\"background-color: rgba(241, 239, 246, 0.5);\">sfo</span> <span title=\"0.340\" style=\"background-color: rgba(196, 196, 224, 0.5);\">on</span> <span title=\"0.125\" style=\"background-color: rgba(238, 236, 244, 0.5);\">a</span> <span title=\"0.168\" style=\"background-color: rgba(232, 230, 241, 0.5);\">20</span> <span title=\"0.476\" style=\"background-color: rgba(164, 161, 204, 0.5);\">+</span> <span title=\"0.359\" style=\"background-color: rgba(192, 193, 222, 0.5);\">year</span> <span title=\"0.294\" style=\"background-color: rgba(207, 207, 229, 0.5);\">old</span> <span title=\"0.173\" style=\"background-color: rgba(231, 229, 241, 0.5);\">plane</span> <span title=\"0.162\" style=\"background-color: rgba(232, 231, 242, 0.5);\">#</span> <span title=\"0.147\" style=\"background-color: rgba(235, 233, 243, 0.5);\">xxunk</span> <span title=\"0.140\" style=\"background-color: rgba(236, 235, 244, 0.5);\">#</span> <span title=\"0.138\" style=\"background-color: rgba(236, 235, 244, 0.5);\">old</span> <span title=\"0.185\" style=\"background-color: rgba(229, 227, 240, 0.5);\">#</span> <span title=\"0.251\" style=\"background-color: rgba(217, 217, 234, 0.5);\">shame</span> <span title=\"0.562\" style=\"background-color: rgba(143, 139, 193, 0.5);\">http</span> <span title=\"0.494\" style=\"background-color: rgba(159, 155, 200, 0.5);\">:</span> <span title=\"0.163\" style=\"background-color: rgba(232, 231, 242, 0.5);\">/</span> <span title=\"0.128\" style=\"background-color: rgba(238, 236, 244, 0.5);\">/</span> <span title=\"0.162\" style=\"background-color: rgba(232, 231, 242, 0.5);\">t.co</span> <span title=\"0.334\" style=\"background-color: rgba(198, 198, 225, 0.5);\">/</span> <span title=\"0.181\" style=\"background-color: rgba(229, 228, 240, 0.5);\">xxunk</span></span>"
      ],
      "text/plain": [
       "<IPython.core.display.HTML object>"
      ]
     },
     "metadata": {},
     "output_type": "display_data"
    }
   ],
   "source": [
    "# True sentiment negative, predicted sentiment neutral \n",
    "\n",
    "for i in df_res.loc[(df_res['airline_sentiment'] == 'negative') & (df_res['predicted_sentiment'] == 'neutral')].index[0:10]:\n",
    "    print((df_res['text'].loc[i], df_res['airline_sentiment'].loc[i], df_res['predicted_sentiment'].loc[i]))\n",
    "    text_interp_test.show_intrinsic_attention(df_res['text'].loc[i], cmap = mpl.cm.Purples)"
   ]
  },
  {
   "cell_type": "markdown",
   "metadata": {},
   "source": [
    "**True sentiment neutral, predicted sentiment positive**\n",
    "\n",
    "Sometimes misclassifications are clearly due to words which, extrapolated from the context, contain a positive sentiment (\"thanks\", \"better\" or \":)\"); the remaining cases are instead less clear."
   ]
  },
  {
   "cell_type": "code",
   "execution_count": 72,
   "metadata": {},
   "outputs": [
    {
     "name": "stdout",
     "output_type": "stream",
     "text": [
      "('@USAirways my wife left her phone on flight AWE474 on Friday February 20th upon landing in Minneapolis. How can we get it back? Thanks!', 'neutral', 'positive')\n"
     ]
    },
    {
     "data": {
      "text/html": [
       "<span style=\"font-family: monospace;\"><span title=\"0.133\" style=\"background-color: rgba(237, 235, 244, 0.5);\">xxbos</span> <span title=\"0.205\" style=\"background-color: rgba(225, 225, 238, 0.5);\">@usairways</span> <span title=\"0.093\" style=\"background-color: rgba(242, 240, 247, 0.5);\">my</span> <span title=\"0.315\" style=\"background-color: rgba(202, 203, 227, 0.5);\">wife</span> <span title=\"0.418\" style=\"background-color: rgba(177, 176, 212, 0.5);\">left</span> <span title=\"0.199\" style=\"background-color: rgba(226, 225, 239, 0.5);\">her</span> <span title=\"0.433\" style=\"background-color: rgba(174, 173, 210, 0.5);\">phone</span> <span title=\"0.074\" style=\"background-color: rgba(244, 243, 248, 0.5);\">on</span> <span title=\"0.226\" style=\"background-color: rgba(222, 222, 237, 0.5);\">flight</span> <span title=\"0.094\" style=\"background-color: rgba(242, 240, 246, 0.5);\">xxup</span> <span title=\"0.047\" style=\"background-color: rgba(247, 246, 250, 0.5);\">xxunk</span> <span title=\"0.052\" style=\"background-color: rgba(246, 245, 249, 0.5);\">on</span> <span title=\"0.058\" style=\"background-color: rgba(246, 244, 249, 0.5);\">xxmaj</span> <span title=\"0.174\" style=\"background-color: rgba(231, 229, 241, 0.5);\">friday</span> <span title=\"0.084\" style=\"background-color: rgba(243, 241, 247, 0.5);\">xxmaj</span> <span title=\"0.097\" style=\"background-color: rgba(242, 240, 246, 0.5);\">february</span> <span title=\"0.104\" style=\"background-color: rgba(241, 239, 246, 0.5);\">xxunk</span> <span title=\"0.390\" style=\"background-color: rgba(184, 185, 217, 0.5);\">upon</span> <span title=\"0.224\" style=\"background-color: rgba(222, 222, 237, 0.5);\">landing</span> <span title=\"0.056\" style=\"background-color: rgba(246, 244, 249, 0.5);\">in</span> <span title=\"0.056\" style=\"background-color: rgba(246, 244, 249, 0.5);\">xxmaj</span> <span title=\"0.105\" style=\"background-color: rgba(240, 239, 246, 0.5);\">minneapolis</span> <span title=\"0.036\" style=\"background-color: rgba(248, 247, 250, 0.5);\">.</span> <span title=\"0.090\" style=\"background-color: rgba(243, 241, 247, 0.5);\">xxmaj</span> <span title=\"0.322\" style=\"background-color: rgba(200, 201, 226, 0.5);\">how</span> <span title=\"0.264\" style=\"background-color: rgba(214, 215, 233, 0.5);\">can</span> <span title=\"0.189\" style=\"background-color: rgba(228, 227, 239, 0.5);\">we</span> <span title=\"0.120\" style=\"background-color: rgba(239, 237, 245, 0.5);\">get</span> <span title=\"0.085\" style=\"background-color: rgba(243, 241, 247, 0.5);\">it</span> <span title=\"0.087\" style=\"background-color: rgba(243, 241, 247, 0.5);\">back</span> <span title=\"0.202\" style=\"background-color: rgba(226, 225, 239, 0.5);\">?</span> <span title=\"0.195\" style=\"background-color: rgba(227, 226, 239, 0.5);\">xxmaj</span> <span title=\"1.000\" style=\"background-color: rgba(63, 0, 125, 0.5);\">thanks</span> <span title=\"0.537\" style=\"background-color: rgba(149, 145, 195, 0.5);\">!</span></span>"
      ],
      "text/plain": [
       "<IPython.core.display.HTML object>"
      ]
     },
     "metadata": {},
     "output_type": "display_data"
    },
    {
     "name": "stdout",
     "output_type": "stream",
     "text": [
      "('@AmericanAir I know. Just a little cold weather humor. :)', 'neutral', 'positive')\n"
     ]
    },
    {
     "data": {
      "text/html": [
       "<span style=\"font-family: monospace;\"><span title=\"0.115\" style=\"background-color: rgba(240, 238, 245, 0.5);\">xxbos</span> <span title=\"0.178\" style=\"background-color: rgba(230, 229, 240, 0.5);\">@americanair</span> <span title=\"0.080\" style=\"background-color: rgba(243, 242, 247, 0.5);\">i</span> <span title=\"0.301\" style=\"background-color: rgba(206, 206, 229, 0.5);\">know</span> <span title=\"0.073\" style=\"background-color: rgba(244, 243, 248, 0.5);\">.</span> <span title=\"0.077\" style=\"background-color: rgba(244, 242, 248, 0.5);\">xxmaj</span> <span title=\"0.232\" style=\"background-color: rgba(221, 220, 236, 0.5);\">just</span> <span title=\"0.161\" style=\"background-color: rgba(232, 231, 242, 0.5);\">a</span> <span title=\"0.248\" style=\"background-color: rgba(218, 218, 235, 0.5);\">little</span> <span title=\"0.517\" style=\"background-color: rgba(153, 149, 198, 0.5);\">cold</span> <span title=\"0.316\" style=\"background-color: rgba(202, 203, 227, 0.5);\">weather</span> <span title=\"0.702\" style=\"background-color: rgba(114, 97, 171, 0.5);\">humor</span> <span title=\"0.104\" style=\"background-color: rgba(241, 239, 246, 0.5);\">.</span> <span title=\"1.000\" style=\"background-color: rgba(63, 0, 125, 0.5);\">:)</span></span>"
      ],
      "text/plain": [
       "<IPython.core.display.HTML object>"
      ]
     },
     "metadata": {},
     "output_type": "display_data"
    },
    {
     "name": "stdout",
     "output_type": "stream",
     "text": [
      "('@JetBlue unfortunately no, but hoping I can catch one sometime in the near future!', 'neutral', 'positive')\n"
     ]
    },
    {
     "data": {
      "text/html": [
       "<span style=\"font-family: monospace;\"><span title=\"0.219\" style=\"background-color: rgba(223, 222, 237, 0.5);\">xxbos</span> <span title=\"0.345\" style=\"background-color: rgba(195, 195, 223, 0.5);\">@jetblue</span> <span title=\"0.701\" style=\"background-color: rgba(114, 97, 171, 0.5);\">unfortunately</span> <span title=\"0.416\" style=\"background-color: rgba(178, 177, 213, 0.5);\">no</span> <span title=\"0.228\" style=\"background-color: rgba(221, 221, 236, 0.5);\">,</span> <span title=\"0.206\" style=\"background-color: rgba(225, 225, 238, 0.5);\">but</span> <span title=\"1.000\" style=\"background-color: rgba(63, 0, 125, 0.5);\">hoping</span> <span title=\"0.312\" style=\"background-color: rgba(203, 204, 227, 0.5);\">i</span> <span title=\"0.252\" style=\"background-color: rgba(217, 217, 234, 0.5);\">can</span> <span title=\"0.794\" style=\"background-color: rgba(97, 65, 155, 0.5);\">catch</span> <span title=\"0.396\" style=\"background-color: rgba(182, 183, 216, 0.5);\">one</span> <span title=\"0.850\" style=\"background-color: rgba(88, 47, 146, 0.5);\">sometime</span> <span title=\"0.172\" style=\"background-color: rgba(231, 230, 241, 0.5);\">in</span> <span title=\"0.145\" style=\"background-color: rgba(235, 233, 243, 0.5);\">the</span> <span title=\"0.912\" style=\"background-color: rgba(77, 26, 137, 0.5);\">near</span> <span title=\"0.314\" style=\"background-color: rgba(202, 203, 227, 0.5);\">future</span> <span title=\"0.437\" style=\"background-color: rgba(173, 172, 210, 0.5);\">!</span></span>"
      ],
      "text/plain": [
       "<IPython.core.display.HTML object>"
      ]
     },
     "metadata": {},
     "output_type": "display_data"
    },
    {
     "name": "stdout",
     "output_type": "stream",
     "text": [
      "('@united Will do! Thanks!', 'neutral', 'positive')\n"
     ]
    },
    {
     "data": {
      "text/html": [
       "<span style=\"font-family: monospace;\"><span title=\"0.178\" style=\"background-color: rgba(230, 229, 240, 0.5);\">xxbos</span> <span title=\"0.272\" style=\"background-color: rgba(213, 213, 232, 0.5);\">@united</span> <span title=\"0.169\" style=\"background-color: rgba(231, 230, 241, 0.5);\">xxmaj</span> <span title=\"0.375\" style=\"background-color: rgba(188, 189, 220, 0.5);\">will</span> <span title=\"0.397\" style=\"background-color: rgba(182, 183, 216, 0.5);\">do</span> <span title=\"0.380\" style=\"background-color: rgba(186, 187, 219, 0.5);\">!</span> <span title=\"0.232\" style=\"background-color: rgba(221, 220, 236, 0.5);\">xxmaj</span> <span title=\"1.000\" style=\"background-color: rgba(63, 0, 125, 0.5);\">thanks</span> <span title=\"0.417\" style=\"background-color: rgba(178, 177, 213, 0.5);\">!</span></span>"
      ],
      "text/plain": [
       "<IPython.core.display.HTML object>"
      ]
     },
     "metadata": {},
     "output_type": "display_data"
    },
    {
     "name": "stdout",
     "output_type": "stream",
     "text": [
      "(\"@USAirways - I'm in the Cust Svc line.  Your Charlotte, NC agents better be in their A game.\", 'neutral', 'positive')\n"
     ]
    },
    {
     "data": {
      "text/html": [
       "<span style=\"font-family: monospace;\"><span title=\"0.169\" style=\"background-color: rgba(231, 230, 241, 0.5);\">xxbos</span> <span title=\"0.310\" style=\"background-color: rgba(203, 204, 227, 0.5);\">@usairways</span> <span title=\"0.199\" style=\"background-color: rgba(227, 226, 239, 0.5);\">-</span> <span title=\"0.113\" style=\"background-color: rgba(240, 238, 245, 0.5);\">i</span> <span title=\"0.240\" style=\"background-color: rgba(219, 219, 235, 0.5);\">&#x27;m</span> <span title=\"0.129\" style=\"background-color: rgba(238, 236, 244, 0.5);\">in</span> <span title=\"0.093\" style=\"background-color: rgba(242, 240, 247, 0.5);\">the</span> <span title=\"0.123\" style=\"background-color: rgba(239, 237, 245, 0.5);\">xxmaj</span> <span title=\"0.627\" style=\"background-color: rgba(127, 124, 185, 0.5);\">cust</span> <span title=\"0.130\" style=\"background-color: rgba(238, 236, 244, 0.5);\">xxmaj</span> <span title=\"0.354\" style=\"background-color: rgba(193, 194, 222, 0.5);\">svc</span> <span title=\"0.391\" style=\"background-color: rgba(183, 184, 217, 0.5);\">line</span> <span title=\"0.063\" style=\"background-color: rgba(245, 243, 248, 0.5);\">.</span> <span title=\"0.123\" style=\"background-color: rgba(239, 237, 245, 0.5);\">xxmaj</span> <span title=\"0.307\" style=\"background-color: rgba(204, 205, 228, 0.5);\">your</span> <span title=\"0.288\" style=\"background-color: rgba(209, 209, 230, 0.5);\">xxmaj</span> <span title=\"1.000\" style=\"background-color: rgba(63, 0, 125, 0.5);\">charlotte</span> <span title=\"0.144\" style=\"background-color: rgba(236, 234, 243, 0.5);\">,</span> <span title=\"0.147\" style=\"background-color: rgba(235, 233, 243, 0.5);\">xxup</span> <span title=\"0.335\" style=\"background-color: rgba(198, 198, 225, 0.5);\">nc</span> <span title=\"0.675\" style=\"background-color: rgba(119, 107, 176, 0.5);\">agents</span> <span title=\"0.709\" style=\"background-color: rgba(113, 95, 170, 0.5);\">better</span> <span title=\"0.277\" style=\"background-color: rgba(212, 212, 232, 0.5);\">be</span> <span title=\"0.199\" style=\"background-color: rgba(227, 226, 239, 0.5);\">in</span> <span title=\"0.192\" style=\"background-color: rgba(227, 226, 239, 0.5);\">their</span> <span title=\"0.194\" style=\"background-color: rgba(227, 226, 239, 0.5);\">a</span> <span title=\"0.593\" style=\"background-color: rgba(135, 132, 189, 0.5);\">game</span> <span title=\"0.093\" style=\"background-color: rgba(242, 240, 247, 0.5);\">.</span></span>"
      ],
      "text/plain": [
       "<IPython.core.display.HTML object>"
      ]
     },
     "metadata": {},
     "output_type": "display_data"
    },
    {
     "name": "stdout",
     "output_type": "stream",
     "text": [
      "(\"@VirginAmerica you know I'm flying virgin for the fight #MayweatherPacquiao\", 'neutral', 'positive')\n"
     ]
    },
    {
     "data": {
      "text/html": [
       "<span style=\"font-family: monospace;\"><span title=\"0.231\" style=\"background-color: rgba(221, 220, 236, 0.5);\">xxbos</span> <span title=\"0.265\" style=\"background-color: rgba(214, 215, 233, 0.5);\">@virginamerica</span> <span title=\"0.371\" style=\"background-color: rgba(189, 190, 220, 0.5);\">you</span> <span title=\"0.619\" style=\"background-color: rgba(129, 126, 186, 0.5);\">know</span> <span title=\"0.273\" style=\"background-color: rgba(213, 213, 232, 0.5);\">i</span> <span title=\"0.387\" style=\"background-color: rgba(184, 185, 217, 0.5);\">&#x27;m</span> <span title=\"0.871\" style=\"background-color: rgba(84, 40, 143, 0.5);\">flying</span> <span title=\"1.000\" style=\"background-color: rgba(63, 0, 125, 0.5);\">virgin</span> <span title=\"0.241\" style=\"background-color: rgba(219, 219, 235, 0.5);\">for</span> <span title=\"0.168\" style=\"background-color: rgba(231, 230, 241, 0.5);\">the</span> <span title=\"0.557\" style=\"background-color: rgba(144, 140, 193, 0.5);\">fight</span> <span title=\"0.589\" style=\"background-color: rgba(136, 133, 190, 0.5);\">#</span> <span title=\"0.588\" style=\"background-color: rgba(136, 133, 190, 0.5);\">mayweatherpacquiao</span></span>"
      ],
      "text/plain": [
       "<IPython.core.display.HTML object>"
      ]
     },
     "metadata": {},
     "output_type": "display_data"
    },
    {
     "name": "stdout",
     "output_type": "stream",
     "text": [
      "('@JetBlue Charleston - from your app guys as of a few minutes ago!!! http://t.co/sEUlpvfn95', 'neutral', 'positive')\n"
     ]
    },
    {
     "data": {
      "text/html": [
       "<span style=\"font-family: monospace;\"><span title=\"0.097\" style=\"background-color: rgba(242, 240, 246, 0.5);\">xxbos</span> <span title=\"0.136\" style=\"background-color: rgba(237, 235, 244, 0.5);\">@jetblue</span> <span title=\"0.138\" style=\"background-color: rgba(236, 235, 244, 0.5);\">xxmaj</span> <span title=\"1.000\" style=\"background-color: rgba(63, 0, 125, 0.5);\">charleston</span> <span title=\"0.279\" style=\"background-color: rgba(211, 211, 231, 0.5);\">-</span> <span title=\"0.107\" style=\"background-color: rgba(240, 239, 246, 0.5);\">from</span> <span title=\"0.145\" style=\"background-color: rgba(235, 233, 243, 0.5);\">your</span> <span title=\"0.348\" style=\"background-color: rgba(195, 195, 223, 0.5);\">app</span> <span title=\"0.174\" style=\"background-color: rgba(231, 229, 241, 0.5);\">guys</span> <span title=\"0.113\" style=\"background-color: rgba(240, 238, 245, 0.5);\">as</span> <span title=\"0.165\" style=\"background-color: rgba(232, 230, 241, 0.5);\">of</span> <span title=\"0.116\" style=\"background-color: rgba(240, 238, 245, 0.5);\">a</span> <span title=\"0.110\" style=\"background-color: rgba(240, 238, 245, 0.5);\">few</span> <span title=\"0.067\" style=\"background-color: rgba(245, 243, 248, 0.5);\">minutes</span> <span title=\"0.056\" style=\"background-color: rgba(246, 244, 249, 0.5);\">ago</span> <span title=\"0.077\" style=\"background-color: rgba(244, 242, 248, 0.5);\">!</span> <span title=\"0.084\" style=\"background-color: rgba(243, 241, 247, 0.5);\">!</span> <span title=\"0.084\" style=\"background-color: rgba(243, 241, 247, 0.5);\">!</span> <span title=\"0.308\" style=\"background-color: rgba(204, 205, 228, 0.5);\">http</span> <span title=\"0.068\" style=\"background-color: rgba(245, 243, 248, 0.5);\">:</span> <span title=\"0.070\" style=\"background-color: rgba(245, 243, 248, 0.5);\">/</span> <span title=\"0.061\" style=\"background-color: rgba(245, 244, 249, 0.5);\">/</span> <span title=\"0.163\" style=\"background-color: rgba(232, 231, 242, 0.5);\">t.co</span> <span title=\"0.114\" style=\"background-color: rgba(240, 238, 245, 0.5);\">/</span> <span title=\"0.145\" style=\"background-color: rgba(235, 233, 243, 0.5);\">xxunk</span></span>"
      ],
      "text/plain": [
       "<IPython.core.display.HTML object>"
      ]
     },
     "metadata": {},
     "output_type": "display_data"
    },
    {
     "name": "stdout",
     "output_type": "stream",
     "text": [
      "('@SouthwestAir to the rescue. Sundown in Chicago. Next stop San Antonio! http://t.co/rQBpmwETtq', 'neutral', 'positive')\n"
     ]
    },
    {
     "data": {
      "text/html": [
       "<span style=\"font-family: monospace;\"><span title=\"0.176\" style=\"background-color: rgba(230, 229, 240, 0.5);\">xxbos</span> <span title=\"0.243\" style=\"background-color: rgba(219, 219, 235, 0.5);\">@southwestair</span> <span title=\"0.267\" style=\"background-color: rgba(214, 214, 233, 0.5);\">to</span> <span title=\"0.151\" style=\"background-color: rgba(234, 233, 243, 0.5);\">the</span> <span title=\"1.000\" style=\"background-color: rgba(63, 0, 125, 0.5);\">rescue</span> <span title=\"0.088\" style=\"background-color: rgba(243, 241, 247, 0.5);\">.</span> <span title=\"0.134\" style=\"background-color: rgba(237, 235, 244, 0.5);\">xxmaj</span> <span title=\"0.234\" style=\"background-color: rgba(221, 220, 236, 0.5);\">xxunk</span> <span title=\"0.100\" style=\"background-color: rgba(241, 240, 246, 0.5);\">in</span> <span title=\"0.072\" style=\"background-color: rgba(244, 243, 248, 0.5);\">xxmaj</span> <span title=\"0.181\" style=\"background-color: rgba(229, 228, 240, 0.5);\">chicago</span> <span title=\"0.088\" style=\"background-color: rgba(243, 241, 247, 0.5);\">.</span> <span title=\"0.098\" style=\"background-color: rgba(241, 240, 246, 0.5);\">xxmaj</span> <span title=\"0.495\" style=\"background-color: rgba(159, 155, 200, 0.5);\">next</span> <span title=\"0.687\" style=\"background-color: rgba(117, 103, 174, 0.5);\">stop</span> <span title=\"0.093\" style=\"background-color: rgba(242, 240, 247, 0.5);\">xxmaj</span> <span title=\"0.222\" style=\"background-color: rgba(223, 222, 237, 0.5);\">san</span> <span title=\"0.082\" style=\"background-color: rgba(243, 241, 247, 0.5);\">xxmaj</span> <span title=\"0.228\" style=\"background-color: rgba(221, 221, 236, 0.5);\">antonio</span> <span title=\"0.193\" style=\"background-color: rgba(227, 226, 239, 0.5);\">!</span> <span title=\"0.476\" style=\"background-color: rgba(164, 161, 204, 0.5);\">http</span> <span title=\"0.154\" style=\"background-color: rgba(234, 232, 242, 0.5);\">:</span> <span title=\"0.132\" style=\"background-color: rgba(238, 236, 244, 0.5);\">/</span> <span title=\"0.086\" style=\"background-color: rgba(243, 241, 247, 0.5);\">/</span> <span title=\"0.328\" style=\"background-color: rgba(199, 200, 225, 0.5);\">t.co</span> <span title=\"0.202\" style=\"background-color: rgba(226, 225, 239, 0.5);\">/</span> <span title=\"0.290\" style=\"background-color: rgba(208, 208, 230, 0.5);\">xxunk</span></span>"
      ],
      "text/plain": [
       "<IPython.core.display.HTML object>"
      ]
     },
     "metadata": {},
     "output_type": "display_data"
    },
    {
     "name": "stdout",
     "output_type": "stream",
     "text": [
      "(\"@southwestair TREMENDOUS job. Atlanta Airport saw SW celebrate Mardi Gras. Another reason I'm nuts for you guys! http://t.co/8WBzOrRn3C\", 'neutral', 'positive')\n"
     ]
    },
    {
     "data": {
      "text/html": [
       "<span style=\"font-family: monospace;\"><span title=\"0.080\" style=\"background-color: rgba(243, 242, 247, 0.5);\">xxbos</span> <span title=\"0.133\" style=\"background-color: rgba(238, 236, 244, 0.5);\">@southwestair</span> <span title=\"0.268\" style=\"background-color: rgba(214, 214, 233, 0.5);\">xxup</span> <span title=\"1.000\" style=\"background-color: rgba(63, 0, 125, 0.5);\">tremendous</span> <span title=\"0.177\" style=\"background-color: rgba(230, 229, 240, 0.5);\">job</span> <span title=\"0.060\" style=\"background-color: rgba(245, 244, 249, 0.5);\">.</span> <span title=\"0.067\" style=\"background-color: rgba(245, 243, 248, 0.5);\">xxmaj</span> <span title=\"0.387\" style=\"background-color: rgba(184, 185, 217, 0.5);\">atlanta</span> <span title=\"0.086\" style=\"background-color: rgba(243, 241, 247, 0.5);\">xxmaj</span> <span title=\"0.144\" style=\"background-color: rgba(236, 234, 243, 0.5);\">airport</span> <span title=\"0.313\" style=\"background-color: rgba(202, 203, 227, 0.5);\">saw</span> <span title=\"0.092\" style=\"background-color: rgba(242, 240, 247, 0.5);\">xxup</span> <span title=\"0.264\" style=\"background-color: rgba(214, 215, 233, 0.5);\">sw</span> <span title=\"0.294\" style=\"background-color: rgba(207, 207, 229, 0.5);\">celebrate</span> <span title=\"0.063\" style=\"background-color: rgba(245, 243, 248, 0.5);\">xxmaj</span> <span title=\"0.152\" style=\"background-color: rgba(234, 233, 243, 0.5);\">xxunk</span> <span title=\"0.060\" style=\"background-color: rgba(245, 244, 249, 0.5);\">xxmaj</span> <span title=\"0.029\" style=\"background-color: rgba(249, 247, 251, 0.5);\">xxunk</span> <span title=\"0.028\" style=\"background-color: rgba(249, 247, 251, 0.5);\">.</span> <span title=\"0.037\" style=\"background-color: rgba(248, 247, 250, 0.5);\">xxmaj</span> <span title=\"0.094\" style=\"background-color: rgba(242, 240, 246, 0.5);\">another</span> <span title=\"0.169\" style=\"background-color: rgba(231, 230, 241, 0.5);\">reason</span> <span title=\"0.068\" style=\"background-color: rgba(245, 243, 248, 0.5);\">i</span> <span title=\"0.085\" style=\"background-color: rgba(243, 241, 247, 0.5);\">&#x27;m</span> <span title=\"0.286\" style=\"background-color: rgba(209, 209, 230, 0.5);\">nuts</span> <span title=\"0.039\" style=\"background-color: rgba(248, 247, 250, 0.5);\">for</span> <span title=\"0.036\" style=\"background-color: rgba(248, 247, 250, 0.5);\">you</span> <span title=\"0.054\" style=\"background-color: rgba(246, 245, 249, 0.5);\">guys</span> <span title=\"0.059\" style=\"background-color: rgba(245, 244, 249, 0.5);\">!</span> <span title=\"0.220\" style=\"background-color: rgba(223, 222, 237, 0.5);\">http</span> <span title=\"0.070\" style=\"background-color: rgba(245, 243, 248, 0.5);\">:</span> <span title=\"0.063\" style=\"background-color: rgba(245, 243, 248, 0.5);\">/</span> <span title=\"0.049\" style=\"background-color: rgba(247, 245, 249, 0.5);\">/</span> <span title=\"0.158\" style=\"background-color: rgba(233, 232, 242, 0.5);\">t.co</span> <span title=\"0.112\" style=\"background-color: rgba(240, 238, 245, 0.5);\">/</span> <span title=\"0.295\" style=\"background-color: rgba(207, 207, 229, 0.5);\">8wbzorrn3c</span></span>"
      ],
      "text/plain": [
       "<IPython.core.display.HTML object>"
      ]
     },
     "metadata": {},
     "output_type": "display_data"
    },
    {
     "name": "stdout",
     "output_type": "stream",
     "text": [
      "('@united Thank you, ^JH, appreciate the prompt responses--me and other passengers will be doing so.', 'neutral', 'positive')\n"
     ]
    },
    {
     "data": {
      "text/html": [
       "<span style=\"font-family: monospace;\"><span title=\"0.098\" style=\"background-color: rgba(242, 240, 246, 0.5);\">xxbos</span> <span title=\"0.149\" style=\"background-color: rgba(234, 233, 243, 0.5);\">@united</span> <span title=\"0.080\" style=\"background-color: rgba(243, 242, 247, 0.5);\">xxmaj</span> <span title=\"0.397\" style=\"background-color: rgba(182, 183, 216, 0.5);\">thank</span> <span title=\"0.221\" style=\"background-color: rgba(223, 222, 237, 0.5);\">you</span> <span title=\"0.116\" style=\"background-color: rgba(240, 238, 245, 0.5);\">,</span> <span title=\"0.211\" style=\"background-color: rgba(225, 224, 238, 0.5);\">xxup</span> <span title=\"1.000\" style=\"background-color: rgba(63, 0, 125, 0.5);\">^jh</span> <span title=\"0.075\" style=\"background-color: rgba(244, 242, 248, 0.5);\">,</span> <span title=\"0.464\" style=\"background-color: rgba(166, 164, 205, 0.5);\">appreciate</span> <span title=\"0.147\" style=\"background-color: rgba(235, 233, 243, 0.5);\">the</span> <span title=\"0.595\" style=\"background-color: rgba(134, 131, 189, 0.5);\">prompt</span> <span title=\"0.330\" style=\"background-color: rgba(198, 199, 225, 0.5);\">responses</span> <span title=\"0.200\" style=\"background-color: rgba(226, 225, 239, 0.5);\">--</span> <span title=\"0.244\" style=\"background-color: rgba(219, 219, 235, 0.5);\">me</span> <span title=\"0.108\" style=\"background-color: rgba(240, 239, 246, 0.5);\">and</span> <span title=\"0.149\" style=\"background-color: rgba(234, 233, 243, 0.5);\">other</span> <span title=\"0.199\" style=\"background-color: rgba(227, 226, 239, 0.5);\">passengers</span> <span title=\"0.142\" style=\"background-color: rgba(236, 234, 243, 0.5);\">will</span> <span title=\"0.086\" style=\"background-color: rgba(243, 241, 247, 0.5);\">be</span> <span title=\"0.199\" style=\"background-color: rgba(227, 226, 239, 0.5);\">doing</span> <span title=\"0.161\" style=\"background-color: rgba(232, 231, 242, 0.5);\">so</span> <span title=\"0.102\" style=\"background-color: rgba(241, 239, 246, 0.5);\">.</span></span>"
      ],
      "text/plain": [
       "<IPython.core.display.HTML object>"
      ]
     },
     "metadata": {},
     "output_type": "display_data"
    }
   ],
   "source": [
    "# True sentiment neutral, predicted sentiment positive \n",
    "\n",
    "for i in df_res.loc[(df_res['airline_sentiment'] == 'neutral') & (df_res['predicted_sentiment'] == 'positive')].index[0:10]:\n",
    "    print((df_res['text'].loc[i], df_res['airline_sentiment'].loc[i], df_res['predicted_sentiment'].loc[i]))\n",
    "    text_interp_test.show_intrinsic_attention(df_res['text'].loc[i], cmap = mpl.cm.Purples)"
   ]
  },
  {
   "cell_type": "markdown",
   "metadata": {},
   "source": [
    "**True sentiment positive, predicted sentiment neutral**\n",
    "\n",
    "Some of these tweets do not actually seem to contain a positive sentiment and may have been misclassified in the dataset. In other cases instead despite the presence of positive words such as \"happy\" or \"phenomenal\" the remaining words level the overall sentiment to neutral, but it is not clear how we may fix this problem."
   ]
  },
  {
   "cell_type": "code",
   "execution_count": 73,
   "metadata": {},
   "outputs": [
    {
     "name": "stdout",
     "output_type": "stream",
     "text": [
      "('@united 1632 was phenomenal frm gate (SEA) to gate (IAD)', 'positive', 'neutral')\n"
     ]
    },
    {
     "data": {
      "text/html": [
       "<span style=\"font-family: monospace;\"><span title=\"0.102\" style=\"background-color: rgba(241, 239, 246, 0.5);\">xxbos</span> <span title=\"0.194\" style=\"background-color: rgba(227, 226, 239, 0.5);\">@united</span> <span title=\"0.212\" style=\"background-color: rgba(224, 223, 238, 0.5);\">xxunk</span> <span title=\"0.189\" style=\"background-color: rgba(228, 227, 239, 0.5);\">was</span> <span title=\"1.000\" style=\"background-color: rgba(63, 0, 125, 0.5);\">phenomenal</span> <span title=\"0.418\" style=\"background-color: rgba(177, 176, 212, 0.5);\">frm</span> <span title=\"0.300\" style=\"background-color: rgba(206, 206, 229, 0.5);\">gate</span> <span title=\"0.082\" style=\"background-color: rgba(243, 241, 247, 0.5);\">(</span> <span title=\"0.078\" style=\"background-color: rgba(244, 242, 248, 0.5);\">xxup</span> <span title=\"0.190\" style=\"background-color: rgba(228, 227, 239, 0.5);\">sea</span> <span title=\"0.067\" style=\"background-color: rgba(245, 243, 248, 0.5);\">)</span> <span title=\"0.121\" style=\"background-color: rgba(239, 237, 245, 0.5);\">to</span> <span title=\"0.199\" style=\"background-color: rgba(227, 226, 239, 0.5);\">gate</span> <span title=\"0.085\" style=\"background-color: rgba(243, 241, 247, 0.5);\">(</span> <span title=\"0.079\" style=\"background-color: rgba(243, 242, 247, 0.5);\">xxup</span> <span title=\"0.217\" style=\"background-color: rgba(223, 223, 237, 0.5);\">iad</span> <span title=\"0.123\" style=\"background-color: rgba(239, 237, 245, 0.5);\">)</span></span>"
      ],
      "text/plain": [
       "<IPython.core.display.HTML object>"
      ]
     },
     "metadata": {},
     "output_type": "display_data"
    },
    {
     "name": "stdout",
     "output_type": "stream",
     "text": [
      "('Cc @DadBoner  #boldflavors “@united: We’re bringing Bourbon St. to 35,000 ft. with bold flavors, fresh ingredients and more dining options\"', 'positive', 'neutral')\n"
     ]
    },
    {
     "data": {
      "text/html": [
       "<span style=\"font-family: monospace;\"><span title=\"0.148\" style=\"background-color: rgba(235, 233, 243, 0.5);\">xxbos</span> <span title=\"0.146\" style=\"background-color: rgba(235, 233, 243, 0.5);\">xxmaj</span> <span title=\"0.756\" style=\"background-color: rgba(104, 78, 161, 0.5);\">cc</span> <span title=\"0.119\" style=\"background-color: rgba(239, 237, 245, 0.5);\">xxunk</span> <span title=\"0.113\" style=\"background-color: rgba(240, 238, 245, 0.5);\">#</span> <span title=\"0.147\" style=\"background-color: rgba(235, 233, 243, 0.5);\">xxunk</span> <span title=\"0.480\" style=\"background-color: rgba(163, 160, 203, 0.5);\">“</span> <span title=\"0.254\" style=\"background-color: rgba(216, 216, 234, 0.5);\">@united</span> <span title=\"0.156\" style=\"background-color: rgba(234, 232, 242, 0.5);\">:</span> <span title=\"0.095\" style=\"background-color: rgba(242, 240, 246, 0.5);\">xxmaj</span> <span title=\"0.191\" style=\"background-color: rgba(227, 226, 239, 0.5);\">we</span> <span title=\"0.356\" style=\"background-color: rgba(192, 193, 222, 0.5);\">’re</span> <span title=\"0.338\" style=\"background-color: rgba(197, 197, 224, 0.5);\">bringing</span> <span title=\"0.232\" style=\"background-color: rgba(221, 220, 236, 0.5);\">xxmaj</span> <span title=\"1.000\" style=\"background-color: rgba(63, 0, 125, 0.5);\">bourbon</span> <span title=\"0.137\" style=\"background-color: rgba(237, 235, 244, 0.5);\">xxmaj</span> <span title=\"0.141\" style=\"background-color: rgba(236, 234, 243, 0.5);\">st.</span> <span title=\"0.091\" style=\"background-color: rgba(242, 240, 247, 0.5);\">to</span> <span title=\"0.345\" style=\"background-color: rgba(195, 195, 223, 0.5);\">35,000</span> <span title=\"0.166\" style=\"background-color: rgba(232, 230, 241, 0.5);\">ft</span> <span title=\"0.108\" style=\"background-color: rgba(240, 239, 246, 0.5);\">.</span> <span title=\"0.147\" style=\"background-color: rgba(235, 233, 243, 0.5);\">with</span> <span title=\"0.708\" style=\"background-color: rgba(113, 95, 170, 0.5);\">bold</span> <span title=\"0.175\" style=\"background-color: rgba(231, 229, 241, 0.5);\">xxunk</span> <span title=\"0.113\" style=\"background-color: rgba(240, 238, 245, 0.5);\">,</span> <span title=\"0.452\" style=\"background-color: rgba(169, 167, 207, 0.5);\">fresh</span> <span title=\"0.195\" style=\"background-color: rgba(227, 226, 239, 0.5);\">xxunk</span> <span title=\"0.121\" style=\"background-color: rgba(239, 237, 245, 0.5);\">and</span> <span title=\"0.120\" style=\"background-color: rgba(239, 237, 245, 0.5);\">more</span> <span title=\"0.550\" style=\"background-color: rgba(146, 142, 194, 0.5);\">dining</span> <span title=\"0.212\" style=\"background-color: rgba(224, 223, 238, 0.5);\">options</span> <span title=\"0.253\" style=\"background-color: rgba(217, 217, 234, 0.5);\">&quot;</span></span>"
      ],
      "text/plain": [
       "<IPython.core.display.HTML object>"
      ]
     },
     "metadata": {},
     "output_type": "display_data"
    },
    {
     "name": "stdout",
     "output_type": "stream",
     "text": [
      "('@southwestair#SWADiversity We are ready to be inspired! http://t.co/S3EsW5AgUm', 'positive', 'neutral')\n"
     ]
    },
    {
     "data": {
      "text/html": [
       "<span style=\"font-family: monospace;\"><span title=\"0.089\" style=\"background-color: rgba(243, 241, 247, 0.5);\">xxbos</span> <span title=\"0.109\" style=\"background-color: rgba(240, 239, 246, 0.5);\">@southwestair</span> <span title=\"0.320\" style=\"background-color: rgba(201, 202, 226, 0.5);\">#</span> <span title=\"1.000\" style=\"background-color: rgba(63, 0, 125, 0.5);\">swadiversity</span> <span title=\"0.289\" style=\"background-color: rgba(209, 209, 230, 0.5);\">xxmaj</span> <span title=\"0.231\" style=\"background-color: rgba(221, 220, 236, 0.5);\">we</span> <span title=\"0.118\" style=\"background-color: rgba(239, 237, 245, 0.5);\">are</span> <span title=\"0.596\" style=\"background-color: rgba(134, 131, 189, 0.5);\">ready</span> <span title=\"0.090\" style=\"background-color: rgba(243, 241, 247, 0.5);\">to</span> <span title=\"0.092\" style=\"background-color: rgba(242, 240, 247, 0.5);\">be</span> <span title=\"0.351\" style=\"background-color: rgba(194, 195, 223, 0.5);\">inspired</span> <span title=\"0.160\" style=\"background-color: rgba(233, 232, 242, 0.5);\">!</span> <span title=\"0.337\" style=\"background-color: rgba(197, 197, 224, 0.5);\">http</span> <span title=\"0.087\" style=\"background-color: rgba(243, 241, 247, 0.5);\">:</span> <span title=\"0.085\" style=\"background-color: rgba(243, 241, 247, 0.5);\">/</span> <span title=\"0.059\" style=\"background-color: rgba(245, 244, 249, 0.5);\">/</span> <span title=\"0.172\" style=\"background-color: rgba(231, 230, 241, 0.5);\">t.co</span> <span title=\"0.133\" style=\"background-color: rgba(238, 236, 244, 0.5);\">/</span> <span title=\"0.184\" style=\"background-color: rgba(229, 227, 240, 0.5);\">xxunk</span></span>"
      ],
      "text/plain": [
       "<IPython.core.display.HTML object>"
      ]
     },
     "metadata": {},
     "output_type": "display_data"
    },
    {
     "name": "stdout",
     "output_type": "stream",
     "text": [
      "('@SouthwestAir El Paso deals....May❤❤❤😍🌏', 'positive', 'neutral')\n"
     ]
    },
    {
     "data": {
      "text/html": [
       "<span style=\"font-family: monospace;\"><span title=\"0.134\" style=\"background-color: rgba(237, 235, 244, 0.5);\">xxbos</span> <span title=\"0.173\" style=\"background-color: rgba(231, 229, 241, 0.5);\">@southwestair</span> <span title=\"0.174\" style=\"background-color: rgba(231, 229, 241, 0.5);\">xxmaj</span> <span title=\"1.000\" style=\"background-color: rgba(63, 0, 125, 0.5);\">el</span> <span title=\"0.305\" style=\"background-color: rgba(204, 205, 228, 0.5);\">xxmaj</span> <span title=\"0.439\" style=\"background-color: rgba(172, 171, 209, 0.5);\">paso</span> <span title=\"0.933\" style=\"background-color: rgba(74, 20, 134, 0.5);\">deals</span> <span title=\"0.454\" style=\"background-color: rgba(168, 166, 207, 0.5);\">xxrep</span> <span title=\"0.160\" style=\"background-color: rgba(233, 232, 242, 0.5);\">4</span> <span title=\"0.087\" style=\"background-color: rgba(243, 241, 247, 0.5);\">.</span> <span title=\"0.183\" style=\"background-color: rgba(229, 228, 240, 0.5);\">xxmaj</span> <span title=\"0.483\" style=\"background-color: rgba(162, 158, 202, 0.5);\">may</span> <span title=\"0.799\" style=\"background-color: rgba(97, 64, 155, 0.5);\">❤</span> <span title=\"0.554\" style=\"background-color: rgba(145, 141, 194, 0.5);\">❤</span> <span title=\"0.604\" style=\"background-color: rgba(133, 129, 188, 0.5);\">❤</span> <span title=\"0.628\" style=\"background-color: rgba(127, 124, 185, 0.5);\">😍</span> <span title=\"0.687\" style=\"background-color: rgba(117, 103, 174, 0.5);\">🌏</span></span>"
      ],
      "text/plain": [
       "<IPython.core.display.HTML object>"
      ]
     },
     "metadata": {},
     "output_type": "display_data"
    },
    {
     "name": "stdout",
     "output_type": "stream",
     "text": [
      "('@SouthwestAir  Mad love http://t.co/4ojrSDWPkK NYC-', 'positive', 'neutral')\n"
     ]
    },
    {
     "data": {
      "text/html": [
       "<span style=\"font-family: monospace;\"><span title=\"0.099\" style=\"background-color: rgba(241, 240, 246, 0.5);\">xxbos</span> <span title=\"0.107\" style=\"background-color: rgba(240, 239, 246, 0.5);\">@southwestair</span> <span title=\"0.103\" style=\"background-color: rgba(241, 239, 246, 0.5);\">xxmaj</span> <span title=\"1.000\" style=\"background-color: rgba(63, 0, 125, 0.5);\">mad</span> <span title=\"0.529\" style=\"background-color: rgba(150, 147, 196, 0.5);\">love</span> <span title=\"0.384\" style=\"background-color: rgba(185, 186, 218, 0.5);\">http</span> <span title=\"0.108\" style=\"background-color: rgba(240, 239, 246, 0.5);\">:</span> <span title=\"0.071\" style=\"background-color: rgba(244, 243, 248, 0.5);\">/</span> <span title=\"0.054\" style=\"background-color: rgba(246, 245, 249, 0.5);\">/</span> <span title=\"0.155\" style=\"background-color: rgba(234, 232, 242, 0.5);\">t.co</span> <span title=\"0.118\" style=\"background-color: rgba(239, 237, 245, 0.5);\">/</span> <span title=\"0.612\" style=\"background-color: rgba(131, 128, 187, 0.5);\">4ojrsdwpkk</span> <span title=\"0.191\" style=\"background-color: rgba(228, 227, 239, 0.5);\">xxup</span> <span title=\"0.506\" style=\"background-color: rgba(156, 152, 199, 0.5);\">nyc-</span></span>"
      ],
      "text/plain": [
       "<IPython.core.display.HTML object>"
      ]
     },
     "metadata": {},
     "output_type": "display_data"
    },
    {
     "name": "stdout",
     "output_type": "stream",
     "text": [
      "('@united I may not hit any new status this year, but I’ve flown several times this year and have tried to book with y’all every time!', 'positive', 'neutral')\n"
     ]
    },
    {
     "data": {
      "text/html": [
       "<span style=\"font-family: monospace;\"><span title=\"0.247\" style=\"background-color: rgba(218, 218, 235, 0.5);\">xxbos</span> <span title=\"0.342\" style=\"background-color: rgba(196, 196, 224, 0.5);\">@united</span> <span title=\"0.171\" style=\"background-color: rgba(231, 230, 241, 0.5);\">i</span> <span title=\"0.613\" style=\"background-color: rgba(130, 127, 187, 0.5);\">may</span> <span title=\"0.464\" style=\"background-color: rgba(166, 164, 205, 0.5);\">not</span> <span title=\"1.000\" style=\"background-color: rgba(63, 0, 125, 0.5);\">hit</span> <span title=\"0.751\" style=\"background-color: rgba(105, 80, 162, 0.5);\">any</span> <span title=\"0.443\" style=\"background-color: rgba(171, 169, 209, 0.5);\">new</span> <span title=\"0.568\" style=\"background-color: rgba(141, 138, 192, 0.5);\">status</span> <span title=\"0.252\" style=\"background-color: rgba(217, 217, 234, 0.5);\">this</span> <span title=\"0.244\" style=\"background-color: rgba(219, 219, 235, 0.5);\">year</span> <span title=\"0.047\" style=\"background-color: rgba(247, 245, 249, 0.5);\">,</span> <span title=\"0.128\" style=\"background-color: rgba(238, 236, 244, 0.5);\">but</span> <span title=\"0.142\" style=\"background-color: rgba(236, 234, 243, 0.5);\">i</span> <span title=\"0.282\" style=\"background-color: rgba(210, 210, 231, 0.5);\">’ve</span> <span title=\"0.450\" style=\"background-color: rgba(169, 167, 207, 0.5);\">flown</span> <span title=\"0.295\" style=\"background-color: rgba(207, 207, 229, 0.5);\">several</span> <span title=\"0.282\" style=\"background-color: rgba(210, 210, 231, 0.5);\">times</span> <span title=\"0.209\" style=\"background-color: rgba(225, 224, 238, 0.5);\">this</span> <span title=\"0.208\" style=\"background-color: rgba(225, 224, 238, 0.5);\">year</span> <span title=\"0.103\" style=\"background-color: rgba(241, 239, 246, 0.5);\">and</span> <span title=\"0.198\" style=\"background-color: rgba(227, 226, 239, 0.5);\">have</span> <span title=\"0.578\" style=\"background-color: rgba(139, 136, 191, 0.5);\">tried</span> <span title=\"0.155\" style=\"background-color: rgba(234, 232, 242, 0.5);\">to</span> <span title=\"0.485\" style=\"background-color: rgba(161, 157, 202, 0.5);\">book</span> <span title=\"0.140\" style=\"background-color: rgba(236, 235, 244, 0.5);\">with</span> <span title=\"0.357\" style=\"background-color: rgba(192, 193, 222, 0.5);\">y’</span> <span title=\"0.350\" style=\"background-color: rgba(194, 195, 223, 0.5);\">all</span> <span title=\"0.408\" style=\"background-color: rgba(180, 179, 214, 0.5);\">every</span> <span title=\"0.287\" style=\"background-color: rgba(209, 209, 230, 0.5);\">time</span> <span title=\"0.362\" style=\"background-color: rgba(191, 192, 221, 0.5);\">!</span></span>"
      ],
      "text/plain": [
       "<IPython.core.display.HTML object>"
      ]
     },
     "metadata": {},
     "output_type": "display_data"
    },
    {
     "name": "stdout",
     "output_type": "stream",
     "text": [
      "('@JetBlue Please come to Indianapolis!', 'positive', 'neutral')\n"
     ]
    },
    {
     "data": {
      "text/html": [
       "<span style=\"font-family: monospace;\"><span title=\"0.221\" style=\"background-color: rgba(223, 222, 237, 0.5);\">xxbos</span> <span title=\"0.236\" style=\"background-color: rgba(220, 220, 236, 0.5);\">@jetblue</span> <span title=\"0.176\" style=\"background-color: rgba(230, 229, 240, 0.5);\">xxmaj</span> <span title=\"1.000\" style=\"background-color: rgba(63, 0, 125, 0.5);\">please</span> <span title=\"0.520\" style=\"background-color: rgba(152, 148, 197, 0.5);\">come</span> <span title=\"0.183\" style=\"background-color: rgba(229, 228, 240, 0.5);\">to</span> <span title=\"0.199\" style=\"background-color: rgba(226, 225, 239, 0.5);\">xxmaj</span> <span title=\"0.488\" style=\"background-color: rgba(161, 157, 202, 0.5);\">indianapolis</span> <span title=\"0.356\" style=\"background-color: rgba(192, 193, 222, 0.5);\">!</span></span>"
      ],
      "text/plain": [
       "<IPython.core.display.HTML object>"
      ]
     },
     "metadata": {},
     "output_type": "display_data"
    },
    {
     "name": "stdout",
     "output_type": "stream",
     "text": [
      "('@JetBlue And we are glad to see what is going on and fix! @ProfessorpaUL15: please DM me your confirmation # so we can check.', 'positive', 'neutral')\n"
     ]
    },
    {
     "data": {
      "text/html": [
       "<span style=\"font-family: monospace;\"><span title=\"0.174\" style=\"background-color: rgba(231, 229, 241, 0.5);\">xxbos</span> <span title=\"0.203\" style=\"background-color: rgba(225, 225, 238, 0.5);\">@jetblue</span> <span title=\"0.132\" style=\"background-color: rgba(238, 236, 244, 0.5);\">xxmaj</span> <span title=\"0.197\" style=\"background-color: rgba(227, 226, 239, 0.5);\">and</span> <span title=\"0.244\" style=\"background-color: rgba(219, 219, 235, 0.5);\">we</span> <span title=\"0.144\" style=\"background-color: rgba(236, 234, 243, 0.5);\">are</span> <span title=\"0.680\" style=\"background-color: rgba(117, 104, 175, 0.5);\">glad</span> <span title=\"0.201\" style=\"background-color: rgba(226, 225, 239, 0.5);\">to</span> <span title=\"0.322\" style=\"background-color: rgba(200, 201, 226, 0.5);\">see</span> <span title=\"0.244\" style=\"background-color: rgba(219, 219, 235, 0.5);\">what</span> <span title=\"0.227\" style=\"background-color: rgba(221, 221, 236, 0.5);\">is</span> <span title=\"0.356\" style=\"background-color: rgba(192, 193, 222, 0.5);\">going</span> <span title=\"0.250\" style=\"background-color: rgba(217, 217, 234, 0.5);\">on</span> <span title=\"0.173\" style=\"background-color: rgba(231, 229, 241, 0.5);\">and</span> <span title=\"0.429\" style=\"background-color: rgba(175, 174, 211, 0.5);\">fix</span> <span title=\"0.171\" style=\"background-color: rgba(231, 230, 241, 0.5);\">!</span> <span title=\"0.620\" style=\"background-color: rgba(129, 126, 186, 0.5);\">@professorpaul15</span> <span title=\"0.209\" style=\"background-color: rgba(225, 224, 238, 0.5);\">:</span> <span title=\"0.828\" style=\"background-color: rgba(91, 53, 149, 0.5);\">please</span> <span title=\"0.216\" style=\"background-color: rgba(223, 223, 237, 0.5);\">xxup</span> <span title=\"1.000\" style=\"background-color: rgba(63, 0, 125, 0.5);\">dm</span> <span title=\"0.277\" style=\"background-color: rgba(212, 212, 232, 0.5);\">me</span> <span title=\"0.315\" style=\"background-color: rgba(202, 203, 227, 0.5);\">your</span> <span title=\"0.791\" style=\"background-color: rgba(98, 66, 156, 0.5);\">confirmation</span> <span title=\"0.358\" style=\"background-color: rgba(192, 193, 222, 0.5);\">#</span> <span title=\"0.239\" style=\"background-color: rgba(219, 219, 235, 0.5);\">so</span> <span title=\"0.170\" style=\"background-color: rgba(231, 230, 241, 0.5);\">we</span> <span title=\"0.124\" style=\"background-color: rgba(239, 237, 245, 0.5);\">can</span> <span title=\"0.437\" style=\"background-color: rgba(173, 172, 210, 0.5);\">check</span> <span title=\"0.214\" style=\"background-color: rgba(224, 223, 238, 0.5);\">.</span></span>"
      ],
      "text/plain": [
       "<IPython.core.display.HTML object>"
      ]
     },
     "metadata": {},
     "output_type": "display_data"
    },
    {
     "name": "stdout",
     "output_type": "stream",
     "text": [
      "('@united Thank you for that. Am I able to claim any interim expenses or is the cost of the stuff up on me?', 'positive', 'neutral')\n"
     ]
    },
    {
     "data": {
      "text/html": [
       "<span style=\"font-family: monospace;\"><span title=\"0.183\" style=\"background-color: rgba(229, 228, 240, 0.5);\">xxbos</span> <span title=\"0.203\" style=\"background-color: rgba(225, 225, 238, 0.5);\">@united</span> <span title=\"0.132\" style=\"background-color: rgba(238, 236, 244, 0.5);\">xxmaj</span> <span title=\"0.774\" style=\"background-color: rgba(101, 72, 158, 0.5);\">thank</span> <span title=\"0.384\" style=\"background-color: rgba(185, 186, 218, 0.5);\">you</span> <span title=\"0.139\" style=\"background-color: rgba(236, 235, 244, 0.5);\">for</span> <span title=\"0.300\" style=\"background-color: rgba(206, 206, 229, 0.5);\">that</span> <span title=\"0.235\" style=\"background-color: rgba(220, 220, 236, 0.5);\">.</span> <span title=\"0.227\" style=\"background-color: rgba(221, 221, 236, 0.5);\">xxmaj</span> <span title=\"0.696\" style=\"background-color: rgba(115, 99, 172, 0.5);\">am</span> <span title=\"0.483\" style=\"background-color: rgba(162, 158, 202, 0.5);\">i</span> <span title=\"0.507\" style=\"background-color: rgba(156, 152, 199, 0.5);\">able</span> <span title=\"0.139\" style=\"background-color: rgba(236, 235, 244, 0.5);\">to</span> <span title=\"0.723\" style=\"background-color: rgba(111, 91, 168, 0.5);\">claim</span> <span title=\"0.630\" style=\"background-color: rgba(126, 122, 184, 0.5);\">any</span> <span title=\"0.258\" style=\"background-color: rgba(215, 215, 233, 0.5);\">xxunk</span> <span title=\"1.000\" style=\"background-color: rgba(63, 0, 125, 0.5);\">expenses</span> <span title=\"0.239\" style=\"background-color: rgba(219, 219, 235, 0.5);\">or</span> <span title=\"0.534\" style=\"background-color: rgba(150, 146, 196, 0.5);\">is</span> <span title=\"0.273\" style=\"background-color: rgba(213, 213, 232, 0.5);\">the</span> <span title=\"0.692\" style=\"background-color: rgba(115, 100, 173, 0.5);\">cost</span> <span title=\"0.280\" style=\"background-color: rgba(211, 211, 231, 0.5);\">of</span> <span title=\"0.126\" style=\"background-color: rgba(238, 236, 244, 0.5);\">the</span> <span title=\"0.459\" style=\"background-color: rgba(167, 165, 206, 0.5);\">stuff</span> <span title=\"0.251\" style=\"background-color: rgba(217, 217, 234, 0.5);\">up</span> <span title=\"0.135\" style=\"background-color: rgba(237, 235, 244, 0.5);\">on</span> <span title=\"0.153\" style=\"background-color: rgba(234, 232, 242, 0.5);\">me</span> <span title=\"0.313\" style=\"background-color: rgba(202, 203, 227, 0.5);\">?</span></span>"
      ],
      "text/plain": [
       "<IPython.core.display.HTML object>"
      ]
     },
     "metadata": {},
     "output_type": "display_data"
    },
    {
     "name": "stdout",
     "output_type": "stream",
     "text": [
      "('@AmericanAir I was happy to purchase the upgrade. If only it was avail on my next flight.', 'positive', 'neutral')\n"
     ]
    },
    {
     "data": {
      "text/html": [
       "<span style=\"font-family: monospace;\"><span title=\"0.156\" style=\"background-color: rgba(234, 232, 242, 0.5);\">xxbos</span> <span title=\"0.202\" style=\"background-color: rgba(226, 225, 239, 0.5);\">@americanair</span> <span title=\"0.112\" style=\"background-color: rgba(240, 238, 245, 0.5);\">i</span> <span title=\"0.132\" style=\"background-color: rgba(238, 236, 244, 0.5);\">was</span> <span title=\"1.000\" style=\"background-color: rgba(63, 0, 125, 0.5);\">happy</span> <span title=\"0.248\" style=\"background-color: rgba(218, 218, 235, 0.5);\">to</span> <span title=\"0.920\" style=\"background-color: rgba(76, 24, 136, 0.5);\">purchase</span> <span title=\"0.181\" style=\"background-color: rgba(229, 228, 240, 0.5);\">the</span> <span title=\"0.857\" style=\"background-color: rgba(86, 44, 145, 0.5);\">upgrade</span> <span title=\"0.140\" style=\"background-color: rgba(236, 235, 244, 0.5);\">.</span> <span title=\"0.116\" style=\"background-color: rgba(240, 238, 245, 0.5);\">xxmaj</span> <span title=\"0.469\" style=\"background-color: rgba(165, 162, 204, 0.5);\">if</span> <span title=\"0.542\" style=\"background-color: rgba(148, 144, 195, 0.5);\">only</span> <span title=\"0.288\" style=\"background-color: rgba(209, 209, 230, 0.5);\">it</span> <span title=\"0.159\" style=\"background-color: rgba(233, 232, 242, 0.5);\">was</span> <span title=\"0.808\" style=\"background-color: rgba(95, 61, 153, 0.5);\">avail</span> <span title=\"0.225\" style=\"background-color: rgba(222, 222, 237, 0.5);\">on</span> <span title=\"0.308\" style=\"background-color: rgba(204, 205, 228, 0.5);\">my</span> <span title=\"0.368\" style=\"background-color: rgba(189, 190, 220, 0.5);\">next</span> <span title=\"0.143\" style=\"background-color: rgba(236, 234, 243, 0.5);\">flight</span> <span title=\"0.105\" style=\"background-color: rgba(241, 239, 246, 0.5);\">.</span></span>"
      ],
      "text/plain": [
       "<IPython.core.display.HTML object>"
      ]
     },
     "metadata": {},
     "output_type": "display_data"
    }
   ],
   "source": [
    "# True sentiment positive, predicted sentiment neutral\n",
    "\n",
    "for i in df_res.loc[(df_res['airline_sentiment'] == 'positive') & (df_res['predicted_sentiment'] == 'neutral')].index[0:10]:\n",
    "    print((df_res['text'].loc[i], df_res['airline_sentiment'].loc[i], df_res['predicted_sentiment'].loc[i]))\n",
    "    text_interp_test.show_intrinsic_attention(df_res['text'].loc[i], cmap = mpl.cm.Purples)"
   ]
  },
  {
   "cell_type": "markdown",
   "metadata": {},
   "source": [
    "**True sentiment positive, predicted sentiment negative**\n",
    "\n",
    "Some of these cases are tricky: for example \"not much to complain\" contains both \"not\" and \"complain\" that suggest a negative sentiment, but together their sentiment should cancel each other (like in a double negation). In other cases instead there are explicitly positive words, but their contribution is apparently obscured by that of the remaining words: most likely this problem would disappear with more training data, which we however don't have."
   ]
  },
  {
   "cell_type": "code",
   "execution_count": 74,
   "metadata": {},
   "outputs": [
    {
     "name": "stdout",
     "output_type": "stream",
     "text": [
      "('@united they are all -pilots, FA and ground personnel doing a great job. Weather is to blame... Who do I talk to about that :)', 'positive', 'negative')\n"
     ]
    },
    {
     "data": {
      "text/html": [
       "<span style=\"font-family: monospace;\"><span title=\"0.108\" style=\"background-color: rgba(240, 239, 246, 0.5);\">xxbos</span> <span title=\"0.303\" style=\"background-color: rgba(205, 205, 228, 0.5);\">@united</span> <span title=\"0.123\" style=\"background-color: rgba(239, 237, 245, 0.5);\">they</span> <span title=\"0.131\" style=\"background-color: rgba(238, 236, 244, 0.5);\">are</span> <span title=\"0.214\" style=\"background-color: rgba(224, 223, 238, 0.5);\">all</span> <span title=\"0.422\" style=\"background-color: rgba(176, 175, 212, 0.5);\">xxunk</span> <span title=\"0.118\" style=\"background-color: rgba(239, 237, 245, 0.5);\">,</span> <span title=\"0.190\" style=\"background-color: rgba(228, 227, 239, 0.5);\">xxup</span> <span title=\"0.579\" style=\"background-color: rgba(138, 135, 190, 0.5);\">fa</span> <span title=\"0.135\" style=\"background-color: rgba(237, 235, 244, 0.5);\">and</span> <span title=\"0.406\" style=\"background-color: rgba(181, 180, 215, 0.5);\">ground</span> <span title=\"0.213\" style=\"background-color: rgba(224, 223, 238, 0.5);\">personnel</span> <span title=\"0.206\" style=\"background-color: rgba(225, 225, 238, 0.5);\">doing</span> <span title=\"0.101\" style=\"background-color: rgba(241, 240, 246, 0.5);\">a</span> <span title=\"0.237\" style=\"background-color: rgba(220, 220, 236, 0.5);\">great</span> <span title=\"0.137\" style=\"background-color: rgba(236, 235, 244, 0.5);\">job</span> <span title=\"0.063\" style=\"background-color: rgba(245, 243, 248, 0.5);\">.</span> <span title=\"0.110\" style=\"background-color: rgba(240, 238, 245, 0.5);\">xxmaj</span> <span title=\"0.572\" style=\"background-color: rgba(140, 137, 191, 0.5);\">weather</span> <span title=\"0.110\" style=\"background-color: rgba(240, 238, 245, 0.5);\">is</span> <span title=\"0.086\" style=\"background-color: rgba(243, 241, 247, 0.5);\">to</span> <span title=\"0.523\" style=\"background-color: rgba(151, 148, 197, 0.5);\">blame</span> <span title=\"0.111\" style=\"background-color: rgba(240, 238, 245, 0.5);\">...</span> <span title=\"0.131\" style=\"background-color: rgba(238, 236, 244, 0.5);\">xxmaj</span> <span title=\"0.288\" style=\"background-color: rgba(209, 209, 230, 0.5);\">who</span> <span title=\"0.164\" style=\"background-color: rgba(232, 231, 242, 0.5);\">do</span> <span title=\"0.129\" style=\"background-color: rgba(238, 236, 244, 0.5);\">i</span> <span title=\"0.317\" style=\"background-color: rgba(201, 202, 226, 0.5);\">talk</span> <span title=\"0.112\" style=\"background-color: rgba(240, 238, 245, 0.5);\">to</span> <span title=\"0.162\" style=\"background-color: rgba(232, 231, 242, 0.5);\">about</span> <span title=\"0.233\" style=\"background-color: rgba(221, 220, 236, 0.5);\">that</span> <span title=\"1.000\" style=\"background-color: rgba(63, 0, 125, 0.5);\">:)</span></span>"
      ],
      "text/plain": [
       "<IPython.core.display.HTML object>"
      ]
     },
     "metadata": {},
     "output_type": "display_data"
    },
    {
     "name": "stdout",
     "output_type": "stream",
     "text": [
      "(\"@SouthwestAir Well plane arrived pretty much on time and it's 68 degrees on the ground in Texas. Not much to complain about.\", 'positive', 'negative')\n"
     ]
    },
    {
     "data": {
      "text/html": [
       "<span style=\"font-family: monospace;\"><span title=\"0.213\" style=\"background-color: rgba(224, 223, 238, 0.5);\">xxbos</span> <span title=\"0.403\" style=\"background-color: rgba(181, 180, 215, 0.5);\">@southwestair</span> <span title=\"0.285\" style=\"background-color: rgba(210, 210, 231, 0.5);\">xxmaj</span> <span title=\"1.000\" style=\"background-color: rgba(63, 0, 125, 0.5);\">well</span> <span title=\"0.775\" style=\"background-color: rgba(101, 72, 158, 0.5);\">plane</span> <span title=\"0.649\" style=\"background-color: rgba(123, 115, 181, 0.5);\">arrived</span> <span title=\"0.614\" style=\"background-color: rgba(130, 127, 187, 0.5);\">pretty</span> <span title=\"0.536\" style=\"background-color: rgba(149, 145, 195, 0.5);\">much</span> <span title=\"0.162\" style=\"background-color: rgba(232, 231, 242, 0.5);\">on</span> <span title=\"0.310\" style=\"background-color: rgba(203, 204, 227, 0.5);\">time</span> <span title=\"0.191\" style=\"background-color: rgba(228, 227, 239, 0.5);\">and</span> <span title=\"0.212\" style=\"background-color: rgba(224, 223, 238, 0.5);\">it</span> <span title=\"0.225\" style=\"background-color: rgba(222, 222, 237, 0.5);\">&#x27;s</span> <span title=\"0.850\" style=\"background-color: rgba(88, 47, 146, 0.5);\">68</span> <span title=\"0.909\" style=\"background-color: rgba(78, 28, 137, 0.5);\">degrees</span> <span title=\"0.199\" style=\"background-color: rgba(227, 226, 239, 0.5);\">on</span> <span title=\"0.094\" style=\"background-color: rgba(242, 240, 246, 0.5);\">the</span> <span title=\"0.414\" style=\"background-color: rgba(179, 178, 214, 0.5);\">ground</span> <span title=\"0.175\" style=\"background-color: rgba(231, 229, 241, 0.5);\">in</span> <span title=\"0.116\" style=\"background-color: rgba(240, 238, 245, 0.5);\">xxmaj</span> <span title=\"0.252\" style=\"background-color: rgba(217, 217, 234, 0.5);\">texas</span> <span title=\"0.096\" style=\"background-color: rgba(242, 240, 246, 0.5);\">.</span> <span title=\"0.200\" style=\"background-color: rgba(226, 225, 239, 0.5);\">xxmaj</span> <span title=\"0.849\" style=\"background-color: rgba(88, 47, 146, 0.5);\">not</span> <span title=\"0.562\" style=\"background-color: rgba(143, 139, 193, 0.5);\">much</span> <span title=\"0.388\" style=\"background-color: rgba(184, 185, 217, 0.5);\">to</span> <span title=\"0.706\" style=\"background-color: rgba(113, 96, 171, 0.5);\">complain</span> <span title=\"0.162\" style=\"background-color: rgba(232, 231, 242, 0.5);\">about</span> <span title=\"0.284\" style=\"background-color: rgba(210, 210, 231, 0.5);\">.</span></span>"
      ],
      "text/plain": [
       "<IPython.core.display.HTML object>"
      ]
     },
     "metadata": {},
     "output_type": "display_data"
    },
    {
     "name": "stdout",
     "output_type": "stream",
     "text": [
      "(\"@AmericanAir I'm flying with your competitor today, starts with an U and ends with D. I will never make that mistake again. #americanforlife\", 'positive', 'negative')\n"
     ]
    },
    {
     "data": {
      "text/html": [
       "<span style=\"font-family: monospace;\"><span title=\"0.257\" style=\"background-color: rgba(216, 216, 234, 0.5);\">xxbos</span> <span title=\"0.656\" style=\"background-color: rgba(122, 114, 180, 0.5);\">@americanair</span> <span title=\"0.239\" style=\"background-color: rgba(219, 219, 235, 0.5);\">i</span> <span title=\"0.490\" style=\"background-color: rgba(160, 156, 201, 0.5);\">&#x27;m</span> <span title=\"0.872\" style=\"background-color: rgba(84, 39, 143, 0.5);\">flying</span> <span title=\"0.383\" style=\"background-color: rgba(185, 186, 218, 0.5);\">with</span> <span title=\"0.555\" style=\"background-color: rgba(144, 140, 193, 0.5);\">your</span> <span title=\"0.888\" style=\"background-color: rgba(81, 34, 140, 0.5);\">competitor</span> <span title=\"0.473\" style=\"background-color: rgba(164, 161, 204, 0.5);\">today</span> <span title=\"0.156\" style=\"background-color: rgba(234, 232, 242, 0.5);\">,</span> <span title=\"1.000\" style=\"background-color: rgba(63, 0, 125, 0.5);\">starts</span> <span title=\"0.343\" style=\"background-color: rgba(196, 196, 224, 0.5);\">with</span> <span title=\"0.208\" style=\"background-color: rgba(225, 224, 238, 0.5);\">an</span> <span title=\"0.774\" style=\"background-color: rgba(101, 72, 158, 0.5);\">u</span> <span title=\"0.180\" style=\"background-color: rgba(229, 228, 240, 0.5);\">and</span> <span title=\"0.717\" style=\"background-color: rgba(111, 92, 168, 0.5);\">ends</span> <span title=\"0.247\" style=\"background-color: rgba(218, 218, 235, 0.5);\">with</span> <span title=\"0.157\" style=\"background-color: rgba(233, 232, 242, 0.5);\">xxup</span> <span title=\"0.204\" style=\"background-color: rgba(225, 225, 238, 0.5);\">xxunk</span> <span title=\"0.128\" style=\"background-color: rgba(238, 236, 244, 0.5);\">i</span> <span title=\"0.223\" style=\"background-color: rgba(222, 222, 237, 0.5);\">will</span> <span title=\"0.326\" style=\"background-color: rgba(199, 200, 225, 0.5);\">never</span> <span title=\"0.377\" style=\"background-color: rgba(187, 188, 219, 0.5);\">make</span> <span title=\"0.288\" style=\"background-color: rgba(209, 209, 230, 0.5);\">that</span> <span title=\"0.649\" style=\"background-color: rgba(123, 115, 181, 0.5);\">mistake</span> <span title=\"0.184\" style=\"background-color: rgba(229, 227, 240, 0.5);\">again</span> <span title=\"0.157\" style=\"background-color: rgba(233, 232, 242, 0.5);\">.</span> <span title=\"0.771\" style=\"background-color: rgba(102, 73, 159, 0.5);\">#</span> <span title=\"0.429\" style=\"background-color: rgba(175, 174, 211, 0.5);\">xxunk</span></span>"
      ],
      "text/plain": [
       "<IPython.core.display.HTML object>"
      ]
     },
     "metadata": {},
     "output_type": "display_data"
    },
    {
     "name": "stdout",
     "output_type": "stream",
     "text": [
      "('@AmericanAir although you have no control of the weather, you came through with a great customer service', 'positive', 'negative')\n"
     ]
    },
    {
     "data": {
      "text/html": [
       "<span style=\"font-family: monospace;\"><span title=\"0.252\" style=\"background-color: rgba(217, 217, 234, 0.5);\">xxbos</span> <span title=\"0.488\" style=\"background-color: rgba(161, 157, 202, 0.5);\">@americanair</span> <span title=\"0.481\" style=\"background-color: rgba(162, 158, 202, 0.5);\">although</span> <span title=\"0.274\" style=\"background-color: rgba(212, 212, 232, 0.5);\">you</span> <span title=\"0.255\" style=\"background-color: rgba(216, 216, 234, 0.5);\">have</span> <span title=\"0.281\" style=\"background-color: rgba(211, 211, 231, 0.5);\">no</span> <span title=\"0.899\" style=\"background-color: rgba(79, 30, 139, 0.5);\">control</span> <span title=\"0.296\" style=\"background-color: rgba(207, 207, 229, 0.5);\">of</span> <span title=\"0.124\" style=\"background-color: rgba(239, 237, 245, 0.5);\">the</span> <span title=\"0.535\" style=\"background-color: rgba(149, 145, 195, 0.5);\">weather</span> <span title=\"0.165\" style=\"background-color: rgba(232, 230, 241, 0.5);\">,</span> <span title=\"0.451\" style=\"background-color: rgba(169, 167, 207, 0.5);\">you</span> <span title=\"0.585\" style=\"background-color: rgba(137, 134, 190, 0.5);\">came</span> <span title=\"0.355\" style=\"background-color: rgba(193, 194, 222, 0.5);\">through</span> <span title=\"0.422\" style=\"background-color: rgba(176, 175, 212, 0.5);\">with</span> <span title=\"0.236\" style=\"background-color: rgba(220, 220, 236, 0.5);\">a</span> <span title=\"0.737\" style=\"background-color: rgba(108, 85, 165, 0.5);\">great</span> <span title=\"1.000\" style=\"background-color: rgba(63, 0, 125, 0.5);\">customer</span> <span title=\"0.802\" style=\"background-color: rgba(96, 62, 154, 0.5);\">service</span></span>"
      ],
      "text/plain": [
       "<IPython.core.display.HTML object>"
      ]
     },
     "metadata": {},
     "output_type": "display_data"
    },
    {
     "name": "stdout",
     "output_type": "stream",
     "text": [
      "('@AmericanAir Thanks. Having issues checking in for flight, please check our DM convo for more info.', 'positive', 'negative')\n"
     ]
    },
    {
     "data": {
      "text/html": [
       "<span style=\"font-family: monospace;\"><span title=\"0.072\" style=\"background-color: rgba(244, 243, 248, 0.5);\">xxbos</span> <span title=\"0.144\" style=\"background-color: rgba(236, 234, 243, 0.5);\">@americanair</span> <span title=\"0.082\" style=\"background-color: rgba(243, 241, 247, 0.5);\">xxmaj</span> <span title=\"0.358\" style=\"background-color: rgba(192, 193, 222, 0.5);\">thanks</span> <span title=\"0.119\" style=\"background-color: rgba(239, 237, 245, 0.5);\">.</span> <span title=\"0.174\" style=\"background-color: rgba(231, 229, 241, 0.5);\">xxmaj</span> <span title=\"0.516\" style=\"background-color: rgba(153, 149, 198, 0.5);\">having</span> <span title=\"1.000\" style=\"background-color: rgba(63, 0, 125, 0.5);\">issues</span> <span title=\"0.441\" style=\"background-color: rgba(172, 171, 209, 0.5);\">checking</span> <span title=\"0.078\" style=\"background-color: rgba(244, 242, 248, 0.5);\">in</span> <span title=\"0.079\" style=\"background-color: rgba(243, 242, 247, 0.5);\">for</span> <span title=\"0.215\" style=\"background-color: rgba(223, 223, 237, 0.5);\">flight</span> <span title=\"0.045\" style=\"background-color: rgba(247, 246, 250, 0.5);\">,</span> <span title=\"0.246\" style=\"background-color: rgba(219, 219, 235, 0.5);\">please</span> <span title=\"0.252\" style=\"background-color: rgba(217, 217, 234, 0.5);\">check</span> <span title=\"0.165\" style=\"background-color: rgba(232, 230, 241, 0.5);\">our</span> <span title=\"0.098\" style=\"background-color: rgba(241, 240, 246, 0.5);\">xxup</span> <span title=\"0.313\" style=\"background-color: rgba(202, 203, 227, 0.5);\">dm</span> <span title=\"0.261\" style=\"background-color: rgba(215, 215, 233, 0.5);\">convo</span> <span title=\"0.094\" style=\"background-color: rgba(242, 240, 247, 0.5);\">for</span> <span title=\"0.166\" style=\"background-color: rgba(232, 230, 241, 0.5);\">more</span> <span title=\"0.149\" style=\"background-color: rgba(234, 233, 243, 0.5);\">info</span> <span title=\"0.044\" style=\"background-color: rgba(247, 246, 250, 0.5);\">.</span></span>"
      ],
      "text/plain": [
       "<IPython.core.display.HTML object>"
      ]
     },
     "metadata": {},
     "output_type": "display_data"
    },
    {
     "name": "stdout",
     "output_type": "stream",
     "text": [
      "('@JetBlue why are you always so amazing! #jetblue #trueblue http://t.co/iIMTJxcvLG', 'positive', 'negative')\n"
     ]
    },
    {
     "data": {
      "text/html": [
       "<span style=\"font-family: monospace;\"><span title=\"0.252\" style=\"background-color: rgba(217, 217, 234, 0.5);\">xxbos</span> <span title=\"0.593\" style=\"background-color: rgba(135, 132, 189, 0.5);\">@jetblue</span> <span title=\"0.913\" style=\"background-color: rgba(77, 26, 137, 0.5);\">why</span> <span title=\"0.415\" style=\"background-color: rgba(178, 177, 213, 0.5);\">are</span> <span title=\"0.500\" style=\"background-color: rgba(158, 154, 200, 0.5);\">you</span> <span title=\"0.695\" style=\"background-color: rgba(115, 99, 172, 0.5);\">always</span> <span title=\"0.434\" style=\"background-color: rgba(173, 172, 210, 0.5);\">so</span> <span title=\"1.000\" style=\"background-color: rgba(63, 0, 125, 0.5);\">amazing</span> <span title=\"0.300\" style=\"background-color: rgba(206, 206, 229, 0.5);\">!</span> <span title=\"0.503\" style=\"background-color: rgba(157, 153, 199, 0.5);\">#</span> <span title=\"0.683\" style=\"background-color: rgba(117, 104, 175, 0.5);\">jetblue</span> <span title=\"0.379\" style=\"background-color: rgba(186, 187, 219, 0.5);\">#</span> <span title=\"0.725\" style=\"background-color: rgba(110, 89, 167, 0.5);\">trueblue</span> <span title=\"0.726\" style=\"background-color: rgba(110, 89, 167, 0.5);\">http</span> <span title=\"0.199\" style=\"background-color: rgba(226, 225, 239, 0.5);\">:</span> <span title=\"0.188\" style=\"background-color: rgba(228, 227, 239, 0.5);\">/</span> <span title=\"0.166\" style=\"background-color: rgba(232, 230, 241, 0.5);\">/</span> <span title=\"0.427\" style=\"background-color: rgba(175, 174, 211, 0.5);\">t.co</span> <span title=\"0.303\" style=\"background-color: rgba(205, 205, 228, 0.5);\">/</span> <span title=\"0.387\" style=\"background-color: rgba(184, 185, 217, 0.5);\">xxunk</span></span>"
      ],
      "text/plain": [
       "<IPython.core.display.HTML object>"
      ]
     },
     "metadata": {},
     "output_type": "display_data"
    },
    {
     "name": "stdout",
     "output_type": "stream",
     "text": [
      "('@JetBlue saved the day:) @Expedia lost a costumer #jetblue #makingthingseasy #feelbetter', 'positive', 'negative')\n"
     ]
    },
    {
     "data": {
      "text/html": [
       "<span style=\"font-family: monospace;\"><span title=\"0.136\" style=\"background-color: rgba(237, 235, 244, 0.5);\">xxbos</span> <span title=\"0.202\" style=\"background-color: rgba(226, 225, 239, 0.5);\">@jetblue</span> <span title=\"1.000\" style=\"background-color: rgba(63, 0, 125, 0.5);\">saved</span> <span title=\"0.108\" style=\"background-color: rgba(240, 239, 246, 0.5);\">the</span> <span title=\"0.172\" style=\"background-color: rgba(231, 230, 241, 0.5);\">day</span> <span title=\"0.117\" style=\"background-color: rgba(240, 238, 245, 0.5);\">:</span> <span title=\"0.206\" style=\"background-color: rgba(225, 225, 238, 0.5);\">)</span> <span title=\"0.656\" style=\"background-color: rgba(122, 113, 179, 0.5);\">@expedia</span> <span title=\"0.612\" style=\"background-color: rgba(131, 128, 187, 0.5);\">lost</span> <span title=\"0.173\" style=\"background-color: rgba(231, 229, 241, 0.5);\">a</span> <span title=\"0.685\" style=\"background-color: rgba(117, 103, 174, 0.5);\">costumer</span> <span title=\"0.159\" style=\"background-color: rgba(233, 232, 242, 0.5);\">#</span> <span title=\"0.324\" style=\"background-color: rgba(200, 201, 226, 0.5);\">jetblue</span> <span title=\"0.151\" style=\"background-color: rgba(234, 233, 243, 0.5);\">#</span> <span title=\"0.147\" style=\"background-color: rgba(235, 233, 243, 0.5);\">xxunk</span> <span title=\"0.178\" style=\"background-color: rgba(230, 229, 240, 0.5);\">#</span> <span title=\"0.124\" style=\"background-color: rgba(239, 237, 245, 0.5);\">xxunk</span></span>"
      ],
      "text/plain": [
       "<IPython.core.display.HTML object>"
      ]
     },
     "metadata": {},
     "output_type": "display_data"
    },
    {
     "name": "stdout",
     "output_type": "stream",
     "text": [
      "('@united flight 1491...plane from SFO to DEN is basically on time.', 'positive', 'negative')\n"
     ]
    },
    {
     "data": {
      "text/html": [
       "<span style=\"font-family: monospace;\"><span title=\"0.140\" style=\"background-color: rgba(236, 235, 244, 0.5);\">xxbos</span> <span title=\"0.319\" style=\"background-color: rgba(201, 202, 226, 0.5);\">@united</span> <span title=\"0.433\" style=\"background-color: rgba(174, 173, 210, 0.5);\">flight</span> <span title=\"1.000\" style=\"background-color: rgba(63, 0, 125, 0.5);\">1491</span> <span title=\"0.275\" style=\"background-color: rgba(212, 212, 232, 0.5);\">...</span> <span title=\"0.560\" style=\"background-color: rgba(143, 139, 193, 0.5);\">plane</span> <span title=\"0.229\" style=\"background-color: rgba(221, 221, 236, 0.5);\">from</span> <span title=\"0.134\" style=\"background-color: rgba(237, 235, 244, 0.5);\">xxup</span> <span title=\"0.286\" style=\"background-color: rgba(209, 209, 230, 0.5);\">sfo</span> <span title=\"0.081\" style=\"background-color: rgba(243, 242, 247, 0.5);\">to</span> <span title=\"0.107\" style=\"background-color: rgba(240, 239, 246, 0.5);\">xxup</span> <span title=\"0.270\" style=\"background-color: rgba(213, 213, 232, 0.5);\">den</span> <span title=\"0.097\" style=\"background-color: rgba(242, 240, 246, 0.5);\">is</span> <span title=\"0.417\" style=\"background-color: rgba(178, 177, 213, 0.5);\">basically</span> <span title=\"0.113\" style=\"background-color: rgba(240, 238, 245, 0.5);\">on</span> <span title=\"0.212\" style=\"background-color: rgba(224, 223, 238, 0.5);\">time</span> <span title=\"0.068\" style=\"background-color: rgba(245, 243, 248, 0.5);\">.</span></span>"
      ],
      "text/plain": [
       "<IPython.core.display.HTML object>"
      ]
     },
     "metadata": {},
     "output_type": "display_data"
    },
    {
     "name": "stdout",
     "output_type": "stream",
     "text": [
      "('@united This is probably the least dependable airline in the Western Hemisphere. @united does not belong in Star Alliance, but SkyTeam', 'positive', 'negative')\n"
     ]
    },
    {
     "data": {
      "text/html": [
       "<span style=\"font-family: monospace;\"><span title=\"0.180\" style=\"background-color: rgba(229, 228, 240, 0.5);\">xxbos</span> <span title=\"0.467\" style=\"background-color: rgba(166, 163, 205, 0.5);\">@united</span> <span title=\"0.144\" style=\"background-color: rgba(236, 234, 243, 0.5);\">xxmaj</span> <span title=\"0.216\" style=\"background-color: rgba(223, 223, 237, 0.5);\">this</span> <span title=\"0.145\" style=\"background-color: rgba(235, 233, 243, 0.5);\">is</span> <span title=\"0.319\" style=\"background-color: rgba(201, 202, 226, 0.5);\">probably</span> <span title=\"0.204\" style=\"background-color: rgba(225, 225, 238, 0.5);\">the</span> <span title=\"0.673\" style=\"background-color: rgba(119, 107, 176, 0.5);\">least</span> <span title=\"0.250\" style=\"background-color: rgba(217, 217, 234, 0.5);\">xxunk</span> <span title=\"0.509\" style=\"background-color: rgba(155, 151, 198, 0.5);\">airline</span> <span title=\"0.123\" style=\"background-color: rgba(239, 237, 245, 0.5);\">in</span> <span title=\"0.105\" style=\"background-color: rgba(241, 239, 246, 0.5);\">the</span> <span title=\"0.195\" style=\"background-color: rgba(227, 226, 239, 0.5);\">xxmaj</span> <span title=\"0.676\" style=\"background-color: rgba(118, 106, 176, 0.5);\">western</span> <span title=\"0.350\" style=\"background-color: rgba(194, 195, 223, 0.5);\">xxmaj</span> <span title=\"0.217\" style=\"background-color: rgba(223, 223, 237, 0.5);\">hemisphere</span> <span title=\"0.047\" style=\"background-color: rgba(247, 245, 249, 0.5);\">.</span> <span title=\"0.224\" style=\"background-color: rgba(222, 222, 237, 0.5);\">@united</span> <span title=\"0.264\" style=\"background-color: rgba(214, 215, 233, 0.5);\">does</span> <span title=\"0.215\" style=\"background-color: rgba(224, 223, 238, 0.5);\">not</span> <span title=\"1.000\" style=\"background-color: rgba(63, 0, 125, 0.5);\">belong</span> <span title=\"0.228\" style=\"background-color: rgba(221, 221, 236, 0.5);\">in</span> <span title=\"0.219\" style=\"background-color: rgba(223, 223, 237, 0.5);\">xxmaj</span> <span title=\"0.941\" style=\"background-color: rgba(72, 18, 133, 0.5);\">star</span> <span title=\"0.281\" style=\"background-color: rgba(211, 211, 231, 0.5);\">xxmaj</span> <span title=\"0.574\" style=\"background-color: rgba(139, 136, 191, 0.5);\">alliance</span> <span title=\"0.083\" style=\"background-color: rgba(243, 241, 247, 0.5);\">,</span> <span title=\"0.248\" style=\"background-color: rgba(218, 218, 235, 0.5);\">but</span> <span title=\"0.524\" style=\"background-color: rgba(151, 148, 197, 0.5);\">xxunk</span></span>"
      ],
      "text/plain": [
       "<IPython.core.display.HTML object>"
      ]
     },
     "metadata": {},
     "output_type": "display_data"
    },
    {
     "name": "stdout",
     "output_type": "stream",
     "text": [
      "('@united Denver baggage handlers you totally impressed us today. Our lungs barely made the run to connect but our bags had no problem! #DEN', 'positive', 'negative')\n"
     ]
    },
    {
     "data": {
      "text/html": [
       "<span style=\"font-family: monospace;\"><span title=\"0.125\" style=\"background-color: rgba(239, 237, 245, 0.5);\">xxbos</span> <span title=\"0.337\" style=\"background-color: rgba(197, 197, 224, 0.5);\">@united</span> <span title=\"0.183\" style=\"background-color: rgba(229, 228, 240, 0.5);\">xxmaj</span> <span title=\"0.592\" style=\"background-color: rgba(135, 132, 189, 0.5);\">denver</span> <span title=\"1.000\" style=\"background-color: rgba(63, 0, 125, 0.5);\">baggage</span> <span title=\"0.561\" style=\"background-color: rgba(143, 139, 193, 0.5);\">handlers</span> <span title=\"0.627\" style=\"background-color: rgba(127, 124, 185, 0.5);\">you</span> <span title=\"0.720\" style=\"background-color: rgba(111, 91, 168, 0.5);\">totally</span> <span title=\"0.547\" style=\"background-color: rgba(147, 143, 194, 0.5);\">impressed</span> <span title=\"0.117\" style=\"background-color: rgba(240, 238, 245, 0.5);\">us</span> <span title=\"0.182\" style=\"background-color: rgba(229, 228, 240, 0.5);\">today</span> <span title=\"0.051\" style=\"background-color: rgba(246, 245, 249, 0.5);\">.</span> <span title=\"0.082\" style=\"background-color: rgba(243, 242, 247, 0.5);\">xxmaj</span> <span title=\"0.255\" style=\"background-color: rgba(216, 216, 234, 0.5);\">our</span> <span title=\"0.263\" style=\"background-color: rgba(214, 215, 233, 0.5);\">xxunk</span> <span title=\"0.547\" style=\"background-color: rgba(146, 142, 194, 0.5);\">barely</span> <span title=\"0.191\" style=\"background-color: rgba(228, 227, 239, 0.5);\">made</span> <span title=\"0.123\" style=\"background-color: rgba(239, 237, 245, 0.5);\">the</span> <span title=\"0.207\" style=\"background-color: rgba(225, 225, 238, 0.5);\">run</span> <span title=\"0.065\" style=\"background-color: rgba(245, 243, 248, 0.5);\">to</span> <span title=\"0.185\" style=\"background-color: rgba(229, 227, 240, 0.5);\">connect</span> <span title=\"0.173\" style=\"background-color: rgba(231, 229, 241, 0.5);\">but</span> <span title=\"0.150\" style=\"background-color: rgba(234, 233, 243, 0.5);\">our</span> <span title=\"0.369\" style=\"background-color: rgba(189, 190, 220, 0.5);\">bags</span> <span title=\"0.164\" style=\"background-color: rgba(232, 231, 242, 0.5);\">had</span> <span title=\"0.226\" style=\"background-color: rgba(222, 222, 237, 0.5);\">no</span> <span title=\"0.381\" style=\"background-color: rgba(186, 187, 219, 0.5);\">problem</span> <span title=\"0.128\" style=\"background-color: rgba(238, 236, 244, 0.5);\">!</span> <span title=\"0.448\" style=\"background-color: rgba(170, 168, 208, 0.5);\">#</span> <span title=\"0.170\" style=\"background-color: rgba(231, 230, 241, 0.5);\">xxup</span> <span title=\"0.624\" style=\"background-color: rgba(128, 125, 186, 0.5);\">den</span></span>"
      ],
      "text/plain": [
       "<IPython.core.display.HTML object>"
      ]
     },
     "metadata": {},
     "output_type": "display_data"
    }
   ],
   "source": [
    "# True sentiment positive, predicted sentiment negative \n",
    "\n",
    "for i in df_res.loc[(df_res['airline_sentiment'] == 'positive') & (df_res['predicted_sentiment'] == 'negative')].index[0:10]:\n",
    "    print((df_res['text'].loc[i], df_res['airline_sentiment'].loc[i], df_res['predicted_sentiment'].loc[i]))\n",
    "    text_interp_test.show_intrinsic_attention(df_res['text'].loc[i], cmap = mpl.cm.Purples)"
   ]
  },
  {
   "cell_type": "markdown",
   "metadata": {},
   "source": [
    "**True sentiment negative, predicted sentiment positive**\n",
    "\n",
    "Many of such misclassifications are due to the tweets being ironic and are therefore expected to be misunderstood by the model. We however notice again that web links and symbols, and sometimes also references to other tweets, seem to contribute to the overall sentiment: we may then consider removing them."
   ]
  },
  {
   "cell_type": "code",
   "execution_count": 75,
   "metadata": {},
   "outputs": [
    {
     "name": "stdout",
     "output_type": "stream",
     "text": [
      "('@SouthwestAir thanks for taking such good care of my luggage... http://t.co/PIvxean3jY', 'negative', 'positive')\n"
     ]
    },
    {
     "data": {
      "text/html": [
       "<span style=\"font-family: monospace;\"><span title=\"0.213\" style=\"background-color: rgba(224, 223, 238, 0.5);\">xxbos</span> <span title=\"0.301\" style=\"background-color: rgba(205, 205, 228, 0.5);\">@southwestair</span> <span title=\"1.000\" style=\"background-color: rgba(63, 0, 125, 0.5);\">thanks</span> <span title=\"0.392\" style=\"background-color: rgba(183, 184, 217, 0.5);\">for</span> <span title=\"0.917\" style=\"background-color: rgba(76, 25, 136, 0.5);\">taking</span> <span title=\"0.880\" style=\"background-color: rgba(82, 36, 141, 0.5);\">such</span> <span title=\"0.633\" style=\"background-color: rgba(126, 121, 184, 0.5);\">good</span> <span title=\"0.624\" style=\"background-color: rgba(128, 125, 186, 0.5);\">care</span> <span title=\"0.222\" style=\"background-color: rgba(223, 222, 237, 0.5);\">of</span> <span title=\"0.166\" style=\"background-color: rgba(232, 230, 241, 0.5);\">my</span> <span title=\"0.313\" style=\"background-color: rgba(202, 203, 227, 0.5);\">luggage</span> <span title=\"0.173\" style=\"background-color: rgba(231, 229, 241, 0.5);\">...</span> <span title=\"0.912\" style=\"background-color: rgba(77, 26, 137, 0.5);\">http</span> <span title=\"0.250\" style=\"background-color: rgba(218, 218, 235, 0.5);\">:</span> <span title=\"0.199\" style=\"background-color: rgba(226, 225, 239, 0.5);\">/</span> <span title=\"0.130\" style=\"background-color: rgba(238, 236, 244, 0.5);\">/</span> <span title=\"0.468\" style=\"background-color: rgba(166, 163, 205, 0.5);\">t.co</span> <span title=\"0.314\" style=\"background-color: rgba(202, 203, 227, 0.5);\">/</span> <span title=\"0.456\" style=\"background-color: rgba(168, 166, 207, 0.5);\">xxunk</span></span>"
      ],
      "text/plain": [
       "<IPython.core.display.HTML object>"
      ]
     },
     "metadata": {},
     "output_type": "display_data"
    },
    {
     "name": "stdout",
     "output_type": "stream",
     "text": [
      "('@USAirways thanks for nothing', 'negative', 'positive')\n"
     ]
    },
    {
     "data": {
      "text/html": [
       "<span style=\"font-family: monospace;\"><span title=\"0.231\" style=\"background-color: rgba(221, 220, 236, 0.5);\">xxbos</span> <span title=\"0.331\" style=\"background-color: rgba(198, 199, 225, 0.5);\">@usairways</span> <span title=\"1.000\" style=\"background-color: rgba(63, 0, 125, 0.5);\">thanks</span> <span title=\"0.216\" style=\"background-color: rgba(223, 223, 237, 0.5);\">for</span> <span title=\"0.718\" style=\"background-color: rgba(111, 92, 168, 0.5);\">nothing</span></span>"
      ],
      "text/plain": [
       "<IPython.core.display.HTML object>"
      ]
     },
     "metadata": {},
     "output_type": "display_data"
    },
    {
     "name": "stdout",
     "output_type": "stream",
     "text": [
      "(\"@USAirways  redeemed themselves!  Flight out at 7:44!!! Had to call and negotiate,  but thank the Lord I'm heading home!!!!!\", 'negative', 'positive')\n"
     ]
    },
    {
     "data": {
      "text/html": [
       "<span style=\"font-family: monospace;\"><span title=\"0.163\" style=\"background-color: rgba(232, 231, 242, 0.5);\">xxbos</span> <span title=\"0.213\" style=\"background-color: rgba(224, 223, 238, 0.5);\">@usairways</span> <span title=\"1.000\" style=\"background-color: rgba(63, 0, 125, 0.5);\">redeemed</span> <span title=\"0.289\" style=\"background-color: rgba(208, 208, 230, 0.5);\">themselves</span> <span title=\"0.168\" style=\"background-color: rgba(231, 230, 241, 0.5);\">!</span> <span title=\"0.081\" style=\"background-color: rgba(243, 242, 247, 0.5);\">xxmaj</span> <span title=\"0.201\" style=\"background-color: rgba(226, 225, 239, 0.5);\">flight</span> <span title=\"0.124\" style=\"background-color: rgba(239, 237, 245, 0.5);\">out</span> <span title=\"0.093\" style=\"background-color: rgba(242, 240, 247, 0.5);\">at</span> <span title=\"0.097\" style=\"background-color: rgba(242, 240, 246, 0.5);\">xxunk</span> <span title=\"0.078\" style=\"background-color: rgba(243, 242, 247, 0.5);\">!</span> <span title=\"0.110\" style=\"background-color: rgba(240, 238, 245, 0.5);\">!</span> <span title=\"0.139\" style=\"background-color: rgba(236, 235, 244, 0.5);\">!</span> <span title=\"0.101\" style=\"background-color: rgba(241, 240, 246, 0.5);\">xxmaj</span> <span title=\"0.217\" style=\"background-color: rgba(223, 223, 237, 0.5);\">had</span> <span title=\"0.110\" style=\"background-color: rgba(240, 238, 245, 0.5);\">to</span> <span title=\"0.390\" style=\"background-color: rgba(184, 185, 217, 0.5);\">call</span> <span title=\"0.177\" style=\"background-color: rgba(230, 229, 240, 0.5);\">and</span> <span title=\"0.484\" style=\"background-color: rgba(162, 158, 202, 0.5);\">negotiate</span> <span title=\"0.060\" style=\"background-color: rgba(245, 244, 249, 0.5);\">,</span> <span title=\"0.104\" style=\"background-color: rgba(241, 239, 246, 0.5);\">but</span> <span title=\"0.463\" style=\"background-color: rgba(166, 164, 205, 0.5);\">thank</span> <span title=\"0.108\" style=\"background-color: rgba(240, 239, 246, 0.5);\">the</span> <span title=\"0.090\" style=\"background-color: rgba(242, 240, 247, 0.5);\">xxmaj</span> <span title=\"0.254\" style=\"background-color: rgba(216, 216, 234, 0.5);\">lord</span> <span title=\"0.134\" style=\"background-color: rgba(237, 235, 244, 0.5);\">i</span> <span title=\"0.112\" style=\"background-color: rgba(240, 238, 245, 0.5);\">&#x27;m</span> <span title=\"0.286\" style=\"background-color: rgba(209, 209, 230, 0.5);\">heading</span> <span title=\"0.293\" style=\"background-color: rgba(208, 208, 230, 0.5);\">home</span> <span title=\"0.462\" style=\"background-color: rgba(166, 164, 205, 0.5);\">xxrep</span> <span title=\"0.235\" style=\"background-color: rgba(220, 220, 236, 0.5);\">5</span> <span title=\"0.215\" style=\"background-color: rgba(223, 223, 237, 0.5);\">!</span></span>"
      ],
      "text/plain": [
       "<IPython.core.display.HTML object>"
      ]
     },
     "metadata": {},
     "output_type": "display_data"
    },
    {
     "name": "stdout",
     "output_type": "stream",
     "text": [
      "('@USAirways yes thanks I have never seen anything like this and I come to Yuma all the time, big disappointment. There are 40+ still waiting', 'negative', 'positive')\n"
     ]
    },
    {
     "data": {
      "text/html": [
       "<span style=\"font-family: monospace;\"><span title=\"0.128\" style=\"background-color: rgba(238, 236, 244, 0.5);\">xxbos</span> <span title=\"0.313\" style=\"background-color: rgba(202, 203, 227, 0.5);\">@usairways</span> <span title=\"0.407\" style=\"background-color: rgba(180, 179, 214, 0.5);\">yes</span> <span title=\"0.524\" style=\"background-color: rgba(151, 148, 197, 0.5);\">thanks</span> <span title=\"0.155\" style=\"background-color: rgba(234, 232, 242, 0.5);\">i</span> <span title=\"0.206\" style=\"background-color: rgba(225, 225, 238, 0.5);\">have</span> <span title=\"0.909\" style=\"background-color: rgba(78, 28, 137, 0.5);\">never</span> <span title=\"0.207\" style=\"background-color: rgba(225, 224, 238, 0.5);\">seen</span> <span title=\"0.221\" style=\"background-color: rgba(223, 222, 237, 0.5);\">anything</span> <span title=\"0.187\" style=\"background-color: rgba(229, 227, 240, 0.5);\">like</span> <span title=\"0.093\" style=\"background-color: rgba(242, 240, 247, 0.5);\">this</span> <span title=\"0.057\" style=\"background-color: rgba(246, 244, 249, 0.5);\">and</span> <span title=\"0.116\" style=\"background-color: rgba(240, 238, 245, 0.5);\">i</span> <span title=\"0.290\" style=\"background-color: rgba(208, 208, 230, 0.5);\">come</span> <span title=\"0.097\" style=\"background-color: rgba(242, 240, 246, 0.5);\">to</span> <span title=\"0.147\" style=\"background-color: rgba(235, 233, 243, 0.5);\">xxmaj</span> <span title=\"0.615\" style=\"background-color: rgba(130, 127, 187, 0.5);\">yuma</span> <span title=\"0.184\" style=\"background-color: rgba(229, 227, 240, 0.5);\">all</span> <span title=\"0.140\" style=\"background-color: rgba(236, 235, 244, 0.5);\">the</span> <span title=\"0.111\" style=\"background-color: rgba(240, 238, 245, 0.5);\">time</span> <span title=\"0.112\" style=\"background-color: rgba(240, 238, 245, 0.5);\">,</span> <span title=\"0.671\" style=\"background-color: rgba(119, 108, 177, 0.5);\">big</span> <span title=\"1.000\" style=\"background-color: rgba(63, 0, 125, 0.5);\">disappointment</span> <span title=\"0.067\" style=\"background-color: rgba(245, 243, 248, 0.5);\">.</span> <span title=\"0.102\" style=\"background-color: rgba(241, 240, 246, 0.5);\">xxmaj</span> <span title=\"0.195\" style=\"background-color: rgba(227, 226, 239, 0.5);\">there</span> <span title=\"0.124\" style=\"background-color: rgba(239, 237, 245, 0.5);\">are</span> <span title=\"0.319\" style=\"background-color: rgba(201, 202, 226, 0.5);\">40</span> <span title=\"0.322\" style=\"background-color: rgba(200, 201, 226, 0.5);\">+</span> <span title=\"0.351\" style=\"background-color: rgba(194, 195, 223, 0.5);\">still</span> <span title=\"0.644\" style=\"background-color: rgba(124, 118, 182, 0.5);\">waiting</span></span>"
      ],
      "text/plain": [
       "<IPython.core.display.HTML object>"
      ]
     },
     "metadata": {},
     "output_type": "display_data"
    },
    {
     "name": "stdout",
     "output_type": "stream",
     "text": [
      "('@united - well, now finally on board hopefully we take off this time and quickly. Well over an hour delay!!', 'negative', 'positive')\n"
     ]
    },
    {
     "data": {
      "text/html": [
       "<span style=\"font-family: monospace;\"><span title=\"0.201\" style=\"background-color: rgba(226, 225, 239, 0.5);\">xxbos</span> <span title=\"0.485\" style=\"background-color: rgba(161, 157, 202, 0.5);\">@united</span> <span title=\"0.364\" style=\"background-color: rgba(190, 191, 221, 0.5);\">-</span> <span title=\"0.861\" style=\"background-color: rgba(86, 43, 144, 0.5);\">well</span> <span title=\"0.168\" style=\"background-color: rgba(231, 230, 241, 0.5);\">,</span> <span title=\"0.392\" style=\"background-color: rgba(183, 184, 217, 0.5);\">now</span> <span title=\"0.636\" style=\"background-color: rgba(126, 121, 184, 0.5);\">finally</span> <span title=\"0.282\" style=\"background-color: rgba(210, 210, 231, 0.5);\">on</span> <span title=\"0.552\" style=\"background-color: rgba(145, 141, 194, 0.5);\">board</span> <span title=\"1.000\" style=\"background-color: rgba(63, 0, 125, 0.5);\">hopefully</span> <span title=\"0.266\" style=\"background-color: rgba(214, 214, 233, 0.5);\">we</span> <span title=\"0.282\" style=\"background-color: rgba(210, 210, 231, 0.5);\">take</span> <span title=\"0.396\" style=\"background-color: rgba(182, 183, 216, 0.5);\">off</span> <span title=\"0.217\" style=\"background-color: rgba(223, 223, 237, 0.5);\">this</span> <span title=\"0.230\" style=\"background-color: rgba(221, 221, 236, 0.5);\">time</span> <span title=\"0.197\" style=\"background-color: rgba(227, 226, 239, 0.5);\">and</span> <span title=\"0.482\" style=\"background-color: rgba(162, 158, 202, 0.5);\">quickly</span> <span title=\"0.122\" style=\"background-color: rgba(239, 237, 245, 0.5);\">.</span> <span title=\"0.224\" style=\"background-color: rgba(222, 222, 237, 0.5);\">xxmaj</span> <span title=\"0.678\" style=\"background-color: rgba(118, 106, 176, 0.5);\">well</span> <span title=\"0.323\" style=\"background-color: rgba(200, 201, 226, 0.5);\">over</span> <span title=\"0.342\" style=\"background-color: rgba(196, 196, 224, 0.5);\">an</span> <span title=\"0.405\" style=\"background-color: rgba(181, 180, 215, 0.5);\">hour</span> <span title=\"0.964\" style=\"background-color: rgba(68, 11, 130, 0.5);\">delay</span> <span title=\"0.238\" style=\"background-color: rgba(219, 219, 235, 0.5);\">!</span> <span title=\"0.334\" style=\"background-color: rgba(198, 198, 225, 0.5);\">!</span></span>"
      ],
      "text/plain": [
       "<IPython.core.display.HTML object>"
      ]
     },
     "metadata": {},
     "output_type": "display_data"
    },
    {
     "name": "stdout",
     "output_type": "stream",
     "text": [
      "('@united Awesome flight crew on UA1589, re the plane,  the  Jurassic period called and they want their dinosaur/plane back!', 'negative', 'positive')\n"
     ]
    },
    {
     "data": {
      "text/html": [
       "<span style=\"font-family: monospace;\"><span title=\"0.112\" style=\"background-color: rgba(240, 238, 245, 0.5);\">xxbos</span> <span title=\"0.223\" style=\"background-color: rgba(222, 222, 237, 0.5);\">@united</span> <span title=\"0.188\" style=\"background-color: rgba(228, 227, 239, 0.5);\">xxmaj</span> <span title=\"1.000\" style=\"background-color: rgba(63, 0, 125, 0.5);\">awesome</span> <span title=\"0.308\" style=\"background-color: rgba(204, 205, 228, 0.5);\">flight</span> <span title=\"0.371\" style=\"background-color: rgba(188, 189, 220, 0.5);\">crew</span> <span title=\"0.114\" style=\"background-color: rgba(240, 238, 245, 0.5);\">on</span> <span title=\"0.099\" style=\"background-color: rgba(241, 240, 246, 0.5);\">xxup</span> <span title=\"0.151\" style=\"background-color: rgba(234, 233, 243, 0.5);\">xxunk</span> <span title=\"0.046\" style=\"background-color: rgba(247, 246, 250, 0.5);\">,</span> <span title=\"0.213\" style=\"background-color: rgba(224, 223, 238, 0.5);\">re</span> <span title=\"0.091\" style=\"background-color: rgba(242, 240, 247, 0.5);\">the</span> <span title=\"0.193\" style=\"background-color: rgba(227, 226, 239, 0.5);\">plane</span> <span title=\"0.060\" style=\"background-color: rgba(245, 244, 249, 0.5);\">,</span> <span title=\"0.075\" style=\"background-color: rgba(244, 242, 248, 0.5);\">the</span> <span title=\"0.069\" style=\"background-color: rgba(245, 243, 248, 0.5);\">xxmaj</span> <span title=\"0.116\" style=\"background-color: rgba(240, 238, 245, 0.5);\">xxunk</span> <span title=\"0.201\" style=\"background-color: rgba(226, 225, 239, 0.5);\">period</span> <span title=\"0.233\" style=\"background-color: rgba(221, 220, 236, 0.5);\">called</span> <span title=\"0.077\" style=\"background-color: rgba(244, 242, 248, 0.5);\">and</span> <span title=\"0.124\" style=\"background-color: rgba(239, 237, 245, 0.5);\">they</span> <span title=\"0.279\" style=\"background-color: rgba(211, 211, 231, 0.5);\">want</span> <span title=\"0.190\" style=\"background-color: rgba(228, 227, 239, 0.5);\">their</span> <span title=\"0.101\" style=\"background-color: rgba(241, 240, 246, 0.5);\">xxunk</span> <span title=\"0.046\" style=\"background-color: rgba(247, 246, 250, 0.5);\">/</span> <span title=\"0.104\" style=\"background-color: rgba(241, 239, 246, 0.5);\">plane</span> <span title=\"0.135\" style=\"background-color: rgba(237, 235, 244, 0.5);\">back</span> <span title=\"0.198\" style=\"background-color: rgba(227, 226, 239, 0.5);\">!</span></span>"
      ],
      "text/plain": [
       "<IPython.core.display.HTML object>"
      ]
     },
     "metadata": {},
     "output_type": "display_data"
    },
    {
     "name": "stdout",
     "output_type": "stream",
     "text": [
      "('@AmericanAir Nice AA employee making skillful excuses about Late Flightness due to catering snafu... http://t.co/YPVPVdlTYs', 'negative', 'positive')\n"
     ]
    },
    {
     "data": {
      "text/html": [
       "<span style=\"font-family: monospace;\"><span title=\"0.101\" style=\"background-color: rgba(241, 240, 246, 0.5);\">xxbos</span> <span title=\"0.211\" style=\"background-color: rgba(224, 223, 238, 0.5);\">@americanair</span> <span title=\"0.178\" style=\"background-color: rgba(230, 229, 240, 0.5);\">xxmaj</span> <span title=\"1.000\" style=\"background-color: rgba(63, 0, 125, 0.5);\">nice</span> <span title=\"0.104\" style=\"background-color: rgba(241, 239, 246, 0.5);\">xxup</span> <span title=\"0.231\" style=\"background-color: rgba(221, 220, 236, 0.5);\">aa</span> <span title=\"0.491\" style=\"background-color: rgba(160, 156, 201, 0.5);\">employee</span> <span title=\"0.244\" style=\"background-color: rgba(219, 219, 235, 0.5);\">making</span> <span title=\"0.185\" style=\"background-color: rgba(229, 227, 240, 0.5);\">xxunk</span> <span title=\"0.918\" style=\"background-color: rgba(76, 24, 136, 0.5);\">excuses</span> <span title=\"0.118\" style=\"background-color: rgba(239, 237, 245, 0.5);\">about</span> <span title=\"0.110\" style=\"background-color: rgba(240, 238, 245, 0.5);\">xxmaj</span> <span title=\"0.170\" style=\"background-color: rgba(231, 230, 241, 0.5);\">late</span> <span title=\"0.056\" style=\"background-color: rgba(246, 244, 249, 0.5);\">xxmaj</span> <span title=\"0.061\" style=\"background-color: rgba(245, 244, 249, 0.5);\">xxunk</span> <span title=\"0.140\" style=\"background-color: rgba(236, 235, 244, 0.5);\">due</span> <span title=\"0.065\" style=\"background-color: rgba(245, 243, 248, 0.5);\">to</span> <span title=\"0.224\" style=\"background-color: rgba(222, 222, 237, 0.5);\">catering</span> <span title=\"0.054\" style=\"background-color: rgba(246, 245, 249, 0.5);\">xxunk</span> <span title=\"0.078\" style=\"background-color: rgba(243, 242, 247, 0.5);\">...</span> <span title=\"0.290\" style=\"background-color: rgba(208, 208, 230, 0.5);\">http</span> <span title=\"0.065\" style=\"background-color: rgba(245, 243, 248, 0.5);\">:</span> <span title=\"0.065\" style=\"background-color: rgba(245, 243, 248, 0.5);\">/</span> <span title=\"0.049\" style=\"background-color: rgba(247, 245, 249, 0.5);\">/</span> <span title=\"0.165\" style=\"background-color: rgba(232, 230, 241, 0.5);\">t.co</span> <span title=\"0.118\" style=\"background-color: rgba(239, 237, 245, 0.5);\">/</span> <span title=\"0.140\" style=\"background-color: rgba(236, 235, 244, 0.5);\">xxunk</span></span>"
      ],
      "text/plain": [
       "<IPython.core.display.HTML object>"
      ]
     },
     "metadata": {},
     "output_type": "display_data"
    },
    {
     "name": "stdout",
     "output_type": "stream",
     "text": [
      "('@SouthwestAir @Kaneshow @InternJohnRadio @mrerickv THIS IS EVERYTHING... now, return that jet so we can go to Miami!', 'negative', 'positive')\n"
     ]
    },
    {
     "data": {
      "text/html": [
       "<span style=\"font-family: monospace;\"><span title=\"0.095\" style=\"background-color: rgba(242, 240, 246, 0.5);\">xxbos</span> <span title=\"0.127\" style=\"background-color: rgba(238, 236, 244, 0.5);\">@southwestair</span> <span title=\"0.227\" style=\"background-color: rgba(221, 221, 236, 0.5);\">xxunk</span> <span title=\"1.000\" style=\"background-color: rgba(63, 0, 125, 0.5);\">@internjohnradio</span> <span title=\"0.296\" style=\"background-color: rgba(207, 207, 229, 0.5);\">@mrerickv</span> <span title=\"0.085\" style=\"background-color: rgba(243, 241, 247, 0.5);\">xxup</span> <span title=\"0.153\" style=\"background-color: rgba(234, 232, 242, 0.5);\">this</span> <span title=\"0.064\" style=\"background-color: rgba(245, 243, 248, 0.5);\">xxup</span> <span title=\"0.126\" style=\"background-color: rgba(238, 236, 244, 0.5);\">is</span> <span title=\"0.076\" style=\"background-color: rgba(244, 242, 248, 0.5);\">xxup</span> <span title=\"0.171\" style=\"background-color: rgba(231, 230, 241, 0.5);\">everything</span> <span title=\"0.072\" style=\"background-color: rgba(244, 243, 248, 0.5);\">...</span> <span title=\"0.109\" style=\"background-color: rgba(240, 239, 246, 0.5);\">now</span> <span title=\"0.075\" style=\"background-color: rgba(244, 242, 248, 0.5);\">,</span> <span title=\"0.242\" style=\"background-color: rgba(219, 219, 235, 0.5);\">return</span> <span title=\"0.110\" style=\"background-color: rgba(240, 238, 245, 0.5);\">that</span> <span title=\"0.308\" style=\"background-color: rgba(204, 205, 228, 0.5);\">jet</span> <span title=\"0.078\" style=\"background-color: rgba(244, 242, 248, 0.5);\">so</span> <span title=\"0.102\" style=\"background-color: rgba(241, 239, 246, 0.5);\">we</span> <span title=\"0.059\" style=\"background-color: rgba(245, 244, 249, 0.5);\">can</span> <span title=\"0.148\" style=\"background-color: rgba(235, 233, 243, 0.5);\">go</span> <span title=\"0.038\" style=\"background-color: rgba(248, 247, 250, 0.5);\">to</span> <span title=\"0.052\" style=\"background-color: rgba(246, 245, 249, 0.5);\">xxmaj</span> <span title=\"0.091\" style=\"background-color: rgba(242, 240, 247, 0.5);\">miami</span> <span title=\"0.104\" style=\"background-color: rgba(241, 239, 246, 0.5);\">!</span></span>"
      ],
      "text/plain": [
       "<IPython.core.display.HTML object>"
      ]
     },
     "metadata": {},
     "output_type": "display_data"
    },
    {
     "name": "stdout",
     "output_type": "stream",
     "text": [
      "('@AmericanAir Toby hates you lol', 'negative', 'positive')\n"
     ]
    },
    {
     "data": {
      "text/html": [
       "<span style=\"font-family: monospace;\"><span title=\"0.100\" style=\"background-color: rgba(241, 240, 246, 0.5);\">xxbos</span> <span title=\"0.172\" style=\"background-color: rgba(231, 229, 241, 0.5);\">@americanair</span> <span title=\"0.097\" style=\"background-color: rgba(242, 240, 246, 0.5);\">xxmaj</span> <span title=\"0.216\" style=\"background-color: rgba(223, 223, 237, 0.5);\">xxunk</span> <span title=\"1.000\" style=\"background-color: rgba(63, 0, 125, 0.5);\">hates</span> <span title=\"0.137\" style=\"background-color: rgba(237, 235, 244, 0.5);\">you</span> <span title=\"0.402\" style=\"background-color: rgba(182, 182, 216, 0.5);\">lol</span></span>"
      ],
      "text/plain": [
       "<IPython.core.display.HTML object>"
      ]
     },
     "metadata": {},
     "output_type": "display_data"
    },
    {
     "name": "stdout",
     "output_type": "stream",
     "text": [
      "('@SouthwestAir yall have me sleeping in the airport until 4pm tomorrow! thanks', 'negative', 'positive')\n"
     ]
    },
    {
     "data": {
      "text/html": [
       "<span style=\"font-family: monospace;\"><span title=\"0.178\" style=\"background-color: rgba(230, 229, 240, 0.5);\">xxbos</span> <span title=\"0.285\" style=\"background-color: rgba(210, 210, 231, 0.5);\">@southwestair</span> <span title=\"0.655\" style=\"background-color: rgba(122, 114, 180, 0.5);\">y</span> <span title=\"0.356\" style=\"background-color: rgba(192, 193, 222, 0.5);\">all</span> <span title=\"0.200\" style=\"background-color: rgba(226, 225, 239, 0.5);\">have</span> <span title=\"0.214\" style=\"background-color: rgba(224, 223, 238, 0.5);\">me</span> <span title=\"1.000\" style=\"background-color: rgba(63, 0, 125, 0.5);\">sleeping</span> <span title=\"0.137\" style=\"background-color: rgba(236, 235, 244, 0.5);\">in</span> <span title=\"0.079\" style=\"background-color: rgba(243, 242, 247, 0.5);\">the</span> <span title=\"0.174\" style=\"background-color: rgba(231, 229, 241, 0.5);\">airport</span> <span title=\"0.187\" style=\"background-color: rgba(229, 227, 240, 0.5);\">until</span> <span title=\"0.256\" style=\"background-color: rgba(216, 216, 234, 0.5);\">4</span> <span title=\"0.185\" style=\"background-color: rgba(229, 227, 240, 0.5);\">pm</span> <span title=\"0.274\" style=\"background-color: rgba(212, 212, 232, 0.5);\">tomorrow</span> <span title=\"0.287\" style=\"background-color: rgba(209, 209, 230, 0.5);\">!</span> <span title=\"0.894\" style=\"background-color: rgba(80, 33, 140, 0.5);\">thanks</span></span>"
      ],
      "text/plain": [
       "<IPython.core.display.HTML object>"
      ]
     },
     "metadata": {},
     "output_type": "display_data"
    }
   ],
   "source": [
    "# True sentiment negative, predicted sentiment positive \n",
    "\n",
    "for i in df_res.loc[(df_res['airline_sentiment'] == 'negative') & (df_res['predicted_sentiment'] == 'positive')].index[0:10]:\n",
    "    print((df_res['text'].loc[i], df_res['airline_sentiment'].loc[i], df_res['predicted_sentiment'].loc[i]))\n",
    "    text_interp_test.show_intrinsic_attention(df_res['text'].loc[i], cmap = mpl.cm.Purples)"
   ]
  },
  {
   "cell_type": "markdown",
   "metadata": {},
   "source": [
    "### General features and stability across runs\n",
    "\n",
    "Finally, we should also check if our results are stable across different random choices of train and test sets or if our choice of training set has a big importance on the final result. Let us therefore run the training five more times and compare the confusion matrices (and accuracies, even if they are not really reliable evaluation metrics):"
   ]
  },
  {
   "cell_type": "code",
   "execution_count": 76,
   "metadata": {},
   "outputs": [],
   "source": [
    "matrices = []\n",
    "accuracies = []\n",
    "\n",
    "for cont in range(5):\n",
    "    \n",
    "    split_neg = StratifiedShuffleSplit(n_splits = 1, train_size = 2100, test_size = 263)\n",
    "    split_neu = StratifiedShuffleSplit(n_splits = 1, train_size = 2100, test_size = 263)\n",
    "    split_pos = StratifiedShuffleSplit(n_splits = 1, train_size = 2100, test_size = 263)\n",
    "\n",
    "    for train_idx, valid_idx in split_neg.split(df['negativereason'].loc[idx_neg], df['negativereason'].loc[idx_neg]):\n",
    "        train_idx_neg = (np.array(idx_neg)[train_idx]).tolist()\n",
    "        valid_idx_neg = (np.array(idx_neg)[valid_idx]).tolist()\n",
    "        test_idx_neg = [idx for idx in idx_neg if idx not in train_idx_neg]\n",
    "    \n",
    "    for train_idx, valid_idx in split_neu.split(df['airline'].loc[idx_neu], df['airline'].loc[idx_neu]):\n",
    "        train_idx_neu = (np.array(idx_neu)[train_idx]).tolist()\n",
    "        valid_idx_neu = (np.array(idx_neu)[valid_idx]).tolist()\n",
    "        test_idx_neu = [idx for idx in idx_neu if idx not in train_idx_neu]\n",
    "    \n",
    "    for train_idx, valid_idx in split_pos.split(df['airline'].loc[idx_pos], df['airline'].loc[idx_pos]):\n",
    "        train_idx_pos = (np.array(idx_pos)[train_idx]).tolist()\n",
    "        valid_idx_pos = (np.array(idx_pos)[valid_idx]).tolist()\n",
    "        test_idx_pos = [idx for idx in idx_pos if idx not in train_idx_pos]\n",
    "    \n",
    "    df_train = df.loc[train_idx_neg + train_idx_neu + train_idx_pos].sample(frac = 1)\n",
    "    df_valid = df.loc[valid_idx_neg + valid_idx_neu + valid_idx_pos].sample(frac = 1)\n",
    "    df_test = df.loc[test_idx_neg + test_idx_neu + test_idx_pos].sample(frac = 1)\n",
    "    \n",
    "    data_clas = TextClasDataBunch.from_df(path = path, train_df = df_train, valid_df = df_valid, \n",
    "                text_cols = 'text', label_cols = 'airline_sentiment', vocab = data_lm.train_ds.vocab, bs = 256)\n",
    "    \n",
    "    learn_clas = text_classifier_learner(data_clas, AWD_LSTM, drop_mult = 0.5, model_dir = '/tmp/models')\n",
    "    learn_clas.load_encoder('/kaggle/working/fine_tuned_enc')\n",
    "    \n",
    "    learn_clas.freeze_to(-1)\n",
    "    learn_clas.fit_one_cycle(1, 3e-2, wd = 1e-5, moms = (0.8,0.7))\n",
    "    \n",
    "    learn_clas.freeze_to(-2)\n",
    "    learn_clas.fit_one_cycle(1, slice(1e-4, 1e-3), wd = 1e-5, moms=(0.8,0.7))\n",
    "    \n",
    "    learn_clas.freeze_to(-3)\n",
    "    learn_clas.fit_one_cycle(1, slice(1e-4, 1e-3), wd = 1e-5, moms=(0.8,0.7))\n",
    "    \n",
    "    learn_clas.unfreeze()\n",
    "    learn_clas.fit_one_cycle(8, slice(1e-4, 1e-3), wd = 1e-5, moms=(0.8,0.7))\n",
    "    \n",
    "    learn_clas.save('/kaggle/working/fine_tuned_clas')\n",
    "    \n",
    "    data_clas_test = TextClasDataBunch.from_df(path = path, train_df = df_train, valid_df = df_test, \n",
    "                     text_cols = 'text', label_cols = 'airline_sentiment', vocab = data_lm.train_ds.vocab, bs = 256)\n",
    "\n",
    "    learn_clas_test = text_classifier_learner(data_clas_test, AWD_LSTM, drop_mult = 0.5, model_dir = '/tmp/models')\n",
    "\n",
    "    learn_clas_test.load('/kaggle/working/fine_tuned_clas')\n",
    "\n",
    "    interp_test = learn_clas_test.interpret()\n",
    "    \n",
    "    matrix = interp_test.confusion_matrix()\n",
    "    \n",
    "    matrices.append(matrix/(np.sum(matrix, axis = 1).reshape(-1,1)))\n",
    "    accuracies.append(round(np.trace(matrix)/np.sum(matrix), 6))"
   ]
  },
  {
   "cell_type": "code",
   "execution_count": 77,
   "metadata": {},
   "outputs": [
    {
     "name": "stdout",
     "output_type": "stream",
     "text": [
      "[[0.800085 0.130263 0.069652]\n",
      " [0.153153 0.686687 0.16016 ]\n",
      " [0.08365  0.053232 0.863118]]\n",
      "\n",
      "0.788489\n",
      "\n",
      "[[0.822266 0.116982 0.060752]\n",
      " [0.163163 0.696697 0.14014 ]\n",
      " [0.079848 0.121673 0.798479]]\n",
      "\n",
      "0.806475\n",
      "\n",
      "[[0.791325 0.139587 0.069087]\n",
      " [0.125125 0.737738 0.137137]\n",
      " [0.068441 0.110266 0.821293]]\n",
      "\n",
      "0.785851\n",
      "\n",
      "[[0.82594  0.119101 0.054959]\n",
      " [0.162162 0.712713 0.125125]\n",
      " [0.041825 0.117871 0.840304]]\n",
      "\n",
      "0.81283\n",
      "\n",
      "[[0.805595 0.12885  0.065555]\n",
      " [0.156156 0.716717 0.127127]\n",
      " [0.045627 0.095057 0.859316]]\n",
      "\n",
      "0.796643\n",
      "\n"
     ]
    }
   ],
   "source": [
    "for matrix, accuracy in zip(matrices, accuracies):\n",
    "    print(matrix)\n",
    "    print()\n",
    "    print(accuracy)\n",
    "    print()"
   ]
  },
  {
   "cell_type": "markdown",
   "metadata": {},
   "source": [
    "Accuracies tend to vary between 79% and 81%, compatibly with our first run. As general feature, we notice that neutral tweets are ~ 10% less accurately classified than negative tweets; positive ones instead are usually slightly better classified than negative ones. Consistently across various runs, the biggest problem comes from neutral tweets classified as negative/positive and viceversa; as we discussed before, having more training data or further preprocessing the tweets (for example removing web links or punctuation symbols) may help in reducing this misclassification."
   ]
  },
  {
   "cell_type": "markdown",
   "metadata": {},
   "source": [
    "***\n",
    "\n",
    "# Tweets Cleaning\n",
    "\n",
    "Let us therefore try to see if our ULMFiT model's performance can be improved by cleaning the tweets. Collecting all our previous comments, we propose to clean the tweets as follows:\n",
    "\n",
    "* We remove all the web links, which contain no sentiment information;\n",
    "\n",
    "\n",
    "* We replace all \"@...\" (or \".@...\") references to airline companies and other tweets with the token \"xxunk\", in order to prevent the model associate a sentiment to the airline name (which may happen since for most companies most of the tweets are negative);\n",
    "\n",
    "\n",
    "* We remove useless symbols and replace misinterpreted symbols such as `&amp;` appropriately.\n",
    "\n",
    "We may also consider taking some action with respect to emojis or hashtags, so let us give a closer look at them. First, let us join all tweets in a single string:"
   ]
  },
  {
   "cell_type": "code",
   "execution_count": 5,
   "metadata": {},
   "outputs": [],
   "source": [
    "full_text = ' '.join(df['text'].values.tolist())"
   ]
  },
  {
   "cell_type": "markdown",
   "metadata": {},
   "source": [
    "It is now easy to collect all emojis that appear in our tweets, using the `emoji` library:"
   ]
  },
  {
   "cell_type": "code",
   "execution_count": 6,
   "metadata": {},
   "outputs": [
    {
     "name": "stdout",
     "output_type": "stream",
     "text": [
      "['💤', '👌', '😓', '🆖', '💺', '🐩', '🍅', '😡', '😤', '😄', '😊', '🎲', '🙏', '😐', '😏', '✅', '😻', '💩', '👺', '😆', '😥', '😲', '😍', '👿', '🙅', '😑', '🙌', '😜', '🌞', '🌏', '👊', '❄', '💝', '👀', '😎', '💘', '☀', '💁', '😘', '💯', '😠', '🆘', '🚶', '✈', '😋', '😔', '👏', '☺', '✔', '🚫', '🌟', '🌴', '❗', '😒', '🎵', '🍷', '😈', '😪', '💙', '😮', '😞', '😷', '💗', '➡', '😉', '😃', '😭', '✨', '😂', '⛄', '💔', '😕', '🙈', '🎉', '🍻', '💜', '😁', '☕', '😫', '📱', '😀', '👍', '😦', '⤵', '👸', '😅', '👋', '↔', '😬', '👠', '🐴', '👉', '📲', '✌', '⤴', '🚪', '❌', '😱', '😖', '😣', '😩', '❤', '💕', '🍸', '💪', '👎', '🔵', '😳', '🎀', '😢', '😵', '♥', '⭐', '🙉', '🐳', '💖', '⌚']\n",
      "\n",
      "Number of different emojis: 117\n"
     ]
    }
   ],
   "source": [
    "import emoji\n",
    "\n",
    "list_emojis = [p['emoji'] for p in emoji.emoji_lis(full_text)]\n",
    "\n",
    "# A set retains a single instance of each element in the original list\n",
    "\n",
    "list_unique_emojis = list(set(list_emojis))\n",
    "\n",
    "print(list_unique_emojis)\n",
    "print()\n",
    "print(\"Number of different emojis:\", len(list_unique_emojis))"
   ]
  },
  {
   "cell_type": "markdown",
   "metadata": {},
   "source": [
    "We notice that many emojis may carry some sentiment, and many of those which don't are not part of the vocabulary since they only appear once: we therefore decide to keep emojis as they are (other options would be translating the emoji meaning into text, or removing emojis completely)."
   ]
  },
  {
   "cell_type": "code",
   "execution_count": 7,
   "metadata": {},
   "outputs": [
    {
     "data": {
      "text/plain": [
       "[('😪', 1),\n",
       " ('➡', 1),\n",
       " ('🐩', 1),\n",
       " ('🎵', 1),\n",
       " ('💖', 1),\n",
       " ('🐴', 1),\n",
       " ('💤', 1),\n",
       " ('🐳', 1),\n",
       " ('📱', 1),\n",
       " ('❗', 1),\n",
       " ('😵', 1),\n",
       " ('🚪', 1),\n",
       " ('😮', 1),\n",
       " ('🚫', 1),\n",
       " ('⌚', 1),\n",
       " ('😈', 1),\n",
       " ('💘', 1),\n",
       " ('💪', 1),\n",
       " ('📲', 1),\n",
       " ('😅', 1),\n",
       " ('🙉', 1),\n",
       " ('😲', 1),\n",
       " ('🆖', 1),\n",
       " ('✔', 1),\n",
       " ('🙈', 1),\n",
       " ('❌', 1),\n",
       " ('😦', 1),\n",
       " ('✅', 1),\n",
       " ('👉', 1),\n",
       " ('🎲', 1),\n",
       " ('↔', 1),\n",
       " ('😣', 1)]"
      ]
     },
     "execution_count": 7,
     "metadata": {},
     "output_type": "execute_result"
    }
   ],
   "source": [
    "dic_emojis = {el:list_emojis.count(el) for el in list_unique_emojis}\n",
    "\n",
    "freq_emojis = [(\"{}\".format(key), value) for (key, value) in sorted(dic_emojis.items(), \n",
    "                                                                    reverse = True, key = lambda x: x[1])]\n",
    "\n",
    "[i for i in freq_emojis if i[1] < 2]"
   ]
  },
  {
   "cell_type": "markdown",
   "metadata": {},
   "source": [
    "We can also easily collect all hashtags which appear in our tweets:"
   ]
  },
  {
   "cell_type": "code",
   "execution_count": 8,
   "metadata": {},
   "outputs": [
    {
     "name": "stdout",
     "output_type": "stream",
     "text": [
      "Number of different hashtags: 2197\n",
      "\n",
      "First 100 hashtags:\n",
      "\n",
      "['#2955', '#nothelpful', '#tech', '#imateacher', '#WorstAirlineInAmerica', '#Newarkliberty', '#delayedovernight', '#agcommunity', '#mad', '#NoCoatCloset', '#WTF', '#goingtovegas', '#AA291', '#branson', '#TelAviv', '#lazy', '#okcdirects', '#nolove', '#packingayak', '#TSAPreCheck', '#options', '#chairmanlove', '#CMFat35000feet', '#LuvAgent', '#B767', '#delay', '#Frustrated', '#MD80', '#shocking', '#3367', '#badmgmt', '#LobsterMac', '#canthurtasking', '#directflights', '#chillpill', '#nogood', '#alwayshappensthere', '#ELMIRA', '#platinummember', '#bringbackrealstaff', '#happycamper', '#lost', '#notwheelsup', '#shame', '#greatjob', '#skytrax', '#sweet', '#worstcustservice', '#unbelievable', '#generic', '#Belize', '#needcoffee', '#5', '#StLouis', '#freeflight', '#428', '#BOOKS', '#ExecutivePlatinumMeansNothing', '#sosmart', '#airplanemodewason', '#winterops', '#shameful', '#epicfail', '#fedup', '#impact', '#flySW', '#NotHappy', '#RaganDisney', '#beatstheothers', '#MultipleDoorOpeningAndClosing', '#BestInClassSocial', '#findanothergate', '#awesome', '#87yearsLate', '#smh', '#needtogethome', '#NoSupport', '#diverted', '#wedontcarebecauseyoupaidalready', '#flight2149', '#soulandinspiration', '#Explain', '#logic', '#ATL', '#neveragain', '#BHM', '#showup', '#soreback', '#old', '#FAILINGYOURCUSTOMER', '#Pura', '#sarcasm', '#swa', '#1408', '#PoorService', '#DIA', '#intlcheckin', '#PromoteThatGirl', '#gardening', '#CustServ']\n"
     ]
    }
   ],
   "source": [
    "list_hashtags = re.findall(r'#\\w+', full_text)\n",
    "list_unique_hashtags = list(set(list_hashtags))\n",
    "\n",
    "print(\"Number of different hashtags:\", len(list_unique_hashtags))\n",
    "print()\n",
    "print(\"First 100 hashtags:\")\n",
    "print()\n",
    "print(list_unique_hashtags[:100])"
   ]
  },
  {
   "cell_type": "markdown",
   "metadata": {},
   "source": [
    "Hashtags come in many different types. Some of them consist of a single word which make sense by itself (e.g. #lost); others are composed by different words distinguished by capital letters (e.g. #WorstAirlineInAmerica) or not distinguished (e.g. #findanothergate); the remaining correspond to flight numbers or other unclear codes. Words in hashtags may sometimes contain some sentiment information, but it is in general quite complicated to separate the single words; the following code based on regular expressions can do a good job in most cases (apart from the last example) if words are distinguished by capital letters:"
   ]
  },
  {
   "cell_type": "code",
   "execution_count": 9,
   "metadata": {
    "scrolled": true
   },
   "outputs": [
    {
     "name": "stdout",
     "output_type": "stream",
     "text": [
      "Cheap Oair Chat\n",
      "All You Can Jet Pass\n",
      "Grand Canyon\n",
      "ABC News\n",
      "SF Oto BOS\n"
     ]
    }
   ],
   "source": [
    "def split_hashtag(tag):\n",
    "    pattern = re.compile(r\"[A-Z][a-z]+|\\d+|[A-Z]+(?![a-z])\")\n",
    "    return \" \".join(pattern.findall(tag))\n",
    "\n",
    "for tag in ['#CheapOairChat', '#AllYouCanJetPass', '#GrandCanyon', '#ABCNews', '#SFOtoBOS']:\n",
    "    print(split_hashtag(tag))"
   ]
  },
  {
   "cell_type": "markdown",
   "metadata": {},
   "source": [
    "If words are not separated by capital letters instead we do not know of any easy way to perform a similar job. We will therefore split words in hashtags whenever possible, and simply remove # in all other cases (which will be effective if the hashtag consists of a single word).\n",
    "\n",
    "All in all, we perform the following cleaning operations on the tweets in our dataframe:"
   ]
  },
  {
   "cell_type": "code",
   "execution_count": 10,
   "metadata": {},
   "outputs": [],
   "source": [
    "def clean(text):\n",
    "    \n",
    "    def replacements(match):\n",
    "        return split_hashtag(match.group())\n",
    "    \n",
    "    text = re.sub(r'http\\S+', '', text)                # removes web links\n",
    "    text = re.sub(r'\\.*@\\w+', 'xxunk', text)           # replaces words starting as \"@\" or \".@\" with \"xxunk\" \n",
    "    text = re.sub(r'\\.+(#\\w+)', r' \\1', text)          # removes \".\" from in front of hashtags\n",
    "    text = re.sub(r'#[A-Z]\\w+', replacements, text)    # applies the split_hashtag() function whenever possible\n",
    "    text = re.sub(r'#(\\w+)', r'\\1', text)              # removes \"#\" from hashtags if it could not be splitted\n",
    "    text = re.sub(r'\\^', '', text)                     # removes \"^\" symbol \n",
    "    text = re.sub(r'&amp;', 'and', text)               # manually renders \"&amp;\" as \"and\"\n",
    "    text = re.sub(r'&gt;', '>', text)                  # manually renders \"&gt;\" as \">\"\n",
    "    text = re.sub(r'&lt;', '<', text)                  # manually renders \"&lt;\" as \"<\"\n",
    "    text = re.sub(r'-+>', ' to ', text)                # translates arrows (e.g. -->) as \"to\"\n",
    "    \n",
    "    return text\n",
    "\n",
    "def preprocess(data):\n",
    "    \n",
    "    data = data.astype(str).apply(clean)\n",
    "    \n",
    "    return data"
   ]
  },
  {
   "cell_type": "markdown",
   "metadata": {},
   "source": [
    "We then create a new dataframe with \"cleaned\" tweets:"
   ]
  },
  {
   "cell_type": "code",
   "execution_count": 11,
   "metadata": {
    "scrolled": true
   },
   "outputs": [
    {
     "data": {
      "text/html": [
       "<div>\n",
       "<style scoped>\n",
       "    .dataframe tbody tr th:only-of-type {\n",
       "        vertical-align: middle;\n",
       "    }\n",
       "\n",
       "    .dataframe tbody tr th {\n",
       "        vertical-align: top;\n",
       "    }\n",
       "\n",
       "    .dataframe thead th {\n",
       "        text-align: right;\n",
       "    }\n",
       "</style>\n",
       "<table border=\"1\" class=\"dataframe\">\n",
       "  <thead>\n",
       "    <tr style=\"text-align: right;\">\n",
       "      <th></th>\n",
       "      <th>text</th>\n",
       "      <th>airline_sentiment</th>\n",
       "      <th>airline</th>\n",
       "      <th>negativereason</th>\n",
       "    </tr>\n",
       "  </thead>\n",
       "  <tbody>\n",
       "    <tr>\n",
       "      <th>0</th>\n",
       "      <td>xxunk What xxunk said.</td>\n",
       "      <td>neutral</td>\n",
       "      <td>Virgin America</td>\n",
       "      <td>NaN</td>\n",
       "    </tr>\n",
       "    <tr>\n",
       "      <th>1</th>\n",
       "      <td>xxunk plus you've added commercials to the exp...</td>\n",
       "      <td>positive</td>\n",
       "      <td>Virgin America</td>\n",
       "      <td>NaN</td>\n",
       "    </tr>\n",
       "    <tr>\n",
       "      <th>2</th>\n",
       "      <td>xxunk I didn't today... Must mean I need to ta...</td>\n",
       "      <td>neutral</td>\n",
       "      <td>Virgin America</td>\n",
       "      <td>NaN</td>\n",
       "    </tr>\n",
       "    <tr>\n",
       "      <th>3</th>\n",
       "      <td>xxunk it's really aggressive to blast obnoxiou...</td>\n",
       "      <td>negative</td>\n",
       "      <td>Virgin America</td>\n",
       "      <td>Bad Flight</td>\n",
       "    </tr>\n",
       "    <tr>\n",
       "      <th>4</th>\n",
       "      <td>xxunk and it's a really big bad thing about it</td>\n",
       "      <td>negative</td>\n",
       "      <td>Virgin America</td>\n",
       "      <td>Can't Tell</td>\n",
       "    </tr>\n",
       "  </tbody>\n",
       "</table>\n",
       "</div>"
      ],
      "text/plain": [
       "                                                text      ...       negativereason\n",
       "0                             xxunk What xxunk said.      ...                  NaN\n",
       "1  xxunk plus you've added commercials to the exp...      ...                  NaN\n",
       "2  xxunk I didn't today... Must mean I need to ta...      ...                  NaN\n",
       "3  xxunk it's really aggressive to blast obnoxiou...      ...           Bad Flight\n",
       "4     xxunk and it's a really big bad thing about it      ...           Can't Tell\n",
       "\n",
       "[5 rows x 4 columns]"
      ]
     },
     "execution_count": 11,
     "metadata": {},
     "output_type": "execute_result"
    }
   ],
   "source": [
    "df_clean = df.copy()\n",
    "df_clean['text'] = preprocess(df['text'])\n",
    "df_clean.head()"
   ]
  },
  {
   "cell_type": "markdown",
   "metadata": {},
   "source": [
    "Let us show a few examples of tweets before and after cleaning, to check that our preprocessing steps have been implemented properly:"
   ]
  },
  {
   "cell_type": "code",
   "execution_count": 12,
   "metadata": {},
   "outputs": [
    {
     "name": "stdout",
     "output_type": "stream",
     "text": [
      "@united but your system gave my seat away.now I'm 27L Economy! Not Econ + seat. How did you give my plus seat away?\n",
      "xxunk but your system gave my seat away.now I'm 27L Economy! Not Econ + seat. How did you give my plus seat away?\n",
      "\n",
      "Now put your baggage fees back on \"free.\" RT @JetBlue: Our fleet's on fleek. http://t.co/oxsA8btVTB\n",
      "Now put your baggage fees back on \"free.\" RT xxunk: Our fleet's on fleek. \n",
      "\n",
      "@united obviously the staff at EWR - United or otherwise have not seen your ads about - being FRIENDLY and helpful #ewr worst airport\n",
      "xxunk obviously the staff at EWR - United or otherwise have not seen your ads about - being FRIENDLY and helpful ewr worst airport\n",
      "\n",
      "@AmericanAir yes. Shows Cancelled Flightled &amp; asks for her to contact you at 800 number.\n",
      "xxunk yes. Shows Cancelled Flightled and asks for her to contact you at 800 number.\n",
      "\n",
      "@USAirways Unfortunately I doubt that the consistently subpar service will improve with the @AmericanAir merger. #USAirways\n",
      "xxunk Unfortunately I doubt that the consistently subpar service will improve with the xxunk merger. US Airways\n",
      "\n",
      "@united you should spend all of the money you take for our tickets and update your planes! Each flight has a maintenance issue!!!\n",
      "xxunk you should spend all of the money you take for our tickets and update your planes! Each flight has a maintenance issue!!!\n",
      "\n",
      "@USAirways after 2 hrs of trying to reach real human, finally did and been on hold for 1:36 hrs for out of synch reservation.\n",
      "xxunk after 2 hrs of trying to reach real human, finally did and been on hold for 1:36 hrs for out of synch reservation.\n",
      "\n",
      "@VirginAmerica everything was fine until you lost my bag\n",
      "xxunk everything was fine until you lost my bag\n",
      "\n",
      "@JetBlue @_justdippin_ drops a new video off the upcoming project #TheTakeover, produced by YpOnTheBeat https://t.co/IKQBdZA7TN RT\n",
      "xxunk xxunk drops a new video off the upcoming project The Takeover, produced by YpOnTheBeat  RT\n",
      "\n",
      "@AmericanAir Hello, question, How many balloons do you think it will take to life up one of your planes?\n",
      "xxunk Hello, question, How many balloons do you think it will take to life up one of your planes?\n",
      "\n"
     ]
    }
   ],
   "source": [
    "for i in np.random.randint(0, len(df)-1, 10):\n",
    "    print(df['text'].values[i])                 # Original tweet\n",
    "    print(df_clean['text'].values[i])           # Cleaned tweet\n",
    "    print()"
   ]
  },
  {
   "cell_type": "markdown",
   "metadata": {},
   "source": [
    "### Training - Language Model\n",
    "\n",
    "Now that we cleaned or tweets, let us train a ULMFiT model again. As before, the first step will be using transfer learning from a language model pre-trained on Wikitext-103; let us then follow our previous steps, keeping 10% of the tweets for validation:"
   ]
  },
  {
   "cell_type": "code",
   "execution_count": 13,
   "metadata": {},
   "outputs": [],
   "source": [
    "from sklearn.model_selection import ShuffleSplit\n",
    "\n",
    "split = ShuffleSplit(n_splits = 1, test_size = 0.1)\n",
    "\n",
    "for train_idx, valid_idx in split.split(df_clean['text'], df_clean['airline_sentiment'].values):\n",
    "    df_train = df_clean.iloc[train_idx]\n",
    "    df_valid = df_clean.iloc[valid_idx]"
   ]
  },
  {
   "cell_type": "code",
   "execution_count": 14,
   "metadata": {},
   "outputs": [],
   "source": [
    "data_lm = TextLMDataBunch.from_df(path = path, train_df = df_train, valid_df = df_valid,\n",
    "                                  text_cols = 'text', label_cols = 'airline_sentiment', max_vocab = 60000, min_freq = 2)"
   ]
  },
  {
   "cell_type": "code",
   "execution_count": 15,
   "metadata": {},
   "outputs": [],
   "source": [
    "learn_lm = language_model_learner(data_lm, AWD_LSTM, drop_mult = 1.0, model_dir = '/tmp/models')"
   ]
  },
  {
   "cell_type": "code",
   "execution_count": 16,
   "metadata": {},
   "outputs": [
    {
     "data": {
      "text/html": [],
      "text/plain": [
       "<IPython.core.display.HTML object>"
      ]
     },
     "metadata": {},
     "output_type": "display_data"
    },
    {
     "name": "stdout",
     "output_type": "stream",
     "text": [
      "LR Finder is complete, type {learner_name}.recorder.plot() to see the graph.\n",
      "Min numerical gradient: 6.92E-02\n"
     ]
    },
    {
     "data": {
      "image/png": "[encoded data removed]",
      "text/plain": [
       "<Figure size 432x288 with 1 Axes>"
      ]
     },
     "metadata": {},
     "output_type": "display_data"
    }
   ],
   "source": [
    "learn_lm.lr_find()\n",
    "learn_lm.recorder.plot(suggestion = True)"
   ]
  },
  {
   "cell_type": "code",
   "execution_count": 17,
   "metadata": {},
   "outputs": [
    {
     "data": {
      "text/html": [
       "<table border=\"1\" class=\"dataframe\">\n",
       "  <thead>\n",
       "    <tr style=\"text-align: left;\">\n",
       "      <th>epoch</th>\n",
       "      <th>train_loss</th>\n",
       "      <th>valid_loss</th>\n",
       "      <th>accuracy</th>\n",
       "      <th>time</th>\n",
       "    </tr>\n",
       "  </thead>\n",
       "  <tbody>\n",
       "    <tr>\n",
       "      <td>0</td>\n",
       "      <td>4.925765</td>\n",
       "      <td>4.107671</td>\n",
       "      <td>0.251311</td>\n",
       "      <td>00:07</td>\n",
       "    </tr>\n",
       "  </tbody>\n",
       "</table>"
      ],
      "text/plain": [
       "<IPython.core.display.HTML object>"
      ]
     },
     "metadata": {},
     "output_type": "display_data"
    }
   ],
   "source": [
    "learn_lm.fit_one_cycle(1, slice(3e-2), wd = 1e-5, moms = (0.8, 0.7))  "
   ]
  },
  {
   "cell_type": "code",
   "execution_count": 18,
   "metadata": {},
   "outputs": [],
   "source": [
    "learn_lm.unfreeze()"
   ]
  },
  {
   "cell_type": "code",
   "execution_count": 19,
   "metadata": {
    "scrolled": true
   },
   "outputs": [
    {
     "data": {
      "text/html": [],
      "text/plain": [
       "<IPython.core.display.HTML object>"
      ]
     },
     "metadata": {},
     "output_type": "display_data"
    },
    {
     "name": "stdout",
     "output_type": "stream",
     "text": [
      "LR Finder is complete, type {learner_name}.recorder.plot() to see the graph.\n",
      "Min numerical gradient: 6.31E-07\n"
     ]
    },
    {
     "data": {
      "image/png": "[encoded data removed]",
      "text/plain": [
       "<Figure size 432x288 with 1 Axes>"
      ]
     },
     "metadata": {},
     "output_type": "display_data"
    }
   ],
   "source": [
    "learn_lm.lr_find()\n",
    "learn_lm.recorder.plot(suggestion = True)"
   ]
  },
  {
   "cell_type": "code",
   "execution_count": 20,
   "metadata": {},
   "outputs": [
    {
     "data": {
      "text/html": [
       "<table border=\"1\" class=\"dataframe\">\n",
       "  <thead>\n",
       "    <tr style=\"text-align: left;\">\n",
       "      <th>epoch</th>\n",
       "      <th>train_loss</th>\n",
       "      <th>valid_loss</th>\n",
       "      <th>accuracy</th>\n",
       "      <th>time</th>\n",
       "    </tr>\n",
       "  </thead>\n",
       "  <tbody>\n",
       "    <tr>\n",
       "      <td>0</td>\n",
       "      <td>4.382845</td>\n",
       "      <td>3.983449</td>\n",
       "      <td>0.266239</td>\n",
       "      <td>00:09</td>\n",
       "    </tr>\n",
       "    <tr>\n",
       "      <td>1</td>\n",
       "      <td>4.200849</td>\n",
       "      <td>3.835531</td>\n",
       "      <td>0.285268</td>\n",
       "      <td>00:09</td>\n",
       "    </tr>\n",
       "    <tr>\n",
       "      <td>2</td>\n",
       "      <td>4.015357</td>\n",
       "      <td>3.750473</td>\n",
       "      <td>0.295201</td>\n",
       "      <td>00:09</td>\n",
       "    </tr>\n",
       "    <tr>\n",
       "      <td>3</td>\n",
       "      <td>3.849132</td>\n",
       "      <td>3.699376</td>\n",
       "      <td>0.299414</td>\n",
       "      <td>00:09</td>\n",
       "    </tr>\n",
       "    <tr>\n",
       "      <td>4</td>\n",
       "      <td>3.698905</td>\n",
       "      <td>3.668402</td>\n",
       "      <td>0.304297</td>\n",
       "      <td>00:09</td>\n",
       "    </tr>\n",
       "    <tr>\n",
       "      <td>5</td>\n",
       "      <td>3.576071</td>\n",
       "      <td>3.654669</td>\n",
       "      <td>0.305831</td>\n",
       "      <td>00:09</td>\n",
       "    </tr>\n",
       "    <tr>\n",
       "      <td>6</td>\n",
       "      <td>3.486939</td>\n",
       "      <td>3.650745</td>\n",
       "      <td>0.305776</td>\n",
       "      <td>00:09</td>\n",
       "    </tr>\n",
       "    <tr>\n",
       "      <td>7</td>\n",
       "      <td>3.428167</td>\n",
       "      <td>3.650772</td>\n",
       "      <td>0.307087</td>\n",
       "      <td>00:09</td>\n",
       "    </tr>\n",
       "  </tbody>\n",
       "</table>"
      ],
      "text/plain": [
       "<IPython.core.display.HTML object>"
      ]
     },
     "metadata": {},
     "output_type": "display_data"
    }
   ],
   "source": [
    "learn_lm.fit_one_cycle(8, slice(1e-2/(2.6**4), 1e-2), wd = 1e-5, moms = (0.8,0.7)) "
   ]
  },
  {
   "cell_type": "markdown",
   "metadata": {},
   "source": [
    "As we can see, language model accuracy improved by around 1% after cleaning the tweets; this behaviour persists across various runs on different folds:"
   ]
  },
  {
   "cell_type": "code",
   "execution_count": 21,
   "metadata": {},
   "outputs": [
    {
     "data": {
      "text/html": [
       "<table border=\"1\" class=\"dataframe\">\n",
       "  <thead>\n",
       "    <tr style=\"text-align: left;\">\n",
       "      <th>epoch</th>\n",
       "      <th>train_loss</th>\n",
       "      <th>valid_loss</th>\n",
       "      <th>accuracy</th>\n",
       "      <th>time</th>\n",
       "    </tr>\n",
       "  </thead>\n",
       "  <tbody>\n",
       "    <tr>\n",
       "      <td>0</td>\n",
       "      <td>4.913534</td>\n",
       "      <td>4.115983</td>\n",
       "      <td>0.247545</td>\n",
       "      <td>00:07</td>\n",
       "    </tr>\n",
       "  </tbody>\n",
       "</table>"
      ],
      "text/plain": [
       "<IPython.core.display.HTML object>"
      ]
     },
     "metadata": {},
     "output_type": "display_data"
    },
    {
     "data": {
      "text/html": [
       "\n",
       "    <div>\n",
       "        <style>\n",
       "            /* Turns off some styling */\n",
       "            progress {\n",
       "                /* gets rid of default border in Firefox and Opera. */\n",
       "                border: none;\n",
       "                /* Needs to be in here for Safari polyfill so background images work as expected. */\n",
       "                background-size: auto;\n",
       "            }\n",
       "            .progress-bar-interrupted, .progress-bar-interrupted::-webkit-progress-bar {\n",
       "                background: #F44336;\n",
       "            }\n",
       "        </style>\n",
       "      <progress value='0' class='' max='15', style='width:300px; height:20px; vertical-align: middle;'></progress>\n",
       "      0.00% [0/15 00:00<00:00]\n",
       "    </div>\n",
       "    \n",
       "<table border=\"1\" class=\"dataframe\">\n",
       "  <thead>\n",
       "    <tr style=\"text-align: left;\">\n",
       "      <th>epoch</th>\n",
       "      <th>train_loss</th>\n",
       "      <th>valid_loss</th>\n",
       "      <th>accuracy</th>\n",
       "      <th>time</th>\n",
       "    </tr>\n",
       "  </thead>\n",
       "  <tbody>\n",
       "  </tbody>\n",
       "</table><p>\n",
       "\n",
       "    <div>\n",
       "        <style>\n",
       "            /* Turns off some styling */\n",
       "            progress {\n",
       "                /* gets rid of default border in Firefox and Opera. */\n",
       "                border: none;\n",
       "                /* Needs to be in here for Safari polyfill so background images work as expected. */\n",
       "                background-size: auto;\n",
       "            }\n",
       "            .progress-bar-interrupted, .progress-bar-interrupted::-webkit-progress-bar {\n",
       "                background: #F44336;\n",
       "            }\n",
       "        </style>\n",
       "      <progress value='0' class='' max='70', style='width:300px; height:20px; vertical-align: middle;'></progress>\n",
       "      \n",
       "    </div>\n",
       "    "
      ],
      "text/plain": [
       "<IPython.core.display.HTML object>"
      ]
     },
     "metadata": {},
     "output_type": "display_data"
    }
   ],
   "source": [
    "from sklearn.model_selection import KFold\n",
    "\n",
    "split = KFold(n_splits = 10, shuffle = True)\n",
    "\n",
    "val_losses = []\n",
    "accuracies = []\n",
    "\n",
    "for train_idx, valid_idx in split.split(df_clean['text'], df_clean['airline_sentiment'].values):\n",
    "    df_train = df_clean.iloc[train_idx]\n",
    "    df_valid = df_clean.iloc[valid_idx]\n",
    "    \n",
    "    data_lm = TextLMDataBunch.from_df(path = path, train_df = df_train, valid_df = df_valid, \n",
    "                                   text_cols = 'text', label_cols = 'airline_sentiment', max_vocab = 60000, min_freq = 2)\n",
    "    \n",
    "    learn_lm = language_model_learner(data_lm, AWD_LSTM, drop_mult = 1.0, model_dir = '/tmp/models')\n",
    "    \n",
    "    learn_lm.fit_one_cycle(1, slice(3e-2), wd = 1e-5, moms = (0.8, 0.7))  \n",
    "    \n",
    "    learn_lm.unfreeze()\n",
    "    \n",
    "    learn_lm.fit_one_cycle(15, slice(1e-2/(2.6**4), 1e-2), wd = 1e-5, moms=(0.8,0.7))\n",
    "    \n",
    "    val_losses.append(round(learn_lm.recorder.val_losses[-1] ,6))\n",
    "    accuracies.append(round(learn_lm.recorder.metrics[-1][0].item() ,6))"
   ]
  },
  {
   "cell_type": "code",
   "execution_count": 22,
   "metadata": {},
   "outputs": [
    {
     "name": "stdout",
     "output_type": "stream",
     "text": [
      "Accuracies: [0.311077, 0.313058, 0.314481, 0.311886, 0.312723, 0.313895, 0.318164, 0.314425, 0.313421, 0.306948]\n",
      "Accuracies mean: 0.313008\n",
      "Accuracies standard deviation: 0.002711\n",
      "\n",
      "Validation losses: [3.680325, 3.653186, 3.678188, 3.703152, 3.697039, 3.69647, 3.635584, 3.661692, 3.705574, 3.705214]\n",
      "Validation losses mean: 3.681642\n",
      "Validation losses standard deviation: 0.023218\n"
     ]
    }
   ],
   "source": [
    "print('Accuracies:', accuracies)\n",
    "print('Accuracies mean:', np.array(accuracies).mean().round(6))\n",
    "print('Accuracies standard deviation:', np.array(accuracies).std().round(6))\n",
    "print()\n",
    "print('Validation losses:', val_losses)\n",
    "print('Validation losses mean:', np.array(val_losses).mean().round(6))\n",
    "print('Validation losses standard deviation:', np.array(val_losses).std().round(6))"
   ]
  },
  {
   "cell_type": "markdown",
   "metadata": {},
   "source": [
    "The mean accuracy across runs is around 1.3% higher compared to before, which means the language model finds it a bit easier to predict the next word for cleaned tweets rather than for original ones: this is however most likely due to the fact that we replaced many of the most common words (e.g. tweet references and references to airlines) with \"xxunk\", so it may not really be a qualitative improvement of the model.\n",
    "\n",
    "Moving on, let us construct our final language model by training it on as many tweets as possible:"
   ]
  },
  {
   "cell_type": "code",
   "execution_count": 23,
   "metadata": {},
   "outputs": [],
   "source": [
    "from sklearn.model_selection import ShuffleSplit\n",
    "\n",
    "split = ShuffleSplit(n_splits = 1, test_size = 2/14640)\n",
    "\n",
    "for train_idx, valid_idx in split.split(df_clean['text'], df_clean['airline_sentiment'].values):\n",
    "    df_train = df_clean.iloc[train_idx]\n",
    "    df_valid = df_clean.iloc[valid_idx]"
   ]
  },
  {
   "cell_type": "code",
   "execution_count": 24,
   "metadata": {},
   "outputs": [],
   "source": [
    "data_lm = TextLMDataBunch.from_df(path = path, train_df = df_train, valid_df = df_valid, \n",
    "                                  text_cols = 'text', label_cols = 'airline_sentiment', max_vocab = 60000, min_freq = 2)"
   ]
  },
  {
   "cell_type": "code",
   "execution_count": 25,
   "metadata": {},
   "outputs": [
    {
     "data": {
      "text/html": [
       "<table border=\"1\" class=\"dataframe\">\n",
       "  <thead>\n",
       "    <tr style=\"text-align: left;\">\n",
       "      <th>epoch</th>\n",
       "      <th>train_loss</th>\n",
       "      <th>valid_loss</th>\n",
       "      <th>accuracy</th>\n",
       "      <th>time</th>\n",
       "    </tr>\n",
       "  </thead>\n",
       "  <tbody>\n",
       "    <tr>\n",
       "      <td>0</td>\n",
       "      <td>4.880414</td>\n",
       "      <td>3.472536</td>\n",
       "      <td>0.309598</td>\n",
       "      <td>00:07</td>\n",
       "    </tr>\n",
       "  </tbody>\n",
       "</table>"
      ],
      "text/plain": [
       "<IPython.core.display.HTML object>"
      ]
     },
     "metadata": {},
     "output_type": "display_data"
    },
    {
     "data": {
      "text/html": [
       "<table border=\"1\" class=\"dataframe\">\n",
       "  <thead>\n",
       "    <tr style=\"text-align: left;\">\n",
       "      <th>epoch</th>\n",
       "      <th>train_loss</th>\n",
       "      <th>valid_loss</th>\n",
       "      <th>accuracy</th>\n",
       "      <th>time</th>\n",
       "    </tr>\n",
       "  </thead>\n",
       "  <tbody>\n",
       "    <tr>\n",
       "      <td>0</td>\n",
       "      <td>4.359672</td>\n",
       "      <td>3.477752</td>\n",
       "      <td>0.332589</td>\n",
       "      <td>00:09</td>\n",
       "    </tr>\n",
       "    <tr>\n",
       "      <td>1</td>\n",
       "      <td>4.176515</td>\n",
       "      <td>3.484429</td>\n",
       "      <td>0.277679</td>\n",
       "      <td>00:09</td>\n",
       "    </tr>\n",
       "    <tr>\n",
       "      <td>2</td>\n",
       "      <td>3.995898</td>\n",
       "      <td>3.455251</td>\n",
       "      <td>0.319643</td>\n",
       "      <td>00:09</td>\n",
       "    </tr>\n",
       "    <tr>\n",
       "      <td>3</td>\n",
       "      <td>3.831699</td>\n",
       "      <td>3.448900</td>\n",
       "      <td>0.325670</td>\n",
       "      <td>00:09</td>\n",
       "    </tr>\n",
       "    <tr>\n",
       "      <td>4</td>\n",
       "      <td>3.681311</td>\n",
       "      <td>3.549677</td>\n",
       "      <td>0.343750</td>\n",
       "      <td>00:09</td>\n",
       "    </tr>\n",
       "    <tr>\n",
       "      <td>5</td>\n",
       "      <td>3.553458</td>\n",
       "      <td>3.555982</td>\n",
       "      <td>0.296429</td>\n",
       "      <td>00:09</td>\n",
       "    </tr>\n",
       "    <tr>\n",
       "      <td>6</td>\n",
       "      <td>3.466201</td>\n",
       "      <td>3.573924</td>\n",
       "      <td>0.336607</td>\n",
       "      <td>00:09</td>\n",
       "    </tr>\n",
       "    <tr>\n",
       "      <td>7</td>\n",
       "      <td>3.415214</td>\n",
       "      <td>3.577088</td>\n",
       "      <td>0.340848</td>\n",
       "      <td>00:09</td>\n",
       "    </tr>\n",
       "  </tbody>\n",
       "</table>"
      ],
      "text/plain": [
       "<IPython.core.display.HTML object>"
      ]
     },
     "metadata": {},
     "output_type": "display_data"
    }
   ],
   "source": [
    "learn_lm = language_model_learner(data_lm, AWD_LSTM, drop_mult = 1.0, model_dir = '/tmp/models')\n",
    "\n",
    "learn_lm.fit_one_cycle(1, slice(3e-2), wd = 1e-5, moms = (0.8, 0.7))\n",
    "learn_lm.unfreeze()\n",
    "learn_lm.fit_one_cycle(8, slice(1e-2/(2.6**4), 1e-2), wd = 1e-5, moms = (0.8,0.7)) "
   ]
  },
  {
   "cell_type": "markdown",
   "metadata": {},
   "source": [
    "The accuracy seems quite higher now, but this is just due to having a very small number of tweets in the new validation set. The new vocabulary has now 6456 tokens:"
   ]
  },
  {
   "cell_type": "code",
   "execution_count": 26,
   "metadata": {},
   "outputs": [
    {
     "data": {
      "text/plain": [
       "6456"
      ]
     },
     "execution_count": 26,
     "metadata": {},
     "output_type": "execute_result"
    }
   ],
   "source": [
    "len(data_lm.train_ds.vocab.itos)"
   ]
  },
  {
   "cell_type": "markdown",
   "metadata": {},
   "source": [
    "We shouldn't forget to save the model and its encoder, which will be used later:"
   ]
  },
  {
   "cell_type": "code",
   "execution_count": 27,
   "metadata": {},
   "outputs": [],
   "source": [
    "learn_lm.save('/kaggle/working/fine_tuned_lm')\n",
    "learn_lm.save_encoder('/kaggle/working/fine_tuned_enc')"
   ]
  },
  {
   "cell_type": "markdown",
   "metadata": {},
   "source": [
    "### Training - Classifier Model\n",
    "\n",
    "At this point we are ready to train a classifier model. The code is exactly as before, the only difference being the new language model. Let us consider five runs on different random (but stratified) choices of training and test sets:"
   ]
  },
  {
   "cell_type": "code",
   "execution_count": 28,
   "metadata": {},
   "outputs": [],
   "source": [
    "idx_neg = df_clean[df_clean['airline_sentiment'].values == 'negative'].index\n",
    "idx_neu = df_clean[df_clean['airline_sentiment'].values == 'neutral'].index\n",
    "idx_pos = df_clean[df_clean['airline_sentiment'].values == 'positive'].index\n",
    "\n",
    "from sklearn.model_selection import StratifiedShuffleSplit\n",
    "\n",
    "matrices = []\n",
    "accuracies = []\n",
    "\n",
    "for cont in range(5):\n",
    "    \n",
    "    split_neg = StratifiedShuffleSplit(n_splits = 1, train_size = 2100, test_size = 263)\n",
    "    split_neu = StratifiedShuffleSplit(n_splits = 1, train_size = 2100, test_size = 263)\n",
    "    split_pos = StratifiedShuffleSplit(n_splits = 1, train_size = 2100, test_size = 263)\n",
    "\n",
    "    for train_idx, valid_idx in split_neg.split(df_clean['negativereason'].loc[idx_neg], df_clean['negativereason'].loc[idx_neg]):\n",
    "        train_idx_neg = (np.array(idx_neg)[train_idx]).tolist()\n",
    "        valid_idx_neg = (np.array(idx_neg)[valid_idx]).tolist()\n",
    "        test_idx_neg = [idx for idx in idx_neg if idx not in train_idx_neg]\n",
    "    \n",
    "    for train_idx, valid_idx in split_neu.split(df_clean['airline'].loc[idx_neu], df_clean['airline'].loc[idx_neu]):\n",
    "        train_idx_neu = (np.array(idx_neu)[train_idx]).tolist()\n",
    "        valid_idx_neu = (np.array(idx_neu)[valid_idx]).tolist()\n",
    "        test_idx_neu = [idx for idx in idx_neu if idx not in train_idx_neu]\n",
    "    \n",
    "    for train_idx, valid_idx in split_pos.split(df_clean['airline'].loc[idx_pos], df_clean['airline'].loc[idx_pos]):\n",
    "        train_idx_pos = (np.array(idx_pos)[train_idx]).tolist()\n",
    "        valid_idx_pos = (np.array(idx_pos)[valid_idx]).tolist()\n",
    "        test_idx_pos = [idx for idx in idx_pos if idx not in train_idx_pos]\n",
    "    \n",
    "    df_train = df_clean.loc[train_idx_neg + train_idx_neu + train_idx_pos].sample(frac = 1)\n",
    "    df_valid = df_clean.loc[valid_idx_neg + valid_idx_neu + valid_idx_pos].sample(frac = 1)\n",
    "    df_test = df_clean.loc[test_idx_neg + test_idx_neu + test_idx_pos].sample(frac = 1)\n",
    "    \n",
    "    data_clas = TextClasDataBunch.from_df(path = path, train_df = df_train, valid_df = df_valid, \n",
    "                                   text_cols = 'text', label_cols = 'airline_sentiment', vocab = data_lm.train_ds.vocab, bs = 256)\n",
    "    \n",
    "    learn_clas = text_classifier_learner(data_clas, AWD_LSTM, drop_mult = 0.5, model_dir = '/tmp/models')\n",
    "    learn_clas.load_encoder('/kaggle/working/fine_tuned_enc')\n",
    "    \n",
    "    learn_clas.freeze_to(-1)\n",
    "    learn_clas.fit_one_cycle(1, 3e-2, wd = 1e-5, moms = (0.8,0.7))\n",
    "    \n",
    "    learn_clas.freeze_to(-2)\n",
    "    learn_clas.fit_one_cycle(1, slice(1e-4, 1e-3), wd = 1e-5, moms=(0.8,0.7))\n",
    "    \n",
    "    learn_clas.freeze_to(-3)\n",
    "    learn_clas.fit_one_cycle(1, slice(1e-4, 1e-3), wd = 1e-5, moms=(0.8,0.7))\n",
    "    \n",
    "    learn_clas.unfreeze()\n",
    "    \n",
    "    learn_clas.fit_one_cycle(10, slice(1e-4, 1e-3), wd = 1e-5, moms=(0.8,0.7))\n",
    "    \n",
    "    learn_clas.save('/kaggle/working/fine_tuned_clas')\n",
    "    \n",
    "    data_clas_test = TextClasDataBunch.from_df(path = path, train_df = df_train, valid_df = df_test, \n",
    "                                       text_cols = 'text', label_cols = 'airline_sentiment', vocab = data_lm.train_ds.vocab, bs = 256)\n",
    "\n",
    "    learn_clas_test = text_classifier_learner(data_clas_test, AWD_LSTM, drop_mult = 0.5, model_dir = '/tmp/models')\n",
    "\n",
    "    learn_clas_test.load('/kaggle/working/fine_tuned_clas')\n",
    "\n",
    "    interp_test = learn_clas_test.interpret()\n",
    "    \n",
    "    matrix = interp_test.confusion_matrix()\n",
    "    \n",
    "    matrices.append(matrix/(np.sum(matrix, axis = 1).reshape(-1,1)))\n",
    "        \n",
    "    accuracies.append(round(np.trace(matrix)/np.sum(matrix), 6))"
   ]
  },
  {
   "cell_type": "markdown",
   "metadata": {},
   "source": [
    "We can look at the confusion matrix and accuracy score for each run, and compare them against our previous results on non-cleaned tweets:"
   ]
  },
  {
   "cell_type": "code",
   "execution_count": 29,
   "metadata": {},
   "outputs": [
    {
     "name": "stdout",
     "output_type": "stream",
     "text": [
      "[[0.821277 0.115852 0.062871]\n",
      " [0.17017  0.693694 0.136136]\n",
      " [0.060837 0.102662 0.836502]]\n",
      "\n",
      "0.806475\n",
      "\n",
      "[[0.820429 0.126589 0.052981]\n",
      " [0.171171 0.707708 0.121121]\n",
      " [0.053232 0.110266 0.836502]]\n",
      "\n",
      "0.807434\n",
      "\n",
      "[[0.821418 0.120232 0.05835 ]\n",
      " [0.139139 0.730731 0.13013 ]\n",
      " [0.060837 0.079848 0.859316]]\n",
      "\n",
      "0.811751\n",
      "\n",
      "[[0.820429 0.119667 0.059904]\n",
      " [0.175175 0.695696 0.129129]\n",
      " [0.079848 0.08365  0.836502]]\n",
      "\n",
      "0.805995\n",
      "\n",
      "[[0.802204 0.133088 0.064708]\n",
      " [0.13013  0.737738 0.132132]\n",
      " [0.064639 0.087452 0.847909]]\n",
      "\n",
      "0.795923\n",
      "\n"
     ]
    }
   ],
   "source": [
    "# Runs on cleaned tweets\n",
    "\n",
    "for matrix, accuracy in zip(matrices, accuracies):\n",
    "    print(matrix)\n",
    "    print()\n",
    "    print(accuracy)\n",
    "    print()"
   ]
  },
  {
   "cell_type": "code",
   "execution_count": 77,
   "metadata": {},
   "outputs": [
    {
     "name": "stdout",
     "output_type": "stream",
     "text": [
      "[[0.800085 0.130263 0.069652]\n",
      " [0.153153 0.686687 0.16016 ]\n",
      " [0.08365  0.053232 0.863118]]\n",
      "\n",
      "0.788489\n",
      "\n",
      "[[0.822266 0.116982 0.060752]\n",
      " [0.163163 0.696697 0.14014 ]\n",
      " [0.079848 0.121673 0.798479]]\n",
      "\n",
      "0.806475\n",
      "\n",
      "[[0.791325 0.139587 0.069087]\n",
      " [0.125125 0.737738 0.137137]\n",
      " [0.068441 0.110266 0.821293]]\n",
      "\n",
      "0.785851\n",
      "\n",
      "[[0.82594  0.119101 0.054959]\n",
      " [0.162162 0.712713 0.125125]\n",
      " [0.041825 0.117871 0.840304]]\n",
      "\n",
      "0.81283\n",
      "\n",
      "[[0.805595 0.12885  0.065555]\n",
      " [0.156156 0.716717 0.127127]\n",
      " [0.045627 0.095057 0.859316]]\n",
      "\n",
      "0.796643\n",
      "\n"
     ]
    }
   ],
   "source": [
    "# Previous runs on original tweets\n",
    "\n",
    "for matrix, accuracy in zip(matrices, accuracies):\n",
    "    print(matrix)\n",
    "    print()\n",
    "    print(accuracy)\n",
    "    print()"
   ]
  },
  {
   "cell_type": "markdown",
   "metadata": {},
   "source": [
    "It is hard to say if our prescription for cleaning tweets had a relevant effect or not: indeed the results for cleaned tweets seem to be a little more stable across runs and to produce a slightly better accuracy, but it is not clear if this is due to our preprocessing step or to the random training/test splitting.\n",
    "\n",
    "Indeed, also looking at the misclassified examples and at the words which most contributed to misclassification we don't see a big difference from before:"
   ]
  },
  {
   "cell_type": "code",
   "execution_count": 30,
   "metadata": {},
   "outputs": [
    {
     "name": "stdout",
     "output_type": "stream",
     "text": [
      "(\"xxunk that's what we've been told however how would this work if you're going overseas? Bottom line is passengers feel as if there's (1)\", 'neutral', 'negative')\n"
     ]
    },
    {
     "data": {
      "text/html": [
       "<span style=\"font-family: monospace;\"><span title=\"0.173\" style=\"background-color: rgba(231, 229, 241, 0.5);\">xxbos</span> <span title=\"0.120\" style=\"background-color: rgba(239, 237, 245, 0.5);\">xxunk</span> <span title=\"0.202\" style=\"background-color: rgba(226, 225, 239, 0.5);\">that</span> <span title=\"0.156\" style=\"background-color: rgba(234, 232, 242, 0.5);\">&#x27;s</span> <span title=\"0.235\" style=\"background-color: rgba(220, 220, 236, 0.5);\">what</span> <span title=\"0.188\" style=\"background-color: rgba(228, 227, 239, 0.5);\">we</span> <span title=\"0.162\" style=\"background-color: rgba(232, 231, 242, 0.5);\">&#x27;ve</span> <span title=\"0.146\" style=\"background-color: rgba(235, 233, 243, 0.5);\">been</span> <span title=\"0.254\" style=\"background-color: rgba(217, 217, 234, 0.5);\">told</span> <span title=\"0.281\" style=\"background-color: rgba(211, 211, 231, 0.5);\">however</span> <span title=\"0.283\" style=\"background-color: rgba(210, 210, 231, 0.5);\">how</span> <span title=\"0.311\" style=\"background-color: rgba(203, 204, 227, 0.5);\">would</span> <span title=\"0.177\" style=\"background-color: rgba(230, 229, 240, 0.5);\">this</span> <span title=\"0.179\" style=\"background-color: rgba(230, 229, 240, 0.5);\">work</span> <span title=\"0.108\" style=\"background-color: rgba(240, 239, 246, 0.5);\">if</span> <span title=\"0.141\" style=\"background-color: rgba(236, 234, 243, 0.5);\">you</span> <span title=\"0.142\" style=\"background-color: rgba(236, 234, 243, 0.5);\">&#x27;re</span> <span title=\"0.236\" style=\"background-color: rgba(220, 220, 236, 0.5);\">going</span> <span title=\"0.314\" style=\"background-color: rgba(202, 203, 227, 0.5);\">overseas</span> <span title=\"0.190\" style=\"background-color: rgba(228, 227, 239, 0.5);\">?</span> <span title=\"0.195\" style=\"background-color: rgba(227, 226, 239, 0.5);\">xxmaj</span> <span title=\"1.000\" style=\"background-color: rgba(63, 0, 125, 0.5);\">bottom</span> <span title=\"0.558\" style=\"background-color: rgba(144, 140, 193, 0.5);\">line</span> <span title=\"0.153\" style=\"background-color: rgba(234, 232, 242, 0.5);\">is</span> <span title=\"0.750\" style=\"background-color: rgba(106, 81, 163, 0.5);\">passengers</span> <span title=\"0.570\" style=\"background-color: rgba(140, 137, 191, 0.5);\">feel</span> <span title=\"0.301\" style=\"background-color: rgba(205, 205, 228, 0.5);\">as</span> <span title=\"0.405\" style=\"background-color: rgba(181, 180, 215, 0.5);\">if</span> <span title=\"0.290\" style=\"background-color: rgba(208, 208, 230, 0.5);\">there</span> <span title=\"0.355\" style=\"background-color: rgba(193, 194, 222, 0.5);\">&#x27;s</span> <span title=\"0.436\" style=\"background-color: rgba(173, 172, 210, 0.5);\">(</span> <span title=\"0.628\" style=\"background-color: rgba(127, 124, 185, 0.5);\">1</span> <span title=\"0.404\" style=\"background-color: rgba(181, 180, 215, 0.5);\">)</span></span>"
      ],
      "text/plain": [
       "<IPython.core.display.HTML object>"
      ]
     },
     "metadata": {},
     "output_type": "display_data"
    },
    {
     "name": "stdout",
     "output_type": "stream",
     "text": [
      "('xxunk on the plane. I was thoughtful enough to ask for it and got it; there are prob others that also deserved it', 'neutral', 'negative')\n"
     ]
    },
    {
     "data": {
      "text/html": [
       "<span style=\"font-family: monospace;\"><span title=\"0.085\" style=\"background-color: rgba(243, 241, 247, 0.5);\">xxbos</span> <span title=\"0.079\" style=\"background-color: rgba(243, 242, 247, 0.5);\">xxunk</span> <span title=\"0.114\" style=\"background-color: rgba(240, 238, 245, 0.5);\">on</span> <span title=\"0.075\" style=\"background-color: rgba(244, 242, 248, 0.5);\">the</span> <span title=\"0.294\" style=\"background-color: rgba(207, 207, 229, 0.5);\">plane</span> <span title=\"0.045\" style=\"background-color: rgba(247, 246, 250, 0.5);\">.</span> <span title=\"0.046\" style=\"background-color: rgba(247, 246, 250, 0.5);\">i</span> <span title=\"0.051\" style=\"background-color: rgba(246, 245, 249, 0.5);\">was</span> <span title=\"0.152\" style=\"background-color: rgba(234, 232, 242, 0.5);\">xxunk</span> <span title=\"0.234\" style=\"background-color: rgba(221, 220, 236, 0.5);\">enough</span> <span title=\"0.092\" style=\"background-color: rgba(242, 240, 247, 0.5);\">to</span> <span title=\"0.252\" style=\"background-color: rgba(217, 217, 234, 0.5);\">ask</span> <span title=\"0.090\" style=\"background-color: rgba(243, 241, 247, 0.5);\">for</span> <span title=\"0.088\" style=\"background-color: rgba(243, 241, 247, 0.5);\">it</span> <span title=\"0.089\" style=\"background-color: rgba(243, 241, 247, 0.5);\">and</span> <span title=\"0.152\" style=\"background-color: rgba(234, 233, 243, 0.5);\">got</span> <span title=\"0.086\" style=\"background-color: rgba(243, 241, 247, 0.5);\">it</span> <span title=\"0.089\" style=\"background-color: rgba(243, 241, 247, 0.5);\">;</span> <span title=\"0.110\" style=\"background-color: rgba(240, 238, 245, 0.5);\">there</span> <span title=\"0.181\" style=\"background-color: rgba(229, 228, 240, 0.5);\">are</span> <span title=\"1.000\" style=\"background-color: rgba(63, 0, 125, 0.5);\">prob</span> <span title=\"0.359\" style=\"background-color: rgba(192, 193, 222, 0.5);\">others</span> <span title=\"0.171\" style=\"background-color: rgba(231, 230, 241, 0.5);\">that</span> <span title=\"0.250\" style=\"background-color: rgba(217, 217, 234, 0.5);\">also</span> <span title=\"0.712\" style=\"background-color: rgba(112, 93, 169, 0.5);\">deserved</span> <span title=\"0.163\" style=\"background-color: rgba(232, 231, 242, 0.5);\">it</span></span>"
      ],
      "text/plain": [
       "<IPython.core.display.HTML object>"
      ]
     },
     "metadata": {},
     "output_type": "display_data"
    },
    {
     "name": "stdout",
     "output_type": "stream",
     "text": [
      "(\"xxunk Thanks for reminding me about my upcoming trip to Florida but you really didn't need to... \", 'neutral', 'negative')\n"
     ]
    },
    {
     "data": {
      "text/html": [
       "<span style=\"font-family: monospace;\"><span title=\"0.124\" style=\"background-color: rgba(239, 237, 245, 0.5);\">xxbos</span> <span title=\"0.095\" style=\"background-color: rgba(242, 240, 246, 0.5);\">xxunk</span> <span title=\"0.112\" style=\"background-color: rgba(240, 238, 245, 0.5);\">xxmaj</span> <span title=\"0.537\" style=\"background-color: rgba(149, 145, 195, 0.5);\">thanks</span> <span title=\"0.276\" style=\"background-color: rgba(212, 212, 232, 0.5);\">for</span> <span title=\"1.000\" style=\"background-color: rgba(63, 0, 125, 0.5);\">reminding</span> <span title=\"0.224\" style=\"background-color: rgba(222, 222, 237, 0.5);\">me</span> <span title=\"0.213\" style=\"background-color: rgba(224, 223, 238, 0.5);\">about</span> <span title=\"0.161\" style=\"background-color: rgba(232, 231, 242, 0.5);\">my</span> <span title=\"0.744\" style=\"background-color: rgba(106, 82, 163, 0.5);\">upcoming</span> <span title=\"0.564\" style=\"background-color: rgba(142, 138, 192, 0.5);\">trip</span> <span title=\"0.119\" style=\"background-color: rgba(239, 237, 245, 0.5);\">to</span> <span title=\"0.122\" style=\"background-color: rgba(239, 237, 245, 0.5);\">xxmaj</span> <span title=\"0.287\" style=\"background-color: rgba(209, 209, 230, 0.5);\">florida</span> <span title=\"0.317\" style=\"background-color: rgba(201, 202, 226, 0.5);\">but</span> <span title=\"0.280\" style=\"background-color: rgba(211, 211, 231, 0.5);\">you</span> <span title=\"0.364\" style=\"background-color: rgba(190, 191, 221, 0.5);\">really</span> <span title=\"0.154\" style=\"background-color: rgba(234, 232, 242, 0.5);\">did</span> <span title=\"0.241\" style=\"background-color: rgba(219, 219, 235, 0.5);\">n&#x27;t</span> <span title=\"0.715\" style=\"background-color: rgba(111, 92, 168, 0.5);\">need</span> <span title=\"0.254\" style=\"background-color: rgba(216, 216, 234, 0.5);\">to</span> <span title=\"0.521\" style=\"background-color: rgba(152, 148, 197, 0.5);\">...</span></span>"
      ],
      "text/plain": [
       "<IPython.core.display.HTML object>"
      ]
     },
     "metadata": {},
     "output_type": "display_data"
    },
    {
     "name": "stdout",
     "output_type": "stream",
     "text": [
      "('xxunk I just had an interview how long does it take before you hear back', 'neutral', 'negative')\n"
     ]
    },
    {
     "data": {
      "text/html": [
       "<span style=\"font-family: monospace;\"><span title=\"0.218\" style=\"background-color: rgba(223, 223, 237, 0.5);\">xxbos</span> <span title=\"0.138\" style=\"background-color: rgba(236, 235, 244, 0.5);\">xxunk</span> <span title=\"0.144\" style=\"background-color: rgba(236, 234, 243, 0.5);\">i</span> <span title=\"0.255\" style=\"background-color: rgba(216, 216, 234, 0.5);\">just</span> <span title=\"0.258\" style=\"background-color: rgba(215, 215, 233, 0.5);\">had</span> <span title=\"0.188\" style=\"background-color: rgba(228, 227, 239, 0.5);\">an</span> <span title=\"1.000\" style=\"background-color: rgba(63, 0, 125, 0.5);\">interview</span> <span title=\"0.235\" style=\"background-color: rgba(220, 220, 236, 0.5);\">how</span> <span title=\"0.613\" style=\"background-color: rgba(131, 128, 187, 0.5);\">long</span> <span title=\"0.338\" style=\"background-color: rgba(197, 197, 224, 0.5);\">does</span> <span title=\"0.295\" style=\"background-color: rgba(207, 207, 229, 0.5);\">it</span> <span title=\"0.273\" style=\"background-color: rgba(213, 213, 232, 0.5);\">take</span> <span title=\"0.538\" style=\"background-color: rgba(149, 145, 195, 0.5);\">before</span> <span title=\"0.381\" style=\"background-color: rgba(186, 187, 219, 0.5);\">you</span> <span title=\"0.984\" style=\"background-color: rgba(65, 4, 127, 0.5);\">hear</span> <span title=\"0.828\" style=\"background-color: rgba(92, 54, 150, 0.5);\">back</span></span>"
      ],
      "text/plain": [
       "<IPython.core.display.HTML object>"
      ]
     },
     "metadata": {},
     "output_type": "display_data"
    },
    {
     "name": "stdout",
     "output_type": "stream",
     "text": [
      "(\"xxunk Does your home airport not count in the badge system? My TB account says 2 flights but I've taken 3 this year.\", 'neutral', 'negative')\n"
     ]
    },
    {
     "data": {
      "text/html": [
       "<span style=\"font-family: monospace;\"><span title=\"0.097\" style=\"background-color: rgba(242, 240, 246, 0.5);\">xxbos</span> <span title=\"0.081\" style=\"background-color: rgba(243, 242, 247, 0.5);\">xxunk</span> <span title=\"0.090\" style=\"background-color: rgba(243, 241, 247, 0.5);\">xxmaj</span> <span title=\"0.448\" style=\"background-color: rgba(170, 168, 208, 0.5);\">does</span> <span title=\"0.305\" style=\"background-color: rgba(205, 205, 228, 0.5);\">your</span> <span title=\"0.483\" style=\"background-color: rgba(162, 158, 202, 0.5);\">home</span> <span title=\"0.309\" style=\"background-color: rgba(203, 204, 227, 0.5);\">airport</span> <span title=\"0.292\" style=\"background-color: rgba(208, 208, 230, 0.5);\">not</span> <span title=\"0.549\" style=\"background-color: rgba(146, 142, 194, 0.5);\">count</span> <span title=\"0.223\" style=\"background-color: rgba(222, 222, 237, 0.5);\">in</span> <span title=\"0.082\" style=\"background-color: rgba(243, 242, 247, 0.5);\">the</span> <span title=\"0.646\" style=\"background-color: rgba(124, 117, 181, 0.5);\">badge</span> <span title=\"0.089\" style=\"background-color: rgba(243, 241, 247, 0.5);\">system</span> <span title=\"0.103\" style=\"background-color: rgba(241, 239, 246, 0.5);\">?</span> <span title=\"0.081\" style=\"background-color: rgba(243, 242, 247, 0.5);\">xxmaj</span> <span title=\"0.185\" style=\"background-color: rgba(229, 227, 240, 0.5);\">my</span> <span title=\"0.179\" style=\"background-color: rgba(230, 229, 240, 0.5);\">xxup</span> <span title=\"1.000\" style=\"background-color: rgba(63, 0, 125, 0.5);\">tb</span> <span title=\"0.214\" style=\"background-color: rgba(224, 223, 238, 0.5);\">account</span> <span title=\"0.193\" style=\"background-color: rgba(227, 226, 239, 0.5);\">says</span> <span title=\"0.163\" style=\"background-color: rgba(232, 231, 242, 0.5);\">2</span> <span title=\"0.189\" style=\"background-color: rgba(228, 227, 239, 0.5);\">flights</span> <span title=\"0.123\" style=\"background-color: rgba(239, 237, 245, 0.5);\">but</span> <span title=\"0.066\" style=\"background-color: rgba(245, 243, 248, 0.5);\">i</span> <span title=\"0.166\" style=\"background-color: rgba(232, 230, 241, 0.5);\">&#x27;ve</span> <span title=\"0.242\" style=\"background-color: rgba(219, 219, 235, 0.5);\">taken</span> <span title=\"0.223\" style=\"background-color: rgba(222, 222, 237, 0.5);\">3</span> <span title=\"0.272\" style=\"background-color: rgba(213, 213, 232, 0.5);\">this</span> <span title=\"0.160\" style=\"background-color: rgba(233, 232, 242, 0.5);\">year</span> <span title=\"0.109\" style=\"background-color: rgba(240, 239, 246, 0.5);\">.</span></span>"
      ],
      "text/plain": [
       "<IPython.core.display.HTML object>"
      ]
     },
     "metadata": {},
     "output_type": "display_data"
    },
    {
     "name": "stdout",
     "output_type": "stream",
     "text": [
      "('xxunk and xxunk have Cancelled Flightled flights after 525 pm today due to winter storm. Travelers urged to contact carrier for info.', 'neutral', 'negative')\n"
     ]
    },
    {
     "data": {
      "text/html": [
       "<span style=\"font-family: monospace;\"><span title=\"0.181\" style=\"background-color: rgba(229, 228, 240, 0.5);\">xxbos</span> <span title=\"0.124\" style=\"background-color: rgba(239, 237, 245, 0.5);\">xxunk</span> <span title=\"0.140\" style=\"background-color: rgba(236, 235, 244, 0.5);\">and</span> <span title=\"0.206\" style=\"background-color: rgba(225, 225, 238, 0.5);\">xxunk</span> <span title=\"0.297\" style=\"background-color: rgba(206, 206, 229, 0.5);\">have</span> <span title=\"0.339\" style=\"background-color: rgba(197, 197, 224, 0.5);\">xxmaj</span> <span title=\"0.798\" style=\"background-color: rgba(97, 64, 155, 0.5);\">cancelled</span> <span title=\"0.262\" style=\"background-color: rgba(214, 215, 233, 0.5);\">xxmaj</span> <span title=\"1.000\" style=\"background-color: rgba(63, 0, 125, 0.5);\">flightled</span> <span title=\"0.282\" style=\"background-color: rgba(210, 210, 231, 0.5);\">flights</span> <span title=\"0.180\" style=\"background-color: rgba(229, 228, 240, 0.5);\">after</span> <span title=\"0.175\" style=\"background-color: rgba(231, 229, 241, 0.5);\">xxunk</span> <span title=\"0.185\" style=\"background-color: rgba(229, 227, 240, 0.5);\">pm</span> <span title=\"0.195\" style=\"background-color: rgba(227, 226, 239, 0.5);\">today</span> <span title=\"0.236\" style=\"background-color: rgba(220, 220, 236, 0.5);\">due</span> <span title=\"0.191\" style=\"background-color: rgba(228, 227, 239, 0.5);\">to</span> <span title=\"0.678\" style=\"background-color: rgba(118, 106, 176, 0.5);\">winter</span> <span title=\"0.205\" style=\"background-color: rgba(225, 225, 238, 0.5);\">storm</span> <span title=\"0.099\" style=\"background-color: rgba(241, 240, 246, 0.5);\">.</span> <span title=\"0.218\" style=\"background-color: rgba(223, 223, 237, 0.5);\">xxmaj</span> <span title=\"0.758\" style=\"background-color: rgba(104, 77, 161, 0.5);\">travelers</span> <span title=\"0.350\" style=\"background-color: rgba(194, 195, 223, 0.5);\">xxunk</span> <span title=\"0.226\" style=\"background-color: rgba(222, 222, 237, 0.5);\">to</span> <span title=\"0.684\" style=\"background-color: rgba(117, 103, 174, 0.5);\">contact</span> <span title=\"0.486\" style=\"background-color: rgba(161, 157, 202, 0.5);\">carrier</span> <span title=\"0.216\" style=\"background-color: rgba(223, 223, 237, 0.5);\">for</span> <span title=\"0.460\" style=\"background-color: rgba(167, 165, 206, 0.5);\">info</span> <span title=\"0.208\" style=\"background-color: rgba(225, 224, 238, 0.5);\">.</span></span>"
      ],
      "text/plain": [
       "<IPython.core.display.HTML object>"
      ]
     },
     "metadata": {},
     "output_type": "display_data"
    },
    {
     "name": "stdout",
     "output_type": "stream",
     "text": [
      "(\"xxunk [checked in + boardingpass w/no checkin bagage] guess i'm all set. :-)\", 'neutral', 'negative')\n"
     ]
    },
    {
     "data": {
      "text/html": [
       "<span style=\"font-family: monospace;\"><span title=\"0.141\" style=\"background-color: rgba(236, 234, 243, 0.5);\">xxbos</span> <span title=\"0.162\" style=\"background-color: rgba(232, 231, 242, 0.5);\">xxunk</span> <span title=\"0.475\" style=\"background-color: rgba(164, 161, 204, 0.5);\">[</span> <span title=\"0.727\" style=\"background-color: rgba(109, 88, 166, 0.5);\">checked</span> <span title=\"0.201\" style=\"background-color: rgba(226, 225, 239, 0.5);\">in</span> <span title=\"0.371\" style=\"background-color: rgba(189, 190, 220, 0.5);\">+</span> <span title=\"0.120\" style=\"background-color: rgba(239, 237, 245, 0.5);\">xxunk</span> <span title=\"0.260\" style=\"background-color: rgba(215, 215, 233, 0.5);\">w</span> <span title=\"0.196\" style=\"background-color: rgba(227, 226, 239, 0.5);\">/</span> <span title=\"0.398\" style=\"background-color: rgba(182, 183, 216, 0.5);\">no</span> <span title=\"0.407\" style=\"background-color: rgba(180, 179, 214, 0.5);\">checkin</span> <span title=\"0.240\" style=\"background-color: rgba(219, 219, 235, 0.5);\">bagage</span> <span title=\"0.250\" style=\"background-color: rgba(217, 217, 234, 0.5);\">]</span> <span title=\"0.395\" style=\"background-color: rgba(182, 183, 216, 0.5);\">guess</span> <span title=\"0.134\" style=\"background-color: rgba(237, 235, 244, 0.5);\">i</span> <span title=\"0.139\" style=\"background-color: rgba(236, 235, 244, 0.5);\">&#x27;m</span> <span title=\"0.189\" style=\"background-color: rgba(228, 227, 239, 0.5);\">all</span> <span title=\"0.331\" style=\"background-color: rgba(198, 199, 225, 0.5);\">set</span> <span title=\"0.091\" style=\"background-color: rgba(242, 240, 247, 0.5);\">.</span> <span title=\"1.000\" style=\"background-color: rgba(63, 0, 125, 0.5);\">:-)</span></span>"
      ],
      "text/plain": [
       "<IPython.core.display.HTML object>"
      ]
     },
     "metadata": {},
     "output_type": "display_data"
    },
    {
     "name": "stdout",
     "output_type": "stream",
     "text": [
      "(\"xxunk UA flight 1247. SFO to LAX took my carry on at gate. I'm Group 2, overhead bins are empty\", 'neutral', 'negative')\n"
     ]
    },
    {
     "data": {
      "text/html": [
       "<span style=\"font-family: monospace;\"><span title=\"0.150\" style=\"background-color: rgba(234, 233, 243, 0.5);\">xxbos</span> <span title=\"0.106\" style=\"background-color: rgba(240, 239, 246, 0.5);\">xxunk</span> <span title=\"0.165\" style=\"background-color: rgba(232, 230, 241, 0.5);\">xxup</span> <span title=\"0.701\" style=\"background-color: rgba(114, 97, 171, 0.5);\">ua</span> <span title=\"0.345\" style=\"background-color: rgba(195, 195, 223, 0.5);\">flight</span> <span title=\"0.150\" style=\"background-color: rgba(234, 233, 243, 0.5);\">xxunk</span> <span title=\"0.118\" style=\"background-color: rgba(239, 237, 245, 0.5);\">.</span> <span title=\"0.141\" style=\"background-color: rgba(236, 235, 244, 0.5);\">xxup</span> <span title=\"0.688\" style=\"background-color: rgba(116, 102, 174, 0.5);\">sfo</span> <span title=\"0.154\" style=\"background-color: rgba(234, 232, 242, 0.5);\">to</span> <span title=\"0.124\" style=\"background-color: rgba(239, 237, 245, 0.5);\">xxup</span> <span title=\"0.393\" style=\"background-color: rgba(183, 184, 217, 0.5);\">lax</span> <span title=\"0.324\" style=\"background-color: rgba(200, 201, 226, 0.5);\">took</span> <span title=\"0.244\" style=\"background-color: rgba(219, 219, 235, 0.5);\">my</span> <span title=\"0.656\" style=\"background-color: rgba(122, 114, 180, 0.5);\">carry</span> <span title=\"0.188\" style=\"background-color: rgba(228, 227, 239, 0.5);\">on</span> <span title=\"0.123\" style=\"background-color: rgba(239, 237, 245, 0.5);\">at</span> <span title=\"0.416\" style=\"background-color: rgba(178, 177, 213, 0.5);\">gate</span> <span title=\"0.092\" style=\"background-color: rgba(242, 240, 247, 0.5);\">.</span> <span title=\"0.096\" style=\"background-color: rgba(242, 240, 246, 0.5);\">i</span> <span title=\"0.237\" style=\"background-color: rgba(220, 220, 236, 0.5);\">&#x27;m</span> <span title=\"0.189\" style=\"background-color: rgba(228, 227, 239, 0.5);\">xxmaj</span> <span title=\"0.457\" style=\"background-color: rgba(168, 166, 207, 0.5);\">group</span> <span title=\"0.241\" style=\"background-color: rgba(219, 219, 235, 0.5);\">2</span> <span title=\"0.232\" style=\"background-color: rgba(221, 220, 236, 0.5);\">,</span> <span title=\"0.905\" style=\"background-color: rgba(78, 29, 138, 0.5);\">overhead</span> <span title=\"0.598\" style=\"background-color: rgba(134, 130, 188, 0.5);\">bins</span> <span title=\"0.429\" style=\"background-color: rgba(175, 174, 211, 0.5);\">are</span> <span title=\"1.000\" style=\"background-color: rgba(63, 0, 125, 0.5);\">empty</span></span>"
      ],
      "text/plain": [
       "<IPython.core.display.HTML object>"
      ]
     },
     "metadata": {},
     "output_type": "display_data"
    },
    {
     "name": "stdout",
     "output_type": "stream",
     "text": [
      "('xxunk there is a sector whereby it says $0 in both bags...no bag allowance at all in international flight?', 'neutral', 'negative')\n"
     ]
    },
    {
     "data": {
      "text/html": [
       "<span style=\"font-family: monospace;\"><span title=\"0.175\" style=\"background-color: rgba(231, 229, 241, 0.5);\">xxbos</span> <span title=\"0.131\" style=\"background-color: rgba(238, 236, 244, 0.5);\">xxunk</span> <span title=\"0.242\" style=\"background-color: rgba(219, 219, 235, 0.5);\">there</span> <span title=\"0.229\" style=\"background-color: rgba(221, 221, 236, 0.5);\">is</span> <span title=\"0.209\" style=\"background-color: rgba(225, 224, 238, 0.5);\">a</span> <span title=\"0.212\" style=\"background-color: rgba(224, 223, 238, 0.5);\">xxunk</span> <span title=\"0.210\" style=\"background-color: rgba(225, 224, 238, 0.5);\">xxunk</span> <span title=\"0.104\" style=\"background-color: rgba(241, 239, 246, 0.5);\">it</span> <span title=\"0.320\" style=\"background-color: rgba(201, 202, 226, 0.5);\">says</span> <span title=\"0.343\" style=\"background-color: rgba(196, 196, 224, 0.5);\">$</span> <span title=\"0.559\" style=\"background-color: rgba(143, 139, 193, 0.5);\">0</span> <span title=\"0.302\" style=\"background-color: rgba(205, 205, 228, 0.5);\">in</span> <span title=\"0.369\" style=\"background-color: rgba(189, 190, 220, 0.5);\">both</span> <span title=\"0.447\" style=\"background-color: rgba(170, 168, 208, 0.5);\">bags</span> <span title=\"0.205\" style=\"background-color: rgba(225, 225, 238, 0.5);\">...</span> <span title=\"0.391\" style=\"background-color: rgba(183, 184, 217, 0.5);\">no</span> <span title=\"0.627\" style=\"background-color: rgba(127, 124, 185, 0.5);\">bag</span> <span title=\"0.686\" style=\"background-color: rgba(117, 103, 174, 0.5);\">allowance</span> <span title=\"0.119\" style=\"background-color: rgba(239, 237, 245, 0.5);\">at</span> <span title=\"0.225\" style=\"background-color: rgba(222, 222, 237, 0.5);\">all</span> <span title=\"0.303\" style=\"background-color: rgba(205, 205, 228, 0.5);\">in</span> <span title=\"1.000\" style=\"background-color: rgba(63, 0, 125, 0.5);\">international</span> <span title=\"0.408\" style=\"background-color: rgba(180, 179, 214, 0.5);\">flight</span> <span title=\"0.443\" style=\"background-color: rgba(171, 169, 209, 0.5);\">?</span></span>"
      ],
      "text/plain": [
       "<IPython.core.display.HTML object>"
      ]
     },
     "metadata": {},
     "output_type": "display_data"
    },
    {
     "name": "stdout",
     "output_type": "stream",
     "text": [
      "('xxunk nope.  no case id either time.', 'neutral', 'negative')\n"
     ]
    },
    {
     "data": {
      "text/html": [
       "<span style=\"font-family: monospace;\"><span title=\"0.196\" style=\"background-color: rgba(227, 226, 239, 0.5);\">xxbos</span> <span title=\"0.237\" style=\"background-color: rgba(220, 220, 236, 0.5);\">xxunk</span> <span title=\"1.000\" style=\"background-color: rgba(63, 0, 125, 0.5);\">nope</span> <span title=\"0.148\" style=\"background-color: rgba(235, 233, 243, 0.5);\">.</span> <span title=\"0.398\" style=\"background-color: rgba(182, 183, 216, 0.5);\">no</span> <span title=\"0.694\" style=\"background-color: rgba(115, 100, 173, 0.5);\">case</span> <span title=\"0.207\" style=\"background-color: rgba(225, 224, 238, 0.5);\">i</span> <span title=\"0.338\" style=\"background-color: rgba(197, 197, 224, 0.5);\">d</span> <span title=\"0.266\" style=\"background-color: rgba(214, 215, 233, 0.5);\">either</span> <span title=\"0.294\" style=\"background-color: rgba(207, 207, 229, 0.5);\">time</span> <span title=\"0.148\" style=\"background-color: rgba(235, 233, 243, 0.5);\">.</span></span>"
      ],
      "text/plain": [
       "<IPython.core.display.HTML object>"
      ]
     },
     "metadata": {},
     "output_type": "display_data"
    }
   ],
   "source": [
    "dic = {0:'negative', 1:'neutral', 2:'positive'}\n",
    "\n",
    "predictions = torch.argmax(learn_clas_test.get_preds(ordered = True)[0], dim = 1)\n",
    "predictions = [dic[predictions[i].tolist()]  for i in range(len(predictions))]\n",
    "\n",
    "df_res = df_test.copy()\n",
    "df_res['predicted_sentiment'] = predictions\n",
    "\n",
    "text_interp_test = TextClassificationInterpretation.from_learner(learn_clas_test)\n",
    "\n",
    "# True sentiment neutral, predicted sentiment negative\n",
    "\n",
    "for i in df_res.loc[(df_res['airline_sentiment'] == 'neutral') & (df_res['predicted_sentiment'] == 'negative')].index[0:10]:\n",
    "    print((df_res['text'].loc[i], df_res['airline_sentiment'].loc[i], df_res['predicted_sentiment'].loc[i]))\n",
    "    text_interp_test.show_intrinsic_attention(df_res['text'].loc[i], cmap = mpl.cm.Purples)"
   ]
  },
  {
   "cell_type": "code",
   "execution_count": 31,
   "metadata": {},
   "outputs": [
    {
     "name": "stdout",
     "output_type": "stream",
     "text": [
      "('xxunk yes I have', 'negative', 'neutral')\n"
     ]
    },
    {
     "data": {
      "text/html": [
       "<span style=\"font-family: monospace;\"><span title=\"0.230\" style=\"background-color: rgba(221, 221, 236, 0.5);\">xxbos</span> <span title=\"0.147\" style=\"background-color: rgba(235, 233, 243, 0.5);\">xxunk</span> <span title=\"1.000\" style=\"background-color: rgba(63, 0, 125, 0.5);\">yes</span> <span title=\"0.342\" style=\"background-color: rgba(196, 196, 224, 0.5);\">i</span> <span title=\"0.263\" style=\"background-color: rgba(214, 215, 233, 0.5);\">have</span></span>"
      ],
      "text/plain": [
       "<IPython.core.display.HTML object>"
      ]
     },
     "metadata": {},
     "output_type": "display_data"
    },
    {
     "name": "stdout",
     "output_type": "stream",
     "text": [
      "('xxunk 37 minutes??????', 'negative', 'neutral')\n"
     ]
    },
    {
     "data": {
      "text/html": [
       "<span style=\"font-family: monospace;\"><span title=\"0.197\" style=\"background-color: rgba(227, 226, 239, 0.5);\">xxbos</span> <span title=\"0.192\" style=\"background-color: rgba(227, 226, 239, 0.5);\">xxunk</span> <span title=\"1.000\" style=\"background-color: rgba(63, 0, 125, 0.5);\">37</span> <span title=\"0.313\" style=\"background-color: rgba(202, 203, 227, 0.5);\">minutes</span> <span title=\"0.638\" style=\"background-color: rgba(125, 119, 183, 0.5);\">xxrep</span> <span title=\"0.260\" style=\"background-color: rgba(215, 215, 233, 0.5);\">6</span> <span title=\"0.261\" style=\"background-color: rgba(215, 215, 233, 0.5);\">?</span></span>"
      ],
      "text/plain": [
       "<IPython.core.display.HTML object>"
      ]
     },
     "metadata": {},
     "output_type": "display_data"
    },
    {
     "name": "stdout",
     "output_type": "stream",
     "text": [
      "('xxunk Customer service said it was a known problem that they were using same confirmation numbers for domestic and international', 'negative', 'neutral')\n"
     ]
    },
    {
     "data": {
      "text/html": [
       "<span style=\"font-family: monospace;\"><span title=\"0.109\" style=\"background-color: rgba(240, 239, 246, 0.5);\">xxbos</span> <span title=\"0.116\" style=\"background-color: rgba(240, 238, 245, 0.5);\">xxunk</span> <span title=\"0.155\" style=\"background-color: rgba(234, 232, 242, 0.5);\">xxmaj</span> <span title=\"0.558\" style=\"background-color: rgba(144, 140, 193, 0.5);\">customer</span> <span title=\"0.408\" style=\"background-color: rgba(180, 179, 214, 0.5);\">service</span> <span title=\"0.568\" style=\"background-color: rgba(141, 138, 192, 0.5);\">said</span> <span title=\"0.137\" style=\"background-color: rgba(236, 235, 244, 0.5);\">it</span> <span title=\"0.160\" style=\"background-color: rgba(233, 232, 242, 0.5);\">was</span> <span title=\"0.193\" style=\"background-color: rgba(227, 226, 239, 0.5);\">a</span> <span title=\"0.981\" style=\"background-color: rgba(65, 4, 127, 0.5);\">known</span> <span title=\"0.563\" style=\"background-color: rgba(142, 138, 192, 0.5);\">problem</span> <span title=\"0.172\" style=\"background-color: rgba(231, 229, 241, 0.5);\">that</span> <span title=\"0.147\" style=\"background-color: rgba(235, 233, 243, 0.5);\">they</span> <span title=\"0.120\" style=\"background-color: rgba(239, 237, 245, 0.5);\">were</span> <span title=\"0.347\" style=\"background-color: rgba(195, 195, 223, 0.5);\">using</span> <span title=\"0.436\" style=\"background-color: rgba(173, 172, 210, 0.5);\">same</span> <span title=\"0.647\" style=\"background-color: rgba(124, 117, 181, 0.5);\">confirmation</span> <span title=\"0.383\" style=\"background-color: rgba(185, 186, 218, 0.5);\">numbers</span> <span title=\"0.259\" style=\"background-color: rgba(215, 215, 233, 0.5);\">for</span> <span title=\"1.000\" style=\"background-color: rgba(63, 0, 125, 0.5);\">domestic</span> <span title=\"0.409\" style=\"background-color: rgba(180, 179, 214, 0.5);\">and</span> <span title=\"0.657\" style=\"background-color: rgba(122, 113, 179, 0.5);\">international</span></span>"
      ],
      "text/plain": [
       "<IPython.core.display.HTML object>"
      ]
     },
     "metadata": {},
     "output_type": "display_data"
    },
    {
     "name": "stdout",
     "output_type": "stream",
     "text": [
      "('xxunk Now submitted for the third time, please check and confirm receipt. Have taken screen shots in case it disappears again. Thanks', 'negative', 'neutral')\n"
     ]
    },
    {
     "data": {
      "text/html": [
       "<span style=\"font-family: monospace;\"><span title=\"0.156\" style=\"background-color: rgba(234, 232, 242, 0.5);\">xxbos</span> <span title=\"0.091\" style=\"background-color: rgba(242, 240, 247, 0.5);\">xxunk</span> <span title=\"0.105\" style=\"background-color: rgba(241, 239, 246, 0.5);\">xxmaj</span> <span title=\"0.548\" style=\"background-color: rgba(146, 142, 194, 0.5);\">now</span> <span title=\"1.000\" style=\"background-color: rgba(63, 0, 125, 0.5);\">submitted</span> <span title=\"0.246\" style=\"background-color: rgba(218, 218, 235, 0.5);\">for</span> <span title=\"0.109\" style=\"background-color: rgba(240, 238, 245, 0.5);\">the</span> <span title=\"0.239\" style=\"background-color: rgba(219, 219, 235, 0.5);\">third</span> <span title=\"0.131\" style=\"background-color: rgba(238, 236, 244, 0.5);\">time</span> <span title=\"0.052\" style=\"background-color: rgba(246, 245, 249, 0.5);\">,</span> <span title=\"0.278\" style=\"background-color: rgba(211, 211, 231, 0.5);\">please</span> <span title=\"0.297\" style=\"background-color: rgba(207, 207, 229, 0.5);\">check</span> <span title=\"0.097\" style=\"background-color: rgba(242, 240, 246, 0.5);\">and</span> <span title=\"0.350\" style=\"background-color: rgba(194, 195, 223, 0.5);\">confirm</span> <span title=\"0.414\" style=\"background-color: rgba(179, 178, 214, 0.5);\">receipt</span> <span title=\"0.069\" style=\"background-color: rgba(245, 243, 248, 0.5);\">.</span> <span title=\"0.102\" style=\"background-color: rgba(241, 239, 246, 0.5);\">xxmaj</span> <span title=\"0.290\" style=\"background-color: rgba(208, 208, 230, 0.5);\">have</span> <span title=\"0.246\" style=\"background-color: rgba(219, 219, 235, 0.5);\">taken</span> <span title=\"0.673\" style=\"background-color: rgba(119, 107, 176, 0.5);\">screen</span> <span title=\"0.139\" style=\"background-color: rgba(236, 235, 244, 0.5);\">shots</span> <span title=\"0.066\" style=\"background-color: rgba(245, 243, 248, 0.5);\">in</span> <span title=\"0.346\" style=\"background-color: rgba(195, 195, 223, 0.5);\">case</span> <span title=\"0.098\" style=\"background-color: rgba(241, 240, 246, 0.5);\">it</span> <span title=\"0.222\" style=\"background-color: rgba(223, 222, 237, 0.5);\">disappears</span> <span title=\"0.134\" style=\"background-color: rgba(237, 235, 244, 0.5);\">again</span> <span title=\"0.092\" style=\"background-color: rgba(242, 240, 247, 0.5);\">.</span> <span title=\"0.094\" style=\"background-color: rgba(242, 240, 246, 0.5);\">xxmaj</span> <span title=\"0.688\" style=\"background-color: rgba(116, 102, 174, 0.5);\">thanks</span></span>"
      ],
      "text/plain": [
       "<IPython.core.display.HTML object>"
      ]
     },
     "metadata": {},
     "output_type": "display_data"
    },
    {
     "name": "stdout",
     "output_type": "stream",
     "text": [
      "(\"xxunk Thanks, but that results in missing the conference I'm attending. Are there options to book earlier,or if not,receive a refund?\", 'negative', 'neutral')\n"
     ]
    },
    {
     "data": {
      "text/html": [
       "<span style=\"font-family: monospace;\"><span title=\"0.161\" style=\"background-color: rgba(232, 231, 242, 0.5);\">xxbos</span> <span title=\"0.123\" style=\"background-color: rgba(239, 237, 245, 0.5);\">xxunk</span> <span title=\"0.175\" style=\"background-color: rgba(231, 229, 241, 0.5);\">xxmaj</span> <span title=\"0.678\" style=\"background-color: rgba(118, 106, 176, 0.5);\">thanks</span> <span title=\"0.148\" style=\"background-color: rgba(235, 233, 243, 0.5);\">,</span> <span title=\"0.251\" style=\"background-color: rgba(217, 217, 234, 0.5);\">but</span> <span title=\"0.290\" style=\"background-color: rgba(208, 208, 230, 0.5);\">that</span> <span title=\"0.786\" style=\"background-color: rgba(99, 68, 156, 0.5);\">results</span> <span title=\"0.276\" style=\"background-color: rgba(212, 212, 232, 0.5);\">in</span> <span title=\"1.000\" style=\"background-color: rgba(63, 0, 125, 0.5);\">missing</span> <span title=\"0.206\" style=\"background-color: rgba(225, 225, 238, 0.5);\">the</span> <span title=\"0.728\" style=\"background-color: rgba(109, 88, 166, 0.5);\">conference</span> <span title=\"0.267\" style=\"background-color: rgba(214, 214, 233, 0.5);\">i</span> <span title=\"0.206\" style=\"background-color: rgba(225, 225, 238, 0.5);\">&#x27;m</span> <span title=\"0.255\" style=\"background-color: rgba(216, 216, 234, 0.5);\">xxunk</span> <span title=\"0.141\" style=\"background-color: rgba(236, 235, 244, 0.5);\">.</span> <span title=\"0.239\" style=\"background-color: rgba(219, 219, 235, 0.5);\">xxmaj</span> <span title=\"0.545\" style=\"background-color: rgba(147, 143, 194, 0.5);\">are</span> <span title=\"0.470\" style=\"background-color: rgba(165, 162, 204, 0.5);\">there</span> <span title=\"0.756\" style=\"background-color: rgba(104, 78, 161, 0.5);\">options</span> <span title=\"0.169\" style=\"background-color: rgba(231, 230, 241, 0.5);\">to</span> <span title=\"0.495\" style=\"background-color: rgba(159, 155, 200, 0.5);\">book</span> <span title=\"0.554\" style=\"background-color: rgba(145, 141, 194, 0.5);\">earlier</span> <span title=\"0.172\" style=\"background-color: rgba(231, 229, 241, 0.5);\">,</span> <span title=\"0.218\" style=\"background-color: rgba(223, 223, 237, 0.5);\">or</span> <span title=\"0.271\" style=\"background-color: rgba(213, 213, 232, 0.5);\">if</span> <span title=\"0.235\" style=\"background-color: rgba(220, 220, 236, 0.5);\">not</span> <span title=\"0.134\" style=\"background-color: rgba(237, 235, 244, 0.5);\">,</span> <span title=\"0.456\" style=\"background-color: rgba(168, 166, 207, 0.5);\">receive</span> <span title=\"0.107\" style=\"background-color: rgba(240, 239, 246, 0.5);\">a</span> <span title=\"0.819\" style=\"background-color: rgba(93, 57, 151, 0.5);\">refund</span> <span title=\"0.552\" style=\"background-color: rgba(145, 141, 194, 0.5);\">?</span></span>"
      ],
      "text/plain": [
       "<IPython.core.display.HTML object>"
      ]
     },
     "metadata": {},
     "output_type": "display_data"
    },
    {
     "name": "stdout",
     "output_type": "stream",
     "text": [
      "('xxunk I have two tight connections in Charlotte and Frankfurt', 'negative', 'neutral')\n"
     ]
    },
    {
     "data": {
      "text/html": [
       "<span style=\"font-family: monospace;\"><span title=\"0.128\" style=\"background-color: rgba(238, 236, 244, 0.5);\">xxbos</span> <span title=\"0.108\" style=\"background-color: rgba(240, 239, 246, 0.5);\">xxunk</span> <span title=\"0.124\" style=\"background-color: rgba(239, 237, 245, 0.5);\">i</span> <span title=\"0.133\" style=\"background-color: rgba(237, 235, 244, 0.5);\">have</span> <span title=\"0.263\" style=\"background-color: rgba(214, 215, 233, 0.5);\">two</span> <span title=\"1.000\" style=\"background-color: rgba(63, 0, 125, 0.5);\">tight</span> <span title=\"0.473\" style=\"background-color: rgba(164, 161, 204, 0.5);\">connections</span> <span title=\"0.123\" style=\"background-color: rgba(239, 237, 245, 0.5);\">in</span> <span title=\"0.108\" style=\"background-color: rgba(240, 239, 246, 0.5);\">xxmaj</span> <span title=\"0.488\" style=\"background-color: rgba(161, 157, 202, 0.5);\">charlotte</span> <span title=\"0.166\" style=\"background-color: rgba(232, 230, 241, 0.5);\">and</span> <span title=\"0.198\" style=\"background-color: rgba(227, 226, 239, 0.5);\">xxmaj</span> <span title=\"0.507\" style=\"background-color: rgba(156, 152, 199, 0.5);\">frankfurt</span></span>"
      ],
      "text/plain": [
       "<IPython.core.display.HTML object>"
      ]
     },
     "metadata": {},
     "output_type": "display_data"
    },
    {
     "name": "stdout",
     "output_type": "stream",
     "text": [
      "(\"xxunk or I'm sure her business will go else where for airline travel. Her name is Kathryn Sotelo\", 'negative', 'neutral')\n"
     ]
    },
    {
     "data": {
      "text/html": [
       "<span style=\"font-family: monospace;\"><span title=\"0.194\" style=\"background-color: rgba(227, 226, 239, 0.5);\">xxbos</span> <span title=\"0.202\" style=\"background-color: rgba(226, 225, 239, 0.5);\">xxunk</span> <span title=\"0.235\" style=\"background-color: rgba(220, 220, 236, 0.5);\">or</span> <span title=\"0.177\" style=\"background-color: rgba(230, 229, 240, 0.5);\">i</span> <span title=\"0.312\" style=\"background-color: rgba(203, 204, 227, 0.5);\">&#x27;m</span> <span title=\"1.000\" style=\"background-color: rgba(63, 0, 125, 0.5);\">sure</span> <span title=\"0.327\" style=\"background-color: rgba(199, 200, 225, 0.5);\">her</span> <span title=\"0.674\" style=\"background-color: rgba(119, 107, 176, 0.5);\">business</span> <span title=\"0.336\" style=\"background-color: rgba(198, 198, 225, 0.5);\">will</span> <span title=\"0.391\" style=\"background-color: rgba(184, 185, 217, 0.5);\">go</span> <span title=\"0.349\" style=\"background-color: rgba(194, 195, 223, 0.5);\">else</span> <span title=\"0.314\" style=\"background-color: rgba(202, 203, 227, 0.5);\">where</span> <span title=\"0.309\" style=\"background-color: rgba(203, 204, 227, 0.5);\">for</span> <span title=\"0.395\" style=\"background-color: rgba(182, 183, 216, 0.5);\">airline</span> <span title=\"0.264\" style=\"background-color: rgba(214, 215, 233, 0.5);\">travel</span> <span title=\"0.096\" style=\"background-color: rgba(242, 240, 246, 0.5);\">.</span> <span title=\"0.157\" style=\"background-color: rgba(233, 232, 242, 0.5);\">xxmaj</span> <span title=\"0.396\" style=\"background-color: rgba(182, 183, 216, 0.5);\">her</span> <span title=\"0.758\" style=\"background-color: rgba(104, 78, 161, 0.5);\">name</span> <span title=\"0.235\" style=\"background-color: rgba(220, 220, 236, 0.5);\">is</span> <span title=\"0.230\" style=\"background-color: rgba(221, 221, 236, 0.5);\">xxmaj</span> <span title=\"0.467\" style=\"background-color: rgba(166, 163, 205, 0.5);\">xxunk</span> <span title=\"0.185\" style=\"background-color: rgba(229, 227, 240, 0.5);\">xxmaj</span> <span title=\"0.365\" style=\"background-color: rgba(190, 191, 221, 0.5);\">xxunk</span></span>"
      ],
      "text/plain": [
       "<IPython.core.display.HTML object>"
      ]
     },
     "metadata": {},
     "output_type": "display_data"
    },
    {
     "name": "stdout",
     "output_type": "stream",
     "text": [
      "(\"xxunk my flt is at 7a tom. I have now rec'd notification that I'm going out from some other airport\", 'negative', 'neutral')\n"
     ]
    },
    {
     "data": {
      "text/html": [
       "<span style=\"font-family: monospace;\"><span title=\"0.192\" style=\"background-color: rgba(227, 226, 239, 0.5);\">xxbos</span> <span title=\"0.141\" style=\"background-color: rgba(236, 234, 243, 0.5);\">xxunk</span> <span title=\"0.191\" style=\"background-color: rgba(228, 227, 239, 0.5);\">my</span> <span title=\"0.673\" style=\"background-color: rgba(119, 107, 176, 0.5);\">flt</span> <span title=\"0.151\" style=\"background-color: rgba(234, 233, 243, 0.5);\">is</span> <span title=\"0.116\" style=\"background-color: rgba(240, 238, 245, 0.5);\">at</span> <span title=\"0.267\" style=\"background-color: rgba(214, 214, 233, 0.5);\">xxunk</span> <span title=\"0.441\" style=\"background-color: rgba(172, 171, 209, 0.5);\">tom</span> <span title=\"0.082\" style=\"background-color: rgba(243, 241, 247, 0.5);\">.</span> <span title=\"0.112\" style=\"background-color: rgba(240, 238, 245, 0.5);\">i</span> <span title=\"0.153\" style=\"background-color: rgba(234, 232, 242, 0.5);\">have</span> <span title=\"0.307\" style=\"background-color: rgba(204, 205, 228, 0.5);\">now</span> <span title=\"1.000\" style=\"background-color: rgba(63, 0, 125, 0.5);\">rec&#x27;d</span> <span title=\"0.460\" style=\"background-color: rgba(167, 165, 206, 0.5);\">notification</span> <span title=\"0.186\" style=\"background-color: rgba(229, 227, 240, 0.5);\">that</span> <span title=\"0.114\" style=\"background-color: rgba(240, 238, 245, 0.5);\">i</span> <span title=\"0.173\" style=\"background-color: rgba(231, 229, 241, 0.5);\">&#x27;m</span> <span title=\"0.361\" style=\"background-color: rgba(191, 192, 221, 0.5);\">going</span> <span title=\"0.436\" style=\"background-color: rgba(173, 172, 210, 0.5);\">out</span> <span title=\"0.592\" style=\"background-color: rgba(135, 132, 189, 0.5);\">from</span> <span title=\"0.588\" style=\"background-color: rgba(136, 133, 190, 0.5);\">some</span> <span title=\"0.479\" style=\"background-color: rgba(163, 160, 203, 0.5);\">other</span> <span title=\"0.331\" style=\"background-color: rgba(198, 199, 225, 0.5);\">airport</span></span>"
      ],
      "text/plain": [
       "<IPython.core.display.HTML object>"
      ]
     },
     "metadata": {},
     "output_type": "display_data"
    },
    {
     "name": "stdout",
     "output_type": "stream",
     "text": [
      "('xxunk can you tell me how to file a claim for clothing that had to be purchased?', 'negative', 'neutral')\n"
     ]
    },
    {
     "data": {
      "text/html": [
       "<span style=\"font-family: monospace;\"><span title=\"0.070\" style=\"background-color: rgba(245, 243, 248, 0.5);\">xxbos</span> <span title=\"0.084\" style=\"background-color: rgba(243, 241, 247, 0.5);\">xxunk</span> <span title=\"0.142\" style=\"background-color: rgba(236, 234, 243, 0.5);\">can</span> <span title=\"0.126\" style=\"background-color: rgba(238, 236, 244, 0.5);\">you</span> <span title=\"0.252\" style=\"background-color: rgba(217, 217, 234, 0.5);\">tell</span> <span title=\"0.133\" style=\"background-color: rgba(238, 236, 244, 0.5);\">me</span> <span title=\"0.236\" style=\"background-color: rgba(220, 220, 236, 0.5);\">how</span> <span title=\"0.185\" style=\"background-color: rgba(229, 227, 240, 0.5);\">to</span> <span title=\"1.000\" style=\"background-color: rgba(63, 0, 125, 0.5);\">file</span> <span title=\"0.114\" style=\"background-color: rgba(240, 238, 245, 0.5);\">a</span> <span title=\"0.311\" style=\"background-color: rgba(203, 204, 227, 0.5);\">claim</span> <span title=\"0.090\" style=\"background-color: rgba(242, 240, 247, 0.5);\">for</span> <span title=\"0.386\" style=\"background-color: rgba(185, 186, 218, 0.5);\">clothing</span> <span title=\"0.096\" style=\"background-color: rgba(242, 240, 246, 0.5);\">that</span> <span title=\"0.163\" style=\"background-color: rgba(232, 231, 242, 0.5);\">had</span> <span title=\"0.117\" style=\"background-color: rgba(240, 238, 245, 0.5);\">to</span> <span title=\"0.065\" style=\"background-color: rgba(245, 243, 248, 0.5);\">be</span> <span title=\"0.271\" style=\"background-color: rgba(213, 213, 232, 0.5);\">purchased</span> <span title=\"0.220\" style=\"background-color: rgba(223, 222, 237, 0.5);\">?</span></span>"
      ],
      "text/plain": [
       "<IPython.core.display.HTML object>"
      ]
     },
     "metadata": {},
     "output_type": "display_data"
    },
    {
     "name": "stdout",
     "output_type": "stream",
     "text": [
      "(\"I hate you all. RT xxunk: Our fleet's on fleek. \", 'negative', 'neutral')\n"
     ]
    },
    {
     "data": {
      "text/html": [
       "<span style=\"font-family: monospace;\"><span title=\"0.282\" style=\"background-color: rgba(210, 210, 231, 0.5);\">xxbos</span> <span title=\"0.269\" style=\"background-color: rgba(214, 214, 233, 0.5);\">i</span> <span title=\"0.879\" style=\"background-color: rgba(82, 36, 141, 0.5);\">hate</span> <span title=\"0.299\" style=\"background-color: rgba(206, 206, 229, 0.5);\">you</span> <span title=\"0.273\" style=\"background-color: rgba(213, 213, 232, 0.5);\">all</span> <span title=\"0.173\" style=\"background-color: rgba(231, 229, 241, 0.5);\">.</span> <span title=\"0.214\" style=\"background-color: rgba(224, 223, 238, 0.5);\">xxup</span> <span title=\"1.000\" style=\"background-color: rgba(63, 0, 125, 0.5);\">rt</span> <span title=\"0.333\" style=\"background-color: rgba(198, 198, 225, 0.5);\">xxunk</span> <span title=\"0.356\" style=\"background-color: rgba(192, 193, 222, 0.5);\">:</span> <span title=\"0.315\" style=\"background-color: rgba(202, 203, 227, 0.5);\">xxmaj</span> <span title=\"0.603\" style=\"background-color: rgba(133, 129, 188, 0.5);\">our</span> <span title=\"0.715\" style=\"background-color: rgba(111, 92, 168, 0.5);\">fleet</span> <span title=\"0.290\" style=\"background-color: rgba(208, 208, 230, 0.5);\">&#x27;s</span> <span title=\"0.500\" style=\"background-color: rgba(158, 154, 200, 0.5);\">on</span> <span title=\"0.847\" style=\"background-color: rgba(88, 48, 147, 0.5);\">fleek</span> <span title=\"0.366\" style=\"background-color: rgba(190, 191, 221, 0.5);\">.</span></span>"
      ],
      "text/plain": [
       "<IPython.core.display.HTML object>"
      ]
     },
     "metadata": {},
     "output_type": "display_data"
    }
   ],
   "source": [
    "# True sentiment negative, predicted sentiment neutral \n",
    "\n",
    "for i in df_res.loc[(df_res['airline_sentiment'] == 'negative') & (df_res['predicted_sentiment'] == 'neutral')].index[0:10]:\n",
    "    print((df_res['text'].loc[i], df_res['airline_sentiment'].loc[i], df_res['predicted_sentiment'].loc[i]))\n",
    "    text_interp_test.show_intrinsic_attention(df_res['text'].loc[i], cmap = mpl.cm.Purples)"
   ]
  },
  {
   "cell_type": "code",
   "execution_count": 32,
   "metadata": {},
   "outputs": [
    {
     "name": "stdout",
     "output_type": "stream",
     "text": [
      "(\"xxunk Hey! Check it out!! It's snowing in Boston. Who could have predicted such a thing?! \", 'neutral', 'positive')\n"
     ]
    },
    {
     "data": {
      "text/html": [
       "<span style=\"font-family: monospace;\"><span title=\"0.115\" style=\"background-color: rgba(240, 238, 245, 0.5);\">xxbos</span> <span title=\"0.093\" style=\"background-color: rgba(242, 240, 247, 0.5);\">xxunk</span> <span title=\"0.096\" style=\"background-color: rgba(242, 240, 246, 0.5);\">xxmaj</span> <span title=\"0.720\" style=\"background-color: rgba(111, 91, 168, 0.5);\">hey</span> <span title=\"0.242\" style=\"background-color: rgba(219, 219, 235, 0.5);\">!</span> <span title=\"0.097\" style=\"background-color: rgba(242, 240, 246, 0.5);\">xxmaj</span> <span title=\"0.371\" style=\"background-color: rgba(188, 189, 220, 0.5);\">check</span> <span title=\"0.140\" style=\"background-color: rgba(236, 235, 244, 0.5);\">it</span> <span title=\"0.160\" style=\"background-color: rgba(233, 232, 242, 0.5);\">out</span> <span title=\"0.157\" style=\"background-color: rgba(233, 232, 242, 0.5);\">!</span> <span title=\"0.191\" style=\"background-color: rgba(228, 227, 239, 0.5);\">!</span> <span title=\"0.093\" style=\"background-color: rgba(242, 240, 247, 0.5);\">xxmaj</span> <span title=\"0.147\" style=\"background-color: rgba(235, 233, 243, 0.5);\">it</span> <span title=\"0.160\" style=\"background-color: rgba(232, 231, 242, 0.5);\">&#x27;s</span> <span title=\"1.000\" style=\"background-color: rgba(63, 0, 125, 0.5);\">snowing</span> <span title=\"0.074\" style=\"background-color: rgba(244, 243, 248, 0.5);\">in</span> <span title=\"0.041\" style=\"background-color: rgba(247, 246, 250, 0.5);\">xxmaj</span> <span title=\"0.124\" style=\"background-color: rgba(239, 237, 245, 0.5);\">boston</span> <span title=\"0.062\" style=\"background-color: rgba(245, 244, 249, 0.5);\">.</span> <span title=\"0.147\" style=\"background-color: rgba(235, 233, 243, 0.5);\">xxmaj</span> <span title=\"0.445\" style=\"background-color: rgba(171, 169, 209, 0.5);\">who</span> <span title=\"0.184\" style=\"background-color: rgba(229, 227, 240, 0.5);\">could</span> <span title=\"0.116\" style=\"background-color: rgba(240, 238, 245, 0.5);\">have</span> <span title=\"0.393\" style=\"background-color: rgba(183, 184, 217, 0.5);\">predicted</span> <span title=\"0.245\" style=\"background-color: rgba(219, 219, 235, 0.5);\">such</span> <span title=\"0.114\" style=\"background-color: rgba(240, 238, 245, 0.5);\">a</span> <span title=\"0.222\" style=\"background-color: rgba(223, 222, 237, 0.5);\">thing</span> <span title=\"0.242\" style=\"background-color: rgba(219, 219, 235, 0.5);\">?</span> <span title=\"0.413\" style=\"background-color: rgba(179, 178, 214, 0.5);\">!</span></span>"
      ],
      "text/plain": [
       "<IPython.core.display.HTML object>"
      ]
     },
     "metadata": {},
     "output_type": "display_data"
    },
    {
     "name": "stdout",
     "output_type": "stream",
     "text": [
      "('xxunk I know where you guys jet! LOL, but if you love me so much, help a brother out :) Hot weather, great nightlife, 2-3 hour flight', 'neutral', 'positive')\n"
     ]
    },
    {
     "data": {
      "text/html": [
       "<span style=\"font-family: monospace;\"><span title=\"0.143\" style=\"background-color: rgba(236, 234, 243, 0.5);\">xxbos</span> <span title=\"0.104\" style=\"background-color: rgba(241, 239, 246, 0.5);\">xxunk</span> <span title=\"0.074\" style=\"background-color: rgba(244, 243, 248, 0.5);\">i</span> <span title=\"0.407\" style=\"background-color: rgba(180, 179, 214, 0.5);\">know</span> <span title=\"0.281\" style=\"background-color: rgba(210, 210, 231, 0.5);\">where</span> <span title=\"0.194\" style=\"background-color: rgba(227, 226, 239, 0.5);\">you</span> <span title=\"0.234\" style=\"background-color: rgba(221, 220, 236, 0.5);\">guys</span> <span title=\"0.650\" style=\"background-color: rgba(123, 115, 181, 0.5);\">jet</span> <span title=\"0.239\" style=\"background-color: rgba(219, 219, 235, 0.5);\">!</span> <span title=\"0.221\" style=\"background-color: rgba(223, 222, 237, 0.5);\">xxup</span> <span title=\"0.460\" style=\"background-color: rgba(167, 165, 206, 0.5);\">lol</span> <span title=\"0.068\" style=\"background-color: rgba(245, 243, 248, 0.5);\">,</span> <span title=\"0.122\" style=\"background-color: rgba(239, 237, 245, 0.5);\">but</span> <span title=\"0.401\" style=\"background-color: rgba(182, 182, 216, 0.5);\">if</span> <span title=\"0.280\" style=\"background-color: rgba(211, 211, 231, 0.5);\">you</span> <span title=\"0.628\" style=\"background-color: rgba(127, 124, 185, 0.5);\">love</span> <span title=\"0.171\" style=\"background-color: rgba(231, 230, 241, 0.5);\">me</span> <span title=\"0.203\" style=\"background-color: rgba(225, 225, 238, 0.5);\">so</span> <span title=\"0.306\" style=\"background-color: rgba(204, 205, 228, 0.5);\">much</span> <span title=\"0.151\" style=\"background-color: rgba(234, 233, 243, 0.5);\">,</span> <span title=\"0.536\" style=\"background-color: rgba(149, 145, 195, 0.5);\">help</span> <span title=\"0.167\" style=\"background-color: rgba(232, 230, 241, 0.5);\">a</span> <span title=\"0.466\" style=\"background-color: rgba(166, 163, 205, 0.5);\">brother</span> <span title=\"0.251\" style=\"background-color: rgba(217, 217, 234, 0.5);\">out</span> <span title=\"0.729\" style=\"background-color: rgba(109, 88, 166, 0.5);\">:)</span> <span title=\"0.186\" style=\"background-color: rgba(229, 227, 240, 0.5);\">xxmaj</span> <span title=\"1.000\" style=\"background-color: rgba(63, 0, 125, 0.5);\">hot</span> <span title=\"0.608\" style=\"background-color: rgba(132, 128, 187, 0.5);\">weather</span> <span title=\"0.266\" style=\"background-color: rgba(214, 214, 233, 0.5);\">,</span> <span title=\"0.855\" style=\"background-color: rgba(87, 45, 146, 0.5);\">great</span> <span title=\"0.503\" style=\"background-color: rgba(157, 153, 199, 0.5);\">xxunk</span> <span title=\"0.264\" style=\"background-color: rgba(214, 215, 233, 0.5);\">,</span> <span title=\"0.398\" style=\"background-color: rgba(182, 183, 216, 0.5);\">2</span> <span title=\"0.269\" style=\"background-color: rgba(214, 214, 233, 0.5);\">-</span> <span title=\"0.288\" style=\"background-color: rgba(209, 209, 230, 0.5);\">3</span> <span title=\"0.587\" style=\"background-color: rgba(136, 133, 190, 0.5);\">hour</span> <span title=\"0.654\" style=\"background-color: rgba(122, 114, 180, 0.5);\">flight</span></span>"
      ],
      "text/plain": [
       "<IPython.core.display.HTML object>"
      ]
     },
     "metadata": {},
     "output_type": "display_data"
    },
    {
     "name": "stdout",
     "output_type": "stream",
     "text": [
      "('xxunk here we go again, 2nd round trip to CA in a week True Blue', 'neutral', 'positive')\n"
     ]
    },
    {
     "data": {
      "text/html": [
       "<span style=\"font-family: monospace;\"><span title=\"0.089\" style=\"background-color: rgba(243, 241, 247, 0.5);\">xxbos</span> <span title=\"0.078\" style=\"background-color: rgba(244, 242, 248, 0.5);\">xxunk</span> <span title=\"0.370\" style=\"background-color: rgba(189, 190, 220, 0.5);\">here</span> <span title=\"0.108\" style=\"background-color: rgba(240, 239, 246, 0.5);\">we</span> <span title=\"0.200\" style=\"background-color: rgba(226, 225, 239, 0.5);\">go</span> <span title=\"0.308\" style=\"background-color: rgba(204, 205, 228, 0.5);\">again</span> <span title=\"0.066\" style=\"background-color: rgba(245, 243, 248, 0.5);\">,</span> <span title=\"0.340\" style=\"background-color: rgba(196, 196, 224, 0.5);\">2nd</span> <span title=\"0.351\" style=\"background-color: rgba(194, 195, 223, 0.5);\">round</span> <span title=\"0.285\" style=\"background-color: rgba(210, 210, 231, 0.5);\">trip</span> <span title=\"0.082\" style=\"background-color: rgba(243, 241, 247, 0.5);\">to</span> <span title=\"0.087\" style=\"background-color: rgba(243, 241, 247, 0.5);\">xxup</span> <span title=\"0.314\" style=\"background-color: rgba(202, 203, 227, 0.5);\">ca</span> <span title=\"0.152\" style=\"background-color: rgba(234, 233, 243, 0.5);\">in</span> <span title=\"0.222\" style=\"background-color: rgba(223, 222, 237, 0.5);\">a</span> <span title=\"0.300\" style=\"background-color: rgba(206, 206, 229, 0.5);\">week</span> <span title=\"0.178\" style=\"background-color: rgba(230, 229, 240, 0.5);\">xxmaj</span> <span title=\"1.000\" style=\"background-color: rgba(63, 0, 125, 0.5);\">true</span> <span title=\"0.292\" style=\"background-color: rgba(208, 208, 230, 0.5);\">xxmaj</span> <span title=\"0.241\" style=\"background-color: rgba(219, 219, 235, 0.5);\">blue</span></span>"
      ],
      "text/plain": [
       "<IPython.core.display.HTML object>"
      ]
     },
     "metadata": {},
     "output_type": "display_data"
    },
    {
     "name": "stdout",
     "output_type": "stream",
     "text": [
      "(\"xxunk just kidding with you I'll send you my stuff now. Thanks\", 'neutral', 'positive')\n"
     ]
    },
    {
     "data": {
      "text/html": [
       "<span style=\"font-family: monospace;\"><span title=\"0.102\" style=\"background-color: rgba(241, 239, 246, 0.5);\">xxbos</span> <span title=\"0.103\" style=\"background-color: rgba(241, 239, 246, 0.5);\">xxunk</span> <span title=\"0.242\" style=\"background-color: rgba(219, 219, 235, 0.5);\">just</span> <span title=\"1.000\" style=\"background-color: rgba(63, 0, 125, 0.5);\">kidding</span> <span title=\"0.171\" style=\"background-color: rgba(231, 230, 241, 0.5);\">with</span> <span title=\"0.071\" style=\"background-color: rgba(244, 243, 248, 0.5);\">you</span> <span title=\"0.071\" style=\"background-color: rgba(244, 243, 248, 0.5);\">i</span> <span title=\"0.191\" style=\"background-color: rgba(228, 227, 239, 0.5);\">&#x27;ll</span> <span title=\"0.189\" style=\"background-color: rgba(228, 227, 239, 0.5);\">send</span> <span title=\"0.083\" style=\"background-color: rgba(243, 241, 247, 0.5);\">you</span> <span title=\"0.102\" style=\"background-color: rgba(241, 239, 246, 0.5);\">my</span> <span title=\"0.259\" style=\"background-color: rgba(215, 215, 233, 0.5);\">stuff</span> <span title=\"0.120\" style=\"background-color: rgba(239, 237, 245, 0.5);\">now</span> <span title=\"0.063\" style=\"background-color: rgba(245, 243, 248, 0.5);\">.</span> <span title=\"0.070\" style=\"background-color: rgba(245, 243, 248, 0.5);\">xxmaj</span> <span title=\"0.439\" style=\"background-color: rgba(172, 171, 209, 0.5);\">thanks</span></span>"
      ],
      "text/plain": [
       "<IPython.core.display.HTML object>"
      ]
     },
     "metadata": {},
     "output_type": "display_data"
    },
    {
     "name": "stdout",
     "output_type": "stream",
     "text": [
      "(\"xxunk thanks! I only loose 'em at airports...1st time we found it. I think xxunk needs to make flexes that stay on when carrying bags!\", 'neutral', 'positive')\n"
     ]
    },
    {
     "data": {
      "text/html": [
       "<span style=\"font-family: monospace;\"><span title=\"0.232\" style=\"background-color: rgba(221, 220, 236, 0.5);\">xxbos</span> <span title=\"0.180\" style=\"background-color: rgba(230, 229, 240, 0.5);\">xxunk</span> <span title=\"0.987\" style=\"background-color: rgba(64, 3, 126, 0.5);\">thanks</span> <span title=\"0.441\" style=\"background-color: rgba(172, 171, 209, 0.5);\">!</span> <span title=\"0.198\" style=\"background-color: rgba(227, 226, 239, 0.5);\">i</span> <span title=\"0.856\" style=\"background-color: rgba(86, 44, 145, 0.5);\">only</span> <span title=\"0.760\" style=\"background-color: rgba(104, 77, 161, 0.5);\">loose</span> <span title=\"1.000\" style=\"background-color: rgba(63, 0, 125, 0.5);\">&#x27;em</span> <span title=\"0.168\" style=\"background-color: rgba(231, 230, 241, 0.5);\">at</span> <span title=\"0.417\" style=\"background-color: rgba(178, 177, 213, 0.5);\">airports</span> <span title=\"0.212\" style=\"background-color: rgba(224, 223, 238, 0.5);\">...</span> <span title=\"0.508\" style=\"background-color: rgba(155, 151, 198, 0.5);\">1st</span> <span title=\"0.325\" style=\"background-color: rgba(199, 200, 225, 0.5);\">time</span> <span title=\"0.162\" style=\"background-color: rgba(232, 231, 242, 0.5);\">we</span> <span title=\"0.326\" style=\"background-color: rgba(199, 200, 225, 0.5);\">found</span> <span title=\"0.127\" style=\"background-color: rgba(238, 236, 244, 0.5);\">it</span> <span title=\"0.085\" style=\"background-color: rgba(243, 241, 247, 0.5);\">.</span> <span title=\"0.127\" style=\"background-color: rgba(238, 236, 244, 0.5);\">i</span> <span title=\"0.467\" style=\"background-color: rgba(166, 163, 205, 0.5);\">think</span> <span title=\"0.263\" style=\"background-color: rgba(214, 215, 233, 0.5);\">xxunk</span> <span title=\"0.690\" style=\"background-color: rgba(116, 102, 174, 0.5);\">needs</span> <span title=\"0.232\" style=\"background-color: rgba(221, 220, 236, 0.5);\">to</span> <span title=\"0.328\" style=\"background-color: rgba(198, 199, 225, 0.5);\">make</span> <span title=\"0.464\" style=\"background-color: rgba(166, 164, 205, 0.5);\">xxunk</span> <span title=\"0.345\" style=\"background-color: rgba(195, 195, 223, 0.5);\">that</span> <span title=\"0.577\" style=\"background-color: rgba(139, 136, 191, 0.5);\">stay</span> <span title=\"0.151\" style=\"background-color: rgba(234, 233, 243, 0.5);\">on</span> <span title=\"0.256\" style=\"background-color: rgba(216, 216, 234, 0.5);\">when</span> <span title=\"0.802\" style=\"background-color: rgba(96, 62, 154, 0.5);\">carrying</span> <span title=\"0.469\" style=\"background-color: rgba(165, 162, 204, 0.5);\">bags</span> <span title=\"0.605\" style=\"background-color: rgba(133, 129, 188, 0.5);\">!</span></span>"
      ],
      "text/plain": [
       "<IPython.core.display.HTML object>"
      ]
     },
     "metadata": {},
     "output_type": "display_data"
    },
    {
     "name": "stdout",
     "output_type": "stream",
     "text": [
      "('xxunk xxunk please help me and my best friend get tickets to Destination Dragons we have so much to thank them for....', 'neutral', 'positive')\n"
     ]
    },
    {
     "data": {
      "text/html": [
       "<span style=\"font-family: monospace;\"><span title=\"0.113\" style=\"background-color: rgba(240, 238, 245, 0.5);\">xxbos</span> <span title=\"0.076\" style=\"background-color: rgba(244, 242, 248, 0.5);\">xxunk</span> <span title=\"0.165\" style=\"background-color: rgba(232, 230, 241, 0.5);\">xxunk</span> <span title=\"0.570\" style=\"background-color: rgba(141, 138, 192, 0.5);\">please</span> <span title=\"0.421\" style=\"background-color: rgba(177, 176, 212, 0.5);\">help</span> <span title=\"0.191\" style=\"background-color: rgba(227, 226, 239, 0.5);\">me</span> <span title=\"0.284\" style=\"background-color: rgba(210, 210, 231, 0.5);\">and</span> <span title=\"0.219\" style=\"background-color: rgba(223, 223, 237, 0.5);\">my</span> <span title=\"0.657\" style=\"background-color: rgba(122, 113, 179, 0.5);\">best</span> <span title=\"0.213\" style=\"background-color: rgba(224, 223, 238, 0.5);\">friend</span> <span title=\"0.180\" style=\"background-color: rgba(229, 228, 240, 0.5);\">get</span> <span title=\"0.426\" style=\"background-color: rgba(175, 174, 211, 0.5);\">tickets</span> <span title=\"0.136\" style=\"background-color: rgba(237, 235, 244, 0.5);\">to</span> <span title=\"0.215\" style=\"background-color: rgba(223, 223, 237, 0.5);\">xxmaj</span> <span title=\"1.000\" style=\"background-color: rgba(63, 0, 125, 0.5);\">destination</span> <span title=\"0.296\" style=\"background-color: rgba(207, 207, 229, 0.5);\">xxmaj</span> <span title=\"0.221\" style=\"background-color: rgba(223, 222, 237, 0.5);\">dragons</span> <span title=\"0.194\" style=\"background-color: rgba(227, 226, 239, 0.5);\">we</span> <span title=\"0.132\" style=\"background-color: rgba(238, 236, 244, 0.5);\">have</span> <span title=\"0.269\" style=\"background-color: rgba(214, 214, 233, 0.5);\">so</span> <span title=\"0.239\" style=\"background-color: rgba(219, 219, 235, 0.5);\">much</span> <span title=\"0.121\" style=\"background-color: rgba(239, 237, 245, 0.5);\">to</span> <span title=\"0.505\" style=\"background-color: rgba(156, 152, 199, 0.5);\">thank</span> <span title=\"0.186\" style=\"background-color: rgba(229, 227, 240, 0.5);\">them</span> <span title=\"0.084\" style=\"background-color: rgba(243, 241, 247, 0.5);\">for</span> <span title=\"0.502\" style=\"background-color: rgba(157, 153, 199, 0.5);\">xxrep</span> <span title=\"0.277\" style=\"background-color: rgba(212, 212, 232, 0.5);\">4</span> <span title=\"0.249\" style=\"background-color: rgba(218, 218, 235, 0.5);\">.</span></span>"
      ],
      "text/plain": [
       "<IPython.core.display.HTML object>"
      ]
     },
     "metadata": {},
     "output_type": "display_data"
    },
    {
     "name": "stdout",
     "output_type": "stream",
     "text": [
      "(\"xxunk I'm aware, I fly a lot :) Just sad I had to change my shoes (boots), ha! Happy Flight\", 'neutral', 'positive')\n"
     ]
    },
    {
     "data": {
      "text/html": [
       "<span style=\"font-family: monospace;\"><span title=\"0.082\" style=\"background-color: rgba(243, 241, 247, 0.5);\">xxbos</span> <span title=\"0.044\" style=\"background-color: rgba(247, 246, 250, 0.5);\">xxunk</span> <span title=\"0.050\" style=\"background-color: rgba(247, 245, 249, 0.5);\">i</span> <span title=\"0.103\" style=\"background-color: rgba(241, 239, 246, 0.5);\">&#x27;m</span> <span title=\"0.320\" style=\"background-color: rgba(201, 202, 226, 0.5);\">aware</span> <span title=\"0.084\" style=\"background-color: rgba(243, 241, 247, 0.5);\">,</span> <span title=\"0.075\" style=\"background-color: rgba(244, 242, 248, 0.5);\">i</span> <span title=\"0.234\" style=\"background-color: rgba(221, 220, 236, 0.5);\">fly</span> <span title=\"0.134\" style=\"background-color: rgba(237, 235, 244, 0.5);\">a</span> <span title=\"0.246\" style=\"background-color: rgba(219, 219, 235, 0.5);\">lot</span> <span title=\"0.443\" style=\"background-color: rgba(171, 169, 209, 0.5);\">:)</span> <span title=\"0.039\" style=\"background-color: rgba(247, 246, 250, 0.5);\">xxmaj</span> <span title=\"0.138\" style=\"background-color: rgba(236, 235, 244, 0.5);\">just</span> <span title=\"0.307\" style=\"background-color: rgba(204, 205, 228, 0.5);\">sad</span> <span title=\"0.066\" style=\"background-color: rgba(245, 243, 248, 0.5);\">i</span> <span title=\"0.080\" style=\"background-color: rgba(243, 242, 247, 0.5);\">had</span> <span title=\"0.075\" style=\"background-color: rgba(244, 242, 248, 0.5);\">to</span> <span title=\"0.280\" style=\"background-color: rgba(211, 211, 231, 0.5);\">change</span> <span title=\"0.081\" style=\"background-color: rgba(243, 242, 247, 0.5);\">my</span> <span title=\"0.279\" style=\"background-color: rgba(211, 211, 231, 0.5);\">shoes</span> <span title=\"0.085\" style=\"background-color: rgba(243, 241, 247, 0.5);\">(</span> <span title=\"0.300\" style=\"background-color: rgba(206, 206, 229, 0.5);\">boots</span> <span title=\"0.088\" style=\"background-color: rgba(243, 241, 247, 0.5);\">)</span> <span title=\"0.070\" style=\"background-color: rgba(244, 243, 248, 0.5);\">,</span> <span title=\"0.328\" style=\"background-color: rgba(199, 200, 225, 0.5);\">ha</span> <span title=\"0.106\" style=\"background-color: rgba(240, 239, 246, 0.5);\">!</span> <span title=\"0.134\" style=\"background-color: rgba(237, 235, 244, 0.5);\">xxmaj</span> <span title=\"1.000\" style=\"background-color: rgba(63, 0, 125, 0.5);\">happy</span> <span title=\"0.209\" style=\"background-color: rgba(225, 224, 238, 0.5);\">xxmaj</span> <span title=\"0.318\" style=\"background-color: rgba(201, 202, 226, 0.5);\">flight</span></span>"
      ],
      "text/plain": [
       "<IPython.core.display.HTML object>"
      ]
     },
     "metadata": {},
     "output_type": "display_data"
    },
    {
     "name": "stdout",
     "output_type": "stream",
     "text": [
      "('xxunk Can you find us a flt out of LAX that is sooner than midnight on Monday? That would be great customer service 😃', 'neutral', 'positive')\n"
     ]
    },
    {
     "data": {
      "text/html": [
       "<span style=\"font-family: monospace;\"><span title=\"0.039\" style=\"background-color: rgba(248, 247, 250, 0.5);\">xxbos</span> <span title=\"0.036\" style=\"background-color: rgba(248, 247, 250, 0.5);\">xxunk</span> <span title=\"0.049\" style=\"background-color: rgba(247, 245, 249, 0.5);\">xxmaj</span> <span title=\"0.111\" style=\"background-color: rgba(240, 238, 245, 0.5);\">can</span> <span title=\"0.068\" style=\"background-color: rgba(245, 243, 248, 0.5);\">you</span> <span title=\"0.121\" style=\"background-color: rgba(239, 237, 245, 0.5);\">find</span> <span title=\"0.080\" style=\"background-color: rgba(243, 242, 247, 0.5);\">us</span> <span title=\"0.046\" style=\"background-color: rgba(247, 246, 250, 0.5);\">a</span> <span title=\"0.108\" style=\"background-color: rgba(240, 239, 246, 0.5);\">flt</span> <span title=\"0.053\" style=\"background-color: rgba(246, 245, 249, 0.5);\">out</span> <span title=\"0.025\" style=\"background-color: rgba(249, 248, 251, 0.5);\">of</span> <span title=\"0.033\" style=\"background-color: rgba(248, 247, 250, 0.5);\">xxup</span> <span title=\"0.064\" style=\"background-color: rgba(245, 243, 248, 0.5);\">lax</span> <span title=\"0.028\" style=\"background-color: rgba(249, 247, 251, 0.5);\">that</span> <span title=\"0.033\" style=\"background-color: rgba(248, 247, 250, 0.5);\">is</span> <span title=\"0.180\" style=\"background-color: rgba(229, 228, 240, 0.5);\">sooner</span> <span title=\"0.042\" style=\"background-color: rgba(247, 246, 250, 0.5);\">than</span> <span title=\"0.070\" style=\"background-color: rgba(245, 243, 248, 0.5);\">midnight</span> <span title=\"0.031\" style=\"background-color: rgba(249, 247, 251, 0.5);\">on</span> <span title=\"0.018\" style=\"background-color: rgba(250, 249, 251, 0.5);\">xxmaj</span> <span title=\"0.068\" style=\"background-color: rgba(245, 243, 248, 0.5);\">monday</span> <span title=\"0.053\" style=\"background-color: rgba(246, 245, 249, 0.5);\">?</span> <span title=\"0.030\" style=\"background-color: rgba(249, 247, 251, 0.5);\">xxmaj</span> <span title=\"0.079\" style=\"background-color: rgba(243, 242, 247, 0.5);\">that</span> <span title=\"0.078\" style=\"background-color: rgba(244, 242, 248, 0.5);\">would</span> <span title=\"0.086\" style=\"background-color: rgba(243, 241, 247, 0.5);\">be</span> <span title=\"0.219\" style=\"background-color: rgba(223, 223, 237, 0.5);\">great</span> <span title=\"0.315\" style=\"background-color: rgba(202, 203, 227, 0.5);\">customer</span> <span title=\"0.353\" style=\"background-color: rgba(193, 194, 222, 0.5);\">service</span> <span title=\"1.000\" style=\"background-color: rgba(63, 0, 125, 0.5);\">😃</span></span>"
      ],
      "text/plain": [
       "<IPython.core.display.HTML object>"
      ]
     },
     "metadata": {},
     "output_type": "display_data"
    },
    {
     "name": "stdout",
     "output_type": "stream",
     "text": [
      "('xxunk yes, with Delta!', 'neutral', 'positive')\n"
     ]
    },
    {
     "data": {
      "text/html": [
       "<span style=\"font-family: monospace;\"><span title=\"0.202\" style=\"background-color: rgba(226, 225, 239, 0.5);\">xxbos</span> <span title=\"0.189\" style=\"background-color: rgba(228, 227, 239, 0.5);\">xxunk</span> <span title=\"1.000\" style=\"background-color: rgba(63, 0, 125, 0.5);\">yes</span> <span title=\"0.141\" style=\"background-color: rgba(236, 234, 243, 0.5);\">,</span> <span title=\"0.280\" style=\"background-color: rgba(211, 211, 231, 0.5);\">with</span> <span title=\"0.162\" style=\"background-color: rgba(232, 231, 242, 0.5);\">xxmaj</span> <span title=\"0.716\" style=\"background-color: rgba(111, 92, 168, 0.5);\">delta</span> <span title=\"0.357\" style=\"background-color: rgba(192, 193, 222, 0.5);\">!</span></span>"
      ],
      "text/plain": [
       "<IPython.core.display.HTML object>"
      ]
     },
     "metadata": {},
     "output_type": "display_data"
    },
    {
     "name": "stdout",
     "output_type": "stream",
     "text": [
      "('xxunk sounds fun! How does that work?', 'neutral', 'positive')\n"
     ]
    },
    {
     "data": {
      "text/html": [
       "<span style=\"font-family: monospace;\"><span title=\"0.219\" style=\"background-color: rgba(223, 223, 237, 0.5);\">xxbos</span> <span title=\"0.207\" style=\"background-color: rgba(225, 225, 238, 0.5);\">xxunk</span> <span title=\"1.000\" style=\"background-color: rgba(63, 0, 125, 0.5);\">sounds</span> <span title=\"0.891\" style=\"background-color: rgba(81, 34, 140, 0.5);\">fun</span> <span title=\"0.447\" style=\"background-color: rgba(170, 168, 208, 0.5);\">!</span> <span title=\"0.250\" style=\"background-color: rgba(218, 218, 235, 0.5);\">xxmaj</span> <span title=\"0.517\" style=\"background-color: rgba(153, 149, 198, 0.5);\">how</span> <span title=\"0.521\" style=\"background-color: rgba(152, 148, 197, 0.5);\">does</span> <span title=\"0.312\" style=\"background-color: rgba(203, 204, 227, 0.5);\">that</span> <span title=\"0.652\" style=\"background-color: rgba(123, 115, 181, 0.5);\">work</span> <span title=\"0.332\" style=\"background-color: rgba(198, 198, 225, 0.5);\">?</span></span>"
      ],
      "text/plain": [
       "<IPython.core.display.HTML object>"
      ]
     },
     "metadata": {},
     "output_type": "display_data"
    }
   ],
   "source": [
    "# True sentiment neutral, predicted sentiment positive \n",
    "\n",
    "for i in df_res.loc[(df_res['airline_sentiment'] == 'neutral') & (df_res['predicted_sentiment'] == 'positive')].index[0:10]:\n",
    "    print((df_res['text'].loc[i], df_res['airline_sentiment'].loc[i], df_res['predicted_sentiment'].loc[i]))\n",
    "    text_interp_test.show_intrinsic_attention(df_res['text'].loc[i], cmap = mpl.cm.Purples)"
   ]
  },
  {
   "cell_type": "code",
   "execution_count": 33,
   "metadata": {},
   "outputs": [
    {
     "name": "stdout",
     "output_type": "stream",
     "text": [
      "('xxunk when are you releasing your flights for September? Just found out you fly direct lbb to las! So excited! tripofalifetime', 'positive', 'neutral')\n"
     ]
    },
    {
     "data": {
      "text/html": [
       "<span style=\"font-family: monospace;\"><span title=\"0.176\" style=\"background-color: rgba(231, 229, 241, 0.5);\">xxbos</span> <span title=\"0.128\" style=\"background-color: rgba(238, 236, 244, 0.5);\">xxunk</span> <span title=\"0.290\" style=\"background-color: rgba(208, 208, 230, 0.5);\">when</span> <span title=\"0.317\" style=\"background-color: rgba(201, 202, 226, 0.5);\">are</span> <span title=\"0.253\" style=\"background-color: rgba(217, 217, 234, 0.5);\">you</span> <span title=\"0.259\" style=\"background-color: rgba(215, 215, 233, 0.5);\">xxunk</span> <span title=\"0.257\" style=\"background-color: rgba(216, 216, 234, 0.5);\">your</span> <span title=\"0.349\" style=\"background-color: rgba(194, 195, 223, 0.5);\">flights</span> <span title=\"0.118\" style=\"background-color: rgba(239, 237, 245, 0.5);\">for</span> <span title=\"0.113\" style=\"background-color: rgba(240, 238, 245, 0.5);\">xxmaj</span> <span title=\"0.315\" style=\"background-color: rgba(202, 203, 227, 0.5);\">september</span> <span title=\"0.151\" style=\"background-color: rgba(234, 233, 243, 0.5);\">?</span> <span title=\"0.065\" style=\"background-color: rgba(245, 243, 248, 0.5);\">xxmaj</span> <span title=\"0.213\" style=\"background-color: rgba(224, 223, 238, 0.5);\">just</span> <span title=\"0.307\" style=\"background-color: rgba(204, 205, 228, 0.5);\">found</span> <span title=\"0.179\" style=\"background-color: rgba(230, 229, 240, 0.5);\">out</span> <span title=\"0.111\" style=\"background-color: rgba(240, 238, 245, 0.5);\">you</span> <span title=\"0.319\" style=\"background-color: rgba(201, 202, 226, 0.5);\">fly</span> <span title=\"0.294\" style=\"background-color: rgba(207, 207, 229, 0.5);\">direct</span> <span title=\"0.115\" style=\"background-color: rgba(240, 238, 245, 0.5);\">xxunk</span> <span title=\"0.125\" style=\"background-color: rgba(239, 237, 245, 0.5);\">to</span> <span title=\"1.000\" style=\"background-color: rgba(63, 0, 125, 0.5);\">las</span> <span title=\"0.166\" style=\"background-color: rgba(232, 230, 241, 0.5);\">!</span> <span title=\"0.101\" style=\"background-color: rgba(241, 240, 246, 0.5);\">xxmaj</span> <span title=\"0.233\" style=\"background-color: rgba(221, 220, 236, 0.5);\">so</span> <span title=\"0.580\" style=\"background-color: rgba(138, 135, 190, 0.5);\">excited</span> <span title=\"0.223\" style=\"background-color: rgba(223, 222, 237, 0.5);\">!</span> <span title=\"0.263\" style=\"background-color: rgba(214, 215, 233, 0.5);\">xxunk</span></span>"
      ],
      "text/plain": [
       "<IPython.core.display.HTML object>"
      ]
     },
     "metadata": {},
     "output_type": "display_data"
    },
    {
     "name": "stdout",
     "output_type": "stream",
     "text": [
      "('xxunk me and xxunk are best friends because of xxunk. Any chance we could get tickets to Destination Dragons ?', 'positive', 'neutral')\n"
     ]
    },
    {
     "data": {
      "text/html": [
       "<span style=\"font-family: monospace;\"><span title=\"0.114\" style=\"background-color: rgba(240, 238, 245, 0.5);\">xxbos</span> <span title=\"0.096\" style=\"background-color: rgba(242, 240, 246, 0.5);\">xxunk</span> <span title=\"0.174\" style=\"background-color: rgba(231, 229, 241, 0.5);\">me</span> <span title=\"0.112\" style=\"background-color: rgba(240, 238, 245, 0.5);\">and</span> <span title=\"0.179\" style=\"background-color: rgba(230, 229, 240, 0.5);\">xxunk</span> <span title=\"0.237\" style=\"background-color: rgba(220, 220, 236, 0.5);\">are</span> <span title=\"0.581\" style=\"background-color: rgba(138, 135, 190, 0.5);\">best</span> <span title=\"0.323\" style=\"background-color: rgba(200, 201, 226, 0.5);\">friends</span> <span title=\"0.178\" style=\"background-color: rgba(230, 229, 240, 0.5);\">because</span> <span title=\"0.111\" style=\"background-color: rgba(240, 238, 245, 0.5);\">of</span> <span title=\"0.084\" style=\"background-color: rgba(243, 241, 247, 0.5);\">xxunk</span> <span title=\"0.066\" style=\"background-color: rgba(245, 243, 248, 0.5);\">.</span> <span title=\"0.089\" style=\"background-color: rgba(243, 241, 247, 0.5);\">xxmaj</span> <span title=\"0.368\" style=\"background-color: rgba(189, 190, 220, 0.5);\">any</span> <span title=\"0.390\" style=\"background-color: rgba(184, 185, 217, 0.5);\">chance</span> <span title=\"0.141\" style=\"background-color: rgba(236, 234, 243, 0.5);\">we</span> <span title=\"0.123\" style=\"background-color: rgba(239, 237, 245, 0.5);\">could</span> <span title=\"0.149\" style=\"background-color: rgba(234, 233, 243, 0.5);\">get</span> <span title=\"0.329\" style=\"background-color: rgba(198, 199, 225, 0.5);\">tickets</span> <span title=\"0.135\" style=\"background-color: rgba(237, 235, 244, 0.5);\">to</span> <span title=\"0.159\" style=\"background-color: rgba(233, 232, 242, 0.5);\">xxmaj</span> <span title=\"1.000\" style=\"background-color: rgba(63, 0, 125, 0.5);\">destination</span> <span title=\"0.296\" style=\"background-color: rgba(207, 207, 229, 0.5);\">xxmaj</span> <span title=\"0.229\" style=\"background-color: rgba(221, 221, 236, 0.5);\">dragons</span> <span title=\"0.308\" style=\"background-color: rgba(204, 205, 228, 0.5);\">?</span></span>"
      ],
      "text/plain": [
       "<IPython.core.display.HTML object>"
      ]
     },
     "metadata": {},
     "output_type": "display_data"
    },
    {
     "name": "stdout",
     "output_type": "stream",
     "text": [
      "('xxunk will do. Just need to get CVG.... and my bag too. Thanks', 'positive', 'neutral')\n"
     ]
    },
    {
     "data": {
      "text/html": [
       "<span style=\"font-family: monospace;\"><span title=\"0.210\" style=\"background-color: rgba(225, 224, 238, 0.5);\">xxbos</span> <span title=\"0.164\" style=\"background-color: rgba(232, 230, 241, 0.5);\">xxunk</span> <span title=\"0.390\" style=\"background-color: rgba(184, 185, 217, 0.5);\">will</span> <span title=\"0.292\" style=\"background-color: rgba(208, 208, 230, 0.5);\">do</span> <span title=\"0.295\" style=\"background-color: rgba(207, 207, 229, 0.5);\">.</span> <span title=\"0.179\" style=\"background-color: rgba(230, 229, 240, 0.5);\">xxmaj</span> <span title=\"0.366\" style=\"background-color: rgba(190, 191, 221, 0.5);\">just</span> <span title=\"0.680\" style=\"background-color: rgba(117, 104, 175, 0.5);\">need</span> <span title=\"0.144\" style=\"background-color: rgba(236, 234, 243, 0.5);\">to</span> <span title=\"0.224\" style=\"background-color: rgba(222, 222, 237, 0.5);\">get</span> <span title=\"0.213\" style=\"background-color: rgba(224, 223, 238, 0.5);\">xxup</span> <span title=\"0.577\" style=\"background-color: rgba(139, 136, 191, 0.5);\">cvg</span> <span title=\"0.312\" style=\"background-color: rgba(203, 204, 227, 0.5);\">xxrep</span> <span title=\"0.154\" style=\"background-color: rgba(234, 232, 242, 0.5);\">4</span> <span title=\"0.078\" style=\"background-color: rgba(244, 242, 248, 0.5);\">.</span> <span title=\"0.080\" style=\"background-color: rgba(243, 242, 247, 0.5);\">and</span> <span title=\"0.183\" style=\"background-color: rgba(229, 228, 240, 0.5);\">my</span> <span title=\"0.438\" style=\"background-color: rgba(172, 171, 209, 0.5);\">bag</span> <span title=\"0.307\" style=\"background-color: rgba(204, 205, 228, 0.5);\">too</span> <span title=\"0.106\" style=\"background-color: rgba(240, 239, 246, 0.5);\">.</span> <span title=\"0.145\" style=\"background-color: rgba(235, 233, 243, 0.5);\">xxmaj</span> <span title=\"1.000\" style=\"background-color: rgba(63, 0, 125, 0.5);\">thanks</span></span>"
      ],
      "text/plain": [
       "<IPython.core.display.HTML object>"
      ]
     },
     "metadata": {},
     "output_type": "display_data"
    },
    {
     "name": "stdout",
     "output_type": "stream",
     "text": [
      "(\"xxunk I'm flying with your competitor today, starts with an U and ends with D. I will never make that mistake again. americanforlife\", 'positive', 'neutral')\n"
     ]
    },
    {
     "data": {
      "text/html": [
       "<span style=\"font-family: monospace;\"><span title=\"0.178\" style=\"background-color: rgba(230, 229, 240, 0.5);\">xxbos</span> <span title=\"0.128\" style=\"background-color: rgba(238, 236, 244, 0.5);\">xxunk</span> <span title=\"0.167\" style=\"background-color: rgba(232, 230, 241, 0.5);\">i</span> <span title=\"0.374\" style=\"background-color: rgba(188, 189, 220, 0.5);\">&#x27;m</span> <span title=\"0.803\" style=\"background-color: rgba(96, 62, 154, 0.5);\">flying</span> <span title=\"0.372\" style=\"background-color: rgba(188, 189, 220, 0.5);\">with</span> <span title=\"0.443\" style=\"background-color: rgba(171, 169, 209, 0.5);\">your</span> <span title=\"1.000\" style=\"background-color: rgba(63, 0, 125, 0.5);\">competitor</span> <span title=\"0.492\" style=\"background-color: rgba(160, 156, 201, 0.5);\">today</span> <span title=\"0.127\" style=\"background-color: rgba(238, 236, 244, 0.5);\">,</span> <span title=\"0.900\" style=\"background-color: rgba(79, 30, 139, 0.5);\">starts</span> <span title=\"0.477\" style=\"background-color: rgba(163, 160, 203, 0.5);\">with</span> <span title=\"0.186\" style=\"background-color: rgba(229, 227, 240, 0.5);\">an</span> <span title=\"0.660\" style=\"background-color: rgba(122, 113, 179, 0.5);\">u</span> <span title=\"0.223\" style=\"background-color: rgba(222, 222, 237, 0.5);\">and</span> <span title=\"0.658\" style=\"background-color: rgba(122, 113, 179, 0.5);\">ends</span> <span title=\"0.252\" style=\"background-color: rgba(217, 217, 234, 0.5);\">with</span> <span title=\"0.197\" style=\"background-color: rgba(227, 226, 239, 0.5);\">xxup</span> <span title=\"0.193\" style=\"background-color: rgba(227, 226, 239, 0.5);\">xxunk</span> <span title=\"0.106\" style=\"background-color: rgba(240, 239, 246, 0.5);\">i</span> <span title=\"0.305\" style=\"background-color: rgba(204, 205, 228, 0.5);\">will</span> <span title=\"0.432\" style=\"background-color: rgba(174, 173, 210, 0.5);\">never</span> <span title=\"0.318\" style=\"background-color: rgba(201, 202, 226, 0.5);\">make</span> <span title=\"0.235\" style=\"background-color: rgba(220, 220, 236, 0.5);\">that</span> <span title=\"0.346\" style=\"background-color: rgba(195, 195, 223, 0.5);\">mistake</span> <span title=\"0.179\" style=\"background-color: rgba(230, 229, 240, 0.5);\">again</span> <span title=\"0.224\" style=\"background-color: rgba(222, 222, 237, 0.5);\">.</span> <span title=\"0.433\" style=\"background-color: rgba(174, 173, 210, 0.5);\">xxunk</span></span>"
      ],
      "text/plain": [
       "<IPython.core.display.HTML object>"
      ]
     },
     "metadata": {},
     "output_type": "display_data"
    },
    {
     "name": "stdout",
     "output_type": "stream",
     "text": [
      "('xxunk I might look into that. My wife travels much more than I do. Could we both use the membership?', 'positive', 'neutral')\n"
     ]
    },
    {
     "data": {
      "text/html": [
       "<span style=\"font-family: monospace;\"><span title=\"0.207\" style=\"background-color: rgba(225, 225, 238, 0.5);\">xxbos</span> <span title=\"0.139\" style=\"background-color: rgba(236, 235, 244, 0.5);\">xxunk</span> <span title=\"0.149\" style=\"background-color: rgba(234, 233, 243, 0.5);\">i</span> <span title=\"0.344\" style=\"background-color: rgba(196, 196, 224, 0.5);\">might</span> <span title=\"0.638\" style=\"background-color: rgba(125, 119, 183, 0.5);\">look</span> <span title=\"0.340\" style=\"background-color: rgba(196, 196, 224, 0.5);\">into</span> <span title=\"0.148\" style=\"background-color: rgba(235, 233, 243, 0.5);\">that</span> <span title=\"0.094\" style=\"background-color: rgba(242, 240, 246, 0.5);\">.</span> <span title=\"0.116\" style=\"background-color: rgba(240, 238, 245, 0.5);\">xxmaj</span> <span title=\"0.212\" style=\"background-color: rgba(224, 223, 238, 0.5);\">my</span> <span title=\"0.455\" style=\"background-color: rgba(168, 166, 207, 0.5);\">wife</span> <span title=\"1.000\" style=\"background-color: rgba(63, 0, 125, 0.5);\">travels</span> <span title=\"0.484\" style=\"background-color: rgba(162, 158, 202, 0.5);\">much</span> <span title=\"0.535\" style=\"background-color: rgba(150, 146, 196, 0.5);\">more</span> <span title=\"0.232\" style=\"background-color: rgba(221, 220, 236, 0.5);\">than</span> <span title=\"0.107\" style=\"background-color: rgba(240, 239, 246, 0.5);\">i</span> <span title=\"0.141\" style=\"background-color: rgba(236, 234, 243, 0.5);\">do</span> <span title=\"0.136\" style=\"background-color: rgba(237, 235, 244, 0.5);\">.</span> <span title=\"0.148\" style=\"background-color: rgba(235, 233, 243, 0.5);\">xxmaj</span> <span title=\"0.602\" style=\"background-color: rgba(133, 129, 188, 0.5);\">could</span> <span title=\"0.654\" style=\"background-color: rgba(122, 114, 180, 0.5);\">we</span> <span title=\"0.855\" style=\"background-color: rgba(86, 44, 145, 0.5);\">both</span> <span title=\"0.485\" style=\"background-color: rgba(161, 157, 202, 0.5);\">use</span> <span title=\"0.217\" style=\"background-color: rgba(223, 223, 237, 0.5);\">the</span> <span title=\"0.972\" style=\"background-color: rgba(67, 8, 128, 0.5);\">membership</span> <span title=\"0.508\" style=\"background-color: rgba(155, 151, 198, 0.5);\">?</span></span>"
      ],
      "text/plain": [
       "<IPython.core.display.HTML object>"
      ]
     },
     "metadata": {},
     "output_type": "display_data"
    },
    {
     "name": "stdout",
     "output_type": "stream",
     "text": [
      "('xxunk If you \"follow\" me, I will be able to DM you.  Thanks.', 'positive', 'neutral')\n"
     ]
    },
    {
     "data": {
      "text/html": [
       "<span style=\"font-family: monospace;\"><span title=\"0.195\" style=\"background-color: rgba(227, 226, 239, 0.5);\">xxbos</span> <span title=\"0.119\" style=\"background-color: rgba(239, 237, 245, 0.5);\">xxunk</span> <span title=\"0.124\" style=\"background-color: rgba(239, 237, 245, 0.5);\">xxmaj</span> <span title=\"0.299\" style=\"background-color: rgba(206, 206, 229, 0.5);\">if</span> <span title=\"0.211\" style=\"background-color: rgba(225, 224, 238, 0.5);\">you</span> <span title=\"0.202\" style=\"background-color: rgba(226, 225, 239, 0.5);\">&quot;</span> <span title=\"0.849\" style=\"background-color: rgba(88, 47, 146, 0.5);\">follow</span> <span title=\"0.210\" style=\"background-color: rgba(225, 224, 238, 0.5);\">&quot;</span> <span title=\"0.211\" style=\"background-color: rgba(224, 223, 238, 0.5);\">me</span> <span title=\"0.102\" style=\"background-color: rgba(241, 240, 246, 0.5);\">,</span> <span title=\"0.162\" style=\"background-color: rgba(232, 231, 242, 0.5);\">i</span> <span title=\"0.273\" style=\"background-color: rgba(213, 213, 232, 0.5);\">will</span> <span title=\"0.179\" style=\"background-color: rgba(230, 229, 240, 0.5);\">be</span> <span title=\"0.537\" style=\"background-color: rgba(149, 145, 195, 0.5);\">able</span> <span title=\"0.137\" style=\"background-color: rgba(236, 235, 244, 0.5);\">to</span> <span title=\"0.275\" style=\"background-color: rgba(212, 212, 232, 0.5);\">xxup</span> <span title=\"0.930\" style=\"background-color: rgba(74, 20, 134, 0.5);\">dm</span> <span title=\"0.175\" style=\"background-color: rgba(231, 229, 241, 0.5);\">you</span> <span title=\"0.157\" style=\"background-color: rgba(233, 232, 242, 0.5);\">.</span> <span title=\"0.195\" style=\"background-color: rgba(227, 226, 239, 0.5);\">xxmaj</span> <span title=\"1.000\" style=\"background-color: rgba(63, 0, 125, 0.5);\">thanks</span> <span title=\"0.311\" style=\"background-color: rgba(203, 204, 227, 0.5);\">.</span></span>"
      ],
      "text/plain": [
       "<IPython.core.display.HTML object>"
      ]
     },
     "metadata": {},
     "output_type": "display_data"
    },
    {
     "name": "stdout",
     "output_type": "stream",
     "text": [
      "(\"Power Moves RT xxunk: Our fleet's on fleek. \", 'positive', 'neutral')\n"
     ]
    },
    {
     "data": {
      "text/html": [
       "<span style=\"font-family: monospace;\"><span title=\"0.226\" style=\"background-color: rgba(222, 222, 237, 0.5);\">xxbos</span> <span title=\"0.335\" style=\"background-color: rgba(198, 198, 225, 0.5);\">xxmaj</span> <span title=\"1.000\" style=\"background-color: rgba(63, 0, 125, 0.5);\">power</span> <span title=\"0.172\" style=\"background-color: rgba(231, 229, 241, 0.5);\">xxmaj</span> <span title=\"0.197\" style=\"background-color: rgba(227, 226, 239, 0.5);\">xxunk</span> <span title=\"0.153\" style=\"background-color: rgba(234, 232, 242, 0.5);\">xxup</span> <span title=\"0.622\" style=\"background-color: rgba(128, 125, 186, 0.5);\">rt</span> <span title=\"0.160\" style=\"background-color: rgba(232, 231, 242, 0.5);\">xxunk</span> <span title=\"0.209\" style=\"background-color: rgba(225, 224, 238, 0.5);\">:</span> <span title=\"0.188\" style=\"background-color: rgba(228, 227, 239, 0.5);\">xxmaj</span> <span title=\"0.403\" style=\"background-color: rgba(181, 180, 215, 0.5);\">our</span> <span title=\"0.428\" style=\"background-color: rgba(175, 174, 211, 0.5);\">fleet</span> <span title=\"0.161\" style=\"background-color: rgba(232, 231, 242, 0.5);\">&#x27;s</span> <span title=\"0.287\" style=\"background-color: rgba(209, 209, 230, 0.5);\">on</span> <span title=\"0.561\" style=\"background-color: rgba(143, 139, 193, 0.5);\">fleek</span> <span title=\"0.260\" style=\"background-color: rgba(215, 215, 233, 0.5);\">.</span></span>"
      ],
      "text/plain": [
       "<IPython.core.display.HTML object>"
      ]
     },
     "metadata": {},
     "output_type": "display_data"
    },
    {
     "name": "stdout",
     "output_type": "stream",
     "text": [
      "('xxunk you know it. Need it on my spotify stat guiltypleasures', 'positive', 'neutral')\n"
     ]
    },
    {
     "data": {
      "text/html": [
       "<span style=\"font-family: monospace;\"><span title=\"0.223\" style=\"background-color: rgba(222, 222, 237, 0.5);\">xxbos</span> <span title=\"0.169\" style=\"background-color: rgba(231, 230, 241, 0.5);\">xxunk</span> <span title=\"0.343\" style=\"background-color: rgba(196, 196, 224, 0.5);\">you</span> <span title=\"0.563\" style=\"background-color: rgba(142, 138, 192, 0.5);\">know</span> <span title=\"0.214\" style=\"background-color: rgba(224, 223, 238, 0.5);\">it</span> <span title=\"0.136\" style=\"background-color: rgba(237, 235, 244, 0.5);\">.</span> <span title=\"0.173\" style=\"background-color: rgba(231, 229, 241, 0.5);\">xxmaj</span> <span title=\"1.000\" style=\"background-color: rgba(63, 0, 125, 0.5);\">need</span> <span title=\"0.452\" style=\"background-color: rgba(169, 167, 207, 0.5);\">it</span> <span title=\"0.516\" style=\"background-color: rgba(153, 149, 198, 0.5);\">on</span> <span title=\"0.277\" style=\"background-color: rgba(212, 212, 232, 0.5);\">my</span> <span title=\"0.592\" style=\"background-color: rgba(135, 132, 189, 0.5);\">spotify</span> <span title=\"0.728\" style=\"background-color: rgba(109, 88, 166, 0.5);\">stat</span> <span title=\"0.311\" style=\"background-color: rgba(203, 204, 227, 0.5);\">xxunk</span></span>"
      ],
      "text/plain": [
       "<IPython.core.display.HTML object>"
      ]
     },
     "metadata": {},
     "output_type": "display_data"
    },
    {
     "name": "stdout",
     "output_type": "stream",
     "text": [
      "('xxunk I will do just about anything tO GO TO THE VEGAS SHOW PLEASE MAN', 'positive', 'neutral')\n"
     ]
    },
    {
     "data": {
      "text/html": [
       "<span style=\"font-family: monospace;\"><span title=\"0.173\" style=\"background-color: rgba(231, 229, 241, 0.5);\">xxbos</span> <span title=\"0.149\" style=\"background-color: rgba(234, 233, 243, 0.5);\">xxunk</span> <span title=\"0.120\" style=\"background-color: rgba(239, 237, 245, 0.5);\">i</span> <span title=\"0.447\" style=\"background-color: rgba(170, 168, 208, 0.5);\">will</span> <span title=\"0.452\" style=\"background-color: rgba(169, 167, 207, 0.5);\">do</span> <span title=\"0.593\" style=\"background-color: rgba(135, 132, 189, 0.5);\">just</span> <span title=\"0.439\" style=\"background-color: rgba(172, 171, 209, 0.5);\">about</span> <span title=\"0.587\" style=\"background-color: rgba(136, 133, 190, 0.5);\">anything</span> <span title=\"0.270\" style=\"background-color: rgba(213, 213, 232, 0.5);\">to</span> <span title=\"0.280\" style=\"background-color: rgba(211, 211, 231, 0.5);\">xxup</span> <span title=\"0.538\" style=\"background-color: rgba(149, 145, 195, 0.5);\">go</span> <span title=\"0.272\" style=\"background-color: rgba(213, 213, 232, 0.5);\">xxup</span> <span title=\"0.288\" style=\"background-color: rgba(209, 209, 230, 0.5);\">to</span> <span title=\"0.263\" style=\"background-color: rgba(214, 215, 233, 0.5);\">xxup</span> <span title=\"0.344\" style=\"background-color: rgba(196, 196, 224, 0.5);\">the</span> <span title=\"0.185\" style=\"background-color: rgba(229, 227, 240, 0.5);\">xxup</span> <span title=\"0.596\" style=\"background-color: rgba(134, 131, 189, 0.5);\">vegas</span> <span title=\"0.170\" style=\"background-color: rgba(231, 230, 241, 0.5);\">xxup</span> <span title=\"0.417\" style=\"background-color: rgba(178, 177, 213, 0.5);\">show</span> <span title=\"0.274\" style=\"background-color: rgba(212, 212, 232, 0.5);\">xxup</span> <span title=\"0.776\" style=\"background-color: rgba(101, 72, 158, 0.5);\">please</span> <span title=\"0.520\" style=\"background-color: rgba(152, 148, 197, 0.5);\">xxup</span> <span title=\"1.000\" style=\"background-color: rgba(63, 0, 125, 0.5);\">man</span></span>"
      ],
      "text/plain": [
       "<IPython.core.display.HTML object>"
      ]
     },
     "metadata": {},
     "output_type": "display_data"
    },
    {
     "name": "stdout",
     "output_type": "stream",
     "text": [
      "('xxunk rules.', 'positive', 'neutral')\n"
     ]
    },
    {
     "data": {
      "text/html": [
       "<span style=\"font-family: monospace;\"><span title=\"0.182\" style=\"background-color: rgba(229, 228, 240, 0.5);\">xxbos</span> <span title=\"0.349\" style=\"background-color: rgba(194, 195, 223, 0.5);\">xxunk</span> <span title=\"1.000\" style=\"background-color: rgba(63, 0, 125, 0.5);\">rules</span> <span title=\"0.170\" style=\"background-color: rgba(231, 230, 241, 0.5);\">.</span></span>"
      ],
      "text/plain": [
       "<IPython.core.display.HTML object>"
      ]
     },
     "metadata": {},
     "output_type": "display_data"
    }
   ],
   "source": [
    "# True sentiment positive, predicted sentiment neutral \n",
    "\n",
    "for i in df_res.loc[(df_res['airline_sentiment'] == 'positive') & (df_res['predicted_sentiment'] == 'neutral')].index[0:10]:\n",
    "    print((df_res['text'].loc[i], df_res['airline_sentiment'].loc[i], df_res['predicted_sentiment'].loc[i]))\n",
    "    text_interp_test.show_intrinsic_attention(df_res['text'].loc[i], cmap = mpl.cm.Purples)"
   ]
  },
  {
   "cell_type": "code",
   "execution_count": 34,
   "metadata": {},
   "outputs": [
    {
     "name": "stdout",
     "output_type": "stream",
     "text": [
      "(\"xxunk thanks Travis at PHL A East checkin for knowing baggage policies. Skis and boots count as 1. Teach your mgr who didn't know\", 'positive', 'negative')\n"
     ]
    },
    {
     "data": {
      "text/html": [
       "<span style=\"font-family: monospace;\"><span title=\"0.083\" style=\"background-color: rgba(243, 241, 247, 0.5);\">xxbos</span> <span title=\"0.082\" style=\"background-color: rgba(243, 242, 247, 0.5);\">xxunk</span> <span title=\"0.520\" style=\"background-color: rgba(152, 148, 197, 0.5);\">thanks</span> <span title=\"0.254\" style=\"background-color: rgba(217, 217, 234, 0.5);\">xxmaj</span> <span title=\"0.239\" style=\"background-color: rgba(219, 219, 235, 0.5);\">xxunk</span> <span title=\"0.066\" style=\"background-color: rgba(245, 243, 248, 0.5);\">at</span> <span title=\"0.188\" style=\"background-color: rgba(228, 227, 239, 0.5);\">xxup</span> <span title=\"0.302\" style=\"background-color: rgba(205, 205, 228, 0.5);\">phl</span> <span title=\"0.122\" style=\"background-color: rgba(239, 237, 245, 0.5);\">a</span> <span title=\"0.109\" style=\"background-color: rgba(240, 239, 246, 0.5);\">xxmaj</span> <span title=\"0.218\" style=\"background-color: rgba(223, 223, 237, 0.5);\">east</span> <span title=\"0.319\" style=\"background-color: rgba(201, 202, 226, 0.5);\">checkin</span> <span title=\"0.112\" style=\"background-color: rgba(240, 238, 245, 0.5);\">for</span> <span title=\"0.474\" style=\"background-color: rgba(164, 161, 204, 0.5);\">knowing</span> <span title=\"0.371\" style=\"background-color: rgba(189, 190, 220, 0.5);\">baggage</span> <span title=\"0.382\" style=\"background-color: rgba(186, 187, 219, 0.5);\">policies</span> <span title=\"0.057\" style=\"background-color: rgba(246, 244, 249, 0.5);\">.</span> <span title=\"0.148\" style=\"background-color: rgba(235, 233, 243, 0.5);\">xxmaj</span> <span title=\"1.000\" style=\"background-color: rgba(63, 0, 125, 0.5);\">skis</span> <span title=\"0.116\" style=\"background-color: rgba(240, 238, 245, 0.5);\">and</span> <span title=\"0.313\" style=\"background-color: rgba(202, 203, 227, 0.5);\">boots</span> <span title=\"0.474\" style=\"background-color: rgba(164, 161, 204, 0.5);\">count</span> <span title=\"0.070\" style=\"background-color: rgba(244, 243, 248, 0.5);\">as</span> <span title=\"0.101\" style=\"background-color: rgba(241, 240, 246, 0.5);\">1</span> <span title=\"0.070\" style=\"background-color: rgba(244, 243, 248, 0.5);\">.</span> <span title=\"0.071\" style=\"background-color: rgba(244, 243, 248, 0.5);\">xxmaj</span> <span title=\"0.552\" style=\"background-color: rgba(145, 141, 194, 0.5);\">teach</span> <span title=\"0.197\" style=\"background-color: rgba(227, 226, 239, 0.5);\">your</span> <span title=\"0.280\" style=\"background-color: rgba(211, 211, 231, 0.5);\">mgr</span> <span title=\"0.148\" style=\"background-color: rgba(235, 233, 243, 0.5);\">who</span> <span title=\"0.158\" style=\"background-color: rgba(233, 232, 242, 0.5);\">did</span> <span title=\"0.213\" style=\"background-color: rgba(224, 223, 238, 0.5);\">n&#x27;t</span> <span title=\"0.486\" style=\"background-color: rgba(161, 157, 202, 0.5);\">know</span></span>"
      ],
      "text/plain": [
       "<IPython.core.display.HTML object>"
      ]
     },
     "metadata": {},
     "output_type": "display_data"
    },
    {
     "name": "stdout",
     "output_type": "stream",
     "text": [
      "('xxunk this is why I fly xxunk ... Never have any issues', 'positive', 'negative')\n"
     ]
    },
    {
     "data": {
      "text/html": [
       "<span style=\"font-family: monospace;\"><span title=\"0.238\" style=\"background-color: rgba(220, 220, 236, 0.5);\">xxbos</span> <span title=\"0.199\" style=\"background-color: rgba(226, 225, 239, 0.5);\">xxunk</span> <span title=\"0.349\" style=\"background-color: rgba(194, 195, 223, 0.5);\">this</span> <span title=\"0.249\" style=\"background-color: rgba(218, 218, 235, 0.5);\">is</span> <span title=\"0.662\" style=\"background-color: rgba(121, 111, 179, 0.5);\">why</span> <span title=\"0.196\" style=\"background-color: rgba(227, 226, 239, 0.5);\">i</span> <span title=\"0.667\" style=\"background-color: rgba(120, 110, 178, 0.5);\">fly</span> <span title=\"0.278\" style=\"background-color: rgba(211, 211, 231, 0.5);\">xxunk</span> <span title=\"0.256\" style=\"background-color: rgba(216, 216, 234, 0.5);\">...</span> <span title=\"0.148\" style=\"background-color: rgba(235, 233, 243, 0.5);\">xxmaj</span> <span title=\"0.714\" style=\"background-color: rgba(112, 93, 169, 0.5);\">never</span> <span title=\"0.602\" style=\"background-color: rgba(133, 129, 188, 0.5);\">have</span> <span title=\"0.570\" style=\"background-color: rgba(141, 138, 192, 0.5);\">any</span> <span title=\"1.000\" style=\"background-color: rgba(63, 0, 125, 0.5);\">issues</span></span>"
      ],
      "text/plain": [
       "<IPython.core.display.HTML object>"
      ]
     },
     "metadata": {},
     "output_type": "display_data"
    },
    {
     "name": "stdout",
     "output_type": "stream",
     "text": [
      "('xxunk Leave BUR ten minutes Late Flight and arrive in SJC a minute before we were supposed to... Impressed! gettingbetter 👍', 'positive', 'negative')\n"
     ]
    },
    {
     "data": {
      "text/html": [
       "<span style=\"font-family: monospace;\"><span title=\"0.046\" style=\"background-color: rgba(247, 246, 250, 0.5);\">xxbos</span> <span title=\"0.025\" style=\"background-color: rgba(249, 248, 251, 0.5);\">xxunk</span> <span title=\"0.055\" style=\"background-color: rgba(246, 244, 249, 0.5);\">xxmaj</span> <span title=\"0.246\" style=\"background-color: rgba(219, 219, 235, 0.5);\">leave</span> <span title=\"0.031\" style=\"background-color: rgba(249, 247, 251, 0.5);\">xxup</span> <span title=\"0.047\" style=\"background-color: rgba(247, 245, 249, 0.5);\">xxunk</span> <span title=\"0.109\" style=\"background-color: rgba(240, 239, 246, 0.5);\">ten</span> <span title=\"0.100\" style=\"background-color: rgba(241, 240, 246, 0.5);\">minutes</span> <span title=\"0.073\" style=\"background-color: rgba(244, 243, 248, 0.5);\">xxmaj</span> <span title=\"0.137\" style=\"background-color: rgba(237, 235, 244, 0.5);\">late</span> <span title=\"0.037\" style=\"background-color: rgba(248, 247, 250, 0.5);\">xxmaj</span> <span title=\"0.059\" style=\"background-color: rgba(245, 244, 249, 0.5);\">flight</span> <span title=\"0.033\" style=\"background-color: rgba(248, 247, 250, 0.5);\">and</span> <span title=\"0.128\" style=\"background-color: rgba(238, 236, 244, 0.5);\">arrive</span> <span title=\"0.042\" style=\"background-color: rgba(247, 246, 250, 0.5);\">in</span> <span title=\"0.055\" style=\"background-color: rgba(246, 244, 249, 0.5);\">xxup</span> <span title=\"0.129\" style=\"background-color: rgba(238, 236, 244, 0.5);\">sjc</span> <span title=\"0.042\" style=\"background-color: rgba(247, 246, 250, 0.5);\">a</span> <span title=\"0.100\" style=\"background-color: rgba(241, 240, 246, 0.5);\">minute</span> <span title=\"0.046\" style=\"background-color: rgba(247, 246, 250, 0.5);\">before</span> <span title=\"0.037\" style=\"background-color: rgba(248, 247, 250, 0.5);\">we</span> <span title=\"0.018\" style=\"background-color: rgba(250, 249, 251, 0.5);\">were</span> <span title=\"0.055\" style=\"background-color: rgba(246, 244, 249, 0.5);\">supposed</span> <span title=\"0.022\" style=\"background-color: rgba(249, 248, 251, 0.5);\">to</span> <span title=\"0.063\" style=\"background-color: rgba(245, 243, 248, 0.5);\">...</span> <span title=\"0.052\" style=\"background-color: rgba(246, 245, 249, 0.5);\">xxmaj</span> <span title=\"0.213\" style=\"background-color: rgba(224, 223, 238, 0.5);\">impressed</span> <span title=\"0.095\" style=\"background-color: rgba(242, 240, 246, 0.5);\">!</span> <span title=\"0.133\" style=\"background-color: rgba(238, 236, 244, 0.5);\">xxunk</span> <span title=\"1.000\" style=\"background-color: rgba(63, 0, 125, 0.5);\">👍</span></span>"
      ],
      "text/plain": [
       "<IPython.core.display.HTML object>"
      ]
     },
     "metadata": {},
     "output_type": "display_data"
    },
    {
     "name": "stdout",
     "output_type": "stream",
     "text": [
      "('xxunk thanks for getting us to NYC -JFK really safely. :-) But srsly? How long does it take to get our checked bags? eternity 5amMisery', 'positive', 'negative')\n"
     ]
    },
    {
     "data": {
      "text/html": [
       "<span style=\"font-family: monospace;\"><span title=\"0.122\" style=\"background-color: rgba(239, 237, 245, 0.5);\">xxbos</span> <span title=\"0.107\" style=\"background-color: rgba(240, 239, 246, 0.5);\">xxunk</span> <span title=\"0.513\" style=\"background-color: rgba(154, 150, 198, 0.5);\">thanks</span> <span title=\"0.245\" style=\"background-color: rgba(219, 219, 235, 0.5);\">for</span> <span title=\"0.428\" style=\"background-color: rgba(175, 174, 211, 0.5);\">getting</span> <span title=\"0.316\" style=\"background-color: rgba(202, 203, 227, 0.5);\">us</span> <span title=\"0.097\" style=\"background-color: rgba(242, 240, 246, 0.5);\">to</span> <span title=\"0.127\" style=\"background-color: rgba(238, 236, 244, 0.5);\">xxup</span> <span title=\"0.237\" style=\"background-color: rgba(220, 220, 236, 0.5);\">nyc</span> <span title=\"0.108\" style=\"background-color: rgba(240, 239, 246, 0.5);\">xxup</span> <span title=\"0.147\" style=\"background-color: rgba(235, 233, 243, 0.5);\">xxunk</span> <span title=\"0.223\" style=\"background-color: rgba(223, 222, 237, 0.5);\">really</span> <span title=\"0.218\" style=\"background-color: rgba(223, 223, 237, 0.5);\">safely</span> <span title=\"0.130\" style=\"background-color: rgba(238, 236, 244, 0.5);\">.</span> <span title=\"0.560\" style=\"background-color: rgba(143, 139, 193, 0.5);\">:-)</span> <span title=\"0.153\" style=\"background-color: rgba(234, 232, 242, 0.5);\">xxmaj</span> <span title=\"0.216\" style=\"background-color: rgba(223, 223, 237, 0.5);\">but</span> <span title=\"1.000\" style=\"background-color: rgba(63, 0, 125, 0.5);\">srsly</span> <span title=\"0.172\" style=\"background-color: rgba(231, 230, 241, 0.5);\">?</span> <span title=\"0.215\" style=\"background-color: rgba(223, 223, 237, 0.5);\">xxmaj</span> <span title=\"0.438\" style=\"background-color: rgba(172, 171, 209, 0.5);\">how</span> <span title=\"0.516\" style=\"background-color: rgba(153, 149, 198, 0.5);\">long</span> <span title=\"0.242\" style=\"background-color: rgba(219, 219, 235, 0.5);\">does</span> <span title=\"0.218\" style=\"background-color: rgba(223, 223, 237, 0.5);\">it</span> <span title=\"0.167\" style=\"background-color: rgba(232, 230, 241, 0.5);\">take</span> <span title=\"0.120\" style=\"background-color: rgba(239, 237, 245, 0.5);\">to</span> <span title=\"0.214\" style=\"background-color: rgba(224, 223, 238, 0.5);\">get</span> <span title=\"0.325\" style=\"background-color: rgba(199, 200, 225, 0.5);\">our</span> <span title=\"0.769\" style=\"background-color: rgba(102, 74, 160, 0.5);\">checked</span> <span title=\"0.240\" style=\"background-color: rgba(219, 219, 235, 0.5);\">bags</span> <span title=\"0.200\" style=\"background-color: rgba(226, 225, 239, 0.5);\">?</span> <span title=\"0.283\" style=\"background-color: rgba(210, 210, 231, 0.5);\">xxunk</span> <span title=\"0.453\" style=\"background-color: rgba(168, 166, 207, 0.5);\">xxunk</span></span>"
      ],
      "text/plain": [
       "<IPython.core.display.HTML object>"
      ]
     },
     "metadata": {},
     "output_type": "display_data"
    },
    {
     "name": "stdout",
     "output_type": "stream",
     "text": [
      "(\"xxunk  glad to be home and that your great people got me home safely. Sad for others who didn't get back bc of scheduling problems.\", 'positive', 'negative')\n"
     ]
    },
    {
     "data": {
      "text/html": [
       "<span style=\"font-family: monospace;\"><span title=\"0.152\" style=\"background-color: rgba(234, 233, 243, 0.5);\">xxbos</span> <span title=\"0.206\" style=\"background-color: rgba(225, 225, 238, 0.5);\">xxunk</span> <span title=\"1.000\" style=\"background-color: rgba(63, 0, 125, 0.5);\">glad</span> <span title=\"0.232\" style=\"background-color: rgba(221, 220, 236, 0.5);\">to</span> <span title=\"0.145\" style=\"background-color: rgba(235, 233, 243, 0.5);\">be</span> <span title=\"0.525\" style=\"background-color: rgba(151, 148, 197, 0.5);\">home</span> <span title=\"0.161\" style=\"background-color: rgba(232, 231, 242, 0.5);\">and</span> <span title=\"0.210\" style=\"background-color: rgba(225, 224, 238, 0.5);\">that</span> <span title=\"0.332\" style=\"background-color: rgba(198, 199, 225, 0.5);\">your</span> <span title=\"0.725\" style=\"background-color: rgba(110, 89, 167, 0.5);\">great</span> <span title=\"0.228\" style=\"background-color: rgba(221, 221, 236, 0.5);\">people</span> <span title=\"0.264\" style=\"background-color: rgba(214, 215, 233, 0.5);\">got</span> <span title=\"0.223\" style=\"background-color: rgba(223, 222, 237, 0.5);\">me</span> <span title=\"0.195\" style=\"background-color: rgba(227, 226, 239, 0.5);\">home</span> <span title=\"0.147\" style=\"background-color: rgba(235, 233, 243, 0.5);\">safely</span> <span title=\"0.090\" style=\"background-color: rgba(242, 240, 247, 0.5);\">.</span> <span title=\"0.138\" style=\"background-color: rgba(236, 235, 244, 0.5);\">xxmaj</span> <span title=\"0.747\" style=\"background-color: rgba(106, 81, 163, 0.5);\">sad</span> <span title=\"0.198\" style=\"background-color: rgba(227, 226, 239, 0.5);\">for</span> <span title=\"0.309\" style=\"background-color: rgba(203, 204, 227, 0.5);\">others</span> <span title=\"0.115\" style=\"background-color: rgba(240, 238, 245, 0.5);\">who</span> <span title=\"0.109\" style=\"background-color: rgba(240, 239, 246, 0.5);\">did</span> <span title=\"0.112\" style=\"background-color: rgba(240, 238, 245, 0.5);\">n&#x27;t</span> <span title=\"0.122\" style=\"background-color: rgba(239, 237, 245, 0.5);\">get</span> <span title=\"0.133\" style=\"background-color: rgba(237, 235, 244, 0.5);\">back</span> <span title=\"0.333\" style=\"background-color: rgba(198, 198, 225, 0.5);\">bc</span> <span title=\"0.206\" style=\"background-color: rgba(225, 225, 238, 0.5);\">of</span> <span title=\"0.601\" style=\"background-color: rgba(134, 130, 188, 0.5);\">scheduling</span> <span title=\"0.266\" style=\"background-color: rgba(214, 214, 233, 0.5);\">problems</span> <span title=\"0.177\" style=\"background-color: rgba(230, 229, 240, 0.5);\">.</span></span>"
      ],
      "text/plain": [
       "<IPython.core.display.HTML object>"
      ]
     },
     "metadata": {},
     "output_type": "display_data"
    },
    {
     "name": "stdout",
     "output_type": "stream",
     "text": [
      "(\"xxunk Well plane arrived pretty much on time and it's 68 degrees on the ground in Texas. Not much to complain about.\", 'positive', 'negative')\n"
     ]
    },
    {
     "data": {
      "text/html": [
       "<span style=\"font-family: monospace;\"><span title=\"0.168\" style=\"background-color: rgba(231, 230, 241, 0.5);\">xxbos</span> <span title=\"0.163\" style=\"background-color: rgba(232, 231, 242, 0.5);\">xxunk</span> <span title=\"0.257\" style=\"background-color: rgba(216, 216, 234, 0.5);\">xxmaj</span> <span title=\"0.870\" style=\"background-color: rgba(84, 40, 143, 0.5);\">well</span> <span title=\"1.000\" style=\"background-color: rgba(63, 0, 125, 0.5);\">plane</span> <span title=\"0.564\" style=\"background-color: rgba(142, 138, 192, 0.5);\">arrived</span> <span title=\"0.872\" style=\"background-color: rgba(84, 39, 143, 0.5);\">pretty</span> <span title=\"0.441\" style=\"background-color: rgba(172, 171, 209, 0.5);\">much</span> <span title=\"0.228\" style=\"background-color: rgba(221, 221, 236, 0.5);\">on</span> <span title=\"0.233\" style=\"background-color: rgba(221, 220, 236, 0.5);\">time</span> <span title=\"0.168\" style=\"background-color: rgba(231, 230, 241, 0.5);\">and</span> <span title=\"0.183\" style=\"background-color: rgba(229, 228, 240, 0.5);\">it</span> <span title=\"0.265\" style=\"background-color: rgba(214, 215, 233, 0.5);\">&#x27;s</span> <span title=\"0.695\" style=\"background-color: rgba(115, 100, 173, 0.5);\">68</span> <span title=\"0.693\" style=\"background-color: rgba(115, 100, 173, 0.5);\">degrees</span> <span title=\"0.249\" style=\"background-color: rgba(218, 218, 235, 0.5);\">on</span> <span title=\"0.102\" style=\"background-color: rgba(241, 239, 246, 0.5);\">the</span> <span title=\"0.412\" style=\"background-color: rgba(179, 178, 214, 0.5);\">ground</span> <span title=\"0.161\" style=\"background-color: rgba(232, 231, 242, 0.5);\">in</span> <span title=\"0.078\" style=\"background-color: rgba(244, 242, 248, 0.5);\">xxmaj</span> <span title=\"0.292\" style=\"background-color: rgba(208, 208, 230, 0.5);\">texas</span> <span title=\"0.120\" style=\"background-color: rgba(239, 237, 245, 0.5);\">.</span> <span title=\"0.201\" style=\"background-color: rgba(226, 225, 239, 0.5);\">xxmaj</span> <span title=\"0.989\" style=\"background-color: rgba(64, 2, 126, 0.5);\">not</span> <span title=\"0.649\" style=\"background-color: rgba(123, 115, 181, 0.5);\">much</span> <span title=\"0.386\" style=\"background-color: rgba(185, 186, 218, 0.5);\">to</span> <span title=\"0.954\" style=\"background-color: rgba(70, 13, 131, 0.5);\">complain</span> <span title=\"0.178\" style=\"background-color: rgba(230, 229, 240, 0.5);\">about</span> <span title=\"0.233\" style=\"background-color: rgba(221, 220, 236, 0.5);\">.</span></span>"
      ],
      "text/plain": [
       "<IPython.core.display.HTML object>"
      ]
     },
     "metadata": {},
     "output_type": "display_data"
    },
    {
     "name": "stdout",
     "output_type": "stream",
     "text": [
      "('xxunk xxunk : outsource it all United Airlines...your customers  are just loving you for it. Outsource. Outsource. Outsource.', 'positive', 'negative')\n"
     ]
    },
    {
     "data": {
      "text/html": [
       "<span style=\"font-family: monospace;\"><span title=\"0.063\" style=\"background-color: rgba(245, 243, 248, 0.5);\">xxbos</span> <span title=\"0.057\" style=\"background-color: rgba(246, 244, 249, 0.5);\">xxunk</span> <span title=\"0.080\" style=\"background-color: rgba(243, 242, 247, 0.5);\">xxunk</span> <span title=\"0.137\" style=\"background-color: rgba(236, 235, 244, 0.5);\">:</span> <span title=\"1.000\" style=\"background-color: rgba(63, 0, 125, 0.5);\">outsource</span> <span title=\"0.065\" style=\"background-color: rgba(245, 243, 248, 0.5);\">it</span> <span title=\"0.088\" style=\"background-color: rgba(243, 241, 247, 0.5);\">all</span> <span title=\"0.087\" style=\"background-color: rgba(243, 241, 247, 0.5);\">xxmaj</span> <span title=\"0.210\" style=\"background-color: rgba(225, 224, 238, 0.5);\">united</span> <span title=\"0.059\" style=\"background-color: rgba(245, 244, 249, 0.5);\">xxmaj</span> <span title=\"0.100\" style=\"background-color: rgba(241, 240, 246, 0.5);\">airlines</span> <span title=\"0.075\" style=\"background-color: rgba(244, 242, 248, 0.5);\">...</span> <span title=\"0.115\" style=\"background-color: rgba(240, 238, 245, 0.5);\">your</span> <span title=\"0.131\" style=\"background-color: rgba(238, 236, 244, 0.5);\">customers</span> <span title=\"0.040\" style=\"background-color: rgba(247, 246, 250, 0.5);\">are</span> <span title=\"0.097\" style=\"background-color: rgba(242, 240, 246, 0.5);\">just</span> <span title=\"0.328\" style=\"background-color: rgba(198, 199, 225, 0.5);\">loving</span> <span title=\"0.082\" style=\"background-color: rgba(243, 241, 247, 0.5);\">you</span> <span title=\"0.064\" style=\"background-color: rgba(245, 243, 248, 0.5);\">for</span> <span title=\"0.027\" style=\"background-color: rgba(249, 247, 251, 0.5);\">it</span> <span title=\"0.014\" style=\"background-color: rgba(250, 249, 252, 0.5);\">.</span> <span title=\"0.046\" style=\"background-color: rgba(247, 246, 250, 0.5);\">xxmaj</span> <span title=\"0.297\" style=\"background-color: rgba(207, 207, 229, 0.5);\">outsource</span> <span title=\"0.045\" style=\"background-color: rgba(247, 246, 250, 0.5);\">.</span> <span title=\"0.042\" style=\"background-color: rgba(247, 246, 250, 0.5);\">xxmaj</span> <span title=\"0.355\" style=\"background-color: rgba(193, 194, 222, 0.5);\">outsource</span> <span title=\"0.062\" style=\"background-color: rgba(245, 244, 249, 0.5);\">.</span> <span title=\"0.077\" style=\"background-color: rgba(244, 242, 248, 0.5);\">xxmaj</span> <span title=\"0.802\" style=\"background-color: rgba(96, 62, 154, 0.5);\">outsource</span> <span title=\"0.181\" style=\"background-color: rgba(229, 228, 240, 0.5);\">.</span></span>"
      ],
      "text/plain": [
       "<IPython.core.display.HTML object>"
      ]
     },
     "metadata": {},
     "output_type": "display_data"
    },
    {
     "name": "stdout",
     "output_type": "stream",
     "text": [
      "(\"xxunk xxunk xxunk You take to me places xxunk simply can't...like non-stop to St. Lucia.\", 'positive', 'negative')\n"
     ]
    },
    {
     "data": {
      "text/html": [
       "<span style=\"font-family: monospace;\"><span title=\"0.196\" style=\"background-color: rgba(227, 226, 239, 0.5);\">xxbos</span> <span title=\"0.237\" style=\"background-color: rgba(220, 220, 236, 0.5);\">xxunk</span> <span title=\"0.277\" style=\"background-color: rgba(211, 211, 231, 0.5);\">xxunk</span> <span title=\"0.288\" style=\"background-color: rgba(209, 209, 230, 0.5);\">xxunk</span> <span title=\"0.188\" style=\"background-color: rgba(228, 227, 239, 0.5);\">xxmaj</span> <span title=\"0.406\" style=\"background-color: rgba(181, 180, 215, 0.5);\">you</span> <span title=\"0.375\" style=\"background-color: rgba(187, 188, 219, 0.5);\">take</span> <span title=\"0.200\" style=\"background-color: rgba(226, 225, 239, 0.5);\">to</span> <span title=\"0.279\" style=\"background-color: rgba(211, 211, 231, 0.5);\">me</span> <span title=\"0.716\" style=\"background-color: rgba(111, 92, 168, 0.5);\">places</span> <span title=\"0.233\" style=\"background-color: rgba(221, 220, 236, 0.5);\">xxunk</span> <span title=\"0.522\" style=\"background-color: rgba(152, 148, 197, 0.5);\">simply</span> <span title=\"0.859\" style=\"background-color: rgba(86, 44, 145, 0.5);\">can&#x27;t</span> <span title=\"0.262\" style=\"background-color: rgba(215, 215, 233, 0.5);\">...</span> <span title=\"0.533\" style=\"background-color: rgba(150, 146, 196, 0.5);\">like</span> <span title=\"1.000\" style=\"background-color: rgba(63, 0, 125, 0.5);\">non</span> <span title=\"0.386\" style=\"background-color: rgba(185, 186, 218, 0.5);\">-</span> <span title=\"0.610\" style=\"background-color: rgba(131, 128, 187, 0.5);\">stop</span> <span title=\"0.158\" style=\"background-color: rgba(233, 232, 242, 0.5);\">to</span> <span title=\"0.169\" style=\"background-color: rgba(231, 230, 241, 0.5);\">xxmaj</span> <span title=\"0.836\" style=\"background-color: rgba(90, 51, 148, 0.5);\">st.</span> <span title=\"0.233\" style=\"background-color: rgba(221, 220, 236, 0.5);\">xxmaj</span> <span title=\"0.335\" style=\"background-color: rgba(198, 198, 225, 0.5);\">lucia</span> <span title=\"0.116\" style=\"background-color: rgba(240, 238, 245, 0.5);\">.</span></span>"
      ],
      "text/plain": [
       "<IPython.core.display.HTML object>"
      ]
     },
     "metadata": {},
     "output_type": "display_data"
    },
    {
     "name": "stdout",
     "output_type": "stream",
     "text": [
      "('xxunk one lady helping the 12 of us with luggage', 'positive', 'negative')\n"
     ]
    },
    {
     "data": {
      "text/html": [
       "<span style=\"font-family: monospace;\"><span title=\"0.262\" style=\"background-color: rgba(214, 215, 233, 0.5);\">xxbos</span> <span title=\"0.470\" style=\"background-color: rgba(165, 162, 204, 0.5);\">xxunk</span> <span title=\"0.567\" style=\"background-color: rgba(141, 138, 192, 0.5);\">one</span> <span title=\"0.939\" style=\"background-color: rgba(72, 18, 133, 0.5);\">lady</span> <span title=\"1.000\" style=\"background-color: rgba(63, 0, 125, 0.5);\">helping</span> <span title=\"0.290\" style=\"background-color: rgba(208, 208, 230, 0.5);\">the</span> <span title=\"0.627\" style=\"background-color: rgba(127, 124, 185, 0.5);\">12</span> <span title=\"0.497\" style=\"background-color: rgba(158, 154, 200, 0.5);\">of</span> <span title=\"0.357\" style=\"background-color: rgba(192, 193, 222, 0.5);\">us</span> <span title=\"0.427\" style=\"background-color: rgba(175, 174, 211, 0.5);\">with</span> <span title=\"0.750\" style=\"background-color: rgba(106, 81, 163, 0.5);\">luggage</span></span>"
      ],
      "text/plain": [
       "<IPython.core.display.HTML object>"
      ]
     },
     "metadata": {},
     "output_type": "display_data"
    },
    {
     "name": "stdout",
     "output_type": "stream",
     "text": [
      "('xxunk provide a voucher for one of my customers and I will tweet about you all day long earnedmybusiness', 'positive', 'negative')\n"
     ]
    },
    {
     "data": {
      "text/html": [
       "<span style=\"font-family: monospace;\"><span title=\"0.160\" style=\"background-color: rgba(233, 232, 242, 0.5);\">xxbos</span> <span title=\"0.162\" style=\"background-color: rgba(232, 231, 242, 0.5);\">xxunk</span> <span title=\"0.935\" style=\"background-color: rgba(73, 19, 134, 0.5);\">provide</span> <span title=\"0.183\" style=\"background-color: rgba(229, 228, 240, 0.5);\">a</span> <span title=\"1.000\" style=\"background-color: rgba(63, 0, 125, 0.5);\">voucher</span> <span title=\"0.230\" style=\"background-color: rgba(221, 221, 236, 0.5);\">for</span> <span title=\"0.332\" style=\"background-color: rgba(198, 199, 225, 0.5);\">one</span> <span title=\"0.206\" style=\"background-color: rgba(225, 225, 238, 0.5);\">of</span> <span title=\"0.176\" style=\"background-color: rgba(230, 229, 240, 0.5);\">my</span> <span title=\"0.500\" style=\"background-color: rgba(157, 153, 199, 0.5);\">customers</span> <span title=\"0.077\" style=\"background-color: rgba(244, 242, 248, 0.5);\">and</span> <span title=\"0.141\" style=\"background-color: rgba(236, 235, 244, 0.5);\">i</span> <span title=\"0.273\" style=\"background-color: rgba(213, 213, 232, 0.5);\">will</span> <span title=\"0.787\" style=\"background-color: rgba(99, 68, 156, 0.5);\">tweet</span> <span title=\"0.168\" style=\"background-color: rgba(232, 230, 241, 0.5);\">about</span> <span title=\"0.265\" style=\"background-color: rgba(214, 215, 233, 0.5);\">you</span> <span title=\"0.332\" style=\"background-color: rgba(198, 199, 225, 0.5);\">all</span> <span title=\"0.403\" style=\"background-color: rgba(181, 180, 215, 0.5);\">day</span> <span title=\"0.570\" style=\"background-color: rgba(141, 138, 192, 0.5);\">long</span> <span title=\"0.312\" style=\"background-color: rgba(203, 204, 227, 0.5);\">xxunk</span></span>"
      ],
      "text/plain": [
       "<IPython.core.display.HTML object>"
      ]
     },
     "metadata": {},
     "output_type": "display_data"
    }
   ],
   "source": [
    "# True sentiment positive, predicted sentiment negative \n",
    "\n",
    "for i in df_res.loc[(df_res['airline_sentiment'] == 'positive') & (df_res['predicted_sentiment'] == 'negative')].index[0:10]:\n",
    "    print((df_res['text'].loc[i], df_res['airline_sentiment'].loc[i], df_res['predicted_sentiment'].loc[i]))\n",
    "    text_interp_test.show_intrinsic_attention(df_res['text'].loc[i], cmap = mpl.cm.Purples)"
   ]
  },
  {
   "cell_type": "code",
   "execution_count": 35,
   "metadata": {},
   "outputs": [
    {
     "name": "stdout",
     "output_type": "stream",
     "text": [
      "(\"xxunk but in the meantime I'll be sleeping on a park bench on dadeland st.  Thanks guys!\", 'negative', 'positive')\n"
     ]
    },
    {
     "data": {
      "text/html": [
       "<span style=\"font-family: monospace;\"><span title=\"0.127\" style=\"background-color: rgba(238, 236, 244, 0.5);\">xxbos</span> <span title=\"0.089\" style=\"background-color: rgba(243, 241, 247, 0.5);\">xxunk</span> <span title=\"0.202\" style=\"background-color: rgba(226, 225, 239, 0.5);\">but</span> <span title=\"0.108\" style=\"background-color: rgba(240, 239, 246, 0.5);\">in</span> <span title=\"0.131\" style=\"background-color: rgba(238, 236, 244, 0.5);\">the</span> <span title=\"0.518\" style=\"background-color: rgba(153, 149, 198, 0.5);\">meantime</span> <span title=\"0.108\" style=\"background-color: rgba(240, 239, 246, 0.5);\">i</span> <span title=\"0.366\" style=\"background-color: rgba(190, 191, 221, 0.5);\">&#x27;ll</span> <span title=\"0.155\" style=\"background-color: rgba(234, 232, 242, 0.5);\">be</span> <span title=\"1.000\" style=\"background-color: rgba(63, 0, 125, 0.5);\">sleeping</span> <span title=\"0.103\" style=\"background-color: rgba(241, 239, 246, 0.5);\">on</span> <span title=\"0.102\" style=\"background-color: rgba(241, 239, 246, 0.5);\">a</span> <span title=\"0.305\" style=\"background-color: rgba(205, 205, 228, 0.5);\">park</span> <span title=\"0.147\" style=\"background-color: rgba(235, 233, 243, 0.5);\">bench</span> <span title=\"0.053\" style=\"background-color: rgba(246, 245, 249, 0.5);\">on</span> <span title=\"0.054\" style=\"background-color: rgba(246, 245, 249, 0.5);\">xxunk</span> <span title=\"0.093\" style=\"background-color: rgba(242, 240, 247, 0.5);\">st</span> <span title=\"0.051\" style=\"background-color: rgba(246, 245, 249, 0.5);\">.</span> <span title=\"0.081\" style=\"background-color: rgba(243, 242, 247, 0.5);\">xxmaj</span> <span title=\"0.421\" style=\"background-color: rgba(177, 176, 212, 0.5);\">thanks</span> <span title=\"0.349\" style=\"background-color: rgba(194, 195, 223, 0.5);\">guys</span> <span title=\"0.274\" style=\"background-color: rgba(212, 212, 232, 0.5);\">!</span></span>"
      ],
      "text/plain": [
       "<IPython.core.display.HTML object>"
      ]
     },
     "metadata": {},
     "output_type": "display_data"
    },
    {
     "name": "stdout",
     "output_type": "stream",
     "text": [
      "(\"xxunk that's quite an impressive list of fees!\", 'negative', 'positive')\n"
     ]
    },
    {
     "data": {
      "text/html": [
       "<span style=\"font-family: monospace;\"><span title=\"0.090\" style=\"background-color: rgba(242, 240, 247, 0.5);\">xxbos</span> <span title=\"0.085\" style=\"background-color: rgba(243, 241, 247, 0.5);\">xxunk</span> <span title=\"0.205\" style=\"background-color: rgba(225, 225, 238, 0.5);\">that</span> <span title=\"0.223\" style=\"background-color: rgba(222, 222, 237, 0.5);\">&#x27;s</span> <span title=\"0.551\" style=\"background-color: rgba(145, 141, 194, 0.5);\">quite</span> <span title=\"0.237\" style=\"background-color: rgba(220, 220, 236, 0.5);\">an</span> <span title=\"1.000\" style=\"background-color: rgba(63, 0, 125, 0.5);\">impressive</span> <span title=\"0.439\" style=\"background-color: rgba(172, 171, 209, 0.5);\">list</span> <span title=\"0.224\" style=\"background-color: rgba(222, 222, 237, 0.5);\">of</span> <span title=\"0.475\" style=\"background-color: rgba(164, 161, 204, 0.5);\">fees</span> <span title=\"0.245\" style=\"background-color: rgba(219, 219, 235, 0.5);\">!</span></span>"
      ],
      "text/plain": [
       "<IPython.core.display.HTML object>"
      ]
     },
     "metadata": {},
     "output_type": "display_data"
    },
    {
     "name": "stdout",
     "output_type": "stream",
     "text": [
      "('xxunk because of you, I am doing the one thing I tried to avoid. Thank you for sending me to baggage claim.', 'negative', 'positive')\n"
     ]
    },
    {
     "data": {
      "text/html": [
       "<span style=\"font-family: monospace;\"><span title=\"0.132\" style=\"background-color: rgba(238, 236, 244, 0.5);\">xxbos</span> <span title=\"0.146\" style=\"background-color: rgba(235, 233, 243, 0.5);\">xxunk</span> <span title=\"0.756\" style=\"background-color: rgba(104, 78, 161, 0.5);\">because</span> <span title=\"0.142\" style=\"background-color: rgba(236, 234, 243, 0.5);\">of</span> <span title=\"0.175\" style=\"background-color: rgba(231, 229, 241, 0.5);\">you</span> <span title=\"0.081\" style=\"background-color: rgba(243, 242, 247, 0.5);\">,</span> <span title=\"0.090\" style=\"background-color: rgba(242, 240, 247, 0.5);\">i</span> <span title=\"0.242\" style=\"background-color: rgba(219, 219, 235, 0.5);\">am</span> <span title=\"0.422\" style=\"background-color: rgba(176, 175, 212, 0.5);\">doing</span> <span title=\"0.165\" style=\"background-color: rgba(232, 230, 241, 0.5);\">the</span> <span title=\"0.318\" style=\"background-color: rgba(201, 202, 226, 0.5);\">one</span> <span title=\"0.368\" style=\"background-color: rgba(189, 190, 220, 0.5);\">thing</span> <span title=\"0.106\" style=\"background-color: rgba(240, 239, 246, 0.5);\">i</span> <span title=\"0.423\" style=\"background-color: rgba(176, 175, 212, 0.5);\">tried</span> <span title=\"0.091\" style=\"background-color: rgba(242, 240, 247, 0.5);\">to</span> <span title=\"0.306\" style=\"background-color: rgba(204, 205, 228, 0.5);\">avoid</span> <span title=\"0.081\" style=\"background-color: rgba(243, 242, 247, 0.5);\">.</span> <span title=\"0.097\" style=\"background-color: rgba(242, 240, 246, 0.5);\">xxmaj</span> <span title=\"0.709\" style=\"background-color: rgba(113, 95, 170, 0.5);\">thank</span> <span title=\"0.163\" style=\"background-color: rgba(232, 231, 242, 0.5);\">you</span> <span title=\"0.160\" style=\"background-color: rgba(233, 232, 242, 0.5);\">for</span> <span title=\"0.784\" style=\"background-color: rgba(99, 69, 157, 0.5);\">sending</span> <span title=\"0.252\" style=\"background-color: rgba(217, 217, 234, 0.5);\">me</span> <span title=\"0.167\" style=\"background-color: rgba(232, 230, 241, 0.5);\">to</span> <span title=\"1.000\" style=\"background-color: rgba(63, 0, 125, 0.5);\">baggage</span> <span title=\"0.451\" style=\"background-color: rgba(169, 167, 207, 0.5);\">claim</span> <span title=\"0.199\" style=\"background-color: rgba(226, 225, 239, 0.5);\">.</span></span>"
      ],
      "text/plain": [
       "<IPython.core.display.HTML object>"
      ]
     },
     "metadata": {},
     "output_type": "display_data"
    },
    {
     "name": "stdout",
     "output_type": "stream",
     "text": [
      "('xxunk we are waiting flight 919 !\\nWe are at JFK for about 24h !! New York 919 viracopos American Airlines ', 'negative', 'positive')\n"
     ]
    },
    {
     "data": {
      "text/html": [
       "<span style=\"font-family: monospace;\"><span title=\"0.119\" style=\"background-color: rgba(239, 237, 245, 0.5);\">xxbos</span> <span title=\"0.077\" style=\"background-color: rgba(244, 242, 248, 0.5);\">xxunk</span> <span title=\"0.122\" style=\"background-color: rgba(239, 237, 245, 0.5);\">we</span> <span title=\"0.092\" style=\"background-color: rgba(242, 240, 247, 0.5);\">are</span> <span title=\"0.484\" style=\"background-color: rgba(162, 158, 202, 0.5);\">waiting</span> <span title=\"0.191\" style=\"background-color: rgba(228, 227, 239, 0.5);\">flight</span> <span title=\"0.436\" style=\"background-color: rgba(173, 172, 210, 0.5);\">919</span> <span title=\"0.188\" style=\"background-color: rgba(228, 227, 239, 0.5);\">!</span> <span title=\"0.160\" style=\"background-color: rgba(233, 232, 242, 0.5);\">xxmaj</span> <span title=\"0.107\" style=\"background-color: rgba(240, 239, 246, 0.5);\">we</span> <span title=\"0.268\" style=\"background-color: rgba(214, 214, 233, 0.5);\">are</span> <span title=\"0.143\" style=\"background-color: rgba(236, 234, 243, 0.5);\">at</span> <span title=\"0.192\" style=\"background-color: rgba(227, 226, 239, 0.5);\">xxup</span> <span title=\"0.203\" style=\"background-color: rgba(226, 225, 239, 0.5);\">jfk</span> <span title=\"0.302\" style=\"background-color: rgba(205, 205, 228, 0.5);\">for</span> <span title=\"0.169\" style=\"background-color: rgba(231, 230, 241, 0.5);\">about</span> <span title=\"0.262\" style=\"background-color: rgba(214, 215, 233, 0.5);\">24h</span> <span title=\"0.463\" style=\"background-color: rgba(166, 164, 205, 0.5);\">!</span> <span title=\"0.392\" style=\"background-color: rgba(183, 184, 217, 0.5);\">!</span> <span title=\"0.405\" style=\"background-color: rgba(181, 180, 215, 0.5);\">xxmaj</span> <span title=\"0.264\" style=\"background-color: rgba(214, 215, 233, 0.5);\">new</span> <span title=\"0.553\" style=\"background-color: rgba(145, 141, 194, 0.5);\">xxmaj</span> <span title=\"0.165\" style=\"background-color: rgba(232, 230, 241, 0.5);\">york</span> <span title=\"0.367\" style=\"background-color: rgba(190, 191, 221, 0.5);\">919</span> <span title=\"1.000\" style=\"background-color: rgba(63, 0, 125, 0.5);\">xxunk</span> <span title=\"0.549\" style=\"background-color: rgba(146, 142, 194, 0.5);\">xxmaj</span> <span title=\"0.279\" style=\"background-color: rgba(211, 211, 231, 0.5);\">american</span> <span title=\"0.973\" style=\"background-color: rgba(66, 7, 128, 0.5);\">xxmaj</span> <span title=\"0.207\" style=\"background-color: rgba(225, 224, 238, 0.5);\">airlines</span></span>"
      ],
      "text/plain": [
       "<IPython.core.display.HTML object>"
      ]
     },
     "metadata": {},
     "output_type": "display_data"
    },
    {
     "name": "stdout",
     "output_type": "stream",
     "text": [
      "('xxunk: I feel very well informed. yes, the flight is indeed delayed. Thank you. ', 'negative', 'positive')\n"
     ]
    },
    {
     "data": {
      "text/html": [
       "<span style=\"font-family: monospace;\"><span title=\"0.289\" style=\"background-color: rgba(209, 209, 230, 0.5);\">xxbos</span> <span title=\"0.174\" style=\"background-color: rgba(231, 229, 241, 0.5);\">xxunk</span> <span title=\"0.209\" style=\"background-color: rgba(225, 224, 238, 0.5);\">:</span> <span title=\"0.190\" style=\"background-color: rgba(228, 227, 239, 0.5);\">i</span> <span title=\"0.839\" style=\"background-color: rgba(90, 51, 148, 0.5);\">feel</span> <span title=\"0.656\" style=\"background-color: rgba(122, 113, 179, 0.5);\">very</span> <span title=\"0.724\" style=\"background-color: rgba(110, 89, 167, 0.5);\">well</span> <span title=\"1.000\" style=\"background-color: rgba(63, 0, 125, 0.5);\">informed</span> <span title=\"0.260\" style=\"background-color: rgba(215, 215, 233, 0.5);\">.</span> <span title=\"0.721\" style=\"background-color: rgba(111, 91, 168, 0.5);\">yes</span> <span title=\"0.103\" style=\"background-color: rgba(241, 239, 246, 0.5);\">,</span> <span title=\"0.177\" style=\"background-color: rgba(230, 229, 240, 0.5);\">the</span> <span title=\"0.412\" style=\"background-color: rgba(179, 178, 214, 0.5);\">flight</span> <span title=\"0.132\" style=\"background-color: rgba(238, 236, 244, 0.5);\">is</span> <span title=\"0.331\" style=\"background-color: rgba(198, 199, 225, 0.5);\">indeed</span> <span title=\"0.391\" style=\"background-color: rgba(183, 184, 217, 0.5);\">delayed</span> <span title=\"0.094\" style=\"background-color: rgba(242, 240, 246, 0.5);\">.</span> <span title=\"0.192\" style=\"background-color: rgba(227, 226, 239, 0.5);\">xxmaj</span> <span title=\"0.978\" style=\"background-color: rgba(66, 6, 127, 0.5);\">thank</span> <span title=\"0.330\" style=\"background-color: rgba(198, 199, 225, 0.5);\">you</span> <span title=\"0.365\" style=\"background-color: rgba(190, 191, 221, 0.5);\">.</span></span>"
      ],
      "text/plain": [
       "<IPython.core.display.HTML object>"
      ]
     },
     "metadata": {},
     "output_type": "display_data"
    },
    {
     "name": "stdout",
     "output_type": "stream",
     "text": [
      "('xxunk thanks! I expected a wait... Just not that long. :)', 'negative', 'positive')\n"
     ]
    },
    {
     "data": {
      "text/html": [
       "<span style=\"font-family: monospace;\"><span title=\"0.107\" style=\"background-color: rgba(240, 239, 246, 0.5);\">xxbos</span> <span title=\"0.071\" style=\"background-color: rgba(244, 243, 248, 0.5);\">xxunk</span> <span title=\"0.379\" style=\"background-color: rgba(186, 187, 219, 0.5);\">thanks</span> <span title=\"0.177\" style=\"background-color: rgba(230, 229, 240, 0.5);\">!</span> <span title=\"0.068\" style=\"background-color: rgba(245, 243, 248, 0.5);\">i</span> <span title=\"0.523\" style=\"background-color: rgba(151, 148, 197, 0.5);\">expected</span> <span title=\"0.115\" style=\"background-color: rgba(240, 238, 245, 0.5);\">a</span> <span title=\"0.410\" style=\"background-color: rgba(180, 179, 214, 0.5);\">wait</span> <span title=\"0.148\" style=\"background-color: rgba(235, 233, 243, 0.5);\">...</span> <span title=\"0.085\" style=\"background-color: rgba(243, 241, 247, 0.5);\">xxmaj</span> <span title=\"0.200\" style=\"background-color: rgba(226, 225, 239, 0.5);\">just</span> <span title=\"0.275\" style=\"background-color: rgba(212, 212, 232, 0.5);\">not</span> <span title=\"0.141\" style=\"background-color: rgba(236, 234, 243, 0.5);\">that</span> <span title=\"0.170\" style=\"background-color: rgba(231, 230, 241, 0.5);\">long</span> <span title=\"0.113\" style=\"background-color: rgba(240, 238, 245, 0.5);\">.</span> <span title=\"1.000\" style=\"background-color: rgba(63, 0, 125, 0.5);\">:)</span></span>"
      ],
      "text/plain": [
       "<IPython.core.display.HTML object>"
      ]
     },
     "metadata": {},
     "output_type": "display_data"
    },
    {
     "name": "stdout",
     "output_type": "stream",
     "text": [
      "('xxunk the wifi in the ewr lounge reminds me of the old days of dial up', 'negative', 'positive')\n"
     ]
    },
    {
     "data": {
      "text/html": [
       "<span style=\"font-family: monospace;\"><span title=\"0.077\" style=\"background-color: rgba(244, 242, 248, 0.5);\">xxbos</span> <span title=\"0.080\" style=\"background-color: rgba(243, 242, 247, 0.5);\">xxunk</span> <span title=\"0.093\" style=\"background-color: rgba(242, 240, 247, 0.5);\">the</span> <span title=\"0.851\" style=\"background-color: rgba(88, 47, 146, 0.5);\">wifi</span> <span title=\"0.096\" style=\"background-color: rgba(242, 240, 246, 0.5);\">in</span> <span title=\"0.060\" style=\"background-color: rgba(245, 244, 249, 0.5);\">the</span> <span title=\"0.389\" style=\"background-color: rgba(184, 185, 217, 0.5);\">ewr</span> <span title=\"0.350\" style=\"background-color: rgba(194, 195, 223, 0.5);\">lounge</span> <span title=\"1.000\" style=\"background-color: rgba(63, 0, 125, 0.5);\">reminds</span> <span title=\"0.199\" style=\"background-color: rgba(227, 226, 239, 0.5);\">me</span> <span title=\"0.210\" style=\"background-color: rgba(225, 224, 238, 0.5);\">of</span> <span title=\"0.142\" style=\"background-color: rgba(236, 234, 243, 0.5);\">the</span> <span title=\"0.426\" style=\"background-color: rgba(175, 174, 211, 0.5);\">old</span> <span title=\"0.313\" style=\"background-color: rgba(202, 203, 227, 0.5);\">days</span> <span title=\"0.216\" style=\"background-color: rgba(223, 223, 237, 0.5);\">of</span> <span title=\"0.664\" style=\"background-color: rgba(120, 110, 178, 0.5);\">dial</span> <span title=\"0.250\" style=\"background-color: rgba(217, 217, 234, 0.5);\">up</span></span>"
      ],
      "text/plain": [
       "<IPython.core.display.HTML object>"
      ]
     },
     "metadata": {},
     "output_type": "display_data"
    },
    {
     "name": "stdout",
     "output_type": "stream",
     "text": [
      "('xxunk i think he actually did not like your screen  xxunk 😃😃😃', 'negative', 'positive')\n"
     ]
    },
    {
     "data": {
      "text/html": [
       "<span style=\"font-family: monospace;\"><span title=\"0.051\" style=\"background-color: rgba(246, 245, 249, 0.5);\">xxbos</span> <span title=\"0.044\" style=\"background-color: rgba(247, 246, 250, 0.5);\">xxunk</span> <span title=\"0.048\" style=\"background-color: rgba(247, 245, 249, 0.5);\">i</span> <span title=\"0.228\" style=\"background-color: rgba(221, 221, 236, 0.5);\">think</span> <span title=\"0.107\" style=\"background-color: rgba(240, 239, 246, 0.5);\">he</span> <span title=\"0.107\" style=\"background-color: rgba(240, 239, 246, 0.5);\">actually</span> <span title=\"0.080\" style=\"background-color: rgba(243, 242, 247, 0.5);\">did</span> <span title=\"0.111\" style=\"background-color: rgba(240, 238, 245, 0.5);\">not</span> <span title=\"0.232\" style=\"background-color: rgba(221, 220, 236, 0.5);\">like</span> <span title=\"0.097\" style=\"background-color: rgba(242, 240, 246, 0.5);\">your</span> <span title=\"0.276\" style=\"background-color: rgba(212, 212, 232, 0.5);\">screen</span> <span title=\"0.179\" style=\"background-color: rgba(230, 229, 240, 0.5);\">xxunk</span> <span title=\"0.613\" style=\"background-color: rgba(131, 128, 187, 0.5);\">😃</span> <span title=\"0.518\" style=\"background-color: rgba(153, 149, 198, 0.5);\">😃</span> <span title=\"1.000\" style=\"background-color: rgba(63, 0, 125, 0.5);\">😃</span></span>"
      ],
      "text/plain": [
       "<IPython.core.display.HTML object>"
      ]
     },
     "metadata": {},
     "output_type": "display_data"
    },
    {
     "name": "stdout",
     "output_type": "stream",
     "text": [
      "(\"xxunk Thank you for the acknowledgement. The IFE didn't work all that well anyway so maybe time to upgrade to lower profile system.\", 'negative', 'positive')\n"
     ]
    },
    {
     "data": {
      "text/html": [
       "<span style=\"font-family: monospace;\"><span title=\"0.138\" style=\"background-color: rgba(236, 235, 244, 0.5);\">xxbos</span> <span title=\"0.101\" style=\"background-color: rgba(241, 240, 246, 0.5);\">xxunk</span> <span title=\"0.113\" style=\"background-color: rgba(240, 238, 245, 0.5);\">xxmaj</span> <span title=\"0.645\" style=\"background-color: rgba(124, 117, 181, 0.5);\">thank</span> <span title=\"0.192\" style=\"background-color: rgba(227, 226, 239, 0.5);\">you</span> <span title=\"0.142\" style=\"background-color: rgba(236, 234, 243, 0.5);\">for</span> <span title=\"0.143\" style=\"background-color: rgba(236, 234, 243, 0.5);\">the</span> <span title=\"1.000\" style=\"background-color: rgba(63, 0, 125, 0.5);\">acknowledgement</span> <span title=\"0.164\" style=\"background-color: rgba(232, 231, 242, 0.5);\">.</span> <span title=\"0.164\" style=\"background-color: rgba(232, 230, 241, 0.5);\">xxmaj</span> <span title=\"0.115\" style=\"background-color: rgba(240, 238, 245, 0.5);\">the</span> <span title=\"0.278\" style=\"background-color: rgba(211, 211, 231, 0.5);\">xxup</span> <span title=\"0.256\" style=\"background-color: rgba(216, 216, 234, 0.5);\">xxunk</span> <span title=\"0.248\" style=\"background-color: rgba(218, 218, 235, 0.5);\">did</span> <span title=\"0.587\" style=\"background-color: rgba(136, 133, 190, 0.5);\">n&#x27;t</span> <span title=\"0.254\" style=\"background-color: rgba(217, 217, 234, 0.5);\">work</span> <span title=\"0.196\" style=\"background-color: rgba(227, 226, 239, 0.5);\">all</span> <span title=\"0.283\" style=\"background-color: rgba(210, 210, 231, 0.5);\">that</span> <span title=\"0.318\" style=\"background-color: rgba(201, 202, 226, 0.5);\">well</span> <span title=\"0.462\" style=\"background-color: rgba(166, 164, 205, 0.5);\">anyway</span> <span title=\"0.210\" style=\"background-color: rgba(225, 224, 238, 0.5);\">so</span> <span title=\"0.580\" style=\"background-color: rgba(138, 135, 190, 0.5);\">maybe</span> <span title=\"0.313\" style=\"background-color: rgba(202, 203, 227, 0.5);\">time</span> <span title=\"0.182\" style=\"background-color: rgba(229, 228, 240, 0.5);\">to</span> <span title=\"0.755\" style=\"background-color: rgba(104, 78, 161, 0.5);\">upgrade</span> <span title=\"0.214\" style=\"background-color: rgba(224, 223, 238, 0.5);\">to</span> <span title=\"0.687\" style=\"background-color: rgba(117, 103, 174, 0.5);\">lower</span> <span title=\"0.382\" style=\"background-color: rgba(186, 187, 219, 0.5);\">profile</span> <span title=\"0.183\" style=\"background-color: rgba(229, 228, 240, 0.5);\">system</span> <span title=\"0.135\" style=\"background-color: rgba(237, 235, 244, 0.5);\">.</span></span>"
      ],
      "text/plain": [
       "<IPython.core.display.HTML object>"
      ]
     },
     "metadata": {},
     "output_type": "display_data"
    },
    {
     "name": "stdout",
     "output_type": "stream",
     "text": [
      "(\"xxunk amazing to me that we can't get any cold air from the vents. VX 358 noair worstflightever roasted SF Oto BOS\", 'negative', 'positive')\n"
     ]
    },
    {
     "data": {
      "text/html": [
       "<span style=\"font-family: monospace;\"><span title=\"0.115\" style=\"background-color: rgba(240, 238, 245, 0.5);\">xxbos</span> <span title=\"0.112\" style=\"background-color: rgba(240, 238, 245, 0.5);\">xxunk</span> <span title=\"0.738\" style=\"background-color: rgba(108, 85, 165, 0.5);\">amazing</span> <span title=\"0.175\" style=\"background-color: rgba(231, 229, 241, 0.5);\">to</span> <span title=\"0.104\" style=\"background-color: rgba(241, 239, 246, 0.5);\">me</span> <span title=\"0.136\" style=\"background-color: rgba(237, 235, 244, 0.5);\">that</span> <span title=\"0.134\" style=\"background-color: rgba(237, 235, 244, 0.5);\">we</span> <span title=\"0.306\" style=\"background-color: rgba(204, 205, 228, 0.5);\">ca</span> <span title=\"0.177\" style=\"background-color: rgba(230, 229, 240, 0.5);\">n&#x27;t</span> <span title=\"0.180\" style=\"background-color: rgba(229, 228, 240, 0.5);\">get</span> <span title=\"0.240\" style=\"background-color: rgba(219, 219, 235, 0.5);\">any</span> <span title=\"0.448\" style=\"background-color: rgba(170, 168, 208, 0.5);\">cold</span> <span title=\"0.136\" style=\"background-color: rgba(237, 235, 244, 0.5);\">air</span> <span title=\"0.085\" style=\"background-color: rgba(243, 241, 247, 0.5);\">from</span> <span title=\"0.040\" style=\"background-color: rgba(247, 246, 250, 0.5);\">the</span> <span title=\"0.105\" style=\"background-color: rgba(241, 239, 246, 0.5);\">xxunk</span> <span title=\"0.079\" style=\"background-color: rgba(243, 242, 247, 0.5);\">.</span> <span title=\"0.169\" style=\"background-color: rgba(231, 230, 241, 0.5);\">xxup</span> <span title=\"0.453\" style=\"background-color: rgba(168, 166, 207, 0.5);\">vx</span> <span title=\"0.471\" style=\"background-color: rgba(165, 162, 204, 0.5);\">358</span> <span title=\"0.155\" style=\"background-color: rgba(234, 232, 242, 0.5);\">xxunk</span> <span title=\"1.000\" style=\"background-color: rgba(63, 0, 125, 0.5);\">worstflightever</span> <span title=\"0.361\" style=\"background-color: rgba(191, 192, 221, 0.5);\">roasted</span> <span title=\"0.108\" style=\"background-color: rgba(240, 239, 246, 0.5);\">xxup</span> <span title=\"0.345\" style=\"background-color: rgba(195, 195, 223, 0.5);\">sf</span> <span title=\"0.080\" style=\"background-color: rgba(243, 242, 247, 0.5);\">xxmaj</span> <span title=\"0.171\" style=\"background-color: rgba(231, 230, 241, 0.5);\">xxunk</span> <span title=\"0.099\" style=\"background-color: rgba(241, 240, 246, 0.5);\">xxup</span> <span title=\"0.478\" style=\"background-color: rgba(163, 160, 203, 0.5);\">bos</span></span>"
      ],
      "text/plain": [
       "<IPython.core.display.HTML object>"
      ]
     },
     "metadata": {},
     "output_type": "display_data"
    }
   ],
   "source": [
    "# True sentiment negative, predicted sentiment positive \n",
    "\n",
    "for i in df_res.loc[(df_res['airline_sentiment'] == 'negative') & (df_res['predicted_sentiment'] == 'positive')].index[0:10]:\n",
    "    print((df_res['text'].loc[i], df_res['airline_sentiment'].loc[i], df_res['predicted_sentiment'].loc[i]))\n",
    "    text_interp_test.show_intrinsic_attention(df_res['text'].loc[i], cmap = mpl.cm.Purples)"
   ]
  },
  {
   "cell_type": "markdown",
   "metadata": {},
   "source": [
    "***\n",
    "\n",
    "# Conclusions\n",
    "\n",
    "In this exercise we used the fastai library to train a ULMFiT model to classify the sentiment (negative, neutral or positive) of tweets in the Twitter US Airlines Sentiment dataset. \n",
    "\n",
    "The dataset is quite imbalanced, with many more negative tweets than neutral or positive: for this reason the ~ 80% accuracy we obtained is not really meaningful, but we should look at the confusion matrix instead. The confusion matrix tells us that the ULMFiT classifier is able to correctly identify negative and positive tweets around 80% of the times or more, while neutral tweets are only correctly identified around 70% of the times: this is as expected, both because of the presence of possibly misclassified tweets and for the fact that even for humans distinguishing neutral and negative/positive sentiment may be quite subtle.\n",
    "\n",
    "Cleaning tweets by removing websites, tweets references and splitting words in hashtags did not seem to improve the classifier model significantly, although it had a noticeable effect on the language model; it may however be possible to improve the classifier further by choosing different and more elaborate preprocessing and cleaning steps.\n",
    "\n",
    "We should also mention that in this exercise we were required to train an ULMFiT model, but this may not be the best model for the problem at hand: it would therefore be worth studying the performance of other models on the same dataset."
   ]
  }
 ],
 "metadata": {
  "kernelspec": {
   "display_name": "Python 3",
   "language": "python",
   "name": "python3"
  },
  "language_info": {
   "codemirror_mode": {
    "name": "ipython",
    "version": 3
   },
   "file_extension": ".py",
   "mimetype": "text/x-python",
   "name": "python",
   "nbconvert_exporter": "python",
   "pygments_lexer": "ipython3",
   "version": "3.6.8"
  }
 },
 "nbformat": 4,
 "nbformat_minor": 1
}
